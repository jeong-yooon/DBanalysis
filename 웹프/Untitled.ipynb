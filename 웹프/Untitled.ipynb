{
 "cells": [
  {
   "cell_type": "markdown",
   "id": "153acd13",
   "metadata": {},
   "source": [
    "### Javascript\n",
    "- 사용목적 : CPU, RAM, SSD(HDD) 자원을 활용\n",
    "1. 변수선언 : RAM 사용 문법 : RAM 저장공간을 만들어 데이터 저장\n",
    "2. 데이터타입 : RAM 효율적 사용 문법\n",
    "3. 연산자 : CPU 사용 문법 : 산술, 비교, 논리, 할당, 삼항\n",
    "4. 조건문 : 조건 따라서 다른 코드 실행\n",
    "5. 반복문 : 특정 코드를 반복적으로 실행\n",
    "6. 함수 : 중복코드를 묶어서 코드 작성 실행 > 코드 유지보수 향상\n",
    "7. 객체 : 식별자 1개로 여러개의 데이터 저장(컬렉션) : 변수, 함수를 묶어서 코드 작성(클래스) 문법"
   ]
  },
  {
   "cell_type": "markdown",
   "id": "53ca233b",
   "metadata": {},
   "source": [
    "### 개요\n",
    "- 웹브라우저에서 동작되는 동적으로 페이지를 수정하고 이벤트 처리 언어\n",
    "- 인터프리터, 동적타이핑, 객체지향\n",
    "    - 코드작성(문자열) > 컴파일러 > 컴퓨터(이진수)\n",
    "    - 컴파일러 동작 방식\n",
    "        - 컴파일러 언어 : 속도 빠름, 코드 실행전에 빌드(컴파일)과정 필요, 문법 어려움 (C언어, Java)\n",
    "        - 인터프리터 언어 : 속도 느림, 코드 실행전에 빌드(컴파일)과정 불필요, 문법 쉬움 (Python, Javascript)\n",
    "- ECMA Script : ECMA5, ECMA6, ECMA8"
   ]
  },
  {
   "cell_type": "markdown",
   "id": "cfa8024c",
   "metadata": {},
   "source": [
    "### 1. 변수선언: variable\n",
    "- 식별자 : 메모리의 저장공간을 구별하는 문자열\n",
    "- 식별자규칙\n",
    "    - 문법\n",
    "        - 대소문자, 숫자, '_', '$' 사용\n",
    "        - 숫자가 가장 앞에 X\n",
    "        - 예약어 사용 X (if, while, for 등)\n",
    "      - 컨벤션\n",
    "          - 상수 : UPPER_SNAKE_CASE\n",
    "          - 변수, 함수 : camelCase\n",
    "          - 모듈 : PascalCase, UpperCamelCase"
   ]
  },
  {
   "cell_type": "code",
   "execution_count": 1,
   "id": "87d26913",
   "metadata": {},
   "outputs": [],
   "source": [
    "// 식별자 1개, 데이터 1개\n",
    "var data1 = 10;\n",
    "\n",
    "// 식별자 n개, 데이터 n개\n",
    "var data2 = 20, data3 = 30;\n",
    "var data2 = 20,\n",
    "    data3 = 30;\n",
    "\n",
    "// 식별자 n개, 데이터 1개\n",
    "var data4 = data5 = 40;"
   ]
  },
  {
   "cell_type": "code",
   "execution_count": 2,
   "id": "50346b32",
   "metadata": {},
   "outputs": [
    {
     "name": "stdout",
     "output_type": "stream",
     "text": [
      "10 20 30 40\n"
     ]
    }
   ],
   "source": [
    "// console.log() : 식별자(변수)에 저장된 데이터 출력\n",
    "console.log(data1, data2, data3, data4);"
   ]
  },
  {
   "cell_type": "markdown",
   "id": "f9aa1979",
   "metadata": {},
   "source": [
    "### 2. 데이터 타입: datatype\n",
    "- number : 숫자\n",
    "- string : 문자열 데이터 타입\n",
    "- boolean : 논리값 데이터 타입\n",
    "- function : 코드를 저장하는 데이터 타입\n",
    "- object : 객체를 저장하는 데이터 타입"
   ]
  },
  {
   "cell_type": "code",
   "execution_count": 4,
   "id": "ccceb691",
   "metadata": {},
   "outputs": [],
   "source": [
    "var data1 = 1.2;\n",
    "var data2 = 'js';\n",
    "var data3 = true;\n",
    "var data4 = function(){ console.log('func'); };\n",
    "var data5 = {key: 'value', func: function(){console.log(123); }};"
   ]
  },
  {
   "cell_type": "code",
   "execution_count": 6,
   "id": "5113d283",
   "metadata": {},
   "outputs": [
    {
     "name": "stdout",
     "output_type": "stream",
     "text": [
      "number string boolean function object\n"
     ]
    }
   ],
   "source": [
    "// typeof: 데이터타입 출력\n",
    "// var data1 = 10; -> 동적타이핑 : 데이터 타입을 설정하지 않아도 자동으로 데이터를 확인해서 데이터 타입 설정\n",
    "console.log(typeof data1, typeof data2, typeof data3, typeof data4, typeof data5);"
   ]
  },
  {
   "cell_type": "markdown",
   "id": "8da64517",
   "metadata": {},
   "source": [
    "#### 없는 데이터 표현\n",
    "- undefined : 변수가 선언은 되었으나 데이터가 할당되지 않음\n",
    "- null : 변수가 선언 되어 없는 값이 할당됨\n",
    "- NaN : Number 데이터 타입에서의 undefined, null"
   ]
  },
  {
   "cell_type": "code",
   "execution_count": 7,
   "id": "776fc961",
   "metadata": {},
   "outputs": [
    {
     "name": "stdout",
     "output_type": "stream",
     "text": [
      "undefined undefined\n"
     ]
    }
   ],
   "source": [
    "var data = undefined;\n",
    "console.log(typeof data, data)"
   ]
  },
  {
   "cell_type": "code",
   "execution_count": 8,
   "id": "a06c903f",
   "metadata": {},
   "outputs": [
    {
     "name": "stdout",
     "output_type": "stream",
     "text": [
      "object null\n"
     ]
    }
   ],
   "source": [
    "var data = null;\n",
    "console.log(typeof data, data)"
   ]
  },
  {
   "cell_type": "code",
   "execution_count": 11,
   "id": "6daedf3a",
   "metadata": {},
   "outputs": [
    {
     "name": "stdout",
     "output_type": "stream",
     "text": [
      "number NaN\n",
      "false\n"
     ]
    }
   ],
   "source": [
    "var data = NaN;\n",
    "console.log(typeof data, data)\n",
    "console.log(NaN == NaN)"
   ]
  },
  {
   "cell_type": "markdown",
   "id": "bfcf9cd0",
   "metadata": {},
   "source": [
    "#### 데이터 타입 형변환\n",
    "- Number() : 숫자 데이터 타입으로 변환\n",
    "- String() : 문자열 데이터 타입으로 변환\n",
    "- Boolean() : 논리값 데이터 타입으로 변환"
   ]
  },
  {
   "cell_type": "code",
   "execution_count": 12,
   "id": "3861fff1",
   "metadata": {},
   "outputs": [
    {
     "name": "stdout",
     "output_type": "stream",
     "text": [
      "string 1\n",
      "number 2\n"
     ]
    }
   ],
   "source": [
    "var data1 = '1', data2 = 2;\n",
    "console.log(typeof data1, data1);\n",
    "console.log(typeof data2, data2);"
   ]
  },
  {
   "cell_type": "code",
   "execution_count": 13,
   "id": "1cfd4e9e",
   "metadata": {},
   "outputs": [
    {
     "name": "stdout",
     "output_type": "stream",
     "text": [
      "number\n"
     ]
    }
   ],
   "source": [
    "console.log(typeof Number(data1))"
   ]
  },
  {
   "cell_type": "code",
   "execution_count": 16,
   "id": "4a91974b",
   "metadata": {},
   "outputs": [
    {
     "name": "stdout",
     "output_type": "stream",
     "text": [
      "12 3\n"
     ]
    }
   ],
   "source": [
    "console.log(data1 + data2, Number(data1) + data2);"
   ]
  },
  {
   "cell_type": "markdown",
   "id": "80ec06db",
   "metadata": {},
   "source": [
    "#### 묵시적 형변환\n",
    "- 다양한 데이터 타입을 연산하면 묵시적 형변환이 발생"
   ]
  },
  {
   "cell_type": "code",
   "execution_count": 17,
   "id": "c5205bb7",
   "metadata": {},
   "outputs": [
    {
     "data": {
      "text/plain": [
       "'number'"
      ]
     },
     "execution_count": 17,
     "metadata": {},
     "output_type": "execute_result"
    }
   ],
   "source": [
    "// 문자 > 숫자 : Number()\n",
    "typeof (data1 - 0)"
   ]
  },
  {
   "cell_type": "code",
   "execution_count": 18,
   "id": "5a4156f3",
   "metadata": {},
   "outputs": [
    {
     "data": {
      "text/plain": [
       "'string'"
      ]
     },
     "execution_count": 18,
     "metadata": {},
     "output_type": "execute_result"
    }
   ],
   "source": [
    "// 숫자 > 문자 : String()\n",
    "typeof('' + data2)"
   ]
  },
  {
   "cell_type": "markdown",
   "id": "c97bccc5",
   "metadata": {},
   "source": [
    "### 3. 연산자 : operator\n",
    "- 산술 : 데이터 + 데이터 = 데이터 : +, -, *, /, %, **, ++, --\n",
    "- 비교 : 데이터 + 데이터 = 논리값 : 조건 1개 : ==, != (데이터만 비교), >, <, >=, <=, ====, !== (데이터 타입까지 비교)\n",
    "- 논리 : 논리값 + 논리값 = 논리값 : 조건 2개 이상 : !, &&(T and T = T), ||(F or F = F)\n",
    "- 할당 : 변수 산술 = 데이터 : 변수에 누적해서 연산 수행\n",
    "- 삼항 : (조건) ? (참) : (거짓) : 간단한 조건문"
   ]
  },
  {
   "cell_type": "code",
   "execution_count": 19,
   "id": "d92534ac",
   "metadata": {},
   "outputs": [
    {
     "name": "stdout",
     "output_type": "stream",
     "text": [
      "2.75 3 64\n"
     ]
    }
   ],
   "source": [
    "// 산술연산자\n",
    "var data1 = 11, data2 = 4;\n",
    "console.log(data1 / data2, data1 % data2, data2 ** 3);"
   ]
  },
  {
   "cell_type": "code",
   "execution_count": 22,
   "id": "a60f5db1",
   "metadata": {},
   "outputs": [
    {
     "name": "stdout",
     "output_type": "stream",
     "text": [
      "3 3\n"
     ]
    }
   ],
   "source": [
    "// ++data : +1 후에 데이터 타입\n",
    "var data1 = 1, data2 = 2;\n",
    "data1 = ++data2;\n",
    "console.log(data1, data2);"
   ]
  },
  {
   "cell_type": "code",
   "execution_count": 23,
   "id": "df183f4e",
   "metadata": {},
   "outputs": [
    {
     "name": "stdout",
     "output_type": "stream",
     "text": [
      "2 3\n"
     ]
    }
   ],
   "source": [
    "// data++ : 데이터 대입 후에 +1\n",
    "var data1 = 1, data2 = 2;\n",
    "data1 = data2++;\n",
    "console.log(data1, data2);"
   ]
  },
  {
   "cell_type": "code",
   "execution_count": 24,
   "id": "5a45e457",
   "metadata": {},
   "outputs": [
    {
     "name": "stdout",
     "output_type": "stream",
     "text": [
      "true false\n"
     ]
    }
   ],
   "source": [
    "// 비교연산자\n",
    "// ===, !== : 데이터 타입까지 비교\n",
    "// ==, != : 데이터만 비교\n",
    "var data1 = 1, data2 = '1';\n",
    "console.log(data1 == data2, data1 === data2);"
   ]
  },
  {
   "cell_type": "code",
   "execution_count": 25,
   "id": "da0df529",
   "metadata": {},
   "outputs": [
    {
     "name": "stdout",
     "output_type": "stream",
     "text": [
      "false true\n"
     ]
    }
   ],
   "source": [
    "// 논리연산자\n",
    "console.log(true && false, true || false);"
   ]
  },
  {
   "cell_type": "code",
   "execution_count": 26,
   "id": "824167e3",
   "metadata": {},
   "outputs": [
    {
     "name": "stdout",
     "output_type": "stream",
     "text": [
      "true\n"
     ]
    }
   ],
   "source": [
    "// 조건 1개 : 예금잔고에서 인출금액으로 인출이 가능하면 true, 불가능하면 false\n",
    "var balance = 10000, withdraw = 6000;\n",
    "console.log(balance >= withdraw);"
   ]
  },
  {
   "cell_type": "code",
   "execution_count": 29,
   "id": "5d561b98",
   "metadata": {},
   "outputs": [
    {
     "name": "stdout",
     "output_type": "stream",
     "text": [
      "false\n"
     ]
    }
   ],
   "source": [
    "// 조건 2개 : 1회 최대 출금금액은 5000원으로 제한\n",
    "console.log((balance >= withdraw) && (withdraw <= 5000));"
   ]
  },
  {
   "cell_type": "code",
   "execution_count": 31,
   "id": "835b0baa",
   "metadata": {},
   "outputs": [
    {
     "name": "stdout",
     "output_type": "stream",
     "text": [
      "인출가능\n"
     ]
    }
   ],
   "source": [
    "// 삼항연산자 : 조건 ? 참 : 거짓\n",
    "var balance = 10000, withdraw = 7000;;\n",
    "var msg = balance >= withdraw ? '인출가능' : '인출불가';\n",
    "console.log(msg);"
   ]
  },
  {
   "cell_type": "code",
   "execution_count": 33,
   "id": "7469fd08",
   "metadata": {},
   "outputs": [
    {
     "name": "stdout",
     "output_type": "stream",
     "text": [
      "30\n"
     ]
    }
   ],
   "source": [
    "// 할당연산자\n",
    "var data1 = 10;\n",
    "// data1 = data1 + 20;\n",
    "data1 += 20;\n",
    "console.log(data1);"
   ]
  },
  {
   "cell_type": "markdown",
   "id": "832c5a2e",
   "metadata": {},
   "source": [
    "#### 4. 조건문 : condition\n",
    "- if, else if, else\n",
    "- switch, case, default"
   ]
  },
  {
   "cell_type": "code",
   "execution_count": 34,
   "id": "b30614fc",
   "metadata": {},
   "outputs": [
    {
     "name": "stdout",
     "output_type": "stream",
     "text": [
      "B\n"
     ]
    }
   ],
   "source": [
    "// 학점출력\n",
    "var point = 87;\n",
    "if(point >= 90){\n",
    "    console.log('A');\n",
    "} else if(point >= 80){\n",
    "    console.log('B');\n",
    "} else if(point >= 70){\n",
    "    console.log('C');\n",
    "} else if(point >= 60){\n",
    "    console.log('D');\n",
    "} else{\n",
    "    console.log('F');\n",
    "}"
   ]
  },
  {
   "cell_type": "code",
   "execution_count": 35,
   "id": "aba0f898",
   "metadata": {},
   "outputs": [
    {
     "name": "stdout",
     "output_type": "stream",
     "text": [
      "승점 3\n"
     ]
    }
   ],
   "source": [
    "// 승점출력\n",
    "var point = '승';\n",
    "switch(point){\n",
    "    case '승':\n",
    "        console.log('승점', 3);\n",
    "        break;\n",
    "    case '무':\n",
    "        console.log('승점', 1);\n",
    "        break;\n",
    "    defulat:\n",
    "        console.log('승점', 0);\n",
    "}"
   ]
  },
  {
   "cell_type": "markdown",
   "id": "a7c78934",
   "metadata": {},
   "source": [
    "#### 5. 반복문 : loop\n",
    "- while, for, break, continue"
   ]
  },
  {
   "cell_type": "code",
   "execution_count": 36,
   "id": "5536d1e1",
   "metadata": {},
   "outputs": [
    {
     "name": "stdout",
     "output_type": "stream",
     "text": [
      "js\n",
      "js\n",
      "js\n"
     ]
    }
   ],
   "source": [
    "console.log('js');\n",
    "console.log('js');\n",
    "console.log('js');"
   ]
  },
  {
   "cell_type": "code",
   "execution_count": 37,
   "id": "4ac8698e",
   "metadata": {},
   "outputs": [
    {
     "name": "stdout",
     "output_type": "stream",
     "text": [
      "python\n",
      "python\n",
      "python\n"
     ]
    }
   ],
   "source": [
    "var count = 3;\n",
    "while(count > 0){\n",
    "    count -= 1;\n",
    "    console.log('python');\n",
    "}"
   ]
  },
  {
   "cell_type": "code",
   "execution_count": 39,
   "id": "3e35635d",
   "metadata": {},
   "outputs": [
    {
     "name": "stdout",
     "output_type": "stream",
     "text": [
      "false true\n"
     ]
    }
   ],
   "source": [
    "console.log(Boolean(0), Boolean(1))"
   ]
  },
  {
   "cell_type": "code",
   "execution_count": 43,
   "id": "1f7fc659",
   "metadata": {},
   "outputs": [
    {
     "name": "stdout",
     "output_type": "stream",
     "text": [
      "0 js\n",
      "1 js\n",
      "3 js\n"
     ]
    }
   ],
   "source": [
    "var count = 5;\n",
    "for(var i = 0; i < count; i++){\n",
    "    if(i === 2){\n",
    "        continue;\n",
    "    }\n",
    "    console.log(i, 'js');\n",
    "    if(i >= 3){\n",
    "        break;\n",
    "    }\n",
    "};"
   ]
  },
  {
   "cell_type": "code",
   "execution_count": 45,
   "id": "f65df8b7",
   "metadata": {},
   "outputs": [
    {
     "name": "stdout",
     "output_type": "stream",
     "text": [
      "0.30000000000000004 false\n"
     ]
    }
   ],
   "source": [
    "// 실수하기 쉬운 코드 : 부동소수점문제\n",
    "var data1 = 0.1, data2 = 0.2;\n",
    "console.log(data1 + data2, (data1 + data2) === 0.3)"
   ]
  },
  {
   "cell_type": "code",
   "execution_count": 46,
   "id": "638bc201",
   "metadata": {},
   "outputs": [
    {
     "data": {
      "text/plain": [
       "1.235"
      ]
     },
     "execution_count": 46,
     "metadata": {},
     "output_type": "execute_result"
    }
   ],
   "source": [
    "// 해결법 : 반올림 : Math.round()\n",
    "Math.round(1.2345 * 1000) / 1000;"
   ]
  },
  {
   "cell_type": "code",
   "execution_count": 47,
   "id": "4c196aa6",
   "metadata": {},
   "outputs": [
    {
     "data": {
      "text/plain": [
       "true"
      ]
     },
     "execution_count": 47,
     "metadata": {},
     "output_type": "execute_result"
    }
   ],
   "source": [
    "(Math.round((data1 + data2) * 10) / 10) === 0.3"
   ]
  },
  {
   "cell_type": "code",
   "execution_count": 117,
   "id": "0c6eb912",
   "metadata": {},
   "outputs": [
    {
     "name": "stdout",
     "output_type": "stream",
     "text": [
      "18 45 15 36 6 16\n"
     ]
    }
   ],
   "source": [
    "// 로또번호 출력 : 중복허용\n",
    "var count = 6, lotto ='';\n",
    "for(var i = 0; i < count; i++){\n",
    "    var randomNumber = Math.ceil(Math.random() * 44) + 1;\n",
    "    lotto += randomNumber;\n",
    "    if(i != count - 1){\n",
    "        lotto += ' ';\n",
    "    }\n",
    "}\n",
    "console.log(lotto);"
   ]
  },
  {
   "cell_type": "markdown",
   "id": "c567b977",
   "metadata": {},
   "source": [
    "### 6. 함수 : function\n",
    "- 중복코드를 묶어서 코드 작성 실행 : 코드 유지보수가 좋아짐\n",
    "- 사용법 : 함수선언(코드작성) > 함수호출(코드실행)\n",
    "- function, argument, parameter, 표현식, 선언식, hoisting, scope, return"
   ]
  },
  {
   "cell_type": "code",
   "execution_count": 118,
   "id": "6ab5f2d0",
   "metadata": {},
   "outputs": [
    {
     "name": "stdout",
     "output_type": "stream",
     "text": [
      "13 22 8 20 41 42\n",
      "js\n",
      "7 4 17 16 12 20\n"
     ]
    }
   ],
   "source": [
    "// 로또번호 출력 : 중복허용\n",
    "var count = 6, lotto ='';\n",
    "for(var i = 0; i < count; i++){\n",
    "    var randomNumber = Math.ceil(Math.random() * 44) + 1;\n",
    "    lotto += randomNumber;\n",
    "    if(i != count - 1){\n",
    "        lotto += ' ';\n",
    "    }\n",
    "}\n",
    "console.log(lotto);\n",
    "\n",
    "// js문자열출력\n",
    "console.log('js');\n",
    "\n",
    "// 로또번호출력\n",
    "var coount = 6, lotto = '';\n",
    "for(var i = 0; i < count; i++){\n",
    "    var randomNumber = Math.ceil(Math.random() * 44) + 1;\n",
    "    lotto += randomNumber;\n",
    "    if(i != count - 1) lotto += ' ';\n",
    "}\n",
    "console.log(lotto);"
   ]
  },
  {
   "cell_type": "code",
   "execution_count": 119,
   "id": "08235cf3",
   "metadata": {},
   "outputs": [
    {
     "name": "stdout",
     "output_type": "stream",
     "text": [
      "11 3 23 30 25 25\n",
      "js\n",
      "28 39 17 14 13 32\n"
     ]
    }
   ],
   "source": [
    "function showLotto(){\n",
    "    var count = 6, lotto = '';\n",
    "    for(var i = 0; i < count; i++){\n",
    "        var randomNumber = Math.ceil(Math.random() * 49) + 1; // ceil은 올림을 뜻한다.\n",
    "         lotto += randomNumber;\n",
    "        if(i != count - 1) lotto += ' ';\n",
    "    }\n",
    "    console.log(lotto);\n",
    "};\n",
    "\n",
    "showLotto();\n",
    "console.log('js');\n",
    "showLotto();"
   ]
  },
  {
   "cell_type": "code",
   "execution_count": 120,
   "id": "0e25f6dc",
   "metadata": {},
   "outputs": [
    {
     "name": "stdout",
     "output_type": "stream",
     "text": [
      "22 20 4 3 17 49\n",
      "47 42 8 30 15 30\n"
     ]
    }
   ],
   "source": [
    "function showLotto(){\n",
    "    var count = 6, lotto = '';\n",
    "    for(var i = 0; i < count; i++){\n",
    "        var randomNumber = Math.ceil(Math.random() * 49) + 1; // ceil은 올림을 뜻한다.\n",
    "         lotto += randomNumber;\n",
    "        if(i != count - 1) lotto += ' ';\n",
    "    }\n",
    "    console.log(lotto);\n",
    "};\n",
    "\n",
    "// 로또번호 1~45까지 출력\n",
    "showLotto(45);\n",
    "// 로또번호 1~50까지 출력\n",
    "showLotto(50);"
   ]
  },
  {
   "cell_type": "code",
   "execution_count": 121,
   "id": "a87fc30b",
   "metadata": {},
   "outputs": [
    {
     "name": "stdout",
     "output_type": "stream",
     "text": [
      "3\n"
     ]
    }
   ],
   "source": [
    "// 함수선언 1 : 함수선언식\n",
    "function plus1(n1, n2){\n",
    "    console.log(n1 + n2);\n",
    "}\n",
    "plus1(1, 2);"
   ]
  },
  {
   "cell_type": "code",
   "execution_count": 122,
   "id": "12d2346f",
   "metadata": {},
   "outputs": [
    {
     "name": "stdout",
     "output_type": "stream",
     "text": [
      "3\n"
     ]
    }
   ],
   "source": [
    "// 함수선언 2 : 함수표현식\n",
    "var plus2 = function(n1, n2){\n",
    "    console.log(n1 + n2);\n",
    "}\n",
    "plus2(1, 2);"
   ]
  },
  {
   "cell_type": "code",
   "execution_count": 123,
   "id": "c2760734",
   "metadata": {},
   "outputs": [
    {
     "name": "stdout",
     "output_type": "stream",
     "text": [
      "3\n"
     ]
    }
   ],
   "source": [
    "// 선언식과 표현식의 차이\n",
    "// 선언식 함수 선언하는 코드가 최상단으로 올라서 우선적으로 선언후 다른 코드 실행\n",
    "// hoisting : 선언식으로 작성된 코드를 우선적으로 메모리 할당\n",
    "plus3(1, 2);\n",
    "\n",
    "function plus3(n1, n2){\n",
    "    console.log(n1 + n2);\n",
    "}"
   ]
  },
  {
   "cell_type": "code",
   "execution_count": 124,
   "id": "81443b31",
   "metadata": {},
   "outputs": [
    {
     "ename": "TypeError",
     "evalue": "plus4 is not a function",
     "output_type": "error",
     "traceback": [
      "evalmachine.<anonymous>:1",
      "plus4(1, 2);",
      "^",
      "",
      "TypeError: plus4 is not a function",
      "    at evalmachine.<anonymous>:1:1",
      "    at Script.runInThisContext (node:vm:129:12)",
      "    at Object.runInThisContext (node:vm:307:38)",
      "    at run ([eval]:1020:15)",
      "    at onRunRequest ([eval]:864:18)",
      "    at onMessage ([eval]:828:13)",
      "    at process.emit (node:events:513:28)",
      "    at emit (node:internal/child_process:937:14)",
      "    at process.processTicksAndRejections (node:internal/process/task_queues:83:21)"
     ]
    }
   ],
   "source": [
    "plus4(1, 2);\n",
    "\n",
    "var plus4 = function plus4(n1, n2){\n",
    "    console.log(n1 + n2);\n",
    "}"
   ]
  },
  {
   "cell_type": "markdown",
   "id": "10291aad",
   "metadata": {},
   "source": [
    "#### scope : 스코프\n",
    "- 함수밖 : 전역 영역 : global\n",
    "- 함수안 : 지역영역 : local"
   ]
  },
  {
   "cell_type": "code",
   "execution_count": 128,
   "id": "9b594f05",
   "metadata": {},
   "outputs": [
    {
     "name": "stdout",
     "output_type": "stream",
     "text": [
      "20\n"
     ]
    }
   ],
   "source": [
    "var data = 10;\n",
    "function change(){\n",
    "    data = 20; // var 사용하지 않으면 전역영역의 변수로 사용\n",
    "}\n",
    "change();\n",
    "console.log(data);"
   ]
  },
  {
   "cell_type": "code",
   "execution_count": 130,
   "id": "0eff6e0b",
   "metadata": {},
   "outputs": [
    {
     "name": "stdout",
     "output_type": "stream",
     "text": [
      "10\n"
     ]
    }
   ],
   "source": [
    "var data = 10;\n",
    "function change(){\n",
    "    var data = 20; // var 사용하면 지역영역의 변수로 사용\n",
    "}\n",
    "change();\n",
    "console.log(data);"
   ]
  },
  {
   "cell_type": "code",
   "execution_count": 131,
   "id": "65540b56",
   "metadata": {},
   "outputs": [
    {
     "name": "stdout",
     "output_type": "stream",
     "text": [
      "20\n"
     ]
    }
   ],
   "source": [
    "// 지역영역의 변수를 전역영역으로 가져와서 사용 : return\n",
    "var data = 10;\n",
    "function change(){\n",
    "    var data = 20; // var 사용하면 지역영역의 변수로 사용\n",
    "    return data;\n",
    "}\n",
    "data = change();\n",
    "console.log(data);"
   ]
  },
  {
   "cell_type": "code",
   "execution_count": 1,
   "id": "add837c2",
   "metadata": {},
   "outputs": [
    {
     "name": "stdout",
     "output_type": "stream",
     "text": [
      "undefined\n",
      "js\n",
      "python\n"
     ]
    }
   ],
   "source": [
    "console.log(data);\n",
    "var data = 'js';\n",
    "console.log(data);\n",
    "var data = 'python';\n",
    "console.log(data);"
   ]
  },
  {
   "cell_type": "markdown",
   "id": "cc43a67f",
   "metadata": {},
   "source": [
    "#### 익명함수 : anonymous function\n",
    "- 선언과 동시에 호출\n",
    "- 일회성으로 사용 > 외부에서 익명함수 내부의 변수, 함수 사용 불가 > 보안이 좋아짐"
   ]
  },
  {
   "cell_type": "code",
   "execution_count": 7,
   "id": "46856efc",
   "metadata": {},
   "outputs": [],
   "source": [
    "// 내부\n",
    "var join1 = function(id, pw){\n",
    "    console.log(id, pw);\n",
    "}"
   ]
  },
  {
   "cell_type": "code",
   "execution_count": 8,
   "id": "d1882acc",
   "metadata": {},
   "outputs": [
    {
     "name": "stdout",
     "output_type": "stream",
     "text": [
      "andy 1234\n"
     ]
    }
   ],
   "source": [
    "// 외부 : 브라우저의 개발자 도구 사용\n",
    "join1('andy', '1234');"
   ]
  },
  {
   "cell_type": "code",
   "execution_count": 9,
   "id": "56da37d9",
   "metadata": {},
   "outputs": [
    {
     "name": "stdout",
     "output_type": "stream",
     "text": [
      "andy 1234\n"
     ]
    }
   ],
   "source": [
    "(function join2(id, pw){\n",
    "    console.log(id, pw);\n",
    "}('andy', '1234'));"
   ]
  },
  {
   "cell_type": "code",
   "execution_count": 10,
   "id": "2e4e22c2",
   "metadata": {},
   "outputs": [
    {
     "ename": "ReferenceError",
     "evalue": "join2 is not defined",
     "output_type": "error",
     "traceback": [
      "evalmachine.<anonymous>:1",
      "join2('andy', '1234')",
      "^",
      "",
      "ReferenceError: join2 is not defined",
      "    at evalmachine.<anonymous>:1:1",
      "    at Script.runInThisContext (node:vm:129:12)",
      "    at Object.runInThisContext (node:vm:307:38)",
      "    at run ([eval]:1020:15)",
      "    at onRunRequest ([eval]:864:18)",
      "    at onMessage ([eval]:828:13)",
      "    at process.emit (node:events:513:28)",
      "    at emit (node:internal/child_process:937:14)",
      "    at process.processTicksAndRejections (node:internal/process/task_queues:83:21)"
     ]
    }
   ],
   "source": [
    "join2('andy', '1234')"
   ]
  },
  {
   "cell_type": "markdown",
   "id": "11438075",
   "metadata": {},
   "source": [
    "#### return\n",
    "- 함수에서 실행된 결과를 변수에 저장 하거나 출력\n",
    "- 함수에서 코드 실행 중단"
   ]
  },
  {
   "cell_type": "code",
   "execution_count": 11,
   "id": "7cd29a9b",
   "metadata": {},
   "outputs": [
    {
     "name": "stdout",
     "output_type": "stream",
     "text": [
      "result 3\n"
     ]
    }
   ],
   "source": [
    "var plus = function(n1, n2){\n",
    "    return n1 + n2;\n",
    "    // console.log(n1 + n2);\n",
    "}\n",
    "result = plus(1, 2);\n",
    "console.log('result', result);"
   ]
  },
  {
   "cell_type": "code",
   "execution_count": null,
   "id": "d4c60c4e",
   "metadata": {},
   "outputs": [],
   "source": [
    "var echo = function(){\n",
    "    console.log(1);\n",
    "    return\n",
    "    console.log(2);\n",
    "}\n",
    "echo();"
   ]
  },
  {
   "cell_type": "code",
   "execution_count": 12,
   "id": "ce21ec94",
   "metadata": {},
   "outputs": [],
   "source": [
    "// default parameter\n",
    "var plus = function(n1, n2){\n",
    "    console.log(n1, n2);\n",
    "    n2 = n2 || 10; // n2에 데이터가 없으면 10 저장\n",
    "    return n1 + n2;\n",
    "}"
   ]
  },
  {
   "cell_type": "code",
   "execution_count": 13,
   "id": "eca96ad8",
   "metadata": {},
   "outputs": [
    {
     "name": "stdout",
     "output_type": "stream",
     "text": [
      "10 20\n",
      "30\n"
     ]
    }
   ],
   "source": [
    "console.log(plus(10, 20));"
   ]
  },
  {
   "cell_type": "code",
   "execution_count": 14,
   "id": "17affe0b",
   "metadata": {},
   "outputs": [
    {
     "name": "stdout",
     "output_type": "stream",
     "text": [
      "10 undefined\n",
      "20\n"
     ]
    }
   ],
   "source": [
    "console.log(plus(10));"
   ]
  },
  {
   "cell_type": "markdown",
   "id": "acd04b11",
   "metadata": {},
   "source": [
    "#### 7. 객체\n",
    "- 컬렉션타입"
   ]
  },
  {
   "cell_type": "code",
   "execution_count": null,
   "id": "df05560a",
   "metadata": {},
   "outputs": [],
   "source": []
  },
  {
   "cell_type": "code",
   "execution_count": 15,
   "id": "dd573425",
   "metadata": {},
   "outputs": [
    {
     "name": "stdout",
     "output_type": "stream",
     "text": [
      "object { '2': 'two', one: 1 }\n"
     ]
    }
   ],
   "source": [
    "var data = {one: 1, 2: 'two'};\n",
    "console.log(typeof data, data);"
   ]
  },
  {
   "cell_type": "code",
   "execution_count": null,
   "id": "df2afd1f",
   "metadata": {},
   "outputs": [],
   "source": [
    "// 클래스 문법의 객체\n",
    "// 변수, 함수를 묶어서 코드 작성 실행, 객체지향 구현"
   ]
  },
  {
   "cell_type": "code",
   "execution_count": 16,
   "id": "22cacfbd",
   "metadata": {},
   "outputs": [],
   "source": [
    "var obj = {\n",
    "    data: 'js',\n",
    "    plus: function(n1, n2){\n",
    "        return n1 + n2;\n",
    "    },\n",
    "    key: 'value',\n",
    "}"
   ]
  },
  {
   "cell_type": "code",
   "execution_count": 17,
   "id": "599896b6",
   "metadata": {},
   "outputs": [
    {
     "data": {
      "text/plain": [
       "'js'"
      ]
     },
     "execution_count": 17,
     "metadata": {},
     "output_type": "execute_result"
    }
   ],
   "source": [
    "obj.data;"
   ]
  },
  {
   "cell_type": "code",
   "execution_count": 18,
   "id": "c78cc154",
   "metadata": {},
   "outputs": [
    {
     "data": {
      "text/plain": [
       "3"
      ]
     },
     "execution_count": 18,
     "metadata": {},
     "output_type": "execute_result"
    }
   ],
   "source": [
    "obj.plus(1, 2);"
   ]
  },
  {
   "cell_type": "code",
   "execution_count": 19,
   "id": "1bf54586",
   "metadata": {},
   "outputs": [
    {
     "name": "stdout",
     "output_type": "stream",
     "text": [
      "Person { name: 'andy' }\n"
     ]
    }
   ],
   "source": [
    "function Person(name){\n",
    "    this.name = name;\n",
    "}\n",
    "var person = new Person('andy')\n",
    "console.log(person);"
   ]
  },
  {
   "cell_type": "code",
   "execution_count": 23,
   "id": "00def8f1",
   "metadata": {},
   "outputs": [
    {
     "name": "stdout",
     "output_type": "stream",
     "text": [
      "{ name: 'andy', addr: 'seoul' }\n"
     ]
    }
   ],
   "source": [
    "var data = {};\n",
    "data.name = 'andy';\n",
    "data['addr'] = 'seoul';\n",
    "console.log(data);"
   ]
  },
  {
   "cell_type": "markdown",
   "id": "0471f6d8",
   "metadata": {},
   "source": [
    "#### json object"
   ]
  },
  {
   "cell_type": "code",
   "execution_count": 24,
   "id": "2f947cef",
   "metadata": {},
   "outputs": [
    {
     "name": "stdout",
     "output_type": "stream",
     "text": [
      "object { name: 'andy', addr: 'seoul' }\n",
      "string {\"name\":\"andy\",\"addr\":\"seoul\"}\n"
     ]
    }
   ],
   "source": [
    "// 객체 > 문자열\n",
    "var obj = {name: 'andy', addr: 'seoul'};\n",
    "var json = JSON.stringify(obj);\n",
    "console.log(typeof obj, obj);\n",
    "console.log(typeof json, json);"
   ]
  },
  {
   "cell_type": "code",
   "execution_count": 25,
   "id": "9003e0ce",
   "metadata": {},
   "outputs": [
    {
     "name": "stdout",
     "output_type": "stream",
     "text": [
      "object { name: 'andy', addr: 'seoul' }\n"
     ]
    }
   ],
   "source": [
    "// 문자열 > 객체\n",
    "var jsonObj = JSON.parse(json);\n",
    "console.log(typeof jsonObj, jsonObj);"
   ]
  },
  {
   "cell_type": "code",
   "execution_count": 1,
   "id": "13a967fd",
   "metadata": {},
   "outputs": [
    {
     "name": "stdout",
     "output_type": "stream",
     "text": [
      "false false\n"
     ]
    }
   ],
   "source": [
    "console.log(NaN == NaN, NaN === NaN)"
   ]
  },
  {
   "cell_type": "code",
   "execution_count": 2,
   "id": "9eaa955a",
   "metadata": {},
   "outputs": [
    {
     "name": "stdout",
     "output_type": "stream",
     "text": [
      "11 10\n"
     ]
    }
   ],
   "source": [
    "var data1 = 10;\n",
    "var data2 = data1++;\n",
    "console.log(data1, data2);"
   ]
  },
  {
   "cell_type": "code",
   "execution_count": null,
   "id": "61dae2c1",
   "metadata": {},
   "outputs": [],
   "source": []
  },
  {
   "cell_type": "code",
   "execution_count": null,
   "id": "43353bd7",
   "metadata": {},
   "outputs": [],
   "source": []
  },
  {
   "cell_type": "code",
   "execution_count": null,
   "id": "e4d86bc8",
   "metadata": {},
   "outputs": [],
   "source": []
  },
  {
   "cell_type": "code",
   "execution_count": null,
   "id": "c7dd7c08",
   "metadata": {},
   "outputs": [],
   "source": []
  },
  {
   "cell_type": "code",
   "execution_count": null,
   "id": "c154b433",
   "metadata": {},
   "outputs": [],
   "source": []
  },
  {
   "cell_type": "code",
   "execution_count": null,
   "id": "a2eb5e07",
   "metadata": {},
   "outputs": [],
   "source": []
  },
  {
   "cell_type": "code",
   "execution_count": null,
   "id": "8bbbf65a",
   "metadata": {},
   "outputs": [],
   "source": []
  },
  {
   "cell_type": "code",
   "execution_count": null,
   "id": "ecdc1174",
   "metadata": {},
   "outputs": [],
   "source": []
  }
 ],
 "metadata": {
  "kernelspec": {
   "display_name": "JavaScript (Node.js)",
   "language": "javascript",
   "name": "javascript"
  },
  "language_info": {
   "file_extension": ".js",
   "mimetype": "application/javascript",
   "name": "javascript",
   "version": "18.16.0"
  }
 },
 "nbformat": 4,
 "nbformat_minor": 5
}
