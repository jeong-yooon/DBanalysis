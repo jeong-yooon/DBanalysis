{
 "cells": [
  {
   "cell_type": "markdown",
   "id": "b9ca4c20",
   "metadata": {},
   "source": [
    "### 웹 브라우저 객체\n",
    "- window : 전역객체 : 모든 전역 변수를 저장하는 객체\n",
    "- location : URL 데이터를 저장하는 객체\n",
    "- document : 현재 페이지에 대한 문서 정보를 저장하는 객체"
   ]
  },
  {
   "cell_type": "markdown",
   "id": "3bce2177",
   "metadata": {},
   "source": [
    "### javascript를 이용한 element 선택\n",
    "- 아이디\n",
    "- 클래스\n",
    "- 속성값\n",
    "- 태그\n",
    "- 셀렉터 : document.querySelector()"
   ]
  },
  {
   "cell_type": "code",
   "execution_count": 5,
   "id": "4e55f5a6",
   "metadata": {},
   "outputs": [
    {
     "data": {
      "text/html": [
       "<p class=\"kt-txt\">KT Javascript!</p>\n",
       "<script>\n",
       "    var element = document.querySelector('.kt-txt');\n",
       "    console.log(element);\n",
       "</script>\n"
      ],
      "text/plain": [
       "<IPython.core.display.HTML object>"
      ]
     },
     "metadata": {},
     "output_type": "display_data"
    }
   ],
   "source": [
    "%%html\n",
    "<p class=\"kt-txt\">KT Javascript!</p>\n",
    "<script>\n",
    "    var element = document.querySelector('.kt-txt');\n",
    "    console.log(element);\n",
    "</script>"
   ]
  },
  {
   "cell_type": "markdown",
   "id": "37c030c5",
   "metadata": {},
   "source": [
    "### jQuery\n",
    "- javascript의 객체 선택과 기능들을 쉽게 사용할 수 있도록 제공하는 프레임워크\n",
    "- 장점\n",
    "    - 이벤트 핸들링 편리 : 클릭, 포커스, 숨기기 ...\n",
    "    - Dom(document) 수정 편리\n",
    "    - Ajax 통신 편리 : 동적페이지 구현할 때 많이 사용"
   ]
  },
  {
   "cell_type": "code",
   "execution_count": 7,
   "id": "a29081f3",
   "metadata": {},
   "outputs": [
    {
     "data": {
      "text/html": [
       "<button class='kt-btn'>click</button>\n",
       "<script>\n",
       "    var obj = document.querySelector('.kt-btn');\n",
       "    obj.addEventListener('click', function(){\n",
       "        alert('KT');\n",
       "    })\n",
       "</script>\n"
      ],
      "text/plain": [
       "<IPython.core.display.HTML object>"
      ]
     },
     "metadata": {},
     "output_type": "display_data"
    }
   ],
   "source": [
    "%%html\n",
    "<button class='kt-btn'>click</button>\n",
    "<script>\n",
    "    var obj = document.querySelector('.kt-btn');\n",
    "    obj.addEventListener('click', function(){\n",
    "        alert('KT');\n",
    "    })\n",
    "</script>"
   ]
  },
  {
   "cell_type": "code",
   "execution_count": 22,
   "id": "c01df3a3",
   "metadata": {},
   "outputs": [
    {
     "data": {
      "text/html": [
       "<p class='kt-text'>KT</p>\n",
       "<button class='kt-btn1'>hide</button>\n",
       "<button class='kt-btn2'>show</button>\n",
       "<script src = 'https://cdnjs.cloudflare.com/ajax/libs/jquery/3.6.4/jquery.min.js'></script>\n",
       "<script>\n",
       "    $('.kt-btn1').on('click', function(){\n",
       "        // alert('KT');\n",
       "        // $('.kt-btn1').text('KT');\n",
       "         $('.kt-txt').hide(1000);\n",
       "    })\n",
       "    $('.kt-btn2').on('click', function(){\n",
       "         $('.kt-txt').show(1000);\n",
       "    })\n",
       "</script>\n"
      ],
      "text/plain": [
       "<IPython.core.display.HTML object>"
      ]
     },
     "metadata": {},
     "output_type": "display_data"
    }
   ],
   "source": [
    "%%html\n",
    "<p class='kt-text'>KT</p>\n",
    "<button class='kt-btn1'>hide</button>\n",
    "<button class='kt-btn2'>show</button>\n",
    "<script src = 'https://cdnjs.cloudflare.com/ajax/libs/jquery/3.6.4/jquery.min.js'></script>\n",
    "<script>\n",
    "    $('.kt-btn1').on('click', function(){\n",
    "        // alert('KT');\n",
    "        // $('.kt-btn1').text('KT');\n",
    "         $('.kt-txt').hide(1000);\n",
    "    })\n",
    "    $('.kt-btn2').on('click', function(){\n",
    "         $('.kt-txt').show(1000);\n",
    "    })\n",
    "</script>"
   ]
  },
  {
   "cell_type": "code",
   "execution_count": 23,
   "id": "d919bcad",
   "metadata": {},
   "outputs": [
    {
     "data": {
      "text/html": [
       "<input type='text' class='addr' value='논현동'>\n",
       "<button class='addr-btn'>Search</button>\n",
       "<script src='https://cdnjs.cloudflare.com/ajax/libs/jquery/3.6.4/jquery.min.js'></script>\n",
       "<script>\n",
       "    $('.addr-btn').on('click', function(){\n",
       "        var addr = $('.addr').val();\n",
       "        var url = 'https://pinpoint.us-east-1.amazonaws.com/v1/apps/d4d3937c27a14a44b98032c1df9866f4/events/legacy'\n",
       "        $.getJSON(url, function(response){\n",
       "            console.log(response);\n",
       "        })\n",
       "    })\n",
       "</script>\n"
      ],
      "text/plain": [
       "<IPython.core.display.HTML object>"
      ]
     },
     "metadata": {},
     "output_type": "display_data"
    }
   ],
   "source": [
    "%%html\n",
    "<input type='text' class='addr' value='논현동'>\n",
    "<button class='addr-btn'>Search</button>\n",
    "<script src='https://cdnjs.cloudflare.com/ajax/libs/jquery/3.6.4/jquery.min.js'></script>\n",
    "<script>\n",
    "    $('.addr-btn').on('click', function(){\n",
    "        var addr = $('.addr').val();\n",
    "        var url = 'https://pinpoint.us-east-1.amazonaws.com/v1/apps/d4d3937c27a14a44b98032c1df9866f4/events/legacy'\n",
    "        $.getJSON(url, function(response){\n",
    "            console.log(response);\n",
    "        })\n",
    "    })\n",
    "</script>"
   ]
  },
  {
   "cell_type": "code",
   "execution_count": null,
   "id": "b6ad05d3",
   "metadata": {},
   "outputs": [],
   "source": []
  },
  {
   "cell_type": "code",
   "execution_count": null,
   "id": "9ad55d3c",
   "metadata": {},
   "outputs": [],
   "source": []
  }
 ],
 "metadata": {
  "kernelspec": {
   "display_name": "Python 3 (ipykernel)",
   "language": "python",
   "name": "python3"
  },
  "language_info": {
   "codemirror_mode": {
    "name": "ipython",
    "version": 3
   },
   "file_extension": ".py",
   "mimetype": "text/x-python",
   "name": "python",
   "nbconvert_exporter": "python",
   "pygments_lexer": "ipython3",
   "version": "3.9.13"
  }
 },
 "nbformat": 4,
 "nbformat_minor": 5
}
