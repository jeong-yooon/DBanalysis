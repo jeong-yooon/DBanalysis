{
 "cells": [
  {
   "cell_type": "markdown",
   "id": "65f47e78",
   "metadata": {},
   "source": [
    "## 문제\n",
    "한 디저트 연구소의 연구 결과에 따르면, 대부분의 젊은 사람은 후식으로 어묵과 파르페를 제공했을 때 파르페를 선택한다고 합니다. 하지만 기성이는 특이한 사람이라 어묵을 매우 좋아합니다.\n",
    "\n",
    "에이블 디저트는 어묵과 파르페를 판매하는 디저트 가게입니다. 에이블 디저트는 특이한 판매 방식으로 X스타그램 등 SNS에서 화제가 되었습니다. 어떤 방식이냐면 모든 디저트(어묵 또는 파르페)를 일렬로 나열하고, 양쪽 끝에 놓여있는 디저트만 판매하는 것입니다.\n",
    "\n",
    "기성이는 에이블 디저트의 모든 어묵을 구매하려고 합니다. 하지만 파르페를 사면 돈이 아깝다고 생각하므로, 파르페는 가능한 적게 살 것입니다. 기성이가 어묵을 모두 사려면 파르페를 적어도 몇 개 사야하는지 출력하는 프로그램을 작성해 주세요.\n",
    "\n",
    "\n",
    "### 예제 입력1\n",
    "PPPPPFFPP\n",
    "\n",
    "### 예제 출력1\n",
    "2\n",
    "\n",
    "### 예제 입력2\n",
    "FFFFFFFFPPPPPPPPPPPP\n",
    "\n",
    "### 예제 출력2\n",
    "0\n",
    "\n",
    "### 입력값 설명\n",
    "각각 어묵과 파르페를 의미하는 'F'와 'P'로만 구성된 문자열이 주어집니다.\n",
    "문자열의 길이는 1 이상 20,000 이하이며, 'F'가 적어도 하나 있습니다.\n",
    "\n",
    "### 출력값 설명\n",
    "기성이가 어묵을 모두 사려면 파르페를 적어도 몇 개 사야하는지 출력합니다."
   ]
  },
  {
   "cell_type": "markdown",
   "id": "1c398b63",
   "metadata": {},
   "source": [
    "#### 풀이\n",
    "- 투포인터 문제"
   ]
  },
  {
   "cell_type": "code",
   "execution_count": null,
   "id": "88c014d7",
   "metadata": {},
   "outputs": [],
   "source": [
    "arr = list(input())\n",
    "left, right = 0, len(arr)-1\n",
    "\n",
    "for i in range(1, len(arr)):\n",
    "    if arr[right] == 'P':\n",
    "        right -= 1\n",
    "    elif arr[left] == i:\n",
    "        left += 1\n",
    "else: print(\"YES\")"
   ]
  }
 ],
 "metadata": {
  "kernelspec": {
   "display_name": "Python 3 (ipykernel)",
   "language": "python",
   "name": "python3"
  },
  "language_info": {
   "codemirror_mode": {
    "name": "ipython",
    "version": 3
   },
   "file_extension": ".py",
   "mimetype": "text/x-python",
   "name": "python",
   "nbconvert_exporter": "python",
   "pygments_lexer": "ipython3",
   "version": "3.9.13"
  }
 },
 "nbformat": 4,
 "nbformat_minor": 5
}
