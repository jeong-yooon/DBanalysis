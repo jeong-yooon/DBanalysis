{
 "cells": [
  {
   "cell_type": "markdown",
   "id": "0ec57393",
   "metadata": {},
   "source": [
    "## 문제\n",
    "철수는 책상을 수리하기 위해 길이가 K 이상인 목재가 필요합니다.\n",
    "\n",
    "철수는 목재를 구매하기 위해 목재 판매점을 방문하였습니다.\n",
    "\n",
    "목재 판매점에서는 N개의 목재를 판매합니다. 각 목재에는 1번부터 N번까지 번호가 붙어있습니다. i번 목재의 길이는 a_i로 표기합니다.\n",
    "\n",
    "철수는 목재를 정확히 한 개만 구매하며, 가능한 길이가 짧은 목재를 구매하려고 합니다. 철수가 구매할 목재의 길이를 구하는 프로그램을 작성해주세요.\n",
    "\n",
    "예를 들어 N = 5, K = 2, 각 목재의 길이가 1, 4, 1, 3, 6이라고 가정하겠습니다. 책상을 수리할 수 있는 목재들의 번호는 2번, 4번, 5번이고, 그 중 가장 길이가 짧은 목재는 4번 목재입니다. 따라서 철수가 구매할 목재의 길이는 3입니다.\n",
    "\n",
    "### 예제 입력1\n",
    "5 2\\\n",
    "1 4 1 3 6\n",
    "\n",
    "### 예제 출력1\n",
    "3\n",
    "\n",
    "### 예제 입력2\n",
    "7 3\\\n",
    "2 6 1 6 7 6 6\n",
    "\n",
    "### 예제 출력2\n",
    "6\n",
    "\n",
    "### 입력값 설명\n",
    "첫째 줄에 N과 K가 공백으로 구분되어 주어집니다. (1 ≤ N ≤ 1,000, 1 ≤ K ≤ 1,000,000,000)\n",
    "둘째 줄에 a_i가 공백으로 구분되어 주어집니다. (1 ≤ a_i ≤ 1,000,000,000)\n",
    "\n",
    "### 출력값 설명\n",
    "첫째 줄에 철수가 구매할 목재의 길이를 출력합니다."
   ]
  },
  {
   "cell_type": "code",
   "execution_count": 4,
   "id": "0ef65928",
   "metadata": {},
   "outputs": [
    {
     "name": "stdout",
     "output_type": "stream",
     "text": [
      "7 3\n",
      "2 6 1 6 7 6 6\n",
      "6\n"
     ]
    }
   ],
   "source": [
    "N, K = map(int, input().split())\n",
    "a = list(map(int, input().split()))\n",
    "answer = 1000000000000\n",
    "for i in a:\n",
    "    if i >= K :\n",
    "        answer = min(answer, i)\n",
    "print(answer)"
   ]
  },
  {
   "cell_type": "code",
   "execution_count": null,
   "id": "ab0b587a",
   "metadata": {},
   "outputs": [],
   "source": []
  }
 ],
 "metadata": {
  "kernelspec": {
   "display_name": "Python 3 (ipykernel)",
   "language": "python",
   "name": "python3"
  },
  "language_info": {
   "codemirror_mode": {
    "name": "ipython",
    "version": 3
   },
   "file_extension": ".py",
   "mimetype": "text/x-python",
   "name": "python",
   "nbconvert_exporter": "python",
   "pygments_lexer": "ipython3",
   "version": "3.9.13"
  }
 },
 "nbformat": 4,
 "nbformat_minor": 5
}
