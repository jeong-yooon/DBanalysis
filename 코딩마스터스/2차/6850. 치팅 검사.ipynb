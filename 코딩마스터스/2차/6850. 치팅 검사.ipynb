{
 "cells": [
  {
   "cell_type": "markdown",
   "id": "14958d24",
   "metadata": {},
   "source": [
    "## 문제\n",
    "대학교 조교인 준하는 과제를 채점하고 있습니다. 그런데 채점하던 도중, 다른 학생과 비슷한 답안을 쓴 학생이 있다는 사실을 알게 되었습니다. 여러가지 조사를 한 준하는 다음과 같은 사실을 알아냈습니다. 치팅을 한 과제는 정상적인 답안을 둘로 나누어, 앞과 뒤를 한번씩 더 반복하는 방식으로 쓰여져 있었습니다. 예를 들어, 정상적인 답안이 \"ABCD\"라면, 치팅을 한 과제는 \"ABABCDCD\", \"AABCDBCD\"와 같은 방식으로 쓰여져 있습니다. 어느 학생의 과제 답안이 주어졌을 때, 치팅을 했는지 여부와, 원래 답안을 출력하는 프로그램을 작성해 주세요.\n",
    "\n",
    "### 예제 입력1\n",
    "AABCDBCD\n",
    "\n",
    "### 예제 출력1\n",
    "YES\\\n",
    "ABCD\n",
    "\n",
    "### 예제 입력2\n",
    "AAABCBCD\n",
    "\n",
    "### 예제 출력2\n",
    "NO\n",
    "\n",
    "### 입력값 설명\n",
    "학생의 답안이 주어집니다. 답안은 알파벳 대문자로만 이루어져 있습니다. (1 ≤ 답안의 길이 ≤ 100, 답안의 길이는 짝수)\n",
    "답이 유일한 경우만 입력으로 주어집니다.\n",
    "\n",
    "### 출력값 설명\n",
    "학생이 치팅을 했다면 첫째 줄에 \"YES\"를 출력하고, 둘째 줄에 원래 답안을 출력합니다.\n",
    "학생이 치팅을 하지 않았다면, 첫째 줄에 \"NO\"를 출력합니다."
   ]
  },
  {
   "cell_type": "code",
   "execution_count": 3,
   "id": "107be5c2",
   "metadata": {},
   "outputs": [
    {
     "name": "stdout",
     "output_type": "stream",
     "text": [
      "AABCDBCD\n",
      "2\n",
      "2\n",
      "2\n",
      "2\n"
     ]
    }
   ],
   "source": [
    "A = list(input())\n",
    "count = {}\n",
    "for i in A:\n",
    "    try: count[i] += 1\n",
    "    except: count[i]=1\n",
    "for j in count.values():\n",
    "    if j == 2:\n",
    "        continue\n",
    "    else:\n",
    "        print(\"NO\")\n",
    "        break\n",
    "for k in count.keys():\n",
    "    print(k)"
   ]
  },
  {
   "cell_type": "code",
   "execution_count": null,
   "id": "83284149",
   "metadata": {},
   "outputs": [],
   "source": []
  }
 ],
 "metadata": {
  "kernelspec": {
   "display_name": "Python 3 (ipykernel)",
   "language": "python",
   "name": "python3"
  },
  "language_info": {
   "codemirror_mode": {
    "name": "ipython",
    "version": 3
   },
   "file_extension": ".py",
   "mimetype": "text/x-python",
   "name": "python",
   "nbconvert_exporter": "python",
   "pygments_lexer": "ipython3",
   "version": "3.9.13"
  }
 },
 "nbformat": 4,
 "nbformat_minor": 5
}
