{
 "cells": [
  {
   "cell_type": "markdown",
   "id": "d7e70491",
   "metadata": {},
   "source": [
    "## 문제\n",
    "어떤 수가 그 수의 \"부분 수\"로 나누어 떨어지면 이 수를 \"예쁜 수\"라고 합니다.\n",
    "\"부분 수\"란, 수의 맨앞과 맨뒤에서 총 1개 이상의 숫자를 떼어내어 만든 수를 말합니다.\n",
    "예를 들어, 13은 11349의 \"부분 수\"이고, 11349는 13으로 나누어 떨어지므로 \"예쁜 수\"입니다.\n",
    "어떤 수가 주어지면, 이 수가 \"예쁜 수\"인지 여부를 출력하는 프로그램을 작성해 주세요.\n",
    "\n",
    "### 예제 입력1\n",
    "11349\n",
    "\n",
    "### 예제 출력1\n",
    "YES\n",
    "\n",
    "### 예제 입력2\n",
    "23579\n",
    "\n",
    "### 예제 출력2\n",
    "NO\n",
    "\n",
    "### 입력값 설명\n",
    "첫째 줄에 수 N이 주어집니다. (10 ≤ N ≤ 100,000)\n",
    "수에는 숫자 '0'이 포함되지 않습니다.\n",
    "\n",
    "### 출력값 설명\n",
    "N이 예쁜 수이면 \"YES\", 그렇지 않으면 \"NO\"를 출력합니다."
   ]
  },
  {
   "cell_type": "code",
   "execution_count": null,
   "id": "e805970e",
   "metadata": {},
   "outputs": [],
   "source": [
    "N = int(input())\n",
    "for i in range"
   ]
  }
 ],
 "metadata": {
  "kernelspec": {
   "display_name": "Python 3 (ipykernel)",
   "language": "python",
   "name": "python3"
  },
  "language_info": {
   "codemirror_mode": {
    "name": "ipython",
    "version": 3
   },
   "file_extension": ".py",
   "mimetype": "text/x-python",
   "name": "python",
   "nbconvert_exporter": "python",
   "pygments_lexer": "ipython3",
   "version": "3.9.13"
  }
 },
 "nbformat": 4,
 "nbformat_minor": 5
}
