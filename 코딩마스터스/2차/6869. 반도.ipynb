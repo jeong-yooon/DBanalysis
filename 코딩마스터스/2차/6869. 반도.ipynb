{
 "cells": [
  {
   "cell_type": "markdown",
   "id": "b4c329f5",
   "metadata": {},
   "source": [
    "## 문제\n",
    "N x N 크기 격자판 모양의 지도가 주어집니다. 격자판의 각 칸에 쓰여 있는 문자가 'O'이면 해당 칸이 땅임을 의미하고, 'X'이면 바다임을 의미합니다. 격자판의 위에서부터 x번째, 왼쪽에서부터 y번째 칸을 (x, y)로 표현합니다.\n",
    "\n",
    "반도란 삼면이 바다로 둘러싸인 땅을 뜻합니다. 즉, 격자판의 칸 중 다음 조건을 만족하는 칸은 반도입니다.\n",
    "\n",
    "- 해당 칸이 땅입니다. 즉, 해당 칸에 쓰여 있는 문자가 'O'입니다.\n",
    "\n",
    "- 상하좌우로 인접한 네 개의 칸 중 바다인 칸이 3개입니다. 격자판의 바깥은 고려하지 않습니다.\n",
    "\n",
    "철수는 지도에 존재하는 반도의 개수가 궁금해졌습니다. 지도가 주어졌을 때, 지도에 존재하는 반도의 개수를 구하는 프로그램을 작성해주세요.\n",
    "\n",
    "예를 들어 N = 4이고 지도가 다음과 같다고 가정하겠습니다.\n",
    "\n",
    "X O X O\n",
    "\n",
    "X X O X\n",
    "\n",
    "O O O X\n",
    "\n",
    "X X O X\n",
    "\n",
    "이 경우 반도는 (1, 2), (2, 3), 총 2개입니다.\n",
    "\n",
    "\n",
    "### 예제 입력1\n",
    "4\\\n",
    "X O X O\\\n",
    "X X O X\\\n",
    "O O O X\\\n",
    "X X O X\n",
    "\n",
    "### 예제 출력1\n",
    "2\n",
    "\n",
    "### 예제 입력2\n",
    "3\\\n",
    "O X O\\\n",
    "X O X\\\n",
    "O X X\n",
    "\n",
    "### 예제 출력2\n",
    "0\n",
    "\n",
    "### 입력값 설명\n",
    "첫째 줄에 격자판의 크기 N이 주어집니다. (1 ≤ N ≤ 50)\n",
    "N개의 줄에 걸쳐 지도가 주어집니다. 각 줄에는 N개의 문자가 공백으로 구분되어 주어집니다. 문자는 'O' 또는 'X'입니다.\n",
    "\n",
    "### 출력값 설명\n",
    "첫째 줄에 지도에 존재하는 반도의 개수를 출력합니다."
   ]
  },
  {
   "cell_type": "code",
   "execution_count": 3,
   "id": "5d3f00b6",
   "metadata": {},
   "outputs": [
    {
     "name": "stdout",
     "output_type": "stream",
     "text": [
      "4\n",
      "X O X O\n",
      "X X O X\n",
      "O O O X\n",
      "X X O X\n"
     ]
    },
    {
     "data": {
      "text/plain": [
       "[['X', 'O', 'X', 'O'],\n",
       " ['X', 'X', 'O', 'X'],\n",
       " ['O', 'O', 'O', 'X'],\n",
       " ['X', 'X', 'O', 'X']]"
      ]
     },
     "execution_count": 3,
     "metadata": {},
     "output_type": "execute_result"
    }
   ],
   "source": [
    "N = int(input())\n",
    "arr = []\n",
    "for i in range(N):\n",
    "    arr.append(list(input().split()))\n",
    "for a in arr:\n",
    "    for b in a:\n",
    "        "
   ]
  },
  {
   "cell_type": "code",
   "execution_count": null,
   "id": "d479c2d4",
   "metadata": {},
   "outputs": [],
   "source": []
  }
 ],
 "metadata": {
  "kernelspec": {
   "display_name": "Python 3 (ipykernel)",
   "language": "python",
   "name": "python3"
  },
  "language_info": {
   "codemirror_mode": {
    "name": "ipython",
    "version": 3
   },
   "file_extension": ".py",
   "mimetype": "text/x-python",
   "name": "python",
   "nbconvert_exporter": "python",
   "pygments_lexer": "ipython3",
   "version": "3.9.13"
  }
 },
 "nbformat": 4,
 "nbformat_minor": 5
}
