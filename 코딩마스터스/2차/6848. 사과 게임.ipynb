{
 "cells": [
  {
   "cell_type": "markdown",
   "id": "1a9b3ba0",
   "metadata": {},
   "source": [
    "## 문제\n",
    "사과 게임은 1부터 9까지의 수가 쓰여있는 N x M크기의 격자에서, 직사각형 모양의 구역을 드래그 해 안에 있는 수의 합이 10이 되도록 하는 게임입니다. 격자가 주어질 때, 안에 있는 수의 합이 10이 되도록하는 직사각형의 개수를 출력하는 프로그램을 작성해 주세요.\n",
    "\n",
    "### 예제 입력1\n",
    "\n",
    "2 3\n",
    "8 2 9\n",
    "2 2 6\n",
    "\n",
    "### 예제 출력1\n",
    "\n",
    "3\n",
    "\n",
    "### 예제 입력2\n",
    "\n",
    "1 1\n",
    "9\n",
    "\n",
    "### 예제 출력2\n",
    "\n",
    "0\n",
    "\n",
    "### 입력값 설명\n",
    "\n",
    "첫째 줄에 N과 M이 공백으로 구분되어 주어집니다. (1 ≤ N, M ≤ 10)\n",
    "이어서 N개의 줄에, 격자에 쓰인 수가 공백으로 구분되어 주어집니다.\n",
    "\n",
    "### 출력값 설명\n",
    "\n",
    "안에 있는 수의 합이 10이 되도록 하는 서로 다른 직사각형의 개수를 출력합니다."
   ]
  },
  {
   "cell_type": "markdown",
   "id": "ab092fdc",
   "metadata": {},
   "source": [
    "#### 풀이\n",
    "- 직사각형 생성 조건\n",
    "    - 가로 경우: 0~M\n",
    "    - 세로 경우: 0~N"
   ]
  },
  {
   "cell_type": "code",
   "execution_count": null,
   "id": "f76fb096",
   "metadata": {},
   "outputs": [],
   "source": [
    "N, M = map(int, input().split())\n",
    "arr = []\n",
    "for i in range(N):\n",
    "    arr.append(list(map(int, input().split())))\n",
    "\n",
    "for n in range(N): # 세로 포인터\n",
    "    for m in range(M): # 가로 포인터\n",
    "        for a in range(m, M): # 가로 경우\n",
    "            for b in range(n, N): # 세로 경우\n",
    "                for k in range(): # \n",
    "                    arr[n][m]"
   ]
  }
 ],
 "metadata": {
  "kernelspec": {
   "display_name": "Python 3 (ipykernel)",
   "language": "python",
   "name": "python3"
  },
  "language_info": {
   "codemirror_mode": {
    "name": "ipython",
    "version": 3
   },
   "file_extension": ".py",
   "mimetype": "text/x-python",
   "name": "python",
   "nbconvert_exporter": "python",
   "pygments_lexer": "ipython3",
   "version": "3.9.13"
  }
 },
 "nbformat": 4,
 "nbformat_minor": 5
}
