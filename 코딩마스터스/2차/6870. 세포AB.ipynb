{
 "cells": [
  {
   "cell_type": "markdown",
   "id": "1384df05",
   "metadata": {},
   "source": [
    "## 문제\n",
    "철수는 세포 A와 세포 B를 연구하고 있습니다.\n",
    "\n",
    "세포 A, B는 다음과 같은 특성을 갖고 있습니다.\n",
    "- 세포 A는 1분이 지날 때마다 세포 B로 변합니다.\n",
    "- 세포 B는 1분이 지날 때마다 세포 A 하나와 세포 B 하나로 분열됩니다.\n",
    "\n",
    "최초에 세포 A와 세포 B가 각각 하나씩 존재할 때, N분이 지난 시점에 세포 A와 세포 B의 개수를 구하는 프로그램을 작성해주세요.\n",
    "\n",
    "예를 들어 N = 3이라고 가정하겠습니다. 세포 A와 세포 B가 하나씩 있던 상태로부터 1분이 지난 시점에는 세포 A 1개와 세포 B 2개가 됩니다. 2분이 지난 시점에는 세포 A 2개와 세포 B 3개가 됩니다. 3분이 지난 시점에는 세포 A 3개와 세포 B 5개가 됩니다.\n",
    "\n",
    "### 예제 입력1\n",
    "2\n",
    "\n",
    "### 예제 출력1\n",
    "2 3\n",
    "\n",
    "### 예제 입력2\n",
    "3\n",
    "\n",
    "### 예제 출력2\n",
    "3 5\n",
    "\n",
    "### 입력값 설명\n",
    "첫째 줄에 양의 정수 N이 주어집니다. (1 ≤ N ≤ 20)\n",
    "\n",
    "### 출력값 설명\n",
    "첫째 줄에 세포 A의 개수와 세포 B의 개수를 공백으로 구분하여 출력합니다."
   ]
  },
  {
   "cell_type": "markdown",
   "id": "5d412f17",
   "metadata": {},
   "source": [
    "#### 풀이\n",
    "- 0분 : 1, 1\n",
    "- 1분 : 1, 2\n",
    "- 2분 : 2, 3\n",
    "- 3분 : 3, 5"
   ]
  },
  {
   "cell_type": "code",
   "execution_count": 2,
   "id": "c927066a",
   "metadata": {},
   "outputs": [
    {
     "name": "stdout",
     "output_type": "stream",
     "text": [
      "3\n",
      "3 5\n"
     ]
    }
   ],
   "source": [
    "N = int(input())\n",
    "A, B = 1, 1\n",
    "temp = 0\n",
    "for i in range(N):\n",
    "    temp = A\n",
    "    A = B\n",
    "    B = temp + B\n",
    "print(A, B)"
   ]
  },
  {
   "cell_type": "code",
   "execution_count": null,
   "id": "7c1882df",
   "metadata": {},
   "outputs": [],
   "source": []
  }
 ],
 "metadata": {
  "kernelspec": {
   "display_name": "Python 3 (ipykernel)",
   "language": "python",
   "name": "python3"
  },
  "language_info": {
   "codemirror_mode": {
    "name": "ipython",
    "version": 3
   },
   "file_extension": ".py",
   "mimetype": "text/x-python",
   "name": "python",
   "nbconvert_exporter": "python",
   "pygments_lexer": "ipython3",
   "version": "3.9.13"
  }
 },
 "nbformat": 4,
 "nbformat_minor": 5
}
