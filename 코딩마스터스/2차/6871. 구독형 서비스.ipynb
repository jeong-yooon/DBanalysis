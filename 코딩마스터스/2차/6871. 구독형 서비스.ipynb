{
 "cells": [
  {
   "cell_type": "markdown",
   "id": "e84b00ea",
   "metadata": {},
   "source": [
    "## 문제\n",
    "철수의 회사에서는 구독형 서비스를 판매하려고 합니다. 철수는 서비스의 구독료 책정 업무를 담당하고 있습니다.\n",
    "\n",
    "철수는 구독료 책정에 앞서 온라인 설문 조사를 실시했습니다. 설문 조사에는 N명이 응답했습니다. 각 응답자에는 1번부터 N번까지 번호가 붙어있습니다. i번 응답자는 구독료가 a_i원 이하이면 서비스를 구독할 의사가 있다고 응답했습니다.\n",
    "\n",
    "철수는 설문 조사 결과를 바탕으로 회사의 매출이 최대가 되도록 구독료를 책정하려고 합니다. 철수의 회사가 N명의 설문 응답자로부터 얻을 수 있는 매출의 최댓값을 구하는 프로그램을 작성해주세요.\n",
    "\n",
    "예를 들어 N = 5이고 응답 결과가 3000원, 12000원, 7000원, 5000원, 8500원이라고 가정하겠습니다. 구독료를 5000원으로 책정하면 2번, 3번, 4번, 5번 응답자가 서비스를 구독합니다. 이 경우 회사의 매출은 20000원입니다. 구독료를 7000원으로 책정하면 2번, 3번, 5번 응답자가 서비스를 구독합니다. 이 경우 회사의 매출은 21000원입니다.\n",
    "\n",
    "### 예제 입력1\n",
    "5\\\n",
    "3000 12000 7000 5000 8500\n",
    "\n",
    "### 예제 출력1\n",
    "21000\n",
    "\n",
    "### 예제 입력2\n",
    "7\\\n",
    "8200 18700 8000 16500 8700 15400 19000\n",
    "\n",
    "### 예제 출력2\n",
    "61600\n",
    "\n",
    "### 입력값 설명\n",
    "첫째 줄에 응답자의 수 N이 주어집니다. (1 ≤ N ≤ 500)\n",
    "둘째 줄에 a_i가 공백으로 구분되어 주어집니다. a_i는 100의 배수입니다. (100 ≤ a_i ≤ 20,000)\n",
    "\n",
    "### 출력값 설명\n",
    "첫째 줄에 회사가 N명의 설문 응답자로부터 얻을 수 있는 매출의 최댓값을 출력합니다."
   ]
  },
  {
   "cell_type": "code",
   "execution_count": 3,
   "id": "e0699320",
   "metadata": {},
   "outputs": [
    {
     "name": "stdout",
     "output_type": "stream",
     "text": [
      "5\n",
      "3000 12000 7000 5000 8500\n",
      "21000\n"
     ]
    }
   ],
   "source": [
    "N = int(input())\n",
    "arr=list(map(int, input().split()))\n",
    "answer = 0\n",
    "for i in range(N):\n",
    "    price = 0\n",
    "    for j in range(N):\n",
    "        if arr[j] >= arr[i]:\n",
    "            price += arr[i]\n",
    "    answer = max(answer, price)\n",
    "print(answer)"
   ]
  },
  {
   "cell_type": "code",
   "execution_count": null,
   "id": "a8385c5e",
   "metadata": {},
   "outputs": [],
   "source": []
  }
 ],
 "metadata": {
  "kernelspec": {
   "display_name": "Python 3 (ipykernel)",
   "language": "python",
   "name": "python3"
  },
  "language_info": {
   "codemirror_mode": {
    "name": "ipython",
    "version": 3
   },
   "file_extension": ".py",
   "mimetype": "text/x-python",
   "name": "python",
   "nbconvert_exporter": "python",
   "pygments_lexer": "ipython3",
   "version": "3.9.13"
  }
 },
 "nbformat": 4,
 "nbformat_minor": 5
}
