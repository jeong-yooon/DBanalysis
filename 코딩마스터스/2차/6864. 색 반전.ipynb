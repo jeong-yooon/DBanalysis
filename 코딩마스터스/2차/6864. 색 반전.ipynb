{
 "cells": [
  {
   "cell_type": "markdown",
   "id": "75720096",
   "metadata": {},
   "source": [
    "## 문제\n",
    "컴퓨터 프로그램에서는 보통 색상을 #과 16진수 6자리로 나타내고는 합니다.\n",
    "\n",
    "이를 헥스 코드라고 부릅니다.\n",
    "\n",
    "헥스 코드의 구조는 #RRGGBB로, RR에는 Red의 강도, GG에는 Green의 강도, BB에는 Blue의 강도를 16진수로 표기합니다. \n",
    "\n",
    "최솟값은 00(0), 최댓값은 FF(255)입니다. \n",
    "\n",
    "여기서 Red, Green, Blue에 각각 255의 보수를 적용하면 해당 색을 반전시킬 수 있습니다.\n",
    "\n",
    "예를 들어 #123456의 경우 Red, Green, Blue가 각각 18, 52, 86이므로, 색을 반전시키면 Red 237, Green 203, Blue 169인 #EDCBA9가 됩니다. \n",
    "\n",
    "헥스 코드가 입력되었을 때, 이 헥스 코드에 해당하는 색의 반전 색을 다시 헥스코드로 출력하는 프로그램을 작성해주세요. \n",
    "\n",
    "\n",
    "### 예제 입력1\n",
    "\n",
    "#123456\n",
    "\n",
    "### 예제 출력1\n",
    "\n",
    "#EDCBA9\n",
    "\n",
    "### 예제 입력2\n",
    "\n",
    "#808080\n",
    "\n",
    "### 예제 출력2\n",
    "\n",
    "#7F7F7F\n",
    "\n",
    "### 입력값 설명\n",
    "\n",
    "첫 번째 줄의 어떤 색상의 헥스 코드가 입력됩니다.\n",
    "\n",
    "### 출력값 설명\n",
    "\n",
    "첫 번째 줄에 입력된 헥스 코드에 해당하는 색상을 색 반전한 헥스 코드를 출력합니다."
   ]
  },
  {
   "cell_type": "code",
   "execution_count": null,
   "id": "8107abe8",
   "metadata": {},
   "outputs": [],
   "source": []
  }
 ],
 "metadata": {
  "kernelspec": {
   "display_name": "Python 3 (ipykernel)",
   "language": "python",
   "name": "python3"
  },
  "language_info": {
   "codemirror_mode": {
    "name": "ipython",
    "version": 3
   },
   "file_extension": ".py",
   "mimetype": "text/x-python",
   "name": "python",
   "nbconvert_exporter": "python",
   "pygments_lexer": "ipython3",
   "version": "3.9.13"
  }
 },
 "nbformat": 4,
 "nbformat_minor": 5
}
