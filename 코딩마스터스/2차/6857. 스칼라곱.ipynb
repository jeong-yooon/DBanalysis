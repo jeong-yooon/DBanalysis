{
 "cells": [
  {
   "cell_type": "markdown",
   "id": "45637d05",
   "metadata": {},
   "source": [
    "## 문제\n",
    "선형대수학에서 스칼라곱이란 두 벡터로부터 실수 스칼라를 얻는 연산으로 다음과 같이 정의됩니다. \n",
    "\n",
    "두 벡터의 좌표가 각각 A = (a1, a2, a3, ..., an), B = (b1, b2, b3, ..., bn)일 때, A•B = a1×b1 + a2×b2 + a3×b3 + ... + an×bn으로 정의됩니다. \n",
    "\n",
    "두 벡터의 차원과 각 벡터의 좌표가 주어질 때 두 벡터의 스칼라곱을 출력하는 프로그램을 작성해주세요. \n",
    "\n",
    "\n",
    "### 예제 입력1\n",
    "3\\\n",
    "9 3 2\\\n",
    "1 9 6\n",
    "\n",
    "### 예제 출력1\n",
    "48\n",
    "\n",
    "### 예제 입력2\n",
    "6\\\n",
    "-3 -8 2 8 -4 8\\\n",
    "-2 7 0 1 3 -5\n",
    "\n",
    "### 예제 출력2\n",
    "-94\n",
    "\n",
    "### 입력값 설명\n",
    "첫 번째 줄에 벡터의 차원을 의미하는 자연수 N이 주어집니다. (1 ≤ N ≤ 50)\n",
    "두 번째 줄에 첫 번째 벡터의 좌표를 의미하는 정수 N개가 공백으로 구분되어 주어집니다.\n",
    "세 번째 줄에 두 번째 벡터의 좌표를 의미하는 정수 N개가 공백으로 구분되어 주어집니다.\n",
    "주어지는 벡터의 각 좌표의 절댓값은 100 이하입니다.\n",
    "\n",
    "### 출력값 설명\n",
    "첫 번째 줄에 두 벡터의 스칼라곱을 계산하여 출력합니다."
   ]
  },
  {
   "cell_type": "code",
   "execution_count": 1,
   "id": "9e0fc41d",
   "metadata": {},
   "outputs": [
    {
     "name": "stdout",
     "output_type": "stream",
     "text": [
      "3\n",
      "9 3 2\n",
      "1 9 6\n",
      "48\n"
     ]
    }
   ],
   "source": [
    "N = int(input())\n",
    "A = list(map(int, input().split()))\n",
    "B = list(map(int, input().split()))\n",
    "answer = 0\n",
    "for i in range(N):\n",
    "    answer += A[i]*B[i]\n",
    "print(answer)"
   ]
  },
  {
   "cell_type": "code",
   "execution_count": null,
   "id": "5e32dcbf",
   "metadata": {},
   "outputs": [],
   "source": []
  }
 ],
 "metadata": {
  "kernelspec": {
   "display_name": "Python 3 (ipykernel)",
   "language": "python",
   "name": "python3"
  },
  "language_info": {
   "codemirror_mode": {
    "name": "ipython",
    "version": 3
   },
   "file_extension": ".py",
   "mimetype": "text/x-python",
   "name": "python",
   "nbconvert_exporter": "python",
   "pygments_lexer": "ipython3",
   "version": "3.9.13"
  }
 },
 "nbformat": 4,
 "nbformat_minor": 5
}
