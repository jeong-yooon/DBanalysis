{
 "cells": [
  {
   "cell_type": "markdown",
   "id": "46ae8706",
   "metadata": {},
   "source": [
    "## 문제\n",
    "N개의 원소가 포함된 배열 a가 주어집니다. 배열의 i번째 원소를 a_i로 표기합니다. a_i는 1 이상 1,000,000,000 이하 양의 정수입니다.\n",
    "\n",
    "배열 a에는 중복된 수가 포함될 수 있습니다. 즉, i ≠ j이면서 a_i = a_j인 i, j 쌍이 존재할 수 있습니다.\n",
    "\n",
    "배열 a에서 가장 많이 등장하는 수를 구하는 프로그램을 작성해주세요.\n",
    "\n",
    "예를 들어 N = 5, 배열 a의 원소들이 1, 3, 2, 4, 3이라고 가정하겠습니다. 이 경우 배열 a에서 가장 많이 등장하는 수는 3입니다.\n",
    "\n",
    "\n",
    "### 예제 입력1\n",
    "\n",
    "5\\\n",
    "1 3 2 4 3\n",
    "\n",
    "### 예제 출력1\n",
    "\n",
    "3\n",
    "\n",
    "### 예제 입력2\n",
    "\n",
    "4\\\n",
    "4 2 4 2\n",
    "\n",
    "### 예제 출력2\n",
    "\n",
    "2\n",
    "\n",
    "### 입력값 설명\n",
    "\n",
    "첫째 줄에 원소의 개수 N이 주어집니다. (1 ≤ N ≤ 1,000)\n",
    "둘째 줄에 a_i가 공백으로 구분되어 주어집니다. (1 ≤ a_i ≤ 1,000,000,000)\n",
    "\n",
    "### 출력값 설명\n",
    "\n",
    "첫째 줄에 배열 a에서 가장 많이 등장하는 수를 출력합니다. 조건을 만족하는 수가 여러 개이면 그 중 가장 작은 수를 출력합니다.\n",
    "(배열 a에 겹치는 수가 없는 경우는 모든 숫자가 등장 횟수가 같은 것이므로 같은 방식으로 그 중 가장 작은 숫자를 출력하면 됩니다.)"
   ]
  },
  {
   "cell_type": "markdown",
   "id": "bbbe1b2e",
   "metadata": {},
   "source": [
    "#### 풀이\n"
   ]
  },
  {
   "cell_type": "code",
   "execution_count": 3,
   "id": "9e4cf6d7",
   "metadata": {},
   "outputs": [
    {
     "name": "stdout",
     "output_type": "stream",
     "text": [
      "4\n",
      "4 2 4 2 \n",
      "2\n"
     ]
    }
   ],
   "source": [
    "N = int(input())\n",
    "a = list(map(int, input().split()))\n",
    "max_len = 0\n",
    "answer = 0\n",
    "for i in a:\n",
    "    arr = []\n",
    "    for j in a:\n",
    "        if (i == j):\n",
    "            arr.append(j)\n",
    "    if (max_len == len(arr)):\n",
    "        answer = min(answer, i)\n",
    "    elif(max_len < len(arr)):\n",
    "        answer = i\n",
    "    max_len = max(max_len, len(arr))\n",
    "print(answer)"
   ]
  },
  {
   "cell_type": "code",
   "execution_count": null,
   "id": "eae6d309",
   "metadata": {},
   "outputs": [],
   "source": []
  }
 ],
 "metadata": {
  "kernelspec": {
   "display_name": "Python 3 (ipykernel)",
   "language": "python",
   "name": "python3"
  },
  "language_info": {
   "codemirror_mode": {
    "name": "ipython",
    "version": 3
   },
   "file_extension": ".py",
   "mimetype": "text/x-python",
   "name": "python",
   "nbconvert_exporter": "python",
   "pygments_lexer": "ipython3",
   "version": "3.9.13"
  }
 },
 "nbformat": 4,
 "nbformat_minor": 5
}
