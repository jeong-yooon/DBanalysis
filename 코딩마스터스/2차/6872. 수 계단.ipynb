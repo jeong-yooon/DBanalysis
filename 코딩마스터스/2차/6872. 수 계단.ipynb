{
 "cells": [
  {
   "cell_type": "markdown",
   "id": "9b057fcb",
   "metadata": {},
   "source": [
    "## 문제\n",
    "\"수 계단\"이란 1부터 N(N+1)/2까지의 자연수를 계단 모양으로 나열한 것을 말합니다.\n",
    "\n",
    "예를 들어 N = 4이면 수 계단은 다음과 같습니다.\n",
    "\n",
    "1\n",
    "\n",
    "2 3\n",
    "\n",
    "4 5 6\n",
    "\n",
    "7 8 9 10\n",
    "\n",
    "\n",
    "자연수 n이 주어질 때, 수 계단을 출력하는 프로그램을 작성해 주세요.\n",
    "\n",
    "\n",
    "### 예제 입력1\n",
    "\n",
    "4\n",
    "\n",
    "### 예제 출력1\n",
    "\n",
    "1\\\n",
    "2 3\\\n",
    "4 5 6\\\n",
    "7 8 9 10\n",
    "\n",
    "### 예제 입력2\n",
    "\n",
    "3\n",
    "\n",
    "### 예제 출력2\n",
    "\n",
    "1\\\n",
    "2 3\\\n",
    "4 5 6\n",
    "\n",
    "### 입력값 설명\n",
    "\n",
    "첫째 줄에 자연수 N이 주어집니다.(1 ≤ N ≤ 100)\n",
    "\n",
    "### 출력값 설명\n",
    "\n",
    "수 계단을 출력하세요."
   ]
  },
  {
   "cell_type": "code",
   "execution_count": 3,
   "id": "7d203536",
   "metadata": {},
   "outputs": [
    {
     "name": "stdout",
     "output_type": "stream",
     "text": [
      "4\n",
      "1 \n",
      "2 3 \n",
      "4 5 6 \n",
      "7 8 9 10 \n"
     ]
    }
   ],
   "source": [
    "N = int(input())\n",
    "a = 1\n",
    "for i in range(1,N+1):\n",
    "    for j in range(i):\n",
    "        print(a, end=' ')\n",
    "        a += 1\n",
    "    print('')"
   ]
  },
  {
   "cell_type": "code",
   "execution_count": null,
   "id": "e1e61702",
   "metadata": {},
   "outputs": [],
   "source": []
  }
 ],
 "metadata": {
  "kernelspec": {
   "display_name": "Python 3 (ipykernel)",
   "language": "python",
   "name": "python3"
  },
  "language_info": {
   "codemirror_mode": {
    "name": "ipython",
    "version": 3
   },
   "file_extension": ".py",
   "mimetype": "text/x-python",
   "name": "python",
   "nbconvert_exporter": "python",
   "pygments_lexer": "ipython3",
   "version": "3.9.13"
  }
 },
 "nbformat": 4,
 "nbformat_minor": 5
}
