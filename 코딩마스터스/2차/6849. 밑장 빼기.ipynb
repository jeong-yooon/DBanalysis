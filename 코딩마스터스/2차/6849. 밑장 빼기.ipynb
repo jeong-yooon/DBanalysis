{
 "cells": [
  {
   "cell_type": "markdown",
   "id": "50d47ff8",
   "metadata": {},
   "source": [
    "## 문제\n",
    "준하는 영화 \"타짜\"를 감명깊게 봤습니다. 영화에 나오는 손기술을 연습하던 준하는 카드더미에서 맨 윗장 뿐만이 아니라, 맨 아래에 있는 카드를 대신 내려놓는 기술을 쓸 수 있게 되었습니다!\n",
    "\n",
    "1부터 N까지 수가 쓰여져 있는 N장의 카드 더미가 주어집니다. 이 카드 더미에서 맨 위 또는 맨 아래에 있는 카드를 내려놓는 것을 반복해서, 1부터 N까지 차례대로 내려놓을 수 있는지 알려주는 프로그램을 작성해 주세요.\n",
    "\n",
    "\n",
    "### 예제 입력1\n",
    "5\\\n",
    "1 4 5 3 2\n",
    "\n",
    "### 예제 출력1\n",
    "YES\n",
    "\n",
    "### 예제 입력2\n",
    "5\\\n",
    "1 4 3 5 2\n",
    "\n",
    "### 예제 출력2\n",
    "NO\n",
    "\n",
    "### 입력값 설명\n",
    "첫째 줄에 N이 주어집니다. (1 ≤ N ≤ 1,000)\n",
    "둘째 줄에, 카드 더미에 있는 카드에 쓰인 수가 순서대로 주어집니다. (1 ≤ 카드에 쓰인 수 ≤ N)\n",
    "\n",
    "### 출력값 설명\n",
    "카드 더미에서 맨 위 또는 맨 아래에 있는 카드를 내려놓는 것을 반복해서, 1이 쓰여있는 카드부터 N이 쓰여 있는 카드까지 차례대로 내려놓을 수 있으면 \"YES\", 그렇지 않으면 \"NO\"를 출력합니다."
   ]
  },
  {
   "cell_type": "code",
   "execution_count": 22,
   "id": "53d81534",
   "metadata": {},
   "outputs": [
    {
     "name": "stdout",
     "output_type": "stream",
     "text": [
      "5\n",
      "1 4 3 5 2\n",
      "NO\n"
     ]
    }
   ],
   "source": [
    "N = int(input())\n",
    "card = list(map(int, input().split()))\n",
    "\n",
    "left, right = 0, N-1\n",
    "\n",
    "for i in range(1, N):\n",
    "    if card[right] != i and card[left] != i:\n",
    "        print(\"NO\")\n",
    "        break\n",
    "    elif card[right] == i:\n",
    "        right -= 1\n",
    "    elif card[left] == i:\n",
    "        left += 1\n",
    "else: print(\"YES\")"
   ]
  },
  {
   "cell_type": "code",
   "execution_count": null,
   "id": "ab8fa231",
   "metadata": {},
   "outputs": [],
   "source": []
  }
 ],
 "metadata": {
  "kernelspec": {
   "display_name": "Python 3 (ipykernel)",
   "language": "python",
   "name": "python3"
  },
  "language_info": {
   "codemirror_mode": {
    "name": "ipython",
    "version": 3
   },
   "file_extension": ".py",
   "mimetype": "text/x-python",
   "name": "python",
   "nbconvert_exporter": "python",
   "pygments_lexer": "ipython3",
   "version": "3.9.13"
  }
 },
 "nbformat": 4,
 "nbformat_minor": 5
}
