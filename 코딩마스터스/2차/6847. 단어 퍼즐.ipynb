{
 "cells": [
  {
   "cell_type": "markdown",
   "id": "8d044689",
   "metadata": {},
   "source": [
    "## 문제\n",
    "길이가 3인 단어 6개가 주어집니다. 이 단어들을 이용해 3 x 3 크기의 낱말 퍼즐을 만드는 프로그램을 작성해 주세요.\n",
    "\n",
    "출력한 3 x 3 크기의 낱말 퍼즐에는 가로로 읽은 단어 3개와, 세로로 읽은 단어 3개가 입력으로 주어진 6개의 단어와 일대일로 매칭되어야 합니다.\n",
    "\n",
    "### 예제 입력1\n",
    "ABC\\\n",
    "BCE\\\n",
    "FIK\\\n",
    "ABF\\\n",
    "BCI\\\n",
    "CEK\n",
    "\n",
    "### 예제 출력1\n",
    "ABC\\\n",
    "BCE\\\n",
    "FIK\n",
    "\n",
    "### 예제 입력2\n",
    "ALK\\\n",
    "KKJ\\\n",
    "BIJ\\\n",
    "IJK\\\n",
    "JLI\\\n",
    "IAB\n",
    "\n",
    "### 예제 출력2\n",
    "IAB\\\n",
    "JLI\\\n",
    "KKJ\n",
    "\n",
    "### 입력값 설명\n",
    "길이가 3인 단어 6개가 주어집니다. 단어는 알파벳 대문자로만 이루어져 있습니다.\n",
    "\n",
    "### 출력값 설명\n",
    "단어 6개를 이용해 만들 수 있는 3 x 3크기의 낱말 퍼즐을 출력합니다.\n",
    "나올 수 있는 답이 여러개라면, 답을 가로 방향으로 읽어 나갈 때, 사전순으로 가장 빠른 것을 출력합니다."
   ]
  },
  {
   "cell_type": "code",
   "execution_count": 6,
   "id": "f2dec6b7",
   "metadata": {},
   "outputs": [
    {
     "name": "stdout",
     "output_type": "stream",
     "text": [
      "ABC\n",
      "BCE\n",
      "FIK\n",
      "ABF\n",
      "BCI\n",
      "CEK\n",
      "['ABC', 'BCE', 'FIK', 'ABF', 'BCI', 'CEK']\n",
      "[('ABC', 'BCE', 'FIK'), ('ABC', 'BCE', 'ABF'), ('ABC', 'BCE', 'BCI'), ('ABC', 'BCE', 'CEK'), ('ABC', 'FIK', 'ABF'), ('ABC', 'FIK', 'BCI'), ('ABC', 'FIK', 'CEK'), ('ABC', 'ABF', 'BCI'), ('ABC', 'ABF', 'CEK'), ('ABC', 'BCI', 'CEK'), ('BCE', 'FIK', 'ABF'), ('BCE', 'FIK', 'BCI'), ('BCE', 'FIK', 'CEK'), ('BCE', 'ABF', 'BCI'), ('BCE', 'ABF', 'CEK'), ('BCE', 'BCI', 'CEK'), ('FIK', 'ABF', 'BCI'), ('FIK', 'ABF', 'CEK'), ('FIK', 'BCI', 'CEK'), ('ABF', 'BCI', 'CEK')]\n"
     ]
    }
   ],
   "source": [
    "import itertools\n",
    "word = []\n",
    "for i in range(6):\n",
    "    word.append(input())\n",
    "\n",
    "print(word)\n",
    "nCr = itertools.combinations(word, 3)\n",
    "print(list(nCr))"
   ]
  },
  {
   "cell_type": "code",
   "execution_count": null,
   "id": "4c622d25",
   "metadata": {},
   "outputs": [],
   "source": []
  }
 ],
 "metadata": {
  "kernelspec": {
   "display_name": "Python 3 (ipykernel)",
   "language": "python",
   "name": "python3"
  },
  "language_info": {
   "codemirror_mode": {
    "name": "ipython",
    "version": 3
   },
   "file_extension": ".py",
   "mimetype": "text/x-python",
   "name": "python",
   "nbconvert_exporter": "python",
   "pygments_lexer": "ipython3",
   "version": "3.9.13"
  }
 },
 "nbformat": 4,
 "nbformat_minor": 5
}
