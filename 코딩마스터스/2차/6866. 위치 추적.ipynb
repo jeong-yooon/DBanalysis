{
 "cells": [
  {
   "cell_type": "markdown",
   "id": "36102d3e",
   "metadata": {},
   "source": [
    "## 문제\n",
    "가영이는 강아지를 키우고 있습니다. \n",
    "\n",
    "가영이는 강아지를 잃어버릴 것에 대비해서 목줄에 위치 추적기를 만들어 달았습니다. \n",
    "\n",
    "가영이는 이 위치 추적기를 테스트해보고 싶습니다.\n",
    "\n",
    "위치 추적기는 강아지가 달리는 방향을 감지하고 그렇게 얼마나 이동했는지 알 수 있습니다.\n",
    "\n",
    "다시 말해서 움직인 방향과 이동한 거리를 가영이의 개인인 서버로 보냅니다. \n",
    "\n",
    "위치 추적기는 북쪽을 1, 동쪽을 2, 남쪽을 3, 서쪽을 4로 저장합니다.\n",
    "\n",
    "그리고 이동한 거리는 임의의 자연수로 저장합니다.\n",
    "\n",
    "만약 가영이의 서버로 보내진 데이터가 (1, 3), (2, 5)라면 강아지는 북쪽으로 3, 동쪽으로 5만큼 이동한 것입니다. \n",
    "\n",
    "가영이의 서버에 들어온 데이터가 주어집니다. \n",
    "\n",
    "가영이의 강아지가 가영이의 집으로부터 어느 방향으로 얼마나 떨어져 있는지 알아내는 프로그램을 작성해주세요.\n",
    "\n",
    "\n",
    "### 예제 입력1\n",
    "2\\\n",
    "1 3\\\n",
    "2 5\n",
    "\n",
    "### 예제 출력1\n",
    "3 5\n",
    "\n",
    "### 예제 입력2\n",
    "5\\\n",
    "1 6\\\n",
    "3 3\\\n",
    "4 9\\\n",
    "2 11\\\n",
    "3 9\n",
    "\n",
    "### 예제 출력2\n",
    "-6 2\n",
    "\n",
    "### 입력값 설명\n",
    "\n",
    "첫 번째 줄에 가영이의 서버에 들어온 데이터의 갯수 N이 주어집니다. (1 ≤ N ≤ 50)\n",
    "두 번째 줄부터 위치 추적기로부터 받은 데이터가 \"D X\"꼴로 주어집니다.\n",
    "여기서 D는 방향을 의미하고, X는 거리를 의미합니다. (1 ≤ D ≤ 4, 1 ≤ X ≤ 50)\n",
    "\n",
    "### 출력값 설명\n",
    "\n",
    "첫 번째 줄에 두 개의 정수 A, B를 공백으로 구분하여 출력합니다.\n",
    "이는 강아지가 가영이의 집으로부터 북쪽으로 A, 동쪽으로 B만큼 떨어져 있음을 의미합니다.\n",
    "만약 A 또는 B가 음수일 경우 각각 가영이의 집으로부터 남쪽으로 -A, 서쪽으로 -B만큼 떨어져 있음을 의미합니다."
   ]
  },
  {
   "cell_type": "markdown",
   "id": "1728d7be",
   "metadata": {},
   "source": []
  },
  {
   "cell_type": "code",
   "execution_count": 3,
   "id": "7d841089",
   "metadata": {},
   "outputs": [
    {
     "name": "stdout",
     "output_type": "stream",
     "text": [
      "5\n",
      "1 6\n",
      "3 3\n",
      "4 9\n",
      "2 11\n",
      "3 9\n",
      "-6 2\n"
     ]
    }
   ],
   "source": [
    "N = int(input())\n",
    "arr = []\n",
    "answer = [0, 0]\n",
    "for i in range(N):\n",
    "    arr.append(list(map(int, input().split())))\n",
    "for j in arr:\n",
    "    if j[0] == 1:\n",
    "        answer[0] += j[1]\n",
    "    elif j[0] == 2:\n",
    "        answer[1] += j[1]\n",
    "    elif j[0] == 3:\n",
    "        answer[0] -= j[1]\n",
    "    elif j[0] == 4:\n",
    "        answer[1] -= j[1]\n",
    "print(answer[0], answer[1])"
   ]
  },
  {
   "cell_type": "code",
   "execution_count": null,
   "id": "a970d890",
   "metadata": {},
   "outputs": [],
   "source": []
  }
 ],
 "metadata": {
  "kernelspec": {
   "display_name": "Python 3 (ipykernel)",
   "language": "python",
   "name": "python3"
  },
  "language_info": {
   "codemirror_mode": {
    "name": "ipython",
    "version": 3
   },
   "file_extension": ".py",
   "mimetype": "text/x-python",
   "name": "python",
   "nbconvert_exporter": "python",
   "pygments_lexer": "ipython3",
   "version": "3.9.13"
  }
 },
 "nbformat": 4,
 "nbformat_minor": 5
}
