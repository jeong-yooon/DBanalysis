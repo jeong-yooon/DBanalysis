{
 "cells": [
  {
   "cell_type": "markdown",
   "id": "10f24002",
   "metadata": {},
   "source": [
    "## 문제\n",
    "DNA는 여러분도 잘 알다시피 이중나선구조로 이루어져 있습니다.\n",
    "\n",
    "이런 DNA의 바깥쪽에는 당-인산 골격이 내부 염기를 보호하고 있고, 안쪽에는 염기가 서로 쌍을 이루고 있습니다. \n",
    "\n",
    "안쪽의 염기는 총 4가지 종류가 있고 각각 아데닌(A), 티민(T), 구아닌(G), 사이토신(C)입니다.\n",
    "\n",
    "아데닌은 티민과 한 쌍을 이루고, 구아닌은 사이토신과 한 쌍을 이룹니다.\n",
    "\n",
    "만약 염기사슬의 어느 한 쪽이 ATGGCAT라면 다른 한 쪽은 각각 쌍을 이루는 TACCGTA가 됩니다.\n",
    "\n",
    "입력으로 염기사슬의 어느 한 쪽이 주어질 때, 다른 한 쪽을 출력하는 프로그램을 작성해주세요. \n",
    "\n",
    "\n",
    "### 예제 입력1\n",
    "7\\\n",
    "ATGGCAT\n",
    "\n",
    "### 예제 출력1\n",
    "TACCGTA\n",
    "\n",
    "### 예제 입력2\n",
    "12\\\n",
    "TAATCGTTAGGC\n",
    "\n",
    "### 예제 출력2\n",
    "ATTAGCAATCCG\n",
    "\n",
    "### 입력값 설명\n",
    "첫 번째 줄에 문자열의 길이를 의미하는 자연수 N이 주어집니다. (1 ≤ N ≤ 50)\n",
    "두 번째 줄에 DNA 염기사슬의 어느 한 쪽이 주어집니다.\n",
    "\n",
    "### 출력값 설명\n",
    "첫 번째 줄에 주어진 염기사슬과 대응되는 다른 한 쪽의 염기사슬을 출력합니다."
   ]
  },
  {
   "cell_type": "code",
   "execution_count": 3,
   "id": "deb64dae",
   "metadata": {},
   "outputs": [
    {
     "name": "stdout",
     "output_type": "stream",
     "text": [
      "7\n",
      "ATGGCAT\n",
      "TACCGTA"
     ]
    }
   ],
   "source": [
    "N = int(input())\n",
    "dna = list(input())\n",
    "answer = []\n",
    "for i in dna:\n",
    "    if i == 'A':\n",
    "        answer.append('T')\n",
    "    elif i == 'T':\n",
    "        answer.append('A')\n",
    "    elif i == 'C':\n",
    "        answer.append('G')\n",
    "    elif i == 'G':\n",
    "        answer.append('C')\n",
    "for j in answer:\n",
    "    print(j, end='')"
   ]
  },
  {
   "cell_type": "code",
   "execution_count": null,
   "id": "c61306f9",
   "metadata": {},
   "outputs": [],
   "source": []
  }
 ],
 "metadata": {
  "kernelspec": {
   "display_name": "Python 3 (ipykernel)",
   "language": "python",
   "name": "python3"
  },
  "language_info": {
   "codemirror_mode": {
    "name": "ipython",
    "version": 3
   },
   "file_extension": ".py",
   "mimetype": "text/x-python",
   "name": "python",
   "nbconvert_exporter": "python",
   "pygments_lexer": "ipython3",
   "version": "3.9.13"
  }
 },
 "nbformat": 4,
 "nbformat_minor": 5
}
