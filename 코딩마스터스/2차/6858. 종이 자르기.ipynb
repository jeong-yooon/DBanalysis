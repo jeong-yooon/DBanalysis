{
 "cells": [
  {
   "cell_type": "markdown",
   "id": "45aad2e7",
   "metadata": {},
   "source": [
    "## 문제\n",
    "가영이가 직사각형 모양 종이를 하나 가지고 있습니다.\n",
    "\n",
    "여기서 가영이가 모서리를 따라 점을 두 개 찍었습니다. \n",
    "\n",
    "이제 가영이는 이 두 점을 잇는 직선을 따라 가위로 종이를 자르려고 시도할 것입니다. \n",
    "\n",
    "가영이가 찍은 두 점의 위치에 따라 종이가 두 조각으로 잘릴 수도 있고, 그렇지 않을 수도 있습니다. \n",
    "\n",
    "가영이가 가져온 종이의 가로길이와 세로길이, 가영이가 찍은 두 점의 위치가 주어집니다. \n",
    "\n",
    "가영이가 문제의 설명대로 종이를 자르려고 시도했을 때 종이가 두 조각으로 잘릴 지 판단하는 프로그램을 작성해주세요. \n",
    "\n",
    "### 예제 입력1\n",
    "10 20\\\n",
    "0 5\\\n",
    "15 0\n",
    "\n",
    "### 예제 출력1\n",
    "YES\n",
    "\n",
    "### 예제 입력2\n",
    "10 20\\\n",
    "5 10\\\n",
    "7 10\n",
    "\n",
    "### 예제 출력2\n",
    "NO\n",
    "\n",
    "### 입력값 설명\n",
    "첫 번째 줄에 직사각형의 높이를 의미하는 H와 너비를 의미하는 W가 공백으로 구분되어 주어집니다.\n",
    "(1 ≤ H, W ≤ 100)\n",
    "\n",
    "두 번째 줄에 가영이가 첫번째로 찍은 점의 위치를 의미하는 정수 x1, y1이 주어집니다.\n",
    "이는 왼쪽 위 꼭짓점에서 왼쪽에서 x1만큼, 위에서 y1만큼 떨어진 위치임을 의미합니다.\n",
    "\n",
    "세 번째 줄에 가영이가 두번째로 찍은 점의 위치를 의미하는 정수 x2, y2가 주어집니다.\n",
    "이 역시 왼쪽 위 꼭짓점에서 왼쪽에서 x2만큼, 위에서 y2만큼 떨어진 위치임을 의미합니다.\n",
    "\n",
    "주어지는 점은 항상 직사각형의 모서리 위의 점임이 보장됩니다.\n",
    "(0 ≤ x1, x2 ≤ W, 0 ≤ y1, y2 ≤ H)\n",
    "출력값 설명\n",
    "\n",
    "만약 두 점을 잇는 직선을 따라 종이를 자르려고 시도했을 때, 두 조각으로 나뉜다면 \"YES\"를, 그렇지 않다면 \"NO\"를 출력합니다."
   ]
  },
  {
   "cell_type": "markdown",
   "id": "4e44053d",
   "metadata": {},
   "source": [
    "#### 풀이\n",
    "- 각 점은 서로 다른 모서리에 있어야 한다."
   ]
  },
  {
   "cell_type": "code",
   "execution_count": 2,
   "id": "508daa15",
   "metadata": {},
   "outputs": [
    {
     "name": "stdout",
     "output_type": "stream",
     "text": [
      "10 20\n",
      "5 10\n",
      "7 10\n",
      "NO\n"
     ]
    }
   ],
   "source": [
    "H, W = map(int, input().split())\n",
    "x1, y1 = map(int, input().split())\n",
    "x2, y2 = map(int, input().split())\n",
    "\n",
    "if 0 == x1 == x2 or W == x1 == x2 or 0 == y1 == y2 or H == y1 == y2:\n",
    "    print('NO')\n",
    "else:\n",
    "    print('YES')"
   ]
  },
  {
   "cell_type": "code",
   "execution_count": null,
   "id": "9b6b1929",
   "metadata": {},
   "outputs": [],
   "source": []
  }
 ],
 "metadata": {
  "kernelspec": {
   "display_name": "Python 3 (ipykernel)",
   "language": "python",
   "name": "python3"
  },
  "language_info": {
   "codemirror_mode": {
    "name": "ipython",
    "version": 3
   },
   "file_extension": ".py",
   "mimetype": "text/x-python",
   "name": "python",
   "nbconvert_exporter": "python",
   "pygments_lexer": "ipython3",
   "version": "3.9.13"
  }
 },
 "nbformat": 4,
 "nbformat_minor": 5
}
