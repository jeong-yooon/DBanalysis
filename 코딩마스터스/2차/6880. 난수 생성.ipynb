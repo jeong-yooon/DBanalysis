{
 "cells": [
  {
   "cell_type": "markdown",
   "id": "31fdf125",
   "metadata": {},
   "source": [
    "## 문제\n",
    "난수란 무작위로 만들어진 수를 뜻합니다. 컴퓨터로 난수를 만드는 방법에는 여러가지가 있지만, 우리는 다음과 같은 방법을 사용하여 난수를 만들어 봅시다.\n",
    "\n",
    "1. 임의의 시드값 X를 준비합니다.\n",
    "\n",
    "2. X에 A를 곱하고 B를 더한 다음, C로 나눈 나머지를 취합니다. 이 값을 다시 X라고 합니다.\n",
    "\n",
    "3. 이를 N번 반복했을 때, X에 저장된 수가 우리가 만든 난수입니다.\n",
    "\n",
    "X, A, B, C, N가 주어졌을 때, 어떤 수가 생성되는지 계산하는 프로그램을 작성해 주세요.\n",
    "\n",
    "\n",
    "### 예제 입력1\n",
    "\n",
    "3 7 2 13 5\n",
    "\n",
    "### 예제 출력1\n",
    "\n",
    "6\n",
    "\n",
    "### 예제 입력2\n",
    "\n",
    "2 9 11 101 100\n",
    "\n",
    "### 예제 출력2\n",
    "\n",
    "2\n",
    "\n",
    "### 입력값 설명\n",
    "\n",
    "첫째 줄에 X, A, B, C, N이 공백으로 구분되어 주어집니다. (1 ≤ X, A, B, C, N ≤ 1,000)\n",
    "\n",
    "### 출력값 설명\n",
    "\n",
    "생성되는 수를 출력합니다."
   ]
  },
  {
   "cell_type": "markdown",
   "id": "30200e02",
   "metadata": {},
   "source": [
    "#### 풀이\n",
    "- 문제대로 반복문을 실행한다."
   ]
  },
  {
   "cell_type": "code",
   "execution_count": 2,
   "id": "9b25d565",
   "metadata": {},
   "outputs": [
    {
     "name": "stdout",
     "output_type": "stream",
     "text": [
      "2 9 11 101 100\n",
      "2\n"
     ]
    }
   ],
   "source": [
    "X, A, B, C, N = map(int, input().split())\n",
    "for i in range(N):\n",
    "    X = ((X * A) + B) % C\n",
    "print(X)"
   ]
  },
  {
   "cell_type": "code",
   "execution_count": null,
   "id": "d0f1e89a",
   "metadata": {},
   "outputs": [],
   "source": []
  }
 ],
 "metadata": {
  "kernelspec": {
   "display_name": "Python 3 (ipykernel)",
   "language": "python",
   "name": "python3"
  },
  "language_info": {
   "codemirror_mode": {
    "name": "ipython",
    "version": 3
   },
   "file_extension": ".py",
   "mimetype": "text/x-python",
   "name": "python",
   "nbconvert_exporter": "python",
   "pygments_lexer": "ipython3",
   "version": "3.9.13"
  }
 },
 "nbformat": 4,
 "nbformat_minor": 5
}
