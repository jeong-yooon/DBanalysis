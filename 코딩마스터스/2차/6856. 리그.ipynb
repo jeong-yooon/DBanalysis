{
 "cells": [
  {
   "cell_type": "markdown",
   "id": "17081b51",
   "metadata": {},
   "source": [
    "## 문제\n",
    "리그전은 스포츠 경기에서 각 팀이 다른 팀과 모두 한 번씩의 경기를 치르는 경기 방식입니다.\n",
    "\n",
    "4개의 팀이 리그전을 진행하려고 합니다. 각 경기의 결과에 따라, 이긴 팀은 승점 3점, 비긴 팀은 승점 1점, 진 팀은 승점 0점을 얻습니다.\n",
    "\n",
    "모든 경기가 끝난 다음, 각 팀의 승점을 출력하는 프로그램을 작성하세요.\n",
    "\n",
    "\n",
    "### 예제 입력1\n",
    "0 3 2 5\\\n",
    "1 0 2 4\\\n",
    "2 2 0 1\\\n",
    "3 1 4 0\n",
    "\n",
    "### 예제 출력1\n",
    "7 4 2 3\n",
    "\n",
    "### 예제 입력2\n",
    "0 1 1 1\\\n",
    "1 0 1 1\\\n",
    "1 1 0 1\\\n",
    "1 1 1 0\n",
    "\n",
    "### 예제 출력2\n",
    "3 3 3 3\n",
    "\n",
    "### 입력값 설명\n",
    "4개의 줄에 걸쳐, 각 줄 4개의 수가 공백으로 구분되어 주어집니다.\n",
    "i번째 줄의 j번째 수는 i번 팀이 j번 팀과 경기를 한 결과 i번 팀이 얻은 점수를 뜻합니다.\n",
    "점수는 0이상 10이하의 정수입니다. i번째 줄의 i번째 수는 항상 0입니다.\n",
    "\n",
    "### 출력값 설명\n",
    "1번 팀, 2번 팀, 3번 팀, 4번 팀의 승점을 공백으로 구분하여 출력합니다."
   ]
  },
  {
   "cell_type": "markdown",
   "id": "5877dbc7",
   "metadata": {},
   "source": []
  },
  {
   "cell_type": "code",
   "execution_count": null,
   "id": "6897394f",
   "metadata": {},
   "outputs": [],
   "source": []
  }
 ],
 "metadata": {
  "kernelspec": {
   "display_name": "Python 3 (ipykernel)",
   "language": "python",
   "name": "python3"
  },
  "language_info": {
   "codemirror_mode": {
    "name": "ipython",
    "version": 3
   },
   "file_extension": ".py",
   "mimetype": "text/x-python",
   "name": "python",
   "nbconvert_exporter": "python",
   "pygments_lexer": "ipython3",
   "version": "3.9.13"
  }
 },
 "nbformat": 4,
 "nbformat_minor": 5
}
