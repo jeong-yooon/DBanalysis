{
 "cells": [
  {
   "cell_type": "markdown",
   "id": "834b3552",
   "metadata": {},
   "source": [
    "## 문제\n",
    "N개의 나무가 일렬로 나열되어 있습니다. 각 나무에는 나무가 서있는 순서대로 1번부터 N 번까지 번호가 붙어있습니다. i번 나무의 높이를 h_i로 표기합니다.\n",
    "\n",
    "철수는 정면에서 1번 나무를 보고 있습니다. 2 ≤ a ≤ N일 때, 철수가 a번 나무를 보려면 1 ≤ b < a인 모든 b에 대해 h_b < h_a가 성립해야 합니다. a, b는 양의 정수입니다.\n",
    "\n",
    "예를 들어 N = 5이고 나무들의 높이가 1, 3, 2, 4, 4라고 가정하겠습니다. 이 경우 철수의 눈에 보이는 나무들의 번호는 1번, 2번, 4번입니다. h_2 > h_3이므로 3번 나무는 볼 수 없습니다. 마찬가지로 h_4 = h_5이므로 5번 나무는 볼 수 없습니다.\n",
    "\n",
    "나무들의 높이가 주어졌을 때, 철수가 볼 수 있는 나무들의 개수를 구하는 프로그램을 작성해주세요.\n",
    "\n",
    "\n",
    "### 예제 입력1\n",
    "5\\\n",
    "1 3 2 4 4\n",
    "\n",
    "### 예제 출력1\n",
    "3\n",
    "\n",
    "### 예제 입력2\n",
    "3\\\n",
    "3 2 1\n",
    "\n",
    "### 예제 출력2\n",
    "\n",
    "1\n",
    "\n",
    "### 입력값 설명\n",
    "첫째 줄에 나무의 개수 N이 주어집니다. (1 ≤ N ≤ 100)\n",
    "\n",
    "둘째 줄에 나무들의 높이 h_i가 주어집니다. (1 ≤ h_i ≤ 10,000)\n",
    "\n",
    "### 출력값 설명\n",
    "첫째 줄에 철수가 볼 수 있는 나무들의 개수를 출력합니다."
   ]
  },
  {
   "cell_type": "code",
   "execution_count": 6,
   "id": "0c09f882",
   "metadata": {},
   "outputs": [
    {
     "name": "stdout",
     "output_type": "stream",
     "text": [
      "5\n",
      "1 3 2 4 4\n",
      "3\n"
     ]
    }
   ],
   "source": [
    "N = int(input())\n",
    "arr = list(map(int, input().split()))\n",
    "count = 0\n",
    "max_num = 0\n",
    "for i in arr:\n",
    "    if (max_num < i):\n",
    "        count += 1\n",
    "    max_num = max(max_num, i)\n",
    "print(count)"
   ]
  },
  {
   "cell_type": "code",
   "execution_count": null,
   "id": "1713d1cb",
   "metadata": {},
   "outputs": [],
   "source": []
  }
 ],
 "metadata": {
  "kernelspec": {
   "display_name": "Python 3 (ipykernel)",
   "language": "python",
   "name": "python3"
  },
  "language_info": {
   "codemirror_mode": {
    "name": "ipython",
    "version": 3
   },
   "file_extension": ".py",
   "mimetype": "text/x-python",
   "name": "python",
   "nbconvert_exporter": "python",
   "pygments_lexer": "ipython3",
   "version": "3.9.13"
  }
 },
 "nbformat": 4,
 "nbformat_minor": 5
}
