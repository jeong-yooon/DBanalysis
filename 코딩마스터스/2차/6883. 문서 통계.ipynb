{
 "cells": [
  {
   "cell_type": "markdown",
   "id": "68f4783c",
   "metadata": {},
   "source": [
    "## 문제\n",
    "많은 워드프로세서들은 문서에 대한 통계를 제공합니다. 한 줄 분량의 문서가 주어졌을 때, 이 문서에 대한 통계를 출력하는 프로그램을 작성해 주세요.\n",
    "\n",
    "### 예제 입력1\n",
    "Coding Masters\n",
    "\n",
    "### 예제 출력1\n",
    "14\n",
    "13\n",
    "2\n",
    "\n",
    "### 예제 입력2\n",
    "A B  C D   E\n",
    "\n",
    "### 예제 출력2\n",
    "12\n",
    "5\n",
    "5\n",
    "\n",
    "### 입력값 설명\n",
    "문서의 내용이 주어집니다. 문서는 100자 이내의 문자열이며, 알파벳 대문자와 소문자, 공백으로만 이루어져 있습니다.\n",
    "문자열의 맨 처음과 맨 마지막 글자는 공백 문자가 아닙니다.\n",
    "\n",
    "### 출력값 설명\n",
    "첫째 줄에 공백을 포함한 글자 수를 출력합니다.\n",
    "둘째 줄에 공백을 제외한 글자 수를 출력합니다.\n",
    "셋째 줄에 단어의 수를 출력합니다."
   ]
  },
  {
   "cell_type": "markdown",
   "id": "6e0df163",
   "metadata": {},
   "source": [
    "#### 풀이\n",
    "1. 공백 포함 전체 글자 수\n",
    "2. 공백 제외 전체 글자 수\n",
    "3. 단어의 수"
   ]
  },
  {
   "cell_type": "code",
   "execution_count": 5,
   "id": "76f0cb21",
   "metadata": {},
   "outputs": [
    {
     "name": "stdout",
     "output_type": "stream",
     "text": [
      "Coding Masters\n",
      "14\n",
      "13\n",
      "2\n"
     ]
    }
   ],
   "source": [
    "N = input()\n",
    "print(len(N))\n",
    "print(len(N.replace(' ', '')))\n",
    "print(len(N.split()))"
   ]
  },
  {
   "cell_type": "code",
   "execution_count": null,
   "id": "78682b05",
   "metadata": {},
   "outputs": [],
   "source": []
  }
 ],
 "metadata": {
  "kernelspec": {
   "display_name": "Python 3 (ipykernel)",
   "language": "python",
   "name": "python3"
  },
  "language_info": {
   "codemirror_mode": {
    "name": "ipython",
    "version": 3
   },
   "file_extension": ".py",
   "mimetype": "text/x-python",
   "name": "python",
   "nbconvert_exporter": "python",
   "pygments_lexer": "ipython3",
   "version": "3.9.13"
  }
 },
 "nbformat": 4,
 "nbformat_minor": 5
}
