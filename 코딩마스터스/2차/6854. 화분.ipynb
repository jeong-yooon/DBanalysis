{
 "cells": [
  {
   "cell_type": "markdown",
   "id": "cd0187d4",
   "metadata": {},
   "source": [
    "## 문제\n",
    "꽃을 좋아하는 동욱이는 N×M 격자 베란다의 가장자리에 모두 화분을 두고자 합니다.\n",
    "\n",
    "예를 들어 베란다가 3×5 모양이라면 다음과 같이 12개의 화분을 둡니다.\n",
    "\n",
    "#####\n",
    "\n",
    "#RRR#\n",
    "\n",
    "#####\n",
    "\n",
    "#: 화분\n",
    "\n",
    "R: 빈 공간\n",
    "\n",
    "베란다의 크기가 주어질 때, 동욱이가 필요한 화분의 수를 출력하는 프로그램을 작성해 주세요.\n",
    "\n",
    "\n",
    "### 예제 입력1\n",
    "3 5\n",
    "\n",
    "### 예제 출력1\n",
    "12\n",
    "### 예제 입력2\n",
    "1 5\n",
    "\n",
    "### 예제 출력2\n",
    "5\n",
    "\n",
    "### 입력값 설명\n",
    "\n",
    "첫째 줄에 자연수 N과 M이 공백으로 구분되어 주어집니다.(1 ≤ N, M ≤ 1,000,000)\n",
    "\n",
    "### 출력값 설명\n",
    "\n",
    "동욱이가 필요한 화분의 수를 출력하세요."
   ]
  },
  {
   "cell_type": "code",
   "execution_count": 4,
   "id": "470e4c35",
   "metadata": {},
   "outputs": [
    {
     "name": "stdout",
     "output_type": "stream",
     "text": [
      "1 5\n",
      "5\n"
     ]
    }
   ],
   "source": [
    "N, M = map(int, input().split())\n",
    "answer = 0\n",
    "\n",
    "if N <= 2 or M <= 2:\n",
    "    answer = N*M\n",
    "else:\n",
    "    answer = N*M - (N-2)*(M-2)\n",
    "    \n",
    "print(answer)"
   ]
  },
  {
   "cell_type": "code",
   "execution_count": null,
   "id": "33b16552",
   "metadata": {},
   "outputs": [],
   "source": []
  }
 ],
 "metadata": {
  "kernelspec": {
   "display_name": "Python 3 (ipykernel)",
   "language": "python",
   "name": "python3"
  },
  "language_info": {
   "codemirror_mode": {
    "name": "ipython",
    "version": 3
   },
   "file_extension": ".py",
   "mimetype": "text/x-python",
   "name": "python",
   "nbconvert_exporter": "python",
   "pygments_lexer": "ipython3",
   "version": "3.9.13"
  }
 },
 "nbformat": 4,
 "nbformat_minor": 5
}
