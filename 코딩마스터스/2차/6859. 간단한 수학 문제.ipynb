{
 "cells": [
  {
   "cell_type": "markdown",
   "id": "362c7576",
   "metadata": {},
   "source": [
    "## 문제\n",
    "여기 간단한 수학 문제가 있습니다. 여러분들은 이 수학 문제를 푸는 프로그램을 작성해야 합니다.\n",
    "\n",
    "어떤 정수 N에 대해서, N 이상의 정수 K보다 크지 않은 N의 배수의 최댓값을 구하는 프로그램을 작성해주세요.\n",
    "\n",
    "예를 들어, N = 5이고 K = 18이면, K보다 크지 않은 N의 배수의 최댓값은 15입니다.\n",
    "\n",
    "\n",
    "### 예제 입력1\n",
    "5 18\n",
    "\n",
    "### 예제 출력1\n",
    "15\n",
    "\n",
    "### 예제 입력2\n",
    "110 67747\n",
    "\n",
    "### 예제 출력2\n",
    "67650\n",
    "\n",
    "### 입력값 설명\n",
    "N과 K가 공백으로 구분되어 주어집니다. (1 ≤ N ≤ K ≤ 1,000,000)\n",
    "\n",
    "### 출력값 설명\n",
    "K보다 크지 않은 N의 배수의 최댓값을 출력하세요."
   ]
  },
  {
   "cell_type": "code",
   "execution_count": 1,
   "id": "2b4f48e4",
   "metadata": {},
   "outputs": [
    {
     "name": "stdout",
     "output_type": "stream",
     "text": [
      "5 18\n",
      "15\n"
     ]
    }
   ],
   "source": [
    "N, K = map(int, input().split())\n",
    "answer = N * (K // N)\n",
    "print(answer)"
   ]
  },
  {
   "cell_type": "code",
   "execution_count": null,
   "id": "a316fd9c",
   "metadata": {},
   "outputs": [],
   "source": []
  }
 ],
 "metadata": {
  "kernelspec": {
   "display_name": "Python 3 (ipykernel)",
   "language": "python",
   "name": "python3"
  },
  "language_info": {
   "codemirror_mode": {
    "name": "ipython",
    "version": 3
   },
   "file_extension": ".py",
   "mimetype": "text/x-python",
   "name": "python",
   "nbconvert_exporter": "python",
   "pygments_lexer": "ipython3",
   "version": "3.9.13"
  }
 },
 "nbformat": 4,
 "nbformat_minor": 5
}
