{
 "cells": [
  {
   "cell_type": "markdown",
   "id": "6216e0cd",
   "metadata": {},
   "source": [
    "## 문제\n",
    "어떤 배열 A가 있습니다. 이 배열의 평준화 정도를 측정하는 방법은 아래와 같습니다.\n",
    "\n",
    "A의 평준화 정도 = (A에서 가장 큰 값) - (A에서 가장 작은 값)\n",
    "\n",
    "당신은 이 배열의 원소를 딱 하나 제거할 수 있습니다. 이 연산을 이용하여 이 배열의 평준화 정도를 최소화한 후, 배열의 평준화 정도를 출력하는 프로그램을 작성해 주세요.\n",
    "\n",
    "\n",
    "### 예제 입력1\n",
    "4\\\n",
    "6 3 6 8\n",
    "\n",
    "### 예제 출력1\n",
    "2\n",
    "\n",
    "### 예제 입력2\n",
    "4\\\n",
    "6 5 6 8\n",
    "\n",
    "### 예제 출력2\n",
    "1\n",
    "\n",
    "### 입력값 설명\n",
    "입력의 첫 번째 줄에는 배열의 크기 N이 주어집니다. (2 ≤ N ≤ 100)\n",
    "\n",
    "입력의 두 번째 줄에는 배열의 원소가 1 이상 1,000 이하의 수로 공백으로 구분되어 주어집니다.\n",
    "\n",
    "### 출력값 설명\n",
    "배열의 평준화 정도를 최소화한 후, 배열의 평준화 정도를 출력하세요."
   ]
  },
  {
   "cell_type": "code",
   "execution_count": 8,
   "id": "4b758ae6",
   "metadata": {},
   "outputs": [
    {
     "name": "stdout",
     "output_type": "stream",
     "text": [
      "4\n",
      "6 3 6 8\n",
      "2\n"
     ]
    }
   ],
   "source": [
    "N = int(input())\n",
    "A = list(map(int, input().split()))\n",
    "B = A.copy()\n",
    "answer = 100000000\n",
    "\n",
    "# 깊은 복사 사용하기\n",
    "for i in range(N):\n",
    "    del B[i]\n",
    "    answer = min(answer, max(B) - min(B))\n",
    "    B = A.copy()\n",
    "print(answer)"
   ]
  },
  {
   "cell_type": "code",
   "execution_count": null,
   "id": "658cb86e",
   "metadata": {},
   "outputs": [],
   "source": []
  }
 ],
 "metadata": {
  "kernelspec": {
   "display_name": "Python 3 (ipykernel)",
   "language": "python",
   "name": "python3"
  },
  "language_info": {
   "codemirror_mode": {
    "name": "ipython",
    "version": 3
   },
   "file_extension": ".py",
   "mimetype": "text/x-python",
   "name": "python",
   "nbconvert_exporter": "python",
   "pygments_lexer": "ipython3",
   "version": "3.9.13"
  }
 },
 "nbformat": 4,
 "nbformat_minor": 5
}
