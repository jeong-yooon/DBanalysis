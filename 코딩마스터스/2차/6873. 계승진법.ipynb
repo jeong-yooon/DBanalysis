{
 "cells": [
  {
   "cell_type": "markdown",
   "id": "4630bfa1",
   "metadata": {},
   "source": [
    "## 문제\n",
    "계승진법이란 이진법과 더불어 자연수를 표기하는 또 다른 표기법입니다.\n",
    "\n",
    "어떤 자연수 N의 계승진법 표현은 다음과 같이 구할 수 있습니다.\n",
    "\n",
    "1. N을 1로 나누고, 나눈 나머지를 기록합니다.\n",
    "\n",
    "2. 나눈 몫을 2로 나누고, 해당 나머지를 기록의 왼쪽에 덧붙여 기록합니다.\n",
    "\n",
    "3. 나눈 몫을 3으로 나누고, 해당 나머지를 기록의 왼쪽에 덧붙여 기록합니다.\n",
    "\n",
    "4. 나눈 몫을 4로 나누고, 해당 나머지를 기록의 왼쪽에 덧붙여 기록합니다.\n",
    "\n",
    "... 이와 같은 과정을 몫이 0이 될 때까지 반복합니다.\n",
    "\n",
    "예를들어 35의 계승진법 표현을 구해봅시다.\n",
    "\n",
    "1. 35를 1로 나누면 나머지가 0이고 몫이 35입니다. 현재까지의 기록은 0입니다.\n",
    "\n",
    "2. 35를 2로 나누면 나머지가 1이고 몫이 17입니다. 현재까지의 기록은 10입니다.\n",
    "\n",
    "3. 17을 3으로 나누면 나머지가 2이고 몫이 5입니다. 현재까지의 기록은 210입니다.\n",
    "\n",
    "4. 5를 4로 나누면 나머지가 1이고 몫이 1입니다. 현재까지의 기록은 1210입니다.\n",
    "\n",
    "5. 1을 5로 나누면 나머지가 1이고 몫이 0입니다. 현재까지의 기록은 11210입니다.\n",
    "\n",
    "몫이 0이 되었으므로 더이상 나누지 않습니다. 35의 계승진법은 11210입니다.\n",
    "\n",
    "자연수 N이 주어질 때 이 수의 계승진법 표현을 출력하는 프로그램을 작성해 주세요.\n",
    "\n",
    "\n",
    "### 예제 입력1\n",
    "\n",
    "35\n",
    "\n",
    "### 예제 출력1\n",
    "\n",
    "11210\n",
    "\n",
    "### 예제 입력2\n",
    "\n",
    "156\n",
    "\n",
    "### 예제 출력2\n",
    "\n",
    "112000\n",
    "\n",
    "### 입력값 설명\n",
    "\n",
    "첫째 줄에 자연수 N이 주어집니다.(1 ≤ N ≤ 1,000,000,000)\n",
    "\n",
    "### 출력값 설명\n",
    "\n",
    "자연수 N의 계승진법 표현을 출력하세요."
   ]
  },
  {
   "cell_type": "markdown",
   "id": "91251e50",
   "metadata": {},
   "source": [
    "#### 풀이"
   ]
  },
  {
   "cell_type": "code",
   "execution_count": 7,
   "id": "fa075600",
   "metadata": {},
   "outputs": [
    {
     "name": "stdout",
     "output_type": "stream",
     "text": [
      "35\n",
      "11210\n"
     ]
    }
   ],
   "source": [
    "N = int(input())\n",
    "answer, M = 0, 0\n",
    "for i in range(1,100000000):\n",
    "    if N == 0:\n",
    "        break\n",
    "    M = N % i\n",
    "    N = N // i\n",
    "    answer += M*(10**(i-1))\n",
    "print(answer)"
   ]
  },
  {
   "cell_type": "code",
   "execution_count": null,
   "id": "6c480bf8",
   "metadata": {},
   "outputs": [],
   "source": []
  }
 ],
 "metadata": {
  "kernelspec": {
   "display_name": "Python 3 (ipykernel)",
   "language": "python",
   "name": "python3"
  },
  "language_info": {
   "codemirror_mode": {
    "name": "ipython",
    "version": 3
   },
   "file_extension": ".py",
   "mimetype": "text/x-python",
   "name": "python",
   "nbconvert_exporter": "python",
   "pygments_lexer": "ipython3",
   "version": "3.9.13"
  }
 },
 "nbformat": 4,
 "nbformat_minor": 5
}
