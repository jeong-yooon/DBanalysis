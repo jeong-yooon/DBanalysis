{
 "cells": [
  {
   "cell_type": "markdown",
   "id": "9dffb6a2",
   "metadata": {},
   "source": [
    "## 문제\n",
    "유치원생 기성이는 선생님께 N개의 블럭을 받았습니다. 수학 영재 기성이는 다음과 같은 조건을 걸고 K개의 탑을 쌓으려고 합니다.\n",
    "\n",
    "1. 모든 탑의 높이는 1 이상이어야 합니다.\n",
    "\n",
    "2. i번째로 쌓은 탑의 높이는 i - 1번째로 쌓은 탑의 높이보다 높아야 합니다. (2 ≤ i ≤ K)\n",
    "\n",
    "3. 모든 블럭을 탑을 쌓는데 사용해 남는 블럭이 없어야 합니다.\n",
    "\n",
    "조건에 맞게 탑을 쌓았다면 선생님이 길이가 K인 수열을 선물해 주십니다. 수열의 i번째 수는 i번째로 쌓은 탑의 높이입니다.\n",
    "\n",
    "기성이가 받을 수 있는 서로 다른 수열이 몇개인지 출력하는 프로그램을 작성해 주세요.\n",
    "\n",
    "\n",
    "### 예제 입력1\n",
    "\n",
    "6\n",
    "3\n",
    "\n",
    "### 예제 출력1\n",
    "\n",
    "1\n",
    "\n",
    "### 예제 입력2\n",
    "\n",
    "15\n",
    "4\n",
    "\n",
    "### 예제 출력2\n",
    "\n",
    "6\n",
    "\n",
    "### 입력값 설명\n",
    "\n",
    "첫째 줄에 블럭의 수 N이 주어집니다. (1 ≤ N ≤ 500)\n",
    "\n",
    "둘째 줄에 쌓아야 할 탑의 수 K가 주어집니다. (1 ≤ K ≤ 4)\n",
    "\n",
    "### 출력값 설명\n",
    "\n",
    "기성이가 선생님으로부터 받을 수 있는 서로 다른 수열이 몇개인지 출력합니다."
   ]
  },
  {
   "cell_type": "markdown",
   "id": "6a56005a",
   "metadata": {},
   "source": [
    "#### 풀이\n",
    "- 기성이가 받은 블럭 개수 = N\n",
    "- 탑 높이 >= 1\n",
    "- i > i-1\n",
    "- 수열의 길이 K"
   ]
  },
  {
   "cell_type": "code",
   "execution_count": null,
   "id": "2bad9d58",
   "metadata": {},
   "outputs": [],
   "source": [
    "N = int(input())\n",
    "K = int(input())\n",
    "\n",
    "top = []\n"
   ]
  }
 ],
 "metadata": {
  "kernelspec": {
   "display_name": "Python 3 (ipykernel)",
   "language": "python",
   "name": "python3"
  },
  "language_info": {
   "codemirror_mode": {
    "name": "ipython",
    "version": 3
   },
   "file_extension": ".py",
   "mimetype": "text/x-python",
   "name": "python",
   "nbconvert_exporter": "python",
   "pygments_lexer": "ipython3",
   "version": "3.9.13"
  }
 },
 "nbformat": 4,
 "nbformat_minor": 5
}
