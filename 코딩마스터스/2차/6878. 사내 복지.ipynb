{
 "cells": [
  {
   "cell_type": "markdown",
   "id": "ab0c084d",
   "metadata": {},
   "source": [
    "## 문제\n",
    "어느 추운 겨울 날, 스타트업의 CEO 기성이는 직원들이 추위에 떨며 근무하는 모습에 마음이 아팠습니다. 사무실에 전열기 등의 난방기구가 전혀 없다는 것을 깨달은 기성이는 급하게 전열기 3개를 주문하였습니다. 이제 세 전열기를 사무실에 적절하게 배치하려고 합니다.\n",
    "\n",
    "사무실은 N행 M열, 총 N × M칸의 격자로 나눌 수 있습니다. 각 칸에는 직원이 최대 한 명 근무하고 있습니다. i행 j열에 위치한 칸과 k행 l열에 위치한 칸 사이의 거리는 (i - k 의 절댓값) + (j - l 의 절댓값)과 같습니다. 직원들은 각 전열기와의 거리의 합 만큼 추위를 느낀다고 합니다. 예를 들어 한 직원이 (1, 1)에서 근무중이고 세 전열기가 (2, 2), (3, 4), (3, 6)에 설치되었다고 합시다. 이 직원은 14(= 2 + 5 + 7)만큼의 추위를 느끼게 됩니다.\n",
    "\n",
    "전열기를 설치할 위치는 직원이 있는 칸이여도 되고, 심지어 이미 다른 전열기가 설치되어 있는 칸이여도 됩니다. 사무실의 크기와 직원들의 위치가 주어지면, 전열기 3개를 설치한 뒤 직원들이 느끼는 추위의 합의 최솟값을 출력하는 프로그램을 작성해 주세요.\n",
    "\n",
    "\n",
    "### 예제 입력1\n",
    "3 3\n",
    "101\n",
    "000\n",
    "101\n",
    "\n",
    "### 예제 출력1\n",
    "24\n",
    "\n",
    "### 예제 입력2\n",
    "3 5\n",
    "00001\n",
    "10001\n",
    "00000\n",
    "\n",
    "### 예제 출력2\n",
    "15\n",
    "\n",
    "### 입력값 설명\n",
    "첫째 줄에 두 정수 N과 M이 공백으로 구분되어 주어집니다. (3 ≤ N ≤ 8, 3 ≤ M ≤ 8)\n",
    "\n",
    "다음 N개에 줄에 걸쳐 각 줄에 M개의 문자가 주어집니다.\n",
    "\n",
    "i + 1번째 줄의 j번째 문자가 1이라면 사무실의 i행 j열에 위치한 칸에 직원이 있다는 뜻이고, 0이라면 없다는 뜻입니다.\n",
    "\n",
    "사무실에 직원이 한 명도 없는 경우는 주어지지 않습니다.\n",
    "\n",
    "### 출력값 설명\n",
    "전열기 3개를 설치한 뒤 직원들이 느끼는 추위의 합의 최솟값을 출력합니다."
   ]
  },
  {
   "cell_type": "markdown",
   "id": "5cbbab31",
   "metadata": {},
   "source": [
    "#### 풀이\n",
    "- 전열기 3개\n",
    "- 사무실 = N x M\n",
    "- 직원이 느끼는 추위 = (i - k 의 절댓값) + (j - l 의 절댓값)에 대한 전열기 3개의 합\n",
    "- 전열기를 설치할 위치는 직원이 있는 칸이여도 되고, 심지어 이미 다른 전열기가 설치되어 있는 칸이여도 된다.\n",
    "- 각 직원에 대한 추위값을 구하고 전열기 경우의 수 중 추위가 가장 적은 경우의 수를 구한다."
   ]
  },
  {
   "cell_type": "code",
   "execution_count": 13,
   "id": "459d668a",
   "metadata": {},
   "outputs": [
    {
     "name": "stdout",
     "output_type": "stream",
     "text": [
      "3 3\n",
      "1 0 1\n",
      "0 0 0\n",
      "1 0 1\n",
      "0\n"
     ]
    }
   ],
   "source": [
    "N, M = map(int, input().split())\n",
    "arr = []\n",
    "for i in range(N):  \n",
    "    arr.append(list(map(int, input().split())))\n",
    "em = [] # 직원위치 저장배열\n",
    "answer = 100000;\n",
    "\n",
    "# 직원 위치 저장하기\n",
    "for i in range(N):\n",
    "    for j in range(M):\n",
    "        if arr[i][j] == 1:\n",
    "            em.append([i, j])\n",
    "# print(em)\n",
    "\n",
    "# N x M 범위 중에서 전열기 3개를 설치해보며 최솟값 찾기\n",
    "for i in range(len(em)): # 직원 인원만큼 탐색\n",
    "#     for j in range (3): # 전열기 3개 탐색\n",
    "    for n in range(N): # 전열기 배치가능 위치 (0,0) ~ (N, M)\n",
    "        for m in range(M): # 전열기 배치가능 위치 (0,0) ~ (N, M)\n",
    "            answer = min(answer, abs(em[i][0] - n) + abs(em[i][1] - m))\n",
    "print(answer * 3)"
   ]
  },
  {
   "cell_type": "code",
   "execution_count": null,
   "id": "e9247e37",
   "metadata": {},
   "outputs": [],
   "source": []
  }
 ],
 "metadata": {
  "kernelspec": {
   "display_name": "Python 3 (ipykernel)",
   "language": "python",
   "name": "python3"
  },
  "language_info": {
   "codemirror_mode": {
    "name": "ipython",
    "version": 3
   },
   "file_extension": ".py",
   "mimetype": "text/x-python",
   "name": "python",
   "nbconvert_exporter": "python",
   "pygments_lexer": "ipython3",
   "version": "3.9.13"
  }
 },
 "nbformat": 4,
 "nbformat_minor": 5
}
