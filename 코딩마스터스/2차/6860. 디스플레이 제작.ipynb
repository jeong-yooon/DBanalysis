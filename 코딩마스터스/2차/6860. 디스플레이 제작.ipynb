{
 "cells": [
  {
   "cell_type": "markdown",
   "id": "afcea0aa",
   "metadata": {},
   "source": [
    "## 문제\n",
    "당신은 디스플레이를 제작하는 회사에서 디스플레이의 크기를 기획하는 업무를 맡게 되었습니다.\n",
    "\n",
    "이번에 회사에서는 정확히 N개의 픽셀을 사용하는 디스플레이를 제작하려고 합니다. 디스플레이는 항상 직사각형 모양이어야 하고, 세로의 길이는 항상 가로의 길이보다 길어야 합니다. 다시 말해, 가로 a칸, 세로 b칸의 디스플레이를 만든다고 했을 때, a ≤ b이면서 a × b의 값은 N이어야 합니다.\n",
    "\n",
    "이때 회사에서는 새로운 조건을 추가했습니다. 그것은 디스플레이가 가능하면 정사각형에 가까워야 한다는 것입니다. 이것은 b - a가 가능한 한 작아야 한다는 것과 동일합니다.\n",
    "\n",
    "회사의 요구에 맞추어 a와 b를 결정하는 프로그램을 작성해 주세요.\n",
    "\n",
    "\n",
    "### 예제 입력1\n",
    "\n",
    "8\n",
    "\n",
    "### 예제 출력1\n",
    "\n",
    "2 4\n",
    "\n",
    "### 예제 입력2\n",
    "\n",
    "25\n",
    "\n",
    "### 예제 출력2\n",
    "\n",
    "5 5\n",
    "\n",
    "### 입력값 설명\n",
    "\n",
    "총 사용될 픽셀의 개수 N이 주어집니다. (2 ≤ N ≤ 1,000,000)\n",
    "\n",
    "### 출력값 설명\n",
    "\n",
    "a와 b를 공백으로 구분하여 순서대로 출력하세요."
   ]
  },
  {
   "cell_type": "code",
   "execution_count": 4,
   "id": "8f4e6386",
   "metadata": {},
   "outputs": [
    {
     "name": "stdout",
     "output_type": "stream",
     "text": [
      "8\n",
      "2 4\n"
     ]
    }
   ],
   "source": [
    "N = int(input())\n",
    "a, b = 1, N\n",
    "\n",
    "for i in range(1, N+1):\n",
    "    if (N % i) == 0:\n",
    "        if i > N//i:\n",
    "            break\n",
    "        if (b - a) > N//i - i:\n",
    "            a = i\n",
    "            b = N//i\n",
    "print(a, b)"
   ]
  },
  {
   "cell_type": "code",
   "execution_count": null,
   "id": "dc2d3d2b",
   "metadata": {},
   "outputs": [],
   "source": []
  }
 ],
 "metadata": {
  "kernelspec": {
   "display_name": "Python 3 (ipykernel)",
   "language": "python",
   "name": "python3"
  },
  "language_info": {
   "codemirror_mode": {
    "name": "ipython",
    "version": 3
   },
   "file_extension": ".py",
   "mimetype": "text/x-python",
   "name": "python",
   "nbconvert_exporter": "python",
   "pygments_lexer": "ipython3",
   "version": "3.9.13"
  }
 },
 "nbformat": 4,
 "nbformat_minor": 5
}
