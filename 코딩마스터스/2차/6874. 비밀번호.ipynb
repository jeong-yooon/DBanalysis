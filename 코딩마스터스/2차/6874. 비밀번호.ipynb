{
 "cells": [
  {
   "cell_type": "markdown",
   "id": "96282c6b",
   "metadata": {},
   "source": [
    "## 문제\n",
    "동욱이는 건망증이 심합니다. 그래서 집의 현관문 비밀번호를 자주 잊어버립니다. 강구책을 찾던 동욱이는 현관문 앞에 비밀번호의 힌트를 적어놓기로 했습니다.\n",
    "\n",
    "비밀번호의 힌트는 한 줄로 구성된 문자열이며 알파벳 소문자와 0부터 9까지의 숫자로만 구성됩니다. 이때 비밀번호는 알파벳을 모두 지웠을 때 나타나는 모든 수들의 합입니다.\n",
    "\n",
    "예를 들어 다음과 같은 힌트를 생각해 봅시다. 12er34efe 이 문자열에서 알파벳을 모두 지우면 자연수 12, 34가 나타나므로 현관문의 비밀번호는 46입니다.\n",
    "\n",
    "동욱이는 힌트를 너무 길게 적어서 비밀번호가 뭔지 알아내지 못합니다. 동욱이를 위해 힌트가 주어졌을 때 비밀번호를 출력해 주는 프로그램을 작성해 주세요.\n",
    "\n",
    "\n",
    "### 예제 입력1\n",
    "\n",
    "12er34efe\n",
    "\n",
    "### 예제 출력1\n",
    "\n",
    "46\n",
    "\n",
    "### 예제 입력2\n",
    "\n",
    "ab1000000daf\n",
    "\n",
    "### 예제 출력2\n",
    "\n",
    "1000000\n",
    "\n",
    "### 입력값 설명\n",
    "\n",
    "첫째 줄에 힌트를 의미하는 문자열이 주어집니다. 문자열은 알파벳 소문자와 0부터 9까지의 숫자로만 구성되어 있습니다. 문자열의 길이는 26보다 작거나 같습니다. 비밀번호는 1보다 크거나 같고 1,000,000 보다 작거나 같음이 보장됩니다.\n",
    "\n",
    "### 출력값 설명\n",
    "\n",
    "비밀번호를 출력하세요."
   ]
  },
  {
   "cell_type": "markdown",
   "id": "1925af8d",
   "metadata": {},
   "source": [
    "#### 풀이\n"
   ]
  },
  {
   "cell_type": "code",
   "execution_count": 6,
   "id": "b95f0322",
   "metadata": {},
   "outputs": [
    {
     "name": "stdout",
     "output_type": "stream",
     "text": [
      "ab1000000daf\n",
      "1000000\n"
     ]
    }
   ],
   "source": [
    "import re\n",
    "\n",
    "sum = 0\n",
    "hint = input()\n",
    "numbers = re.findall(r'\\d+', hint)\n",
    "for i in numbers:\n",
    "    sum += int(i)\n",
    "print(sum)"
   ]
  },
  {
   "cell_type": "code",
   "execution_count": null,
   "id": "2e56aaf6",
   "metadata": {},
   "outputs": [],
   "source": []
  }
 ],
 "metadata": {
  "kernelspec": {
   "display_name": "Python 3 (ipykernel)",
   "language": "python",
   "name": "python3"
  },
  "language_info": {
   "codemirror_mode": {
    "name": "ipython",
    "version": 3
   },
   "file_extension": ".py",
   "mimetype": "text/x-python",
   "name": "python",
   "nbconvert_exporter": "python",
   "pygments_lexer": "ipython3",
   "version": "3.9.13"
  }
 },
 "nbformat": 4,
 "nbformat_minor": 5
}
