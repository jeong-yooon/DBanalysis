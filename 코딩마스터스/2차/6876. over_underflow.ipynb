{
 "cells": [
  {
   "cell_type": "markdown",
   "id": "45e6961b",
   "metadata": {},
   "source": [
    "## 풀이\n",
    "민규의 컴퓨터는 정수를 4비트로 저장하기 때문에 -8부터 7까지의 정수밖에 표현할 수 없습니다. 따라서 민규의 컴퓨터에서는 두 정수 덧셈의 결과가 7보다 커진다면 16을 뺀 값으로, -8보다 작아진다면 16을 더한 값으로 출력합니다. 이를 각각 정수 오버플로우와 언더플로우라고 부릅니다.\n",
    "\n",
    "-8 이상 7 이하의 두 정수가 주어질 때, 민규의 컴퓨터에서 두 수를 더한 결과를 출력하는 프로그램을 작성해 주세요.\n",
    "\n",
    "\n",
    "### 예제 입력1\n",
    "\n",
    "-8 -7\n",
    "\n",
    "### 예제 출력1\n",
    "\n",
    "1\n",
    "### 예제 입력2\n",
    "\n",
    "1 0\n",
    "\n",
    "### 예제 출력2\n",
    "\n",
    "1\n",
    "\n",
    "### 입력값 설명\n",
    "\n",
    "첫째 줄에 두 정수가 공백으로 구분되어 주어집니다. 정수는 -8이상 7이하의 수입니다.\n",
    "\n",
    "### 출력값 설명\n",
    "\n",
    "정수 오버플로우와 언더플로우를 고려하면서 두 정수의 덧셈 결과를 출력하세요."
   ]
  },
  {
   "cell_type": "markdown",
   "id": "9470217a",
   "metadata": {},
   "source": [
    "#### 풀이\n",
    "- 7이상 = -16\n",
    "- -8이하 = +16"
   ]
  },
  {
   "cell_type": "code",
   "execution_count": 6,
   "id": "d73c60b8",
   "metadata": {},
   "outputs": [
    {
     "name": "stdout",
     "output_type": "stream",
     "text": [
      "100 1\n",
      "5\n"
     ]
    }
   ],
   "source": [
    "a, b = map(int, input().split())\n",
    "sum = a + b\n",
    "\n",
    "while True:\n",
    "    if sum > 7:\n",
    "        sum -= 16\n",
    "    elif sum < -8 :\n",
    "        sum += 16\n",
    "    elif sum <= 7 and sum >= -8:\n",
    "        break\n",
    "print(sum)"
   ]
  },
  {
   "cell_type": "code",
   "execution_count": null,
   "id": "f61df2ec",
   "metadata": {},
   "outputs": [],
   "source": []
  }
 ],
 "metadata": {
  "kernelspec": {
   "display_name": "Python 3 (ipykernel)",
   "language": "python",
   "name": "python3"
  },
  "language_info": {
   "codemirror_mode": {
    "name": "ipython",
    "version": 3
   },
   "file_extension": ".py",
   "mimetype": "text/x-python",
   "name": "python",
   "nbconvert_exporter": "python",
   "pygments_lexer": "ipython3",
   "version": "3.9.13"
  }
 },
 "nbformat": 4,
 "nbformat_minor": 5
}
