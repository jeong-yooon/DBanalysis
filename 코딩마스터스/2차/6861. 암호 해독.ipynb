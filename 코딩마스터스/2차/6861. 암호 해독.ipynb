{
 "cells": [
  {
   "cell_type": "markdown",
   "id": "fba57457",
   "metadata": {},
   "source": [
    "## 문제\n",
    "준호는 무시무시한 문자열 암호화 알고리즘을 만들었습니다. 그 방법은 아래와 같습니다.\n",
    "\n",
    "1. 문자열의 첫 번째 문자부터 마지막 문자까지 2를 반복한다.\n",
    "\n",
    "2. 현재 보는 문자가 i번째 문자라면, 해당 문자를 i번 쓴다.\n",
    "\n",
    "예를 들어, 문자열 pop을 준호의 암호화 알고리즘을 이용하면 pooppp로 암호화됩니다.\n",
    "\n",
    "이것을 본 호준이는 뭔가 이 암호화 알고리즘이 허술하다고 생각했습니다. 호준이를 도와 준호가 암호화한 문자열의 결과물이 주어졌을 때, 원본 문자열이 무엇인지 구하는 프로그램을 작성해 주세요.\n",
    "\n",
    "\n",
    "### 예제 입력1\n",
    "\n",
    "pooppp\n",
    "\n",
    "### 예제 출력1\n",
    "\n",
    "pop\n",
    "\n",
    "### 예제 입력2\n",
    "\n",
    "vrrrrrffffnnnnn\n",
    "\n",
    "### 예제 출력2\n",
    "\n",
    "vrrfn\n",
    "\n",
    "### 입력값 설명\n",
    "\n",
    "준호가 암호화한 문자열의 결과물이 주어집니다. 주어지는 문자열의 길이는 1 이상 100 이하이며, 반드시 제대로 암호화된 결과물만 주어지기 때문에 항상 답이 존재합니다.\n",
    "\n",
    "### 출력값 설명\n",
    "\n",
    "해당 문자열이 암호화되기 전 원본 문자열을 출력하세요."
   ]
  },
  {
   "cell_type": "code",
   "execution_count": 5,
   "id": "0da240c3",
   "metadata": {},
   "outputs": [
    {
     "name": "stdout",
     "output_type": "stream",
     "text": [
      "vrrrrrffffnnnnn\n",
      "vrrfn"
     ]
    }
   ],
   "source": [
    "pw = list(input())\n",
    "count = 1\n",
    "i = 0\n",
    "answer = []\n",
    "while True:\n",
    "    answer.append(pw[i])\n",
    "    i += count\n",
    "    count += 1\n",
    "    if i >= len(pw):\n",
    "        break\n",
    "for j in answer:\n",
    "    print(j, end='')"
   ]
  },
  {
   "cell_type": "code",
   "execution_count": null,
   "id": "e56e37db",
   "metadata": {},
   "outputs": [],
   "source": []
  }
 ],
 "metadata": {
  "kernelspec": {
   "display_name": "Python 3 (ipykernel)",
   "language": "python",
   "name": "python3"
  },
  "language_info": {
   "codemirror_mode": {
    "name": "ipython",
    "version": 3
   },
   "file_extension": ".py",
   "mimetype": "text/x-python",
   "name": "python",
   "nbconvert_exporter": "python",
   "pygments_lexer": "ipython3",
   "version": "3.9.13"
  }
 },
 "nbformat": 4,
 "nbformat_minor": 5
}
