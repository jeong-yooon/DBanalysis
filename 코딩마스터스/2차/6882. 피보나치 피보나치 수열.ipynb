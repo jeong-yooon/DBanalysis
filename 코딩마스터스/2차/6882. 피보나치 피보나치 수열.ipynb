{
 "cells": [
  {
   "cell_type": "markdown",
   "id": "5e7cc134",
   "metadata": {},
   "source": [
    "## 문제\n",
    "피보나치 수열이란 첫재 항과 둘째 항이 1이고, 그 뒤의 모든 항은 바로 앞의 두 항의 합인 수열입니다.\n",
    "\n",
    "피보나치 피보나치 수열이란, 피보나치 수열의 각 항을 그 수만큼 반복해서 만든 수열을 말합니다.\n",
    "\n",
    "예를 들어, 피보나치 피보나치 수열의 첫 10항은 다음과 같습니다.\n",
    "\n",
    "1, 1, 2, 2, 3, 3, 3, 5, 5, 5, ...\n",
    "\n",
    "a와 b가 주어졌을 때, 피보나치 피보나치 수열의 a항부터 b항까지의 합을 출력하는 프로그램을 작성해 주세요.\n",
    "\n",
    "\n",
    "### 예제 입력1\n",
    "\n",
    "2 5\n",
    "\n",
    "### 예제 출력1\n",
    "\n",
    "8\n",
    "\n",
    "### 예제 입력2\n",
    "\n",
    "1 10\n",
    "\n",
    "### 예제 출력2\n",
    "\n",
    "30\n",
    "\n",
    "### 입력값 설명\n",
    "\n",
    "첫째 줄에 a와 b가 공백으로 구분되어 주어집니다. (1 ≤ a, b ≤ 100)\n",
    "\n",
    "### 출력값 설명\n",
    "\n",
    "피보나치 피보나치 수열의 a항부터 b항까지의 합을 출력합니다."
   ]
  },
  {
   "cell_type": "markdown",
   "id": "011fad95",
   "metadata": {},
   "source": [
    "#### 풀이\n",
    "- 피보나치 수열 리스트 생성\n",
    "- 입력 값 리스트만큼 합 구하기"
   ]
  },
  {
   "cell_type": "code",
   "execution_count": 28,
   "id": "3c18fd99",
   "metadata": {},
   "outputs": [
    {
     "name": "stdout",
     "output_type": "stream",
     "text": [
      "1 10\n",
      "30\n"
     ]
    }
   ],
   "source": [
    "a, b = map(int, input().split())\n",
    "cal = [1, 1]\n",
    "arr = []\n",
    "for i in range(1, b):\n",
    "    cal.append(cal[i]+cal[i-1])\n",
    "# print(cal)\n",
    "\n",
    "for i in cal:\n",
    "    for j in range(i):\n",
    "        arr.append(i)\n",
    "        if len(arr) > b:\n",
    "            break\n",
    "# print(arr)\n",
    "print(sum(arr[a-1:b]))"
   ]
  },
  {
   "cell_type": "code",
   "execution_count": null,
   "id": "27cf7554",
   "metadata": {},
   "outputs": [],
   "source": []
  }
 ],
 "metadata": {
  "kernelspec": {
   "display_name": "Python 3 (ipykernel)",
   "language": "python",
   "name": "python3"
  },
  "language_info": {
   "codemirror_mode": {
    "name": "ipython",
    "version": 3
   },
   "file_extension": ".py",
   "mimetype": "text/x-python",
   "name": "python",
   "nbconvert_exporter": "python",
   "pygments_lexer": "ipython3",
   "version": "3.9.13"
  }
 },
 "nbformat": 4,
 "nbformat_minor": 5
}
