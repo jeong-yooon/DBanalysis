{
 "cells": [
  {
   "cell_type": "markdown",
   "id": "801b43ec",
   "metadata": {},
   "source": [
    "## 문제\n",
    "팀 나누기의 귀재 민혁이는 6명이 참가하는 대회의 팀 나누기 업무를 맡았습니다. 각 참가자는 양의 정수로 표현 가능한 실력을 가지고 있습니다. 민혁이는 대회를 좀 더 재미있게 하기 위해서 팀을 나눌 때 각 참가자의 실력을 참고하려고 합니다.\n",
    "\n",
    "민혁이는 이런저런 경우를 시도해보다가, 정확히 3명으로 이루어진 팀을 2개 만들면서, 각 팀의 구성원의 실력의 합이 정확히 같을 때 흥미진진한 경기가 펼쳐진다는 것을 알아냈습니다.\n",
    "\n",
    "대회에 참가하는 참가자들의 실력이 주어질 때, 흥미진진한 경기가 펼쳐질 수 있도록 팀을 나눌 수 있는지 알아내는 프로그램을 작성해 주세요.\n",
    "\n",
    "\n",
    "### 예제 입력1\n",
    "1 5 9 2 2 5\n",
    "\n",
    "### 예제 출력1\n",
    "possible\n",
    "\n",
    "### 예제 입력2\n",
    "5 2 5 16 8 1\n",
    "\n",
    "### 예제 출력2\n",
    "impossible\n",
    "\n",
    "### 입력값 설명\n",
    "각 6명의 참가자의 실력이 공백으로 구분되어 주어집니다. (1 ≤ 각 참가자들의 실력 ≤ 100)\n",
    "\n",
    "### 출력값 설명\n",
    "흥미진진한 경기가 펼쳐질 수 있도록 팀을 나눌 수 있으면 possible, 아니면 impossible을 출력하세요. 답은 무조건 소문자로만 출력해야 함에 유의하세요."
   ]
  },
  {
   "cell_type": "code",
   "execution_count": 5,
   "id": "2a96e87d",
   "metadata": {},
   "outputs": [
    {
     "name": "stdout",
     "output_type": "stream",
     "text": [
      "1 5 9 2 2 5\n"
     ]
    },
    {
     "ename": "IndexError",
     "evalue": "list index out of range",
     "output_type": "error",
     "traceback": [
      "\u001b[1;31m---------------------------------------------------------------------------\u001b[0m",
      "\u001b[1;31mIndexError\u001b[0m                                Traceback (most recent call last)",
      "\u001b[1;32m~\\AppData\\Local\\Temp\\ipykernel_10292\\3094846171.py\u001b[0m in \u001b[0;36m<module>\u001b[1;34m\u001b[0m\n\u001b[0;32m      9\u001b[0m         \u001b[1;32mdel\u001b[0m \u001b[0mb\u001b[0m\u001b[1;33m[\u001b[0m\u001b[0mj\u001b[0m\u001b[1;33m]\u001b[0m\u001b[1;33m\u001b[0m\u001b[1;33m\u001b[0m\u001b[0m\n\u001b[0;32m     10\u001b[0m         \u001b[1;32mfor\u001b[0m \u001b[0mk\u001b[0m \u001b[1;32min\u001b[0m \u001b[0mrange\u001b[0m\u001b[1;33m(\u001b[0m\u001b[1;36m4\u001b[0m\u001b[1;33m)\u001b[0m\u001b[1;33m:\u001b[0m\u001b[1;33m\u001b[0m\u001b[1;33m\u001b[0m\u001b[0m\n\u001b[1;32m---> 11\u001b[1;33m             \u001b[0mc\u001b[0m\u001b[1;33m.\u001b[0m\u001b[0mappend\u001b[0m\u001b[1;33m(\u001b[0m\u001b[0mb\u001b[0m\u001b[1;33m[\u001b[0m\u001b[0mk\u001b[0m\u001b[1;33m]\u001b[0m\u001b[1;33m)\u001b[0m\u001b[1;33m\u001b[0m\u001b[1;33m\u001b[0m\u001b[0m\n\u001b[0m\u001b[0;32m     12\u001b[0m             \u001b[1;32mdel\u001b[0m \u001b[0mb\u001b[0m\u001b[1;33m[\u001b[0m\u001b[0mk\u001b[0m\u001b[1;33m]\u001b[0m\u001b[1;33m\u001b[0m\u001b[1;33m\u001b[0m\u001b[0m\n\u001b[0;32m     13\u001b[0m     \u001b[1;32mif\u001b[0m \u001b[0msum\u001b[0m\u001b[1;33m(\u001b[0m\u001b[0mb\u001b[0m\u001b[1;33m)\u001b[0m \u001b[1;33m==\u001b[0m \u001b[0msum\u001b[0m\u001b[1;33m(\u001b[0m\u001b[0mc\u001b[0m\u001b[1;33m)\u001b[0m\u001b[1;33m:\u001b[0m\u001b[1;33m\u001b[0m\u001b[1;33m\u001b[0m\u001b[0m\n",
      "\u001b[1;31mIndexError\u001b[0m: list index out of range"
     ]
    }
   ],
   "source": [
    "a = list(map(int, input().split()))\n",
    "b = a.copy()\n",
    "c = []\n",
    "for i in range(6):\n",
    "    c.append(b[i])\n",
    "    del b[i]\n",
    "    for j in range(5):\n",
    "        c.append(b[j])\n",
    "        del b[j]\n",
    "        for k in range(4):\n",
    "            c.append(b[k])\n",
    "            del b[k]\n",
    "    if sum(b) == sum(c):\n",
    "        print('possible')\n",
    "        break\n",
    "    b = a.copy()\n",
    "    c = []\n",
    "print('impossible')"
   ]
  },
  {
   "cell_type": "code",
   "execution_count": null,
   "id": "ebf24c9a",
   "metadata": {},
   "outputs": [],
   "source": []
  }
 ],
 "metadata": {
  "kernelspec": {
   "display_name": "Python 3 (ipykernel)",
   "language": "python",
   "name": "python3"
  },
  "language_info": {
   "codemirror_mode": {
    "name": "ipython",
    "version": 3
   },
   "file_extension": ".py",
   "mimetype": "text/x-python",
   "name": "python",
   "nbconvert_exporter": "python",
   "pygments_lexer": "ipython3",
   "version": "3.9.13"
  }
 },
 "nbformat": 4,
 "nbformat_minor": 5
}
