{
 "cells": [
  {
   "cell_type": "markdown",
   "id": "39d264ab",
   "metadata": {},
   "source": [
    "## 문제\n",
    "삼각형의 세 변의 길이가 주어집니다. 이 삼각형이 직각삼각형인지 판별하는 프로그램을 작성해 주세요.\n",
    "\n",
    "\n",
    "### 예제 입력1\n",
    "\n",
    "3 4 5\n",
    "\n",
    "### 예제 출력1\n",
    "\n",
    "YES\n",
    "\n",
    "### 예제 입력2\n",
    "\n",
    "5 6 7\n",
    "\n",
    "### 예제 출력2\n",
    "\n",
    "NO\n",
    "\n",
    "### 입력값 설명\n",
    "\n",
    "첫째 줄에 삼각형의 세 변의 길이 A, B, C가 공백으로 구분되어 주어집니다. (1 ≤ A, B, C ≤ 1,000)\n",
    "\n",
    "### 출력값 설명\n",
    "\n",
    "해당 삼각형이 직각삼각형이면 \"YES\", 그렇지 않으면 \"NO\"를 출력합니다."
   ]
  },
  {
   "cell_type": "markdown",
   "id": "1f20a84d",
   "metadata": {},
   "source": [
    "#### 풀이\n",
    "- (입력값의 최댓값)**2 = (입력값1)**2 + (입력값2)**2 이면 YES 아니면 NO"
   ]
  },
  {
   "cell_type": "code",
   "execution_count": 4,
   "id": "832b5886",
   "metadata": {},
   "outputs": [
    {
     "name": "stdout",
     "output_type": "stream",
     "text": [
      "5 6 7\n",
      "NO\n"
     ]
    }
   ],
   "source": [
    "A, B, C = map(int, input().split())\n",
    "if C**2 == A**2 + B**2:\n",
    "    print(\"YES\")\n",
    "else:\n",
    "    print(\"NO\")"
   ]
  },
  {
   "cell_type": "code",
   "execution_count": null,
   "id": "e9d3dc6c",
   "metadata": {},
   "outputs": [],
   "source": []
  }
 ],
 "metadata": {
  "kernelspec": {
   "display_name": "Python 3 (ipykernel)",
   "language": "python",
   "name": "python3"
  },
  "language_info": {
   "codemirror_mode": {
    "name": "ipython",
    "version": 3
   },
   "file_extension": ".py",
   "mimetype": "text/x-python",
   "name": "python",
   "nbconvert_exporter": "python",
   "pygments_lexer": "ipython3",
   "version": "3.9.13"
  }
 },
 "nbformat": 4,
 "nbformat_minor": 5
}
