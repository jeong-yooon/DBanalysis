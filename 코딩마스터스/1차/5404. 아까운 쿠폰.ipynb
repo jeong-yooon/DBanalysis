{
 "cells": [
  {
   "cell_type": "markdown",
   "id": "127e87c0",
   "metadata": {},
   "source": [
    "## 문제\n",
    "피자집 사장인 현석이는 대한민국 화폐 단위와 같은 쿠폰을 만들어 손님들이 현금으로 결제할 때 거스름돈 대신 쿠폰으로 거슬러 줍니다. 하지만 최근 쿠폰이 모자라진 현석이는 손님들에게 거슬러 주는 쿠폰의 개수를 가능한 적게 하려고 합니다.\n",
    "\n",
    "현석이가 거슬러주어야 하는 금액이 주어지면, 그 금액에 맞추어 거슬러줄 때 쿠폰이 최소 몇 장 필요한지 출력하는 프로그램을 작성해주세요. (쿠폰은 대한민국 화폐 단위와 동일하게 10원, 50원, 100원, 500원, 1000원, 5000원, 10000원, 50000원짜리가 있습니다.)"
   ]
  },
  {
   "cell_type": "markdown",
   "id": "6c503e30",
   "metadata": {},
   "source": [
    "### 예제 입력1\n",
    "\n",
    "5630\n",
    "\n",
    "### 예제 출력1\n",
    "\n",
    "6\n",
    "\n",
    "### 예제 입력2\n",
    "\n",
    "102830\n",
    "\n",
    "### 예제 출력2\n",
    "\n",
    "11"
   ]
  },
  {
   "cell_type": "markdown",
   "id": "6e6dc867",
   "metadata": {},
   "source": [
    "#### 입력값 설명\n",
    "\n",
    "현석이가 거슬러주어야 하는 금액 N이 입력됩니다. (10 ≤ N ≤ 1,000,000)\n",
    "N은 10의 배수임을 보장합니다.\n",
    "\n",
    "#### 출력값 설명\n",
    "\n",
    "필요한 쿠폰 개수의 최솟값을 출력합니다."
   ]
  },
  {
   "cell_type": "code",
   "execution_count": 3,
   "id": "9a872313",
   "metadata": {},
   "outputs": [
    {
     "name": "stdout",
     "output_type": "stream",
     "text": [
      "102830\n",
      "11\n"
     ]
    }
   ],
   "source": [
    "N = int(input())\n",
    "sum = 0\n",
    "sum += N // 50000\n",
    "N = N % 50000\n",
    "sum += N // 10000\n",
    "N = N % 10000\n",
    "sum += N // 5000\n",
    "N = N % 5000\n",
    "sum += N // 1000\n",
    "N = N % 1000\n",
    "sum += N // 500\n",
    "N = N % 500\n",
    "sum += N // 100\n",
    "N = N % 100\n",
    "sum += N // 50\n",
    "N = N % 50\n",
    "sum += N // 10\n",
    "N = N % 10\n",
    "print(sum)"
   ]
  },
  {
   "cell_type": "code",
   "execution_count": null,
   "id": "d88e3994",
   "metadata": {},
   "outputs": [],
   "source": []
  }
 ],
 "metadata": {
  "kernelspec": {
   "display_name": "Python 3 (ipykernel)",
   "language": "python",
   "name": "python3"
  },
  "language_info": {
   "codemirror_mode": {
    "name": "ipython",
    "version": 3
   },
   "file_extension": ".py",
   "mimetype": "text/x-python",
   "name": "python",
   "nbconvert_exporter": "python",
   "pygments_lexer": "ipython3",
   "version": "3.9.13"
  }
 },
 "nbformat": 4,
 "nbformat_minor": 5
}
