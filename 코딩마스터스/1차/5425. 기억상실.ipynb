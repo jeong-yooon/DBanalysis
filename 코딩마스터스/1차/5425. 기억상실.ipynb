{
 "cells": [
  {
   "cell_type": "markdown",
   "id": "cef4a738",
   "metadata": {},
   "source": [
    "## 문제\n",
    "민규는 가벼운 기억상실증을 앓고 있습니다. 오늘 무엇인가를 외우면 잠을 자면서 일부를 잊는 증세를 보입니다. 영어시험을 준비하는 민규는 단어 N개를 모두 외워야 합니다. 민규는 하루에 A개의 단어를 외울 수 있습니다. 하지만, 밤에 잠을 자면서 B개를 까먹습니다. N개를 모두 외우는 날에 민규는 목적을 달성합니다.\n",
    "\n",
    "\n",
    "\n",
    "또한 모두 외우는 날에는 밤에 단어를 까먹는 것을 생각하지 않고 N개의 단어를 모두 외웠다고 간주합니다. 민규가 외워야 하는 N개의 단어가 주어졌을 때, 단어를 모두 외우려면 며칠이 걸리는지 구하는 프로그램을 작성해주세요"
   ]
  },
  {
   "cell_type": "markdown",
   "id": "2a206307",
   "metadata": {},
   "source": [
    "### 예제 입력1\n",
    "\n",
    "2 1 5\n",
    "\n",
    "### 예제 출력1\n",
    "\n",
    "4\n",
    "\n",
    "### 예제 입력2\n",
    "\n",
    "3 2 6\n",
    "\n",
    "### 예제 출력2\n",
    "\n",
    "4"
   ]
  },
  {
   "cell_type": "markdown",
   "id": "90f4d3cc",
   "metadata": {},
   "source": [
    "#### 입력값 설명\n",
    "\n",
    "첫째 줄에 세 정수 A, B, N이 공백으로 구분되어서 주어집니다. (1 ≤ B < A ≤ N ≤ 1,000,000,000)\n",
    "\n",
    "#### 출력값 설명\n",
    "\n",
    "첫째 줄에 민규가 N개의 단어를 모두 외우는데 며칠이 걸리는지 출력하세요."
   ]
  },
  {
   "cell_type": "code",
   "execution_count": 1,
   "id": "36b60dff",
   "metadata": {},
   "outputs": [
    {
     "name": "stdout",
     "output_type": "stream",
     "text": [
      "2 1 5\n",
      "4\n"
     ]
    }
   ],
   "source": [
    "A, B, N = map(int, input().split())\n",
    "result = 0\n",
    "day = 0\n",
    "while True:\n",
    "    day += 1\n",
    "    result += A\n",
    "    if result >= N:\n",
    "        break\n",
    "    else:\n",
    "        result -= B\n",
    "    \n",
    "print(day)"
   ]
  },
  {
   "cell_type": "code",
   "execution_count": null,
   "id": "64cffd0d",
   "metadata": {},
   "outputs": [],
   "source": []
  }
 ],
 "metadata": {
  "kernelspec": {
   "display_name": "Python 3 (ipykernel)",
   "language": "python",
   "name": "python3"
  },
  "language_info": {
   "codemirror_mode": {
    "name": "ipython",
    "version": 3
   },
   "file_extension": ".py",
   "mimetype": "text/x-python",
   "name": "python",
   "nbconvert_exporter": "python",
   "pygments_lexer": "ipython3",
   "version": "3.9.13"
  }
 },
 "nbformat": 4,
 "nbformat_minor": 5
}
