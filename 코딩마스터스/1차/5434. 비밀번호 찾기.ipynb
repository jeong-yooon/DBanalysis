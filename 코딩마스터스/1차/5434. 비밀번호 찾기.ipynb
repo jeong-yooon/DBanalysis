{
 "cells": [
  {
   "cell_type": "markdown",
   "id": "921a688a",
   "metadata": {},
   "source": [
    "## 문제\n",
    "A 회사 총무부서가 분주합니다. 중요한 파일이 모두 들어있는 컴퓨터의 비밀번호를 까먹었기 때문입니다. 다행히 책상에는 전임자가 놓고간 힌트가 담긴 쪽지가 놓여있습니다. 쪽지의 내용은 이러합니다.\n",
    "\n",
    "'비밀번호는 쉴새없이 변하며, 컴퓨터 화면에는 매 번 일련의 문자들이 주어집니다. 단 컴퓨터 화면에서 알파벳 c가 입력될 때까지 순서대로 주어진 알파벳들이 비밀번호입니다.'\n",
    "\n",
    "머리가 좋은 김대리는 바로 이해를 하고 암호를 풀었습니다. 이때 김대리가 사용한 방법을 프로그램으로 작성해주세요"
   ]
  },
  {
   "cell_type": "markdown",
   "id": "b8a912ea",
   "metadata": {},
   "source": [
    "### 입력값 설명\n",
    "\n",
    "알파벳 소문자들이 공백을 두고 한개씩 계속 입력됩니다.\n",
    "문자의 개수는 20개 이하입니다.\n",
    "\n",
    "### 출력값 설명\n",
    "\n",
    "알파벳 c를 입력할때까지 입력한 알파벳들을 공백을 두고 출력하세요. (c도 포함하기 때문에, 비밀번호의 마지막 글자는 c가 됩니다.)\n",
    "맨 처음부터 c가 입력되는 경우는 없다고 가정합니다."
   ]
  },
  {
   "cell_type": "markdown",
   "id": "7157a705",
   "metadata": {},
   "source": [
    "#### 예제 입력1\n",
    "s a d k f a s c a s d\n",
    "#### 예제 출력1\n",
    "s a d k f a s c\n",
    "#### 예제 입력2\n",
    "s a p o a c a s o\n",
    "#### 예제 출력2\n",
    "s a p o a c"
   ]
  },
  {
   "cell_type": "code",
   "execution_count": null,
   "id": "3fb09d6d",
   "metadata": {},
   "outputs": [],
   "source": [
    "import sys\n",
    "# pw[] = input().split\n",
    "pw = list(map(str, input().split()))\n",
    "a = []\n",
    "# a = list()\n",
    "for i in pw:\n",
    "    if i != 'c':\n",
    "        a.append(i)\n",
    "    elif i == 'c':\n",
    "        a.append(i)\n",
    "        break\n",
    "for j in a:\n",
    "    print(j, end=' ')"
   ]
  },
  {
   "cell_type": "code",
   "execution_count": null,
   "id": "2f270a8e",
   "metadata": {},
   "outputs": [],
   "source": []
  }
 ],
 "metadata": {
  "kernelspec": {
   "display_name": "Python 3 (ipykernel)",
   "language": "python",
   "name": "python3"
  },
  "language_info": {
   "codemirror_mode": {
    "name": "ipython",
    "version": 3
   },
   "file_extension": ".py",
   "mimetype": "text/x-python",
   "name": "python",
   "nbconvert_exporter": "python",
   "pygments_lexer": "ipython3",
   "version": "3.9.13"
  }
 },
 "nbformat": 4,
 "nbformat_minor": 5
}
