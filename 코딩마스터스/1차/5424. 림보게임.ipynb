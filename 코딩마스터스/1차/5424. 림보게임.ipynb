{
 "cells": [
  {
   "cell_type": "markdown",
   "id": "ff9826f5",
   "metadata": {},
   "source": [
    "## 문제\n",
    "건혁이는 림보게임을 하려고 합니다. 총 N단계의 높이로 진행되는데 기회는 각각 한번 뿐입니다. 키가 180cm인 건혁이는 모든 것을 잘 하지만 유연성은 좋지 않습니다. 그래서 최대 160cm까지 허리를 젖혀 걸어갈 수 있습니다.\n",
    "\n",
    "N 단계의 높이가 각각 입력되면 진구가 무사히 림보를 통과할 수 있는지 판단하여 모두 통과할 수 있으면 P를 출력하고, 림보에 걸리면 I을 출력한 뒤에 처음으로 부딪힌 림보의 높이를 출력해주세요."
   ]
  },
  {
   "cell_type": "markdown",
   "id": "75b365ae",
   "metadata": {},
   "source": [
    "### 예제 입력1\n",
    "5\n",
    "180 170 162 163 190\n",
    "\n",
    "### 예제 출력1\n",
    "P\n",
    "\n",
    "### 예제 입력2\n",
    "3\n",
    "180 100 270\n",
    "\n",
    "### 예제 출력2\n",
    "I 100"
   ]
  },
  {
   "cell_type": "markdown",
   "id": "bc173aaf",
   "metadata": {},
   "source": [
    "#### 입력값 설명\n",
    "\n",
    "첫째 줄에 림보의 개수 N이 입력됩니다. (1 ≤ N ≤ 10)\n",
    "둘째 줄부터 공백을 기준으로 림보의 높이 A, B, C가 차례대로 입력됩니다. (1 ≤ A, B, C ≤ 300)\n",
    "\n",
    "#### 출력값 설명\n",
    "\n",
    "건혁이가 림보를 통과할 수 있는지 여부를 출력하세요. 통과할 수 있다면 P를 출력하고, 통과할 수 없다면 I와 맨 처음으로 실패하는 높이를 공백을 기준으로 구분하여 함께 출력하세요."
   ]
  },
  {
   "cell_type": "code",
   "execution_count": 1,
   "id": "b3124435",
   "metadata": {},
   "outputs": [
    {
     "name": "stdout",
     "output_type": "stream",
     "text": [
      "3\n",
      "180 100 270\n",
      "I 100\n"
     ]
    }
   ],
   "source": [
    "N = int(input())\n",
    "limbo = list(map(int, input().split()))\n",
    "for i in range(0, N):\n",
    "    if limbo[i] <= 160:\n",
    "        print(f'I {limbo[i]}')\n",
    "        break\n",
    "    elif i == N-1:\n",
    "        print('P')"
   ]
  },
  {
   "cell_type": "code",
   "execution_count": null,
   "id": "150bfc37",
   "metadata": {},
   "outputs": [],
   "source": []
  }
 ],
 "metadata": {
  "kernelspec": {
   "display_name": "Python 3 (ipykernel)",
   "language": "python",
   "name": "python3"
  },
  "language_info": {
   "codemirror_mode": {
    "name": "ipython",
    "version": 3
   },
   "file_extension": ".py",
   "mimetype": "text/x-python",
   "name": "python",
   "nbconvert_exporter": "python",
   "pygments_lexer": "ipython3",
   "version": "3.9.13"
  }
 },
 "nbformat": 4,
 "nbformat_minor": 5
}
