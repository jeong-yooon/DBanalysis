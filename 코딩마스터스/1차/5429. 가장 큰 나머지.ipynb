{
 "cells": [
  {
   "cell_type": "markdown",
   "id": "371bb1d6",
   "metadata": {},
   "source": [
    "## 문제\n",
    "어떤 정수를 다른 어떤 정수로 나누면 나머지 수가 발생합니다. 또, 어떤 수로 나누느냐에 따라 다른 나머지가 발생할 수 있습니다. 예를 들어 23을 5로 나누면 나머지가 3이지만, 7로 나누면 나머지는 2입니다.\n",
    "\n",
    "\n",
    "100 이상의 정수 N이 주어지면 N을 각각 5와 7로 나누었을 때의 나머지 중 더 큰 나머지를 출력하는 프로그램을 작성해주세요"
   ]
  },
  {
   "cell_type": "markdown",
   "id": "0c208455",
   "metadata": {},
   "source": [
    "### 예제 입력1\n",
    "\n",
    "37\n",
    "\n",
    "### 예제 출력1\n",
    "\n",
    "2\n",
    "\n",
    "### 예제 입력2\n",
    "\n",
    "9995\n",
    "\n",
    "### 예제 출력2\n",
    "\n",
    "6"
   ]
  },
  {
   "cell_type": "markdown",
   "id": "16117d14",
   "metadata": {},
   "source": [
    "#### 입력값 설명\n",
    "\n",
    "첫째 줄에 정수 N이 주어집니다. (100 ≤ N ≤ 10,000)\n",
    "\n",
    "#### 출력값 설명\n",
    "\n",
    "N을 5와 7로 나누었을 때의 나머지 중에서 더 큰 값을 출력하세요. 만약 같더라도 하나만 출력하세요."
   ]
  },
  {
   "cell_type": "code",
   "execution_count": 2,
   "id": "ff23b992",
   "metadata": {},
   "outputs": [
    {
     "name": "stdout",
     "output_type": "stream",
     "text": [
      "9995\n",
      "6\n"
     ]
    }
   ],
   "source": [
    "N = int(input())\n",
    "if N % 5 > N % 7:\n",
    "    print(N % 5)\n",
    "else:\n",
    "    print(N % 7)"
   ]
  },
  {
   "cell_type": "code",
   "execution_count": null,
   "id": "032042f6",
   "metadata": {},
   "outputs": [],
   "source": []
  }
 ],
 "metadata": {
  "kernelspec": {
   "display_name": "Python 3 (ipykernel)",
   "language": "python",
   "name": "python3"
  },
  "language_info": {
   "codemirror_mode": {
    "name": "ipython",
    "version": 3
   },
   "file_extension": ".py",
   "mimetype": "text/x-python",
   "name": "python",
   "nbconvert_exporter": "python",
   "pygments_lexer": "ipython3",
   "version": "3.9.13"
  }
 },
 "nbformat": 4,
 "nbformat_minor": 5
}
