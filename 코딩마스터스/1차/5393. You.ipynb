{
 "cells": [
  {
   "cell_type": "markdown",
   "id": "1027e3a4",
   "metadata": {},
   "source": [
    "## 문제\n",
    "또리는 챗봇을 만들었습니다. 챗봇은 메신저에서 유저와 소통하는 봇을 말합니다. 그런데 또리가 챗봇을 만드는 도중 중간에 실수가 있었는지 작동이 이상합니다.\n",
    "\n",
    "챗봇은 You라고 입력하면 Me, 그 외의 모든 경우의 입력에는 No 라고 답합니다. \n",
    "\n",
    "\n",
    "\n",
    "챗봇에 입력한 문자열 A가 입력되었을 때 챗봇이 답한 문자열을 출력하는 프로그램을 작성해주세요."
   ]
  },
  {
   "cell_type": "markdown",
   "id": "71ca39b5",
   "metadata": {},
   "source": [
    "### 예제 입력1\n",
    "\n",
    "Are you?\n",
    "\n",
    "### 예제 출력1\n",
    "\n",
    "No\n",
    "\n",
    "### 예제 입력2\n",
    "\n",
    "You\n",
    "\n",
    "### 예제 출력2\n",
    "\n",
    "Me"
   ]
  },
  {
   "cell_type": "markdown",
   "id": "2da82776",
   "metadata": {},
   "source": [
    "#### 입력값 설명\n",
    "\n",
    "문자열 A가 한 줄에 걸쳐 입력됩니다. (1 ≤ 문자열의 길이 ≤ 1,000)\n",
    "\n",
    "### 출력값 설명\n",
    "\n",
    "문자열 A가 'You'이면 'Me'라고 출력하고, 그렇지 않으면 'No'라고 출력합니다."
   ]
  },
  {
   "cell_type": "code",
   "execution_count": 1,
   "id": "4c40c548",
   "metadata": {},
   "outputs": [
    {
     "name": "stdout",
     "output_type": "stream",
     "text": [
      "You\n",
      "Me\n"
     ]
    }
   ],
   "source": [
    "A = input()\n",
    "if A == 'You':\n",
    "    print('Me')\n",
    "else:\n",
    "    print('No')"
   ]
  },
  {
   "cell_type": "code",
   "execution_count": null,
   "id": "e76fe4d7",
   "metadata": {},
   "outputs": [],
   "source": []
  }
 ],
 "metadata": {
  "kernelspec": {
   "display_name": "Python 3 (ipykernel)",
   "language": "python",
   "name": "python3"
  },
  "language_info": {
   "codemirror_mode": {
    "name": "ipython",
    "version": 3
   },
   "file_extension": ".py",
   "mimetype": "text/x-python",
   "name": "python",
   "nbconvert_exporter": "python",
   "pygments_lexer": "ipython3",
   "version": "3.9.13"
  }
 },
 "nbformat": 4,
 "nbformat_minor": 5
}
