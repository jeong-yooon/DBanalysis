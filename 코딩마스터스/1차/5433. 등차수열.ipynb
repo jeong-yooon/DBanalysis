{
 "cells": [
  {
   "cell_type": "markdown",
   "id": "6631223b",
   "metadata": {},
   "source": [
    "## 문제\n",
    "\n",
    "종구는 고등학생이 되어 수열의 개념을 배우게 되었습니다. 등차수열은 연속하는 두 항의 차이가 모두 일정한 수열을 의미합니다. \n",
    "다만 종구는 아직 등차수열의 개념이 익숙하지 않아서 자신의 연산이 정확한지 검증해주는 프로그램이 있으면 좋겠다고 생각했습니다.\n",
    "종구를 위해서 첫째 항 A, 두 항의 차이 B, 몇 번째 항인지 나타내는 N이 입력 되었을 때 N번째의 항을 출력하는 프로그램을 작성해주세요"
   ]
  },
  {
   "cell_type": "markdown",
   "id": "043c9867",
   "metadata": {},
   "source": [
    "#### 예제 입력1\n",
    "\n",
    "3 5 7\n",
    "\n",
    "#### 예제 출력1\n",
    "\n",
    "33\n",
    "\n",
    "#### 예제 입력2\n",
    "\n",
    "1 2 2\n",
    "\n",
    "#### 예제 출력2\n",
    "\n",
    "3"
   ]
  },
  {
   "cell_type": "markdown",
   "id": "3cec3b00",
   "metadata": {},
   "source": [
    "#### 입력값 설명\n",
    "\n",
    "첫째 줄에 첫째 항을 의미하는 정수 A, 두 항의 차이를 의미하는 정수 B, 몇 번째 항인지 나타내는 자연수 N이 공백으로 구분되어 입력됩니다. (0 ≤ A, B ≤ 100, 1 ≤ N ≤ 100)\n",
    "\n",
    "#### 출력값 설명\n",
    "\n",
    "첫째 줄에 등차수열의 N번째 항을 출력하세요."
   ]
  },
  {
   "cell_type": "code",
   "execution_count": 2,
   "id": "75e3d7f7",
   "metadata": {},
   "outputs": [
    {
     "name": "stdout",
     "output_type": "stream",
     "text": [
      "1 2 2\n",
      "3\n"
     ]
    }
   ],
   "source": [
    "import sys\n",
    "A, B, N = map(int, input().split()) #정수형으로\n",
    "answer = A + B * (N-1)\n",
    "\n",
    "print(answer)"
   ]
  },
  {
   "cell_type": "code",
   "execution_count": null,
   "id": "981add9b",
   "metadata": {},
   "outputs": [],
   "source": []
  }
 ],
 "metadata": {
  "kernelspec": {
   "display_name": "Python 3 (ipykernel)",
   "language": "python",
   "name": "python3"
  },
  "language_info": {
   "codemirror_mode": {
    "name": "ipython",
    "version": 3
   },
   "file_extension": ".py",
   "mimetype": "text/x-python",
   "name": "python",
   "nbconvert_exporter": "python",
   "pygments_lexer": "ipython3",
   "version": "3.9.13"
  }
 },
 "nbformat": 4,
 "nbformat_minor": 5
}
