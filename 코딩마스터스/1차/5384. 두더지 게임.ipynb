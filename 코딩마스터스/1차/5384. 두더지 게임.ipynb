{
 "cells": [
  {
   "cell_type": "markdown",
   "id": "ecf48493",
   "metadata": {},
   "source": [
    "## 문제\n",
    "월미도 게임랜드에는 두더지 게임 기계가 있습니다. 기계는 8 X 8 칸의 판으로 이루어져 있고, 모양은 이러합니다.\n",
    "\n",
    "0 1 0 1 0 1 0 1\n",
    "\n",
    "1 0 1 0 1 0 1 0\n",
    "\n",
    "0 1 0 1 0 1 0 1\n",
    "\n",
    "1 0 1 0 1 0 1 0\n",
    "\n",
    "0 1 0 1 0 1 0 1\n",
    "\n",
    "1 0 1 0 1 0 1 0\n",
    "\n",
    "0 1 0 1 0 1 0 1\n",
    "\n",
    "1 0 1 0 1 0 1 0\n",
    "\n",
    "두더지는 0에 해당하는 위치에서만 올라올 수 있습니다. 1에 해당하는 칸에서는 두더지가 존재한다 해도 구멍이 막혀있어 올라올 수 없습니다. \n",
    "\n",
    "기계 아래 어느 칸에 두더지가 있는지에 대한 정보가 주어질 때, 두더지가 올라올 수 있는 칸의 개수를 알아내는 프로그램을 작성해주세요."
   ]
  },
  {
   "cell_type": "markdown",
   "id": "6c02c82f",
   "metadata": {},
   "source": [
    "### 예제 입력1\n",
    "\n",
    "TFFTTFTT\n",
    "FTFTFTTF\n",
    "TTTFTFTT\n",
    "TTTTFFTT\n",
    "TFTTFTFT\n",
    "TTTFFTTF\n",
    "TFTFTFTT\n",
    "TFTFTTFT\n",
    "\n",
    "### 예제 출력1\n",
    "\n",
    "9\n",
    "\n",
    "### 예제 입력2\n",
    "\n",
    "TFFTTFTT\n",
    "FTFTFTTF\n",
    "TTTFFTTF\n",
    "TFTFTFTT\n",
    "TFTFTTFT\n",
    "TTTFFTTF\n",
    "TFFTTFTT\n",
    "FTFTFTTF\n",
    "\n",
    "### 예제 출력2\n",
    "\n",
    "11"
   ]
  },
  {
   "cell_type": "markdown",
   "id": "695b6247",
   "metadata": {},
   "source": [
    "#### 입력값 설명\n",
    "\n",
    "총 8개의 줄에 걸쳐서 길이가 8이고 알파벳 대문자 T와 F로만 이루어진 문자열이 주어집니다.\n",
    "i번째 줄의 j번째 글자는 i번째 줄 j번째 칸의 기계 아래의 상태를 의미합니다.\n",
    "\n",
    "이 문자가 T라면 기계 아래에 아무것도 없는 칸을 의미하고, F라면 기계 아래에 두더지가 있는 칸임을 의미합니다.\n",
    "\n",
    "#### 출력값 설명\n",
    "\n",
    "두더지가 올라올 수 있는 칸의 개수를 출력합니다."
   ]
  },
  {
   "cell_type": "code",
   "execution_count": 1,
   "id": "9c97ebcd",
   "metadata": {},
   "outputs": [
    {
     "data": {
      "text/plain": [
       "[[0, 1, 0, 1, 0, 1, 0, 1],\n",
       " [1, 0, 1, 0, 1, 0, 1, 0],\n",
       " [0, 1, 0, 1, 0, 1, 0, 1],\n",
       " [1, 0, 1, 0, 1, 0, 1, 0],\n",
       " [0, 1, 0, 1, 0, 1, 0, 1],\n",
       " [1, 0, 1, 0, 1, 0, 1, 0],\n",
       " [0, 1, 0, 1, 0, 1, 0, 1],\n",
       " [1, 0, 1, 0, 1, 0, 1, 0]]"
      ]
     },
     "execution_count": 1,
     "metadata": {},
     "output_type": "execute_result"
    }
   ],
   "source": [
    "TF = [8][8]\n",
    "for i in range(0, 8):\n",
    "    TF[i] = list(input())\n",
    "\n",
    "arr = [[0,1,0,1,0,1,0,1],\n",
    "      [1,0,1,0,1,0,1,0],\n",
    "      [0,1,0,1,0,1,0,1],\n",
    "      [1,0,1,0,1,0,1,0],\n",
    "      [0,1,0,1,0,1,0,1],\n",
    "      [1,0,1,0,1,0,1,0],\n",
    "      [0,1,0,1,0,1,0,1],\n",
    "      [1,0,1,0,1,0,1,0]]\n",
    "for i in arr"
   ]
  },
  {
   "cell_type": "code",
   "execution_count": null,
   "id": "873b1d2f",
   "metadata": {},
   "outputs": [],
   "source": []
  }
 ],
 "metadata": {
  "kernelspec": {
   "display_name": "Python 3 (ipykernel)",
   "language": "python",
   "name": "python3"
  },
  "language_info": {
   "codemirror_mode": {
    "name": "ipython",
    "version": 3
   },
   "file_extension": ".py",
   "mimetype": "text/x-python",
   "name": "python",
   "nbconvert_exporter": "python",
   "pygments_lexer": "ipython3",
   "version": "3.9.13"
  }
 },
 "nbformat": 4,
 "nbformat_minor": 5
}
