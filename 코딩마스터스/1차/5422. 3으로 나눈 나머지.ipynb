{
 "cells": [
  {
   "cell_type": "markdown",
   "id": "c36788f7",
   "metadata": {},
   "source": [
    "## 문제\n",
    "철수, 영희, 민수 세 사람이 피자를 나눠먹으려고 합니다.\n",
    "\n",
    "피자는 N개의 조각으로 나누어져 있습니다. 모든 조각의 모양과 크기는 동일합니다. 세 사람 모두 똑같은 개수의 조각을 먹고, 남은 조각들은 냉장고에 넣어두기로 했습니다.\n",
    "\n",
    "냉장고에 넣어둘 조각의 최소 개수를 구하는 프로그램을 작성해주세요"
   ]
  },
  {
   "cell_type": "markdown",
   "id": "b8704a24",
   "metadata": {},
   "source": [
    "### 예제 입력1\n",
    "\n",
    "5\n",
    "\n",
    "### 예제 출력1\n",
    "\n",
    "2\n",
    "\n",
    "### 예제 입력2\n",
    "\n",
    "7\n",
    "\n",
    "### 예제 출력2\n",
    "\n",
    "1"
   ]
  },
  {
   "cell_type": "markdown",
   "id": "5d6d230e",
   "metadata": {},
   "source": [
    "#### 입력값 설명\n",
    "\n",
    "첫째 줄에 양의 정수 N이 주어집니다. (1 ≤ N ≤ 100)\n",
    "\n",
    "#### 출력값 설명\n",
    "\n",
    "첫째 줄에 정답을 출력하세요."
   ]
  },
  {
   "cell_type": "code",
   "execution_count": 1,
   "id": "9f5ff821",
   "metadata": {},
   "outputs": [
    {
     "name": "stdout",
     "output_type": "stream",
     "text": [
      "5\n",
      "2\n"
     ]
    }
   ],
   "source": [
    "N = int(input())\n",
    "print(N%3)"
   ]
  },
  {
   "cell_type": "code",
   "execution_count": null,
   "id": "83a1d0a5",
   "metadata": {},
   "outputs": [],
   "source": []
  }
 ],
 "metadata": {
  "kernelspec": {
   "display_name": "Python 3 (ipykernel)",
   "language": "python",
   "name": "python3"
  },
  "language_info": {
   "codemirror_mode": {
    "name": "ipython",
    "version": 3
   },
   "file_extension": ".py",
   "mimetype": "text/x-python",
   "name": "python",
   "nbconvert_exporter": "python",
   "pygments_lexer": "ipython3",
   "version": "3.9.13"
  }
 },
 "nbformat": 4,
 "nbformat_minor": 5
}
