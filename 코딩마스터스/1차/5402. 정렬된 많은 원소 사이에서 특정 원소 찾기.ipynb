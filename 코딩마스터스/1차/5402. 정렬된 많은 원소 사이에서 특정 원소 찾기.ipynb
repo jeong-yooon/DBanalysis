{
 "cells": [
  {
   "cell_type": "markdown",
   "id": "6386e00b",
   "metadata": {},
   "source": [
    "## 문제\n",
    "N개의 서로 다른 정수가 정렬된 상태로 입력이 될 때 특정한 원소 A가 몇 번째에 위치해 있는지 알려주는 프로그램을 작성해주세요. 단 특정한 원소 A를 찾을 수 없을 때는 -1을 출력합니다."
   ]
  },
  {
   "cell_type": "markdown",
   "id": "3924bd58",
   "metadata": {},
   "source": [
    "### 예제 입력1\n",
    "\n",
    "10 7\n",
    "1 2 3 4 5 6 7 8 9 10\n",
    "\n",
    "### 예제 출력1\n",
    "\n",
    "7\n",
    "\n",
    "### 예제 입력2\n",
    "\n",
    "5 9\n",
    "1 3 5 7 9\n",
    "\n",
    "### 예제 출력2\n",
    "\n",
    "5"
   ]
  },
  {
   "cell_type": "markdown",
   "id": "8f088e2b",
   "metadata": {},
   "source": [
    "#### 입력값 설명\n",
    "\n",
    "첫째 줄에 정수의 개수 N과 특정한 원소 A가 공백으로 구분되어 입력됩니다. (1 ≤ N ≤ 1,000,000, 1≤ A ≤ 10,000,000)\n",
    "이후에 N개의 서로다른 정수 K가 공백을 기준으로 입력됩니다. (1 ≤ K ≤ 10,000,000)\n",
    "\n",
    "### 출력값 설명\n",
    "\n",
    "특정한 원소 A가 몇 번째에 위치해 있는지 출력합니다. 단 특정한 원소 A를 찾을 수 없을 때는 -1을 출력합니다."
   ]
  },
  {
   "cell_type": "code",
   "execution_count": 9,
   "id": "d96ad827",
   "metadata": {},
   "outputs": [
    {
     "name": "stdout",
     "output_type": "stream",
     "text": [
      "5 2\n",
      "1 3 4 5 6\n",
      "-1\n"
     ]
    }
   ],
   "source": [
    "N, A = map(int, input().split())\n",
    "B = list(map(int, input().split()))\n",
    "for i in range(0, N):\n",
    "    if B[i] == A:\n",
    "        print(i+1)\n",
    "        break\n",
    "    elif i == N-1:\n",
    "        print('-1')"
   ]
  },
  {
   "cell_type": "code",
   "execution_count": null,
   "id": "202c898e",
   "metadata": {},
   "outputs": [],
   "source": []
  }
 ],
 "metadata": {
  "kernelspec": {
   "display_name": "Python 3 (ipykernel)",
   "language": "python",
   "name": "python3"
  },
  "language_info": {
   "codemirror_mode": {
    "name": "ipython",
    "version": 3
   },
   "file_extension": ".py",
   "mimetype": "text/x-python",
   "name": "python",
   "nbconvert_exporter": "python",
   "pygments_lexer": "ipython3",
   "version": "3.9.13"
  }
 },
 "nbformat": 4,
 "nbformat_minor": 5
}
