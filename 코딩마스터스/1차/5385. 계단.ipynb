{
 "cells": [
  {
   "cell_type": "markdown",
   "id": "d939acb1",
   "metadata": {},
   "source": [
    "## 문제\n",
    "민수와 진희는 계단을 내려가다가 재밌는 생각이 떠올라 게임을 하려고 합니다. 게임의 규칙은 간단합니다. 진희는 가만히 있고, 민수는 진희와 다른 위치에서 시작합니다. 민수는 계단을 세 칸 위로 올라가거나 한 칸 아래로 내려갈 수 있습니다. 다른 방법으로 움직이는 경우는 없습니다. 민수가 최소한의 횟수로 움직여 진희와 같은 계단에 도착하는 프로그램을 작성해주세요."
   ]
  },
  {
   "cell_type": "markdown",
   "id": "ce5ac1f0",
   "metadata": {},
   "source": [
    "### 예제 입력1\n",
    "\n",
    "3 40\n",
    "\n",
    "### 예제 출력1\n",
    "\n",
    "15\n",
    "\n",
    "### 예제 입력2\n",
    "\n",
    "23 145\n",
    "\n",
    "### 예제 출력2\n",
    "\n",
    "42"
   ]
  },
  {
   "cell_type": "markdown",
   "id": "18a60980",
   "metadata": {},
   "source": [
    "#### 입력값 설명\n",
    "\n",
    "첫 번째 줄에 민수가 서있는 계단의 좌표 N과, 진희가 있는 좌표 K가 주어집니다. K는 N보다 크며, N과 K는 각각 1 이상 100,000 이하의 자연수입니다.\n",
    "\n",
    "#### 출력값 설명\n",
    "\n",
    "민수가 진희와 같은 계단에 서있게 되도록 움직이는 최소 횟수를 출력합니다."
   ]
  },
  {
   "cell_type": "code",
   "execution_count": 7,
   "id": "01939855",
   "metadata": {},
   "outputs": [
    {
     "name": "stdout",
     "output_type": "stream",
     "text": [
      "23 145\n",
      "42\n"
     ]
    }
   ],
   "source": [
    "A, B = map(int, input().split())\n",
    "if (B - A) % 3 == 0:\n",
    "    print((B - A) // 3)\n",
    "else:\n",
    "    sum = (B - A) // 3 + 1 + (3 - (B - A) % 3)\n",
    "    print(sum)"
   ]
  },
  {
   "cell_type": "code",
   "execution_count": null,
   "id": "489ecedb",
   "metadata": {},
   "outputs": [],
   "source": []
  }
 ],
 "metadata": {
  "kernelspec": {
   "display_name": "Python 3 (ipykernel)",
   "language": "python",
   "name": "python3"
  },
  "language_info": {
   "codemirror_mode": {
    "name": "ipython",
    "version": 3
   },
   "file_extension": ".py",
   "mimetype": "text/x-python",
   "name": "python",
   "nbconvert_exporter": "python",
   "pygments_lexer": "ipython3",
   "version": "3.9.13"
  }
 },
 "nbformat": 4,
 "nbformat_minor": 5
}
