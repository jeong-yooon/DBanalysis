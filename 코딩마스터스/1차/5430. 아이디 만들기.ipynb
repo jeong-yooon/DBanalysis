{
 "cells": [
  {
   "cell_type": "markdown",
   "id": "d38a9031",
   "metadata": {},
   "source": [
    "## 문제\n",
    "외로운 현우는 미소녀 연애 시뮬레이션 게임을 하려고 합니다. 다운로드를 끝내고 게임에 접속하니 아이디를 만들라는 창이 등장했습니다. 아이디는 영어로만 쓸 수 있고, 20글자를 넘어가면 안 됩니다. 현우가 정한 아이디의 생성 가능여부를 출력해주세요"
   ]
  },
  {
   "cell_type": "markdown",
   "id": "8e141147",
   "metadata": {},
   "source": [
    "### 예제 입력1\n",
    "\n",
    "abcdefghijklmnopqrstuvwxyz\n",
    "\n",
    "### 예제 출력1\n",
    "\n",
    "I\n",
    "\n",
    "### 예제 입력2\n",
    "\n",
    "ABC\n",
    "\n",
    "### 예제 출력2\n",
    "\n",
    "P"
   ]
  },
  {
   "cell_type": "markdown",
   "id": "e0fc3bd9",
   "metadata": {},
   "source": [
    "#### 입력값 설명\n",
    "\n",
    "첫째 줄에 영어 소문자와 대문자로만 이루어진 아이디가 주어집니다. 입력되는 아이디의 길이는 100자를 넘어가지 않습니다.\n",
    "\n",
    "#### 출력값 설명\n",
    "\n",
    "첫째 줄에 아이디의 생성여부를 출력하세요. 사용할 수 있는 아이디라면 \"P\"라고 출력하고, 사용할 수 없다면 \"I\"라고 출력하세요."
   ]
  },
  {
   "cell_type": "code",
   "execution_count": 10,
   "id": "f84563b0",
   "metadata": {},
   "outputs": [
    {
     "name": "stdout",
     "output_type": "stream",
     "text": [
      "asv\n",
      "P\n"
     ]
    }
   ],
   "source": [
    "ID = input()\n",
    "if len(ID) < 20 and ID.isalpha():\n",
    "    print('P')\n",
    "else:\n",
    "    print('I')"
   ]
  },
  {
   "cell_type": "code",
   "execution_count": null,
   "id": "7c93c2f5",
   "metadata": {},
   "outputs": [],
   "source": []
  },
  {
   "cell_type": "code",
   "execution_count": null,
   "id": "4770709d",
   "metadata": {},
   "outputs": [],
   "source": []
  }
 ],
 "metadata": {
  "kernelspec": {
   "display_name": "Python 3 (ipykernel)",
   "language": "python",
   "name": "python3"
  },
  "language_info": {
   "codemirror_mode": {
    "name": "ipython",
    "version": 3
   },
   "file_extension": ".py",
   "mimetype": "text/x-python",
   "name": "python",
   "nbconvert_exporter": "python",
   "pygments_lexer": "ipython3",
   "version": "3.9.13"
  }
 },
 "nbformat": 4,
 "nbformat_minor": 5
}
