{
 "cells": [
  {
   "cell_type": "markdown",
   "id": "2fa8a70f",
   "metadata": {},
   "source": [
    "## 문제\n",
    "가영이는 숫자 10을 너무나 사랑합니다. 그래서 가영이의 친구 나영이는 가영이의 10번째 생일이 되는 날 특별한 생일 선물을 하려고 합니다. \n",
    "\n",
    "바로 자연수가 입력되면 그 10배가 출력되는 프로그램입니다. \n",
    "\n",
    "\n",
    "\n",
    "나영이는 이 프로그램을 직접 만들어서 가영이에게 선물하고 싶었지만, 나영이는 프로그래밍을 잘 모릅니다. \n",
    "\n",
    "그래서 프로그래밍을 잘 알고 있는 여러분께 살짝 도움을 요청했습니다. \n",
    "\n",
    "나영이를 위해 자연수가 입력되면 그 자연수의 10배인 자연수를 출력하는 프로그램을 작성해주세요. "
   ]
  },
  {
   "cell_type": "markdown",
   "id": "690077e2",
   "metadata": {},
   "source": [
    "### 예제 입력1\n",
    "\n",
    "4\n",
    "\n",
    "### 예제 출력1\n",
    "\n",
    "40\n",
    "\n",
    "### 예제 입력2\n",
    "\n",
    "23\n",
    "\n",
    "### 예제 출력2\n",
    "\n",
    "230"
   ]
  },
  {
   "cell_type": "markdown",
   "id": "8df4eeef",
   "metadata": {},
   "source": [
    "#### 입력값 설명\n",
    "\n",
    "첫째 줄에 자연수가 하나 주어집니다. 입력되는 값은 100 미만의 자연수입니다.\n",
    "\n",
    "#### 출력값 설명\n",
    "\n",
    "첫째 줄에 주어진 자연수의 10배인 자연수를 출력하세요."
   ]
  },
  {
   "cell_type": "code",
   "execution_count": 1,
   "id": "4ed5df6b",
   "metadata": {},
   "outputs": [
    {
     "name": "stdout",
     "output_type": "stream",
     "text": [
      "34\n",
      "340\n"
     ]
    }
   ],
   "source": [
    "N = int(input())\n",
    "print(N * 10)"
   ]
  },
  {
   "cell_type": "code",
   "execution_count": null,
   "id": "f6a55730",
   "metadata": {},
   "outputs": [],
   "source": []
  }
 ],
 "metadata": {
  "kernelspec": {
   "display_name": "Python 3 (ipykernel)",
   "language": "python",
   "name": "python3"
  },
  "language_info": {
   "codemirror_mode": {
    "name": "ipython",
    "version": 3
   },
   "file_extension": ".py",
   "mimetype": "text/x-python",
   "name": "python",
   "nbconvert_exporter": "python",
   "pygments_lexer": "ipython3",
   "version": "3.9.13"
  }
 },
 "nbformat": 4,
 "nbformat_minor": 5
}
