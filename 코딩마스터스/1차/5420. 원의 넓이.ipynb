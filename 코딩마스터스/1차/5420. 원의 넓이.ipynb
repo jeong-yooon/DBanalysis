{
 "cells": [
  {
   "cell_type": "markdown",
   "id": "8faa28eb",
   "metadata": {},
   "source": [
    "## 문제\n",
    "영태는 학교에서 원의 반지름과 원의 넓이의 관계에 대해 배웠습니다. 잘 알려진 바와 같이, 원의 넓이는 반지름 × 반지름 × 원주율과 같습니다. 영태는 아직 초등학생이기 때문에 원주율(PI)의 값은 소수점 두 자리까지, 즉 3.14로 합니다. 원의 반지름이 주어지면 원의 넓이를 출력하는 프로그램을 작성해주세요"
   ]
  },
  {
   "cell_type": "markdown",
   "id": "2ca21a81",
   "metadata": {},
   "source": [
    "### 예제 입력1\n",
    "\n",
    "10\n",
    "\n",
    "### 예제 출력1\n",
    "\n",
    "314\n",
    "\n",
    "### 예제 입력2\n",
    "\n",
    "5\n",
    "\n",
    "### 예제 출력2\n",
    "\n",
    "78.5"
   ]
  },
  {
   "cell_type": "markdown",
   "id": "4bdc89ec",
   "metadata": {},
   "source": [
    "#### 입력값 설명\n",
    "\n",
    "첫째 줄에 원의 반지름 R이 입력됩니다. (1 ≤ R ≤ 1,000, R은 정수)\n",
    "\n",
    "#### 출력값 설명\n",
    "\n",
    "첫째 줄에 원의 넓이를 출력하세요. 소수 부분은 0으로 끝나지 않아야 하며, 답이 정수인 경우 소수 부분을 아예 출력하지 않습니다."
   ]
  },
  {
   "cell_type": "code",
   "execution_count": 4,
   "id": "95ecae51",
   "metadata": {},
   "outputs": [
    {
     "name": "stdout",
     "output_type": "stream",
     "text": [
      "10\n",
      "314\n"
     ]
    }
   ],
   "source": [
    "R = int(input())\n",
    "weight = R*R*3.14\n",
    "weight = round(weight, 2)\n",
    "print(\"%g\" %weight)"
   ]
  },
  {
   "cell_type": "code",
   "execution_count": null,
   "id": "646c2e3b",
   "metadata": {},
   "outputs": [],
   "source": []
  }
 ],
 "metadata": {
  "kernelspec": {
   "display_name": "Python 3 (ipykernel)",
   "language": "python",
   "name": "python3"
  },
  "language_info": {
   "codemirror_mode": {
    "name": "ipython",
    "version": 3
   },
   "file_extension": ".py",
   "mimetype": "text/x-python",
   "name": "python",
   "nbconvert_exporter": "python",
   "pygments_lexer": "ipython3",
   "version": "3.9.13"
  }
 },
 "nbformat": 4,
 "nbformat_minor": 5
}
