{
 "cells": [
  {
   "cell_type": "code",
   "execution_count": 1,
   "id": "91b7a5a4",
   "metadata": {},
   "outputs": [
    {
     "name": "stdout",
     "output_type": "stream",
     "text": [
      "3\n",
      "d\n",
      "g\n",
      "d\n"
     ]
    },
    {
     "data": {
      "text/plain": [
       "['d', 'g', 'd']"
      ]
     },
     "execution_count": 1,
     "metadata": {},
     "output_type": "execute_result"
    }
   ],
   "source": [
    "N = int(input())\n",
    "arr = [0] * N\n",
    "for i in range(0, N):\n",
    "    arr[i] = input()\n"
   ]
  },
  {
   "cell_type": "code",
   "execution_count": null,
   "id": "51a3bdae",
   "metadata": {},
   "outputs": [],
   "source": []
  }
 ],
 "metadata": {
  "kernelspec": {
   "display_name": "Python 3 (ipykernel)",
   "language": "python",
   "name": "python3"
  },
  "language_info": {
   "codemirror_mode": {
    "name": "ipython",
    "version": 3
   },
   "file_extension": ".py",
   "mimetype": "text/x-python",
   "name": "python",
   "nbconvert_exporter": "python",
   "pygments_lexer": "ipython3",
   "version": "3.9.13"
  }
 },
 "nbformat": 4,
 "nbformat_minor": 5
}
