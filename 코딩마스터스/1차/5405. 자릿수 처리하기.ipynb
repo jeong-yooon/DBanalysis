{
 "cells": [
  {
   "cell_type": "markdown",
   "id": "52a6ff33",
   "metadata": {},
   "source": [
    "## 문제\n",
    "초등학교 2학년인 또리는 요즘 머릿속으로 하는 숫자놀이에 푹 빠져있습니다. 또리는 자연수 N이 주어졌을 때 N의 자릿수를 뒤집은 숫자와 각 자릿수의 합을 생각합니다. 이런 또리를 좋아하는 친구 빅은 또리와 놀고 싶었습니다. 하지만 빅은 계산을 잘하지 못합니다. \n",
    "\n",
    "계산을 잘 하지 못하는 빅을 도와 자연수 N이 주어졌을 때 N의 자릿수를 뒤집은 숫자와 각 자릿수의 합을 각각 출력하는 프로그램을 작성해주세요. 이때 뒤집은 숫자가 0으로 시작하는 경우, 0을 생략하고 출력합니다.\n",
    "\n",
    "예를 들어 N = 200일 때, 자릿수를 뒤집은 숫자는 002이며, 각 자릿수의 합은 2입니다. 따라서 2와 2를 줄로 구분하여 출력합니다."
   ]
  },
  {
   "cell_type": "markdown",
   "id": "ab052375",
   "metadata": {},
   "source": [
    "### 예제 입력1\n",
    "\n",
    "72\n",
    "\n",
    "### 예제 출력1\n",
    "\n",
    "27\n",
    "9\n",
    "\n",
    "### 예제 입력2\n",
    "\n",
    "200\n",
    "\n",
    "### 예제 출력2\n",
    "\n",
    "2\n",
    "2"
   ]
  },
  {
   "cell_type": "markdown",
   "id": "36ec5731",
   "metadata": {},
   "source": [
    "#### 입력값 설명\n",
    "\n",
    "자연수 N이 입력됩니다. (1 ≤ N ≤ 50,000)\n",
    "\n",
    "#### 출력값 설명\n",
    "\n",
    "첫째 줄에 자릿수를 뒤집은 숫자를 출력합니다.\n",
    "둘째 줄에 각 자릿수의 합을 출력합니다."
   ]
  },
  {
   "cell_type": "code",
   "execution_count": 4,
   "id": "1c87b0e1",
   "metadata": {},
   "outputs": [
    {
     "ename": "SyntaxError",
     "evalue": "invalid syntax (1211861180.py, line 3)",
     "output_type": "error",
     "traceback": [
      "\u001b[1;36m  File \u001b[1;32m\"C:\\Users\\User\\AppData\\Local\\Temp\\ipykernel_2820\\1211861180.py\"\u001b[1;36m, line \u001b[1;32m3\u001b[0m\n\u001b[1;33m    print(int(N[::-1]),end=' ')\u001b[0m\n\u001b[1;37m    ^\u001b[0m\n\u001b[1;31mSyntaxError\u001b[0m\u001b[1;31m:\u001b[0m invalid syntax\n"
     ]
    }
   ],
   "source": [
    "N = input()\n",
    "M = list(map(int, N.split())\n",
    "print(int(N[::-1]),end=' ')\n",
    "for i in M:\n",
    "    sum += i\n",
    "print(sum)"
   ]
  },
  {
   "cell_type": "code",
   "execution_count": null,
   "id": "596be346",
   "metadata": {},
   "outputs": [],
   "source": []
  }
 ],
 "metadata": {
  "kernelspec": {
   "display_name": "Python 3 (ipykernel)",
   "language": "python",
   "name": "python3"
  },
  "language_info": {
   "codemirror_mode": {
    "name": "ipython",
    "version": 3
   },
   "file_extension": ".py",
   "mimetype": "text/x-python",
   "name": "python",
   "nbconvert_exporter": "python",
   "pygments_lexer": "ipython3",
   "version": "3.9.13"
  }
 },
 "nbformat": 4,
 "nbformat_minor": 5
}
