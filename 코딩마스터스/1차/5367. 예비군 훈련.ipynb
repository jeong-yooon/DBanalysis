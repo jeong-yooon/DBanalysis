{
 "cells": [
  {
   "cell_type": "code",
   "execution_count": null,
   "id": "3f4782fb",
   "metadata": {},
   "outputs": [],
   "source": [
    "year, army, YN, position = input().split()\n",
    "if position == 'Private':\n",
    "    if year == 0 and YN == 'N':\n",
    "        count = 0\n",
    "    elif year >= 1 and year <= 4 and YN =='N' and army == 'ROKA' and army == 'ROKN':\n",
    "        count = 32\n",
    "    elif year >= 1 and year <= 4 and YN =='Y':\n",
    "        count = 28\n",
    "    elif year >= 1 and year <= 4 and YN =='N' and army == 'ROKAF':\n",
    "        count = 28\n",
    "    elif year >= 5 and year <= 6 and YN =='N':\n",
    "        count = 20\n",
    "else:\n",
    "    if year == 0 and YN == 'N':\n",
    "        count = 0\n",
    "    else:\n",
    "        count = 28\n",
    "print(count)"
   ]
  }
 ],
 "metadata": {
  "kernelspec": {
   "display_name": "Python 3 (ipykernel)",
   "language": "python",
   "name": "python3"
  },
  "language_info": {
   "codemirror_mode": {
    "name": "ipython",
    "version": 3
   },
   "file_extension": ".py",
   "mimetype": "text/x-python",
   "name": "python",
   "nbconvert_exporter": "python",
   "pygments_lexer": "ipython3",
   "version": "3.9.13"
  }
 },
 "nbformat": 4,
 "nbformat_minor": 5
}
