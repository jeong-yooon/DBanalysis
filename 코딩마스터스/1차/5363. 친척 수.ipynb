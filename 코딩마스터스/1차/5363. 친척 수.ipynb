{
 "cells": [
  {
   "cell_type": "code",
   "execution_count": null,
   "id": "a77b167c",
   "metadata": {},
   "outputs": [],
   "source": [
    "N = int(input())\n",
    "arr = [0] * N\n",
    "for i in range (0, N):\n",
    "    arr[i] = int(input())\n",
    "for j in arr:\n",
    "    "
   ]
  }
 ],
 "metadata": {
  "kernelspec": {
   "display_name": "Python 3 (ipykernel)",
   "language": "python",
   "name": "python3"
  },
  "language_info": {
   "codemirror_mode": {
    "name": "ipython",
    "version": 3
   },
   "file_extension": ".py",
   "mimetype": "text/x-python",
   "name": "python",
   "nbconvert_exporter": "python",
   "pygments_lexer": "ipython3",
   "version": "3.9.13"
  }
 },
 "nbformat": 4,
 "nbformat_minor": 5
}
