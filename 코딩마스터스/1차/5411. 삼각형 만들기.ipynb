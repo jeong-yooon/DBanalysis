{
 "cells": [
  {
   "cell_type": "markdown",
   "id": "a5a91486",
   "metadata": {},
   "source": [
    "## 문제\n",
    "현지는 '별 찍기' 문제를 풀고있습니다. '별 찍기' 문제는 예제를 통해 규칙을 추론하고, 규칙에 맞게 ' * '을 반복하여 출력하는 프로그램을 작성하는 문제입니다.\n",
    "\n",
    "현지는 아직 프로그래밍에 익숙하지 않기 때문에 이미 작성된 코드를 따라해보면서 공부합니다. 그런데 이번문제에서 현지는 참고할 코드를 하나도 찾을 수 없었습니다. 현지를 위해 다음 별찍기 문제를 해결하는 프로그램을 작성해주세요.\n",
    "\n",
    "\n",
    "\n",
    "문제 : 크기가 N(1 ≤ N ≤ 20)인 삼각형을 출력해주세요.\n",
    "\n",
    "N이 1일 때\n",
    "\n",
    "*\n",
    "\n",
    "\n",
    "\n",
    "N이 2일 때\n",
    "\n",
    "*\n",
    "\n",
    "**\n",
    "\n",
    "\n",
    "\n",
    "N이 3일 때\n",
    "\n",
    "*\n",
    "\n",
    "**\n",
    "\n",
    "/***\n",
    "\n",
    "\n",
    "\n",
    "N이 4일 때\n",
    "\n",
    "*\n",
    "\n",
    "**\n",
    "\n",
    "/***\n",
    "\n",
    "/****"
   ]
  },
  {
   "cell_type": "markdown",
   "id": "40718a11",
   "metadata": {},
   "source": [
    "### 예제 입력1\n",
    "\n",
    "1\n",
    "\n",
    "### 예제 출력1\n",
    "\n",
    "*\n",
    "\n",
    "### 예제 입력2\n",
    "\n",
    "4\n",
    "\n",
    "### 예제 출력2\n",
    "\n",
    "*\n",
    "\n",
    "**\n",
    "\n",
    "/***\n",
    "\n",
    "/****"
   ]
  },
  {
   "cell_type": "markdown",
   "id": "fee1a42a",
   "metadata": {},
   "source": [
    "#### 입력값 설명\n",
    "\n",
    "첫 번째 줄에 정수 N가 입력됩니다. (1 ≤ N ≤ 20)\n",
    "\n",
    "#### 출력값 설명\n",
    "\n",
    "크기가 N인 삼각형 피라미드를 출력하세요."
   ]
  },
  {
   "cell_type": "code",
   "execution_count": 1,
   "id": "77296c65",
   "metadata": {},
   "outputs": [
    {
     "name": "stdout",
     "output_type": "stream",
     "text": [
      "4\n",
      "*\n",
      "**\n",
      "***\n",
      "****\n"
     ]
    }
   ],
   "source": [
    "N = int(input())\n",
    "for i in range(1, N+1):\n",
    "    print('*'*i)"
   ]
  },
  {
   "cell_type": "code",
   "execution_count": null,
   "id": "eb9da5a2",
   "metadata": {},
   "outputs": [],
   "source": []
  }
 ],
 "metadata": {
  "kernelspec": {
   "display_name": "Python 3 (ipykernel)",
   "language": "python",
   "name": "python3"
  },
  "language_info": {
   "codemirror_mode": {
    "name": "ipython",
    "version": 3
   },
   "file_extension": ".py",
   "mimetype": "text/x-python",
   "name": "python",
   "nbconvert_exporter": "python",
   "pygments_lexer": "ipython3",
   "version": "3.9.13"
  }
 },
 "nbformat": 4,
 "nbformat_minor": 5
}
