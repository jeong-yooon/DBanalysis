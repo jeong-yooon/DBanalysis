{
 "cells": [
  {
   "cell_type": "markdown",
   "id": "629b96cd",
   "metadata": {},
   "source": [
    "## 문제\n",
    "아스키(ASCII, American Standard Code for Information Interchange)는 문자 인코딩의 한 종류입니다. 아스키에서 128개의 문자는 각각 0 이상 128 미만의 정수에 대응됩니다.\n",
    "\n",
    "\n",
    "\n",
    "10진수 정수 A를 입력받고, 아스키 표에 따라 정수 A를 문자로 변환하여 출력하는 프로그램을 작성해주세요"
   ]
  },
  {
   "cell_type": "markdown",
   "id": "fb4931fb",
   "metadata": {},
   "source": [
    "### 예제 입력1\n",
    "\n",
    "65\n",
    "\n",
    "### 예제 출력1\n",
    "\n",
    "A\n",
    "\n",
    "### 예제 입력2\n",
    "\n",
    "66\n",
    "\n",
    "### 예제 출력2\n",
    "\n",
    "B"
   ]
  },
  {
   "cell_type": "markdown",
   "id": "573a98be",
   "metadata": {},
   "source": [
    "#### 입력값 설명\n",
    "\n",
    "10진수 정수 A가 입력됩니다. (65 ≤ A ≤ 90)\n",
    "\n",
    "#### 출력값 설명\n",
    "\n",
    "첫째 줄에 정답을 출력하세요."
   ]
  },
  {
   "cell_type": "code",
   "execution_count": 1,
   "id": "dcfb5965",
   "metadata": {},
   "outputs": [
    {
     "name": "stdout",
     "output_type": "stream",
     "text": [
      "65\n",
      "A\n"
     ]
    }
   ],
   "source": [
    "# -*- coding: utf-8 -*-\n",
    "import sys\n",
    "A = int(input())\n",
    "print(chr(A))"
   ]
  },
  {
   "cell_type": "code",
   "execution_count": null,
   "id": "49815c5b",
   "metadata": {},
   "outputs": [],
   "source": []
  }
 ],
 "metadata": {
  "kernelspec": {
   "display_name": "Python 3 (ipykernel)",
   "language": "python",
   "name": "python3"
  },
  "language_info": {
   "codemirror_mode": {
    "name": "ipython",
    "version": 3
   },
   "file_extension": ".py",
   "mimetype": "text/x-python",
   "name": "python",
   "nbconvert_exporter": "python",
   "pygments_lexer": "ipython3",
   "version": "3.9.13"
  }
 },
 "nbformat": 4,
 "nbformat_minor": 5
}
