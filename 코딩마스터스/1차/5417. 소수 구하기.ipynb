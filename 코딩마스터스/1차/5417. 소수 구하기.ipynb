{
 "cells": [
  {
   "cell_type": "markdown",
   "id": "2ab94848",
   "metadata": {},
   "source": [
    "## 문제\n",
    "소수 정리'란 어떤 자연수 이하의 소수가 몇 개나 있는지 그 값을 어림할 수 있는 정리입니다.\n",
    "\n",
    "이 정리가 맞는지 의구심이 들은 진수는 직접 확인해 보기로 했습니다. 한참을 계산하던 진수는 소수의 개수를 헤아리는데 몹시 많은 시간일 든다는 걸 깨닫고 여러분들께 도움을 구했습니다. 진수를 위해 자연수 N 이하의 소수 개수를 출력하는 프로그램을 작성해주세요.\n",
    "\n",
    "이때 소수란 양의 약수가 자기 자신과 1만 존재하는 수를 말합니다. 또한 어떤 정수 A가 어떤 정수 B의 약수라는 것은 B를 A로 나누었을 때 나누어 떨어짐을 의미합니다."
   ]
  },
  {
   "cell_type": "markdown",
   "id": "4dcf9bb1",
   "metadata": {},
   "source": [
    "### 예제 입력1\n",
    "\n",
    "978\n",
    "\n",
    "### 예제 출력1\n",
    "\n",
    "165\n",
    "\n",
    "### 예제 입력2\n",
    "\n",
    "99\n",
    "\n",
    "### 예제 출력2\n",
    "\n",
    "25"
   ]
  },
  {
   "cell_type": "markdown",
   "id": "2f96c95b",
   "metadata": {},
   "source": [
    "#### 입력값 설명\n",
    "\n",
    "첫 번째 줄에 1 이상 1000 이하의 자연수 N이 주어집니다.\n",
    "\n",
    "#### 출력값 설명\n",
    "\n",
    "1 이상 N 이하의 자연수 중에서의 소수의 개수를 출력하세요."
   ]
  },
  {
   "cell_type": "code",
   "execution_count": 8,
   "id": "c0f690b1",
   "metadata": {},
   "outputs": [
    {
     "name": "stdout",
     "output_type": "stream",
     "text": [
      "2\n",
      "1\n"
     ]
    }
   ],
   "source": [
    "# 약수가 자기 자신과 1만 존재하는 수\n",
    "N = int(input())\n",
    "count = 1\n",
    "for i in range(2, N+1):\n",
    "    for j in range(2, i):\n",
    "        if i%j == 0:\n",
    "            break\n",
    "        elif j == i-1:\n",
    "            count += 1\n",
    "        else:\n",
    "            continue\n",
    "print(count)"
   ]
  },
  {
   "cell_type": "code",
   "execution_count": null,
   "id": "2c094fb3",
   "metadata": {},
   "outputs": [],
   "source": []
  }
 ],
 "metadata": {
  "kernelspec": {
   "display_name": "Python 3 (ipykernel)",
   "language": "python",
   "name": "python3"
  },
  "language_info": {
   "codemirror_mode": {
    "name": "ipython",
    "version": 3
   },
   "file_extension": ".py",
   "mimetype": "text/x-python",
   "name": "python",
   "nbconvert_exporter": "python",
   "pygments_lexer": "ipython3",
   "version": "3.9.13"
  }
 },
 "nbformat": 4,
 "nbformat_minor": 5
}
