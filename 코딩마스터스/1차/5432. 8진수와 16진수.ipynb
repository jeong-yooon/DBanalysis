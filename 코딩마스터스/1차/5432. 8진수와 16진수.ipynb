{
 "cells": [
  {
   "cell_type": "markdown",
   "id": "7d6da2b9",
   "metadata": {},
   "source": [
    "## 문제\n",
    "\n",
    "중학생이 된 수진이는 수학시간에 어떤 음이아닌 정수 N을 b진수로 표현하는 방법을 배웠습니다.\n",
    "\n",
    "어떤 수를 b진수로 변환하려면 그 수를 0이 될 때까지 b로 나누고, 그 나머지를 거꾸로 읽어 올라가면 됩니다.\n",
    "\n",
    "\n",
    "\n",
    "예를 들어 99를 8진수로 변환하는 과정은 다음과 같습니다.\n",
    "\n",
    "99를 8로 나눈 몫은 12이고 나머지는 3입니다.\n",
    "\n",
    "12를 8로 나눈 몫은 1이고 나머지는 4입니다.\n",
    "\n",
    "1을 8로 나눈 몫은 0이고 나머지는 1입니다.\n",
    "\n",
    "나머지를 거꾸로 읽어 올라가면 143이므로 99를 8진수로 표현하면 143입니다.\n",
    "\n",
    "\n",
    "\n",
    "한편, 28을 16진수로 변환하는 과정은 다음과 같습니다.\n",
    "\n",
    "이때 나머지가 10-15 인 경우 편의상 A-F로 나타냅니다. 즉, 나머지가 10이면 A, 11이면 B, 12이면 C로 대신 표현합니다.\n",
    "\n",
    "28을 16으로 나누면 몫이 1이고 나머지는 12입니다. 즉 C입니다.\n",
    "\n",
    "1을 16으로 나누면 몫이 0이고 나머지는 1입니다.\n",
    "\n",
    "나머지를 거꾸로 읽어 올라가면 1C이므로 28을 16진수로 표현하면 1C입니다.\n",
    "\n",
    "\n",
    "\n",
    "수진이는 N을 8진수와 16진수로 표현해봤는데 본인이 맞게 표현했는지 궁금해졌습니다.\n",
    "\n",
    "수진이를 위해 10진수 N을 입력 받아 그 수의 8진수와 16진수 표현을 모두 출력하는 프로그램을 작성해주세요"
   ]
  },
  {
   "cell_type": "markdown",
   "id": "f205f78e",
   "metadata": {},
   "source": [
    "### 예제 입력1\n",
    "\n",
    "28\n",
    "\n",
    "### 예제 출력1\n",
    "\n",
    "34 1C\n",
    "\n",
    "### 예제 입력2\n",
    "\n",
    "99\n",
    "\n",
    "### 예제 출력2\n",
    "\n",
    "143 63"
   ]
  },
  {
   "cell_type": "markdown",
   "id": "e1faf15c",
   "metadata": {},
   "source": [
    "#### 입력값 설명\n",
    "\n",
    "10진수 정수 N이 입력됩니다. (0 ≤ N ≤ 1,000,000)\n",
    "\n",
    "#### 출력값 설명\n",
    "\n",
    "10진수 정수 N에 대해서 공백을 기준으로 8진수로 변환한 숫자와 16진수로 변환한 숫자를 출력하세요. 이 때 알파벳은 대문자로 출력하세요."
   ]
  },
  {
   "cell_type": "code",
   "execution_count": 14,
   "id": "70a392ae",
   "metadata": {},
   "outputs": [
    {
     "name": "stdout",
     "output_type": "stream",
     "text": [
      "99\n",
      "143 63"
     ]
    }
   ],
   "source": [
    "import sys\n",
    "N = int(input())\n",
    "a= N\n",
    "c= []\n",
    "while True:\n",
    "    if a == 0:\n",
    "        break\n",
    "    c.append(a % 8)\n",
    "    a = a // 8\n",
    "c.reverse()\n",
    "for i in c:\n",
    "    print(i, end='')\n",
    "print(end=' ')\n",
    "\n",
    "a= N\n",
    "b = 0\n",
    "c= []\n",
    "while True:\n",
    "    if a == 0:\n",
    "        break\n",
    "    b = a % 16\n",
    "    if b < 10:\n",
    "        c.append(a % 16)\n",
    "    elif b == 10: \n",
    "        c.append('A')\n",
    "    elif b == 11: \n",
    "        c.append('B')\n",
    "    elif b == 12:\n",
    "        c.append('C')\n",
    "    elif b == 13:\n",
    "        c.append('D')\n",
    "    elif b == 14:\n",
    "        c.append('E')\n",
    "    elif b == 15:\n",
    "        c.append('F')\n",
    "    a = a // 16\n",
    "c.reverse()\n",
    "for i in c:\n",
    "    print(i, end='')"
   ]
  },
  {
   "cell_type": "code",
   "execution_count": null,
   "id": "ab4f73be",
   "metadata": {},
   "outputs": [],
   "source": []
  }
 ],
 "metadata": {
  "kernelspec": {
   "display_name": "Python 3 (ipykernel)",
   "language": "python",
   "name": "python3"
  },
  "language_info": {
   "codemirror_mode": {
    "name": "ipython",
    "version": 3
   },
   "file_extension": ".py",
   "mimetype": "text/x-python",
   "name": "python",
   "nbconvert_exporter": "python",
   "pygments_lexer": "ipython3",
   "version": "3.9.13"
  }
 },
 "nbformat": 4,
 "nbformat_minor": 5
}
