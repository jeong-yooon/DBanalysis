{
 "cells": [
  {
   "cell_type": "markdown",
   "id": "ad0b126c",
   "metadata": {},
   "source": [
    "## 문제\n",
    "3인 체조 경기는 새로 올림픽에 등록된 종목입니다. 경기를 하려면 3명의 선수와 100,000개의 칸이 일렬로 나열된 경기장이 필요합니다. 처음에 세 선수는 서로 다른 칸 위에 섭니다. 그리고, 다음 행동을 더 이상 할 수 없을 때까지 반복합니다.\n",
    "\n",
    "\n",
    "\n",
    "\"세 선수 중 가운데에 서 있는 선수를 제외한 두 선수 중 한 명이, 나머지 두 사람 사이에 있는 칸들 중 원하는 칸을 하나 골라 점프해 이동한다.\"\n",
    "\n",
    "\n",
    "\n",
    "한 칸에는 한 명의 선수만 서 있을 수 있기 때문에, 위 행동은 유한한 횟수 안에 종료됩니다. 세 선수가 각각 처음에 몇 번째 칸에 서 있는지 주어지면, 위 행동을 최대 몇 번 할 수 있는지 출력하는 프로그램을 작성해주세요"
   ]
  },
  {
   "cell_type": "markdown",
   "id": "170029c8",
   "metadata": {},
   "source": [
    "### 예제 입력1\n",
    "\n",
    "1 15 20\n",
    "\n",
    "### 예제 출력1\n",
    "\n",
    "13\n",
    "\n",
    "### 예제 입력2\n",
    "\n",
    "23 54 232\n",
    "\n",
    "### 예제 출력2\n",
    "\n",
    "177"
   ]
  },
  {
   "cell_type": "markdown",
   "id": "01fe40e0",
   "metadata": {},
   "source": [
    "#### 입력값 설명\n",
    "\n",
    "각 선수가 처음에 몇 번째 칸에 서 있는지를 뜻하는 세 정수가 공백을 구분으로 주어집니다.\n",
    "세 정수는 오름차순으로 주어지며, 1 이상 100,000 이하의 서로 다른 정수임을 보장합니다.\n",
    "\n",
    "#### 출력값 설명\n",
    "\n",
    "지문에서 주어진 행동을 최대 몇 번 할 수 있는지 출력하세요."
   ]
  },
  {
   "cell_type": "code",
   "execution_count": 2,
   "id": "866903c7",
   "metadata": {},
   "outputs": [
    {
     "name": "stdout",
     "output_type": "stream",
     "text": [
      "1 15 20\n",
      "13\n"
     ]
    }
   ],
   "source": [
    "player = list(map(int, input().split()))\n",
    "if player[1] - player[0] > player[2] - player[1]:\n",
    "    print(player[1] - player[0] - 1)\n",
    "else: \n",
    "    print(player[2] - player[1] - 1)"
   ]
  },
  {
   "cell_type": "code",
   "execution_count": null,
   "id": "4bc9bd9e",
   "metadata": {},
   "outputs": [],
   "source": []
  }
 ],
 "metadata": {
  "kernelspec": {
   "display_name": "Python 3 (ipykernel)",
   "language": "python",
   "name": "python3"
  },
  "language_info": {
   "codemirror_mode": {
    "name": "ipython",
    "version": 3
   },
   "file_extension": ".py",
   "mimetype": "text/x-python",
   "name": "python",
   "nbconvert_exporter": "python",
   "pygments_lexer": "ipython3",
   "version": "3.9.13"
  }
 },
 "nbformat": 4,
 "nbformat_minor": 5
}
