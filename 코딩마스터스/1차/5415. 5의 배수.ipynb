{
 "cells": [
  {
   "cell_type": "markdown",
   "id": "7c2f36f6",
   "metadata": {},
   "source": [
    "## 문제\n",
    "1부터 N까지의 숫자 중에서 5의 배수의 개수를 출력하는 프로그램을 작성해주세요"
   ]
  },
  {
   "cell_type": "markdown",
   "id": "38db5abd",
   "metadata": {},
   "source": [
    "### 예제 입력1\n",
    "\n",
    "8\n",
    "\n",
    "### 예제 출력1\n",
    "\n",
    "1\n",
    "\n",
    "### 예제 입력2\n",
    "\n",
    "23\n",
    "\n",
    "### 예제 출력2\n",
    "\n",
    "4"
   ]
  },
  {
   "cell_type": "markdown",
   "id": "9f8a79d9",
   "metadata": {},
   "source": [
    "#### 입력값 설명\n",
    "\n",
    "1 이상 100,000 이하의 자연수 N이 주어집니다.\n",
    "\n",
    "#### 출력값 설명\n",
    "\n",
    "1부터 N까지의 자연수 중에서 5의 배수의 개수를 출력하세요."
   ]
  },
  {
   "cell_type": "code",
   "execution_count": 2,
   "id": "c1102e7b",
   "metadata": {},
   "outputs": [
    {
     "name": "stdout",
     "output_type": "stream",
     "text": [
      "23\n",
      "4\n"
     ]
    }
   ],
   "source": [
    "N = int(input())\n",
    "print(N // 5)"
   ]
  },
  {
   "cell_type": "code",
   "execution_count": null,
   "id": "f5c47ca6",
   "metadata": {},
   "outputs": [],
   "source": []
  }
 ],
 "metadata": {
  "kernelspec": {
   "display_name": "Python 3 (ipykernel)",
   "language": "python",
   "name": "python3"
  },
  "language_info": {
   "codemirror_mode": {
    "name": "ipython",
    "version": 3
   },
   "file_extension": ".py",
   "mimetype": "text/x-python",
   "name": "python",
   "nbconvert_exporter": "python",
   "pygments_lexer": "ipython3",
   "version": "3.9.13"
  }
 },
 "nbformat": 4,
 "nbformat_minor": 5
}
