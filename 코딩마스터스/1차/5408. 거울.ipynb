{
 "cells": [
  {
   "cell_type": "markdown",
   "id": "3031b606",
   "metadata": {},
   "source": [
    "## 문제\n",
    "수연이네 반 칠판 앞에 누군가 마법의 거울을 놓았습니다. 이 거울엔 칠판에 쓴 수가 모두 거꾸로 읽은 모습으로 보입니다. 예를 들어 123은 321로 보이고, 724는 427로 보입니다. 칠판에 서로 다른 세 자리 수가 두 개 쓰여졌을 때, 거울에 보이는 두 수 중 더 큰 수를 출력하는 프로그램을 작성해주세요."
   ]
  },
  {
   "cell_type": "markdown",
   "id": "76b40c39",
   "metadata": {},
   "source": [
    "### 예제 입력1\n",
    "\n",
    "123 485\n",
    "\n",
    "### 예제 출력1\n",
    "\n",
    "584\n",
    "\n",
    "### 예제 입력2\n",
    "\n",
    "452 486\n",
    "\n",
    "### 예제 출력2\n",
    "\n",
    "684"
   ]
  },
  {
   "cell_type": "markdown",
   "id": "ac57c43f",
   "metadata": {},
   "source": [
    "#### 입력값 설명\n",
    "\n",
    "첫째 줄에 칠판에 적힌 두 수 A와 B가 공백을 두고 주어집니다. 두 수는 서로 다른 세 자리 수이며, 숫자 0이 포함되어 있지 않습니다.\n",
    "\n",
    "#### 출력값 설명\n",
    "\n",
    "거울에 보이는 두 수 중 더 큰 수를 출력하세요."
   ]
  },
  {
   "cell_type": "code",
   "execution_count": 3,
   "id": "1b36af64",
   "metadata": {},
   "outputs": [
    {
     "name": "stdout",
     "output_type": "stream",
     "text": [
      "452 486\n",
      "684\n"
     ]
    }
   ],
   "source": [
    "A, B = input().split()\n",
    "a = int(A[::-1])\n",
    "b = int(B[::-1])\n",
    "if a > b:\n",
    "    print(a)\n",
    "else:\n",
    "    print(b)"
   ]
  },
  {
   "cell_type": "code",
   "execution_count": null,
   "id": "4656f891",
   "metadata": {},
   "outputs": [],
   "source": []
  }
 ],
 "metadata": {
  "kernelspec": {
   "display_name": "Python 3 (ipykernel)",
   "language": "python",
   "name": "python3"
  },
  "language_info": {
   "codemirror_mode": {
    "name": "ipython",
    "version": 3
   },
   "file_extension": ".py",
   "mimetype": "text/x-python",
   "name": "python",
   "nbconvert_exporter": "python",
   "pygments_lexer": "ipython3",
   "version": "3.9.13"
  }
 },
 "nbformat": 4,
 "nbformat_minor": 5
}
