{
 "cells": [
  {
   "cell_type": "markdown",
   "id": "c1d3fa3b",
   "metadata": {},
   "source": [
    "## 문제\n",
    "중앙값은 전체 데이터를 오름차순으로 정렬했을 때 가운데에 있는 수치 값입니다.\n",
    "\n",
    "중앙값은 극단적인 값이 있을 때 평균보다 데이터의 대표값으로 더 유용합니다. \n",
    "\n",
    "예를 들어 직원이 100명인 회사에서 직원들 연봉 평균은 5천만원인데 사장의 연봉이 100억인 경우 중앙값이 평균보다 회사의 연봉을 나타내는 대표값으로 더 적합합니다.\n",
    "\n",
    "간단하게 정수의 개수가 5개라고 가정하고, 5개의 정수에 대해서 중앙값을 찾아내는 프로그램을 작성해주세요."
   ]
  },
  {
   "cell_type": "markdown",
   "id": "ef065c47",
   "metadata": {},
   "source": [
    "### 예제 입력1\n",
    "\n",
    "101 2 100 1 102\n",
    "\n",
    "### 예제 출력1\n",
    "\n",
    "100\n",
    "\n",
    "### 예제 입력2\n",
    "\n",
    "7 18 38 5 40\n",
    "\n",
    "### 예제 출력2\n",
    "\n",
    "18"
   ]
  },
  {
   "cell_type": "markdown",
   "id": "376e13a9",
   "metadata": {},
   "source": [
    "#### 입력값 설명\n",
    "\n",
    "첫째 줄에 5개의 정수 K가 공백을 기준으로 입력됩니다. (1 ≤ K ≤ 10,000)\n",
    "이 때 입력되는 5개의 정수는 모두 서로 다른 값을 가집니다.\n",
    "\n",
    "#### 출력값 설명\n",
    "\n",
    "5개의 정수 중에서 중앙값을 출력합니다."
   ]
  },
  {
   "cell_type": "code",
   "execution_count": 1,
   "id": "c47f1583",
   "metadata": {},
   "outputs": [
    {
     "name": "stdout",
     "output_type": "stream",
     "text": [
      "7 18 38 5 40\n",
      "18\n"
     ]
    }
   ],
   "source": [
    "K = list(map(int,input().split()))\n",
    "K.sort()\n",
    "print(K[2])"
   ]
  },
  {
   "cell_type": "code",
   "execution_count": null,
   "id": "c4f3d790",
   "metadata": {},
   "outputs": [],
   "source": []
  }
 ],
 "metadata": {
  "kernelspec": {
   "display_name": "Python 3 (ipykernel)",
   "language": "python",
   "name": "python3"
  },
  "language_info": {
   "codemirror_mode": {
    "name": "ipython",
    "version": 3
   },
   "file_extension": ".py",
   "mimetype": "text/x-python",
   "name": "python",
   "nbconvert_exporter": "python",
   "pygments_lexer": "ipython3",
   "version": "3.9.13"
  }
 },
 "nbformat": 4,
 "nbformat_minor": 5
}
