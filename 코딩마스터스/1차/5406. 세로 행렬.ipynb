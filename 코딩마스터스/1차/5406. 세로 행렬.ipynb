{
 "cells": [
  {
   "cell_type": "markdown",
   "id": "30eb6ba4",
   "metadata": {},
   "source": [
    "## 문제\n",
    "어떤 N×N 이차원 배열을 다음과 같은 방법으로 채운 것을 세로 행렬이라고 합니다. \n",
    "\n",
    "- i번째 열에 대하여 (i-1)*N+1부터 i*N까지의 자연수를 위에서 아래로 차례대로 채웁니다. \n",
    "\n",
    "예를 들어 N = 3일 때의 세로 배열은 다음과 같습니다. \n",
    "\n",
    "1 4 7\n",
    "\n",
    "2 5 8\n",
    "\n",
    "3 6 9\n",
    "\n",
    "자연수 N이 주어졌을 때 세로 행렬을 출력하는 프로그램을 작성해주세요"
   ]
  },
  {
   "cell_type": "markdown",
   "id": "81ba7efa",
   "metadata": {},
   "source": [
    "### 예제 입력1\n",
    "\n",
    "2\n",
    "\n",
    "### 예제 출력1\n",
    "\n",
    "1 3\n",
    "2 4\n",
    "\n",
    "### 예제 입력2\n",
    "\n",
    "4\n",
    "\n",
    "### 예제 출력2\n",
    "\n",
    "1 5 9 13\n",
    "2 6 10 14\n",
    "3 7 11 15\n",
    "4 8 12 16"
   ]
  },
  {
   "cell_type": "markdown",
   "id": "a7a01a82",
   "metadata": {},
   "source": [
    "#### 입력값 설명\n",
    "\n",
    "정수 N이 입력됩니다. (1 ≤ N ≤ 20)\n",
    "\n",
    "#### 출력값 설명\n",
    "\n",
    "크기가 N인 세로 행렬을 출력하세요."
   ]
  },
  {
   "cell_type": "code",
   "execution_count": 3,
   "id": "0c0cb545",
   "metadata": {},
   "outputs": [
    {
     "name": "stdout",
     "output_type": "stream",
     "text": [
      "4\n",
      "15913\n",
      "\n",
      "261014\n",
      "\n",
      "371115\n",
      "\n",
      "481216\n",
      "\n"
     ]
    }
   ],
   "source": [
    "N = int(input())\n",
    "for i in range(1, N+1):\n",
    "    for j in range(0, N):\n",
    "        print(i + j*N, end = ' ')\n",
    "    print('\\n')"
   ]
  },
  {
   "cell_type": "code",
   "execution_count": null,
   "id": "1110ee6a",
   "metadata": {},
   "outputs": [],
   "source": []
  }
 ],
 "metadata": {
  "kernelspec": {
   "display_name": "Python 3 (ipykernel)",
   "language": "python",
   "name": "python3"
  },
  "language_info": {
   "codemirror_mode": {
    "name": "ipython",
    "version": 3
   },
   "file_extension": ".py",
   "mimetype": "text/x-python",
   "name": "python",
   "nbconvert_exporter": "python",
   "pygments_lexer": "ipython3",
   "version": "3.9.13"
  }
 },
 "nbformat": 4,
 "nbformat_minor": 5
}
