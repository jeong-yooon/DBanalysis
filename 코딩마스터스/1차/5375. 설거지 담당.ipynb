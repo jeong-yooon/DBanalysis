{
 "cells": [
  {
   "cell_type": "code",
   "execution_count": 1,
   "id": "ea916a5d",
   "metadata": {},
   "outputs": [
    {
     "name": "stdout",
     "output_type": "stream",
     "text": [
      "1\n",
      "RUN\n"
     ]
    }
   ],
   "source": [
    "N = int(input())\n",
    "if N == 1 or N == 3 or N == 5 or N == 7:\n",
    "    print('RUN')\n",
    "else:\n",
    "    print('STAY')"
   ]
  },
  {
   "cell_type": "code",
   "execution_count": null,
   "id": "876f4803",
   "metadata": {},
   "outputs": [],
   "source": []
  }
 ],
 "metadata": {
  "kernelspec": {
   "display_name": "Python 3 (ipykernel)",
   "language": "python",
   "name": "python3"
  },
  "language_info": {
   "codemirror_mode": {
    "name": "ipython",
    "version": 3
   },
   "file_extension": ".py",
   "mimetype": "text/x-python",
   "name": "python",
   "nbconvert_exporter": "python",
   "pygments_lexer": "ipython3",
   "version": "3.9.13"
  }
 },
 "nbformat": 4,
 "nbformat_minor": 5
}
