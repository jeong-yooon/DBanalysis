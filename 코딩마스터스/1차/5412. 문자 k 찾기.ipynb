{
 "cells": [
  {
   "cell_type": "markdown",
   "id": "62916791",
   "metadata": {},
   "source": [
    "## 문제\n",
    "k-드라마, k-브랜드, k-콘텐츠 ... 가영이는 수많은 'k'에 질렸습니다. \n",
    "\n",
    "문득 가영이는 자신이 지금까지 본 K가 얼마나 되는지 궁금해졌습니다. \n",
    "\n",
    "이를 위해서 가영이는 자신이 봤던 문자열에서 알파벳만 남기고 전부 소문자로 고쳤습니다. \n",
    "\n",
    "하지만 가영이는 이 문자열에서 'k'의 개수를 세는 것에서 막히고 말았습니다. \n",
    "\n",
    "가영이는 이에 프로그래밍을 잘 알고 있는 여러분께 도와달라고 부탁했습니다. \n",
    "\n",
    "\n",
    "\n",
    "가영이를 위해서 알파벳 소문자로만 이루어진 문자열이 하나 주어졌을 때 이 문자열에 포함된 소문자 'k'의 개수를 출력하는 프로그램을 작성해주세요"
   ]
  },
  {
   "cell_type": "markdown",
   "id": "0ee6aa5a",
   "metadata": {},
   "source": [
    "### 예제 입력1\n",
    "\n",
    "kakao\n",
    "\n",
    "### 예제 출력1\n",
    "\n",
    "2\n",
    "\n",
    "### 예제 입력2\n",
    "\n",
    "nanum\n",
    "\n",
    "### 예제 출력2\n",
    "\n",
    "0"
   ]
  },
  {
   "cell_type": "markdown",
   "id": "1c07c763",
   "metadata": {},
   "source": [
    "#### 입력값 설명\n",
    "\n",
    "첫 번째 줄에 알파벳 소문자로만 이루어진 문자열 A가 입력됩니다. 이 때 문자열 A의 길이는 10,000자를 넘지 않습니다.\n",
    "\n",
    "#### 출력값 설명\n",
    "\n",
    "첫 번째 줄에 문자열 A에 포함되어 있는 문자 'k'의 개수를 출력하세요."
   ]
  },
  {
   "cell_type": "code",
   "execution_count": 2,
   "id": "b1412f86",
   "metadata": {},
   "outputs": [
    {
     "name": "stdout",
     "output_type": "stream",
     "text": [
      "kakao\n",
      "2\n"
     ]
    }
   ],
   "source": [
    "A = input()\n",
    "print(A.count('k'))"
   ]
  },
  {
   "cell_type": "code",
   "execution_count": null,
   "id": "b373fd90",
   "metadata": {},
   "outputs": [],
   "source": []
  }
 ],
 "metadata": {
  "kernelspec": {
   "display_name": "Python 3 (ipykernel)",
   "language": "python",
   "name": "python3"
  },
  "language_info": {
   "codemirror_mode": {
    "name": "ipython",
    "version": 3
   },
   "file_extension": ".py",
   "mimetype": "text/x-python",
   "name": "python",
   "nbconvert_exporter": "python",
   "pygments_lexer": "ipython3",
   "version": "3.9.13"
  }
 },
 "nbformat": 4,
 "nbformat_minor": 5
}
