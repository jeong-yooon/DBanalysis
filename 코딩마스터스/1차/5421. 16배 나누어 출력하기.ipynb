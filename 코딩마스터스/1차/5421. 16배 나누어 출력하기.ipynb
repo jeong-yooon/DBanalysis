{
 "cells": [
  {
   "cell_type": "markdown",
   "id": "f30f2a20",
   "metadata": {},
   "source": [
    "## 문제\n",
    "정수 A가 입력될 때 A에서 16을 나눈 몫을 출력하는 프로그램을 작성해주세요"
   ]
  },
  {
   "cell_type": "markdown",
   "id": "5fe8c042",
   "metadata": {},
   "source": [
    "### 예제 입력1\n",
    "\n",
    "7\n",
    "\n",
    "### 예제 출력1\n",
    "\n",
    "0\n",
    "\n",
    "### 예제 입력2\n",
    "\n",
    "100000000\n",
    "\n",
    "### 예제 출력2\n",
    "\n",
    "6250000"
   ]
  },
  {
   "cell_type": "markdown",
   "id": "2f8f1025",
   "metadata": {},
   "source": [
    "#### 입력값 설명\n",
    "\n",
    "첫째 줄에 정수 A가 입력됩니다. (0 ≤ A ≤ 100,000,000)\n",
    "\n",
    "#### 출력값 설명\n",
    "\n",
    "첫째 줄에 정수 A에서 16을 나눈 몫을 출력하세요."
   ]
  },
  {
   "cell_type": "code",
   "execution_count": 1,
   "id": "0ae8f847",
   "metadata": {},
   "outputs": [
    {
     "name": "stdout",
     "output_type": "stream",
     "text": [
      "7\n",
      "0\n"
     ]
    }
   ],
   "source": [
    "A = int(input())\n",
    "print(A//16)"
   ]
  },
  {
   "cell_type": "code",
   "execution_count": null,
   "id": "e98fd415",
   "metadata": {},
   "outputs": [],
   "source": []
  }
 ],
 "metadata": {
  "kernelspec": {
   "display_name": "Python 3 (ipykernel)",
   "language": "python",
   "name": "python3"
  },
  "language_info": {
   "codemirror_mode": {
    "name": "ipython",
    "version": 3
   },
   "file_extension": ".py",
   "mimetype": "text/x-python",
   "name": "python",
   "nbconvert_exporter": "python",
   "pygments_lexer": "ipython3",
   "version": "3.9.13"
  }
 },
 "nbformat": 4,
 "nbformat_minor": 5
}
