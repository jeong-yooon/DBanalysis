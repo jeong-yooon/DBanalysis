{
 "cells": [
  {
   "cell_type": "markdown",
   "id": "99f3d22a",
   "metadata": {},
   "source": [
    "## 문제\n",
    "공백을 포함하는 두 개의 문장이 개행 문자로 구분되어 입력됩니다.\n",
    "\n",
    "이 두 개의 문장을 개행 문자로 구분하여 그대로 출력하는 프로그램을 작성해주세요."
   ]
  },
  {
   "cell_type": "markdown",
   "id": "7d45d34d",
   "metadata": {},
   "source": [
    "### 예제 입력1\n",
    "\n",
    "Hello World\n",
    "World Hello\n",
    "\n",
    "### 예제 출력1\n",
    "\n",
    "Hello World\n",
    "World Hello\n",
    "\n",
    "### 예제 입력2\n",
    "\n",
    "I like the way that sounds.\n",
    "Do it.\n",
    "\n",
    "### 예제 출력2\n",
    "\n",
    "I like the way that sounds.\n",
    "Do it."
   ]
  },
  {
   "cell_type": "markdown",
   "id": "610bffaa",
   "metadata": {},
   "source": [
    "#### 입력값 설명\n",
    "\n",
    "첫째 줄에 공백을 포함한 문장 A가 입력됩니다.\n",
    "둘째 줄에 공백을 포함한 문장 B가 입력됩니다.\n",
    "이때 문장 A와 B의 총 길이는 각각 1,000 이하입니다.\n",
    "\n",
    "#### 출력값 설명\n",
    "\n",
    "첫째 줄에 문장 A를 출력하세요.\n",
    "둘째 줄에 문장 B를 출력하세요."
   ]
  },
  {
   "cell_type": "code",
   "execution_count": 1,
   "id": "5122cfa8",
   "metadata": {},
   "outputs": [
    {
     "name": "stdout",
     "output_type": "stream",
     "text": [
      "Hello World\n",
      "World Hello\n",
      "Hello World\n",
      "World Hello\n"
     ]
    }
   ],
   "source": [
    "A = input()\n",
    "B = input()\n",
    "print(A)\n",
    "print(B)"
   ]
  },
  {
   "cell_type": "code",
   "execution_count": null,
   "id": "c9981180",
   "metadata": {},
   "outputs": [],
   "source": []
  }
 ],
 "metadata": {
  "kernelspec": {
   "display_name": "Python 3 (ipykernel)",
   "language": "python",
   "name": "python3"
  },
  "language_info": {
   "codemirror_mode": {
    "name": "ipython",
    "version": 3
   },
   "file_extension": ".py",
   "mimetype": "text/x-python",
   "name": "python",
   "nbconvert_exporter": "python",
   "pygments_lexer": "ipython3",
   "version": "3.9.13"
  }
 },
 "nbformat": 4,
 "nbformat_minor": 5
}
