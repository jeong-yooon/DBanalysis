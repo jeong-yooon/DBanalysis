{
 "cells": [
  {
   "cell_type": "markdown",
   "id": "a08180f4",
   "metadata": {},
   "source": [
    "## 문제\n",
    "평행 세계의 대한민국에서는 주민등록증에 영문이름이 같이 기재되어 있습니다. \n",
    "\n",
    "그래서 주민등록증을 발급받을 때 주민등록증 발급신청서에 자신이 사용할 영문이름도 같이 작성한다고 합니다. \n",
    "\n",
    "이때, 발급받으려는 사람의 영문이름의 길이가 20자를 넘으면 특별신청을 해야 합니다.\n",
    "\n",
    "주민등록증을 발급받으려는 사람의 영문이름이 주어졌을 때, 특별신청을 해야하는지 판단하는 프로그램을 작성해주세요. "
   ]
  },
  {
   "cell_type": "markdown",
   "id": "def4e153",
   "metadata": {},
   "source": [
    "### 예제 입력1\n",
    "\n",
    "parkjisung\n",
    "\n",
    "### 예제 출력1\n",
    "\n",
    "-1\n",
    "\n",
    "### 예제 입력2\n",
    "\n",
    "kimnaraesarangbadahaneul\n",
    "\n",
    "### 예제 출력2\n",
    "\n",
    "0"
   ]
  },
  {
   "cell_type": "markdown",
   "id": "c63e7b48",
   "metadata": {},
   "source": [
    "#### 입력값 설명\n",
    "\n",
    "첫번째 줄에 주민등록증을 발급받으려는 사람의 영문이름이 알파벳 소문자로 공백없이 주어집니다.\n",
    "영문이름의 길이는 1글자 이상 30글자 미만입니다.\n",
    "\n",
    "#### 출력값 설명\n",
    "\n",
    "첫째 줄에 주어진 영문이름이 특별신청을 해야하는 경우라면 0을, 그렇지 않다면 -1을 출력하세요."
   ]
  },
  {
   "cell_type": "code",
   "execution_count": 1,
   "id": "4096ab53",
   "metadata": {},
   "outputs": [
    {
     "name": "stdout",
     "output_type": "stream",
     "text": [
      "asdfkjlkadfj\n",
      "-1\n"
     ]
    }
   ],
   "source": [
    "name = input()\n",
    "if len(name) > 20:\n",
    "    print(0)\n",
    "else:\n",
    "    print(-1)"
   ]
  },
  {
   "cell_type": "code",
   "execution_count": null,
   "id": "68fcb51d",
   "metadata": {},
   "outputs": [],
   "source": []
  }
 ],
 "metadata": {
  "kernelspec": {
   "display_name": "Python 3 (ipykernel)",
   "language": "python",
   "name": "python3"
  },
  "language_info": {
   "codemirror_mode": {
    "name": "ipython",
    "version": 3
   },
   "file_extension": ".py",
   "mimetype": "text/x-python",
   "name": "python",
   "nbconvert_exporter": "python",
   "pygments_lexer": "ipython3",
   "version": "3.9.13"
  }
 },
 "nbformat": 4,
 "nbformat_minor": 5
}
