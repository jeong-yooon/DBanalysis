{
 "cells": [
  {
   "cell_type": "markdown",
   "id": "1bcd0c70",
   "metadata": {},
   "source": [
    "## 문제\n",
    "수학을 좋아하는 진수는 삼각형을 가지고 놀던 중 다음과 같은 생각이 들었습니다.\n",
    "\n",
    "\"평면과 공간에서 삼각형의 내각의 합은 180도이고 각각의 각의 크기가 0도 보다 커야하잖아. 그렇다면 N차원 공간의 삼각형도 그러하지 않을까?\"\n",
    "\n",
    "진수는 세 각의 합이 180도이고 각각의 각이 0도보다 큰 삼각형을 '버뮤다 삼각형'이라고 부르기로 했습니다.\n",
    "\n",
    "세 각의 크기가 주어질 때, 버뮤다 삼각형이 될 수 있는지 없는지 판단하는 프로그램을 작성해주세요"
   ]
  },
  {
   "cell_type": "markdown",
   "id": "f24313f7",
   "metadata": {},
   "source": [
    "### 예제 입력1\n",
    "\n",
    "30 60 90\n",
    "\n",
    "### 예제 출력1\n",
    "\n",
    "P\n",
    "\n",
    "### 예제 입력2\n",
    "\n",
    "20 20 30\n",
    "\n",
    "### 예제 출력2\n",
    "\n",
    "F"
   ]
  },
  {
   "cell_type": "markdown",
   "id": "09882cd2",
   "metadata": {},
   "source": [
    "#### 입력값 설명\n",
    "\n",
    "첫째 줄에 세 각의 크기 a, b, c가 공백을 두고 자연수로 주어집니다. (1 ≤ a, b, c ≤ 179)\n",
    "\n",
    "#### 출력값 설명\n",
    "\n",
    "버뮤다 삼각형이 될 수 있으면 P, 될 수 없으면 F를 출력하세요."
   ]
  },
  {
   "cell_type": "code",
   "execution_count": 4,
   "id": "534180e3",
   "metadata": {},
   "outputs": [
    {
     "name": "stdout",
     "output_type": "stream",
     "text": [
      "20 20 30\n",
      "F\n"
     ]
    }
   ],
   "source": [
    "angle = list(map(int, input().split()))\n",
    "if (angle[0] + angle[1] + angle[2]) == 180 and angle[0] >0 and angle[1] >0 and angle[2] >0:\n",
    "    print('P')\n",
    "else:\n",
    "    print('F')"
   ]
  },
  {
   "cell_type": "code",
   "execution_count": null,
   "id": "2264070c",
   "metadata": {},
   "outputs": [],
   "source": []
  }
 ],
 "metadata": {
  "kernelspec": {
   "display_name": "Python 3 (ipykernel)",
   "language": "python",
   "name": "python3"
  },
  "language_info": {
   "codemirror_mode": {
    "name": "ipython",
    "version": 3
   },
   "file_extension": ".py",
   "mimetype": "text/x-python",
   "name": "python",
   "nbconvert_exporter": "python",
   "pygments_lexer": "ipython3",
   "version": "3.9.13"
  }
 },
 "nbformat": 4,
 "nbformat_minor": 5
}
