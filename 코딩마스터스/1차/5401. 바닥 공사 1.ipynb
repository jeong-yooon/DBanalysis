{
 "cells": [
  {
   "cell_type": "markdown",
   "id": "ef55b563",
   "metadata": {},
   "source": [
    "## 문제\n",
    "가로의 길이가 N, 세로의 길이가 2인 직사각형 형태의 복도가 있습니다. 태혁이는 이 복도의 바닥을 1 X 2의 타일와 2 X 1의 타일을 이용해 채우고자 합니다. 단, 타일을 겹쳐 놓거나 타일을 작게 쪼갤 수 없습니다. 바닥을 타일로 가득 채우는 방법의 수를 출력하는 프로그램을 작성해주세요\n",
    "\n",
    "예를 들어 가로의 길이가 3, 세로의 길이가 2인 경우 바닥을 채우는 방법은 총 3가지이므로 3을 출력해야 합니다."
   ]
  },
  {
   "cell_type": "markdown",
   "id": "73d30444",
   "metadata": {},
   "source": [
    "### 예제 입력1\n",
    "\n",
    "3\n",
    "\n",
    "### 예제 출력1\n",
    "\n",
    "3\n",
    "\n",
    "### 예제 입력2\n",
    "\n",
    "5\n",
    "\n",
    "### 예제 출력2\n",
    "\n",
    "8"
   ]
  },
  {
   "cell_type": "markdown",
   "id": "292a2784",
   "metadata": {},
   "source": [
    "#### 입력값 설명\n",
    "\n",
    "복도의 가로 길이를 뜻하는 정수 N이 주어집니다. (1 ≤ N ≤ 1,000)\n",
    "\n",
    "#### 출력값 설명\n",
    "\n",
    "가로의 길이가 N, 세로의 길이가 2인 바닥을 채우는 방법의 수를 796,796으로 나눈 나머지를 출력합니다."
   ]
  },
  {
   "cell_type": "code",
   "execution_count": null,
   "id": "ab25b1d8",
   "metadata": {},
   "outputs": [],
   "source": [
    "N = int(input())\n"
   ]
  }
 ],
 "metadata": {
  "kernelspec": {
   "display_name": "Python 3 (ipykernel)",
   "language": "python",
   "name": "python3"
  },
  "language_info": {
   "codemirror_mode": {
    "name": "ipython",
    "version": 3
   },
   "file_extension": ".py",
   "mimetype": "text/x-python",
   "name": "python",
   "nbconvert_exporter": "python",
   "pygments_lexer": "ipython3",
   "version": "3.9.13"
  }
 },
 "nbformat": 4,
 "nbformat_minor": 5
}
