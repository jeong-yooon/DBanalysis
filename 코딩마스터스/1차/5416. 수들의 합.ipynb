{
 "cells": [
  {
   "cell_type": "markdown",
   "id": "a62d13fe",
   "metadata": {},
   "source": [
    "## 문제\n",
    "철수는 건강을 위해 팔굽혀펴기를 시작했습니다. 매일 아침 팔굽혀펴기를 하고, 그날 팔굽혀펴기를 몇 회 했는지 노트에 정확하게 기록해두었습니다.\n",
    "\n",
    "N일이 지나고 노트를 봤을 때, 노트에는 N개의 양의 정수가 쓰여있었습니다. 철수가 N일 동안 팔굽혀펴기를 총 몇 회 했는지 구하는 프로그램을 작성해주세요"
   ]
  },
  {
   "cell_type": "markdown",
   "id": "e9532d23",
   "metadata": {},
   "source": [
    "### 예제 입력1\n",
    "\n",
    "9\n",
    "14\n",
    "59\n",
    "24\n",
    "32\n",
    "1\n",
    "4\n",
    "6\n",
    "35\n",
    "18\n",
    "\n",
    "### 예제 출력1\n",
    "\n",
    "193\n",
    "\n",
    "### 예제 입력2\n",
    "\n",
    "10\n",
    "6534\n",
    "2772\n",
    "7387\n",
    "1728\n",
    "7770\n",
    "3787\n",
    "580\n",
    "5562\n",
    "9284\n",
    "5252\n",
    "\n",
    "### 예제 출력2\n",
    "\n",
    "50656"
   ]
  },
  {
   "cell_type": "markdown",
   "id": "32a9506b",
   "metadata": {},
   "source": [
    "#### 입력값 설명\n",
    "\n",
    "첫번째 줄에 양의 정수 N이 주어집니다. (1 ≤ N ≤ 500)\n",
    "두번째 줄부터 N+1번째 줄까지 양의 정수가 주어집니다. 이 수들은 1 이상 10,000 이하의 양의 정수입니다.\n",
    "\n",
    "#### 출력값 설명\n",
    "\n",
    "첫번째 줄에 정답을 출력하세요."
   ]
  },
  {
   "cell_type": "code",
   "execution_count": 11,
   "id": "97172613",
   "metadata": {},
   "outputs": [
    {
     "name": "stdout",
     "output_type": "stream",
     "text": [
      "9\n",
      "14\n",
      "59\n",
      "24\n",
      "32\n",
      "1\n",
      "4\n",
      "6\n",
      "35\n",
      "18\n",
      "193\n"
     ]
    }
   ],
   "source": [
    "# N = list(map(int, input().split()))\n",
    "N = int(input())\n",
    "health = list(0 for i in range(0, N))\n",
    "for i in range(0, N):\n",
    "    health[i] = int(input())\n",
    "count = 0\n",
    "for j in range(0, len(health)):\n",
    "    count +=  health[j]\n",
    "print(count)"
   ]
  },
  {
   "cell_type": "code",
   "execution_count": null,
   "id": "33c98430",
   "metadata": {},
   "outputs": [],
   "source": []
  }
 ],
 "metadata": {
  "kernelspec": {
   "display_name": "Python 3 (ipykernel)",
   "language": "python",
   "name": "python3"
  },
  "language_info": {
   "codemirror_mode": {
    "name": "ipython",
    "version": 3
   },
   "file_extension": ".py",
   "mimetype": "text/x-python",
   "name": "python",
   "nbconvert_exporter": "python",
   "pygments_lexer": "ipython3",
   "version": "3.9.13"
  }
 },
 "nbformat": 4,
 "nbformat_minor": 5
}
