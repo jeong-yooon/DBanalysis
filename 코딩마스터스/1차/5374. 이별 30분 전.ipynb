{
 "cells": [
  {
   "cell_type": "code",
   "execution_count": 2,
   "id": "bae6672f",
   "metadata": {},
   "outputs": [
    {
     "name": "stdout",
     "output_type": "stream",
     "text": [
      "7 40\n",
      "7 10\n"
     ]
    }
   ],
   "source": [
    "H, M = map(int, input().split())\n",
    "if M < 30 and H == 0:\n",
    "    print(f'23 {60 - (30 - M)}')\n",
    "elif M < 30:\n",
    "    print(f'{H - 1} {60 - (30 - M)}')\n",
    "else:\n",
    "    print(f'{H} {M - 30}')"
   ]
  },
  {
   "cell_type": "code",
   "execution_count": null,
   "id": "1bfed12c",
   "metadata": {},
   "outputs": [],
   "source": []
  }
 ],
 "metadata": {
  "kernelspec": {
   "display_name": "Python 3 (ipykernel)",
   "language": "python",
   "name": "python3"
  },
  "language_info": {
   "codemirror_mode": {
    "name": "ipython",
    "version": 3
   },
   "file_extension": ".py",
   "mimetype": "text/x-python",
   "name": "python",
   "nbconvert_exporter": "python",
   "pygments_lexer": "ipython3",
   "version": "3.9.13"
  }
 },
 "nbformat": 4,
 "nbformat_minor": 5
}
