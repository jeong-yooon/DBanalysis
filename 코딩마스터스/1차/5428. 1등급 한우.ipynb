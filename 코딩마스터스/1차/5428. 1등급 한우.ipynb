{
 "cells": [
  {
   "cell_type": "markdown",
   "id": "db048a10",
   "metadata": {},
   "source": [
    "## 문제\n",
    "횡성 한우는 질이 좋기로 유명합니다. 목장에서 기른 소들에게 등급을 엄격하게 매기기 때문입니다. 여러가지 기준이 있지만, 소의 무게가 정말 중요한 요소입니다. 200kg 이상인 소에게는 A등급을, 180kg 이상인 소에게는 B등급을, 150kg 이상은 C등급을 나머지 소들에게는 D등급을 매겨서 판매합니다.\n",
    "\n",
    "등급을 매기려는 소의 무게가 주어졌을 때, 이 소의 등급을 결정하는 프로그램을 작성해주세요"
   ]
  },
  {
   "cell_type": "markdown",
   "id": "60905519",
   "metadata": {},
   "source": [
    "### 예제 입력1\n",
    "\n",
    "201\n",
    "\n",
    "### 예제 출력1\n",
    "\n",
    "A\n",
    "\n",
    "### 예제 입력2\n",
    "\n",
    "190\n",
    "\n",
    "### 예제 출력2\n",
    "\n",
    "B"
   ]
  },
  {
   "cell_type": "markdown",
   "id": "92bdf70f",
   "metadata": {},
   "source": [
    "#### 입력값 설명\n",
    "\n",
    "첫째 줄에 등급을 매기려는 소의 무게 A가 자연수로 주어집니다. (1 ≤ A ≤ 1,000)\n",
    "\n",
    "#### 출력값 설명\n",
    "\n",
    "소의 등급을 알파벳 대문자로 출력하세요."
   ]
  },
  {
   "cell_type": "code",
   "execution_count": 1,
   "id": "328b4651",
   "metadata": {},
   "outputs": [
    {
     "name": "stdout",
     "output_type": "stream",
     "text": [
      "190\n",
      "B\n"
     ]
    }
   ],
   "source": [
    "N = int(input())\n",
    "if N >= 200:\n",
    "    print('A')\n",
    "elif N >= 180:\n",
    "    print('B')\n",
    "elif N >= 150:\n",
    "    print('C')\n",
    "else:\n",
    "    print('D')"
   ]
  },
  {
   "cell_type": "code",
   "execution_count": null,
   "id": "41796b67",
   "metadata": {},
   "outputs": [],
   "source": []
  }
 ],
 "metadata": {
  "kernelspec": {
   "display_name": "Python 3 (ipykernel)",
   "language": "python",
   "name": "python3"
  },
  "language_info": {
   "codemirror_mode": {
    "name": "ipython",
    "version": 3
   },
   "file_extension": ".py",
   "mimetype": "text/x-python",
   "name": "python",
   "nbconvert_exporter": "python",
   "pygments_lexer": "ipython3",
   "version": "3.9.13"
  }
 },
 "nbformat": 4,
 "nbformat_minor": 5
}
