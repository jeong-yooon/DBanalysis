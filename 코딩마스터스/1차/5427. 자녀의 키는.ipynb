{
 "cells": [
  {
   "cell_type": "markdown",
   "id": "7d5e2a5e",
   "metadata": {},
   "source": [
    "## 문제\n",
    "아버지의 키와 어머니의 키를 알면 그 자녀의 키를 예측할 수 있는 방법이 있습니다. \n",
    "\n",
    "바로 아버지의 키와 어머니의 키의 평균이 그 자녀의 예상 키가 됩니다. \n",
    "\n",
    "아버지와 어머니의 키가 자연수로 각각 주어질 때 자녀의 예상 키를 출력하는 프로그램을 작성해주세요"
   ]
  },
  {
   "cell_type": "markdown",
   "id": "500943bb",
   "metadata": {},
   "source": [
    "### 예제 입력1\n",
    "\n",
    "160 180\n",
    "\n",
    "### 예제 출력1\n",
    "\n",
    "170\n",
    "\n",
    "### 예제 입력2\n",
    "\n",
    "165 190\n",
    "\n",
    "### 예제 출력2\n",
    "\n",
    "177"
   ]
  },
  {
   "cell_type": "markdown",
   "id": "eb519267",
   "metadata": {},
   "source": [
    "#### 입력값 설명\n",
    "\n",
    "첫째 줄에 아버지의 키와 어머니의 키가 공백으로 구분되어 입력됩니다.\n",
    "입력되는 두 사람의 키는 각각 100,000 이하의 자연수입니다.\n",
    "\n",
    "#### 출력값 설명\n",
    "\n",
    "자녀의 예상 키를 자연수로 출력하세요. 소수점 이하의 수는 모두 버립니다."
   ]
  },
  {
   "cell_type": "code",
   "execution_count": 5,
   "id": "a0f66986",
   "metadata": {},
   "outputs": [
    {
     "name": "stdout",
     "output_type": "stream",
     "text": [
      "165 190\n",
      "177\n"
     ]
    }
   ],
   "source": [
    "mom, dad = map(int, input().split())\n",
    "child = int((mom+dad)/2)\n",
    "print(child)"
   ]
  },
  {
   "cell_type": "code",
   "execution_count": null,
   "id": "f0c47dc7",
   "metadata": {},
   "outputs": [],
   "source": []
  },
  {
   "cell_type": "code",
   "execution_count": null,
   "id": "8aea743f",
   "metadata": {},
   "outputs": [],
   "source": []
  }
 ],
 "metadata": {
  "kernelspec": {
   "display_name": "Python 3 (ipykernel)",
   "language": "python",
   "name": "python3"
  },
  "language_info": {
   "codemirror_mode": {
    "name": "ipython",
    "version": 3
   },
   "file_extension": ".py",
   "mimetype": "text/x-python",
   "name": "python",
   "nbconvert_exporter": "python",
   "pygments_lexer": "ipython3",
   "version": "3.9.13"
  }
 },
 "nbformat": 4,
 "nbformat_minor": 5
}
