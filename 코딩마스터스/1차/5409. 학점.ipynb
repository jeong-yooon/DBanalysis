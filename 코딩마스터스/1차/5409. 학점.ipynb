{
 "cells": [
  {
   "cell_type": "markdown",
   "id": "6bef8cab",
   "metadata": {},
   "source": [
    "## 문제\n",
    "학생의 점수를 의미하는 정수 A가 입력될 때 학생의 학점을 출력하는 프로그램을 작성해주세요. 점수에 따른 출력 내용은 다음과 같습니다.\n",
    "\n",
    "1) 점수가 90점 이상일 때: A\n",
    "\n",
    "2) 점수가 90점 미만 80점 이상일 때: B\n",
    "\n",
    "3) 점수가 80점 미만 70점 이상일 때: C\n",
    "\n",
    "4) 점수가 70점 미만: F"
   ]
  },
  {
   "cell_type": "markdown",
   "id": "a740fb32",
   "metadata": {},
   "source": [
    "### 예제 입력1\n",
    "\n",
    "90\n",
    "\n",
    "### 예제 출력1\n",
    "\n",
    "A\n",
    "\n",
    "### 예제 입력2\n",
    "\n",
    "85\n",
    "\n",
    "### 예제 출력2\n",
    "\n",
    "B"
   ]
  },
  {
   "cell_type": "markdown",
   "id": "cf608642",
   "metadata": {},
   "source": [
    "#### 입력값 설명\n",
    "\n",
    "첫 번째 줄에 학생의 점수를 의미하는 정수 A가 입력됩니다. (0 ≤ A ≤ 100)\n",
    "\n",
    "#### 출력값 설명\n",
    "\n",
    "학생의 점수에 따른 학점 정보를 출력하세요."
   ]
  },
  {
   "cell_type": "code",
   "execution_count": 1,
   "id": "4ca93106",
   "metadata": {},
   "outputs": [
    {
     "name": "stdout",
     "output_type": "stream",
     "text": [
      "885\n",
      "A\n"
     ]
    }
   ],
   "source": [
    "score = int(input())\n",
    "if score >= 90:\n",
    "    print('A')\n",
    "elif score >= 80:\n",
    "    print('B')\n",
    "elif score >= 70:\n",
    "    print('C')\n",
    "else:\n",
    "    print('F')"
   ]
  },
  {
   "cell_type": "code",
   "execution_count": null,
   "id": "fea53e48",
   "metadata": {},
   "outputs": [],
   "source": []
  }
 ],
 "metadata": {
  "kernelspec": {
   "display_name": "Python 3 (ipykernel)",
   "language": "python",
   "name": "python3"
  },
  "language_info": {
   "codemirror_mode": {
    "name": "ipython",
    "version": 3
   },
   "file_extension": ".py",
   "mimetype": "text/x-python",
   "name": "python",
   "nbconvert_exporter": "python",
   "pygments_lexer": "ipython3",
   "version": "3.9.13"
  }
 },
 "nbformat": 4,
 "nbformat_minor": 5
}
