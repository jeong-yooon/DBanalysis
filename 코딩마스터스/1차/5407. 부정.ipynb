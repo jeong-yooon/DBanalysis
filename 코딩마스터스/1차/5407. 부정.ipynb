{
 "cells": [
  {
   "cell_type": "markdown",
   "id": "9dcb0239",
   "metadata": {},
   "source": [
    "## 문제\n",
    "특정한 컴퓨터 시스템은 0을 거짓으로, 0이 아닌 정수를 참으로 인식합니다. 정수 A가 입력되었을 때 이 컴퓨터 시스템에서 정수 A를 참으로 인식한다면 0(거짓)을 출력하고, 그렇지 않으면 1(참)을 출력하는 프로그램을 작성해주세요"
   ]
  },
  {
   "cell_type": "markdown",
   "id": "1f635a21",
   "metadata": {},
   "source": [
    "### 예제 입력1\n",
    "\n",
    "1\n",
    "\n",
    "### 예제 출력1\n",
    "\n",
    "0\n",
    "\n",
    "### 예제 입력2\n",
    "\n",
    "0\n",
    "\n",
    "### 예제 출력2\n",
    "\n",
    "1"
   ]
  },
  {
   "cell_type": "markdown",
   "id": "95a81596",
   "metadata": {},
   "source": [
    "#### 입력값 설명\n",
    "\n",
    "첫째 줄에 정수 A가 입력됩니다. (-1,000,000,000 ≤ A ≤ 1,000,000,000)\n",
    "\n",
    "#### 출력값 설명\n",
    "\n",
    "A가 참이라면 첫째 줄에 0을 출력하고, 거짓이라면 1을 출력하세요."
   ]
  },
  {
   "cell_type": "code",
   "execution_count": 1,
   "id": "cbf598cc",
   "metadata": {},
   "outputs": [
    {
     "name": "stdout",
     "output_type": "stream",
     "text": [
      "2\n",
      "0\n"
     ]
    }
   ],
   "source": [
    "A = int(input())\n",
    "if A == 0:\n",
    "    print('1')\n",
    "else:\n",
    "    print('0')"
   ]
  },
  {
   "cell_type": "code",
   "execution_count": null,
   "id": "5aceed86",
   "metadata": {},
   "outputs": [],
   "source": []
  }
 ],
 "metadata": {
  "kernelspec": {
   "display_name": "Python 3 (ipykernel)",
   "language": "python",
   "name": "python3"
  },
  "language_info": {
   "codemirror_mode": {
    "name": "ipython",
    "version": 3
   },
   "file_extension": ".py",
   "mimetype": "text/x-python",
   "name": "python",
   "nbconvert_exporter": "python",
   "pygments_lexer": "ipython3",
   "version": "3.9.13"
  }
 },
 "nbformat": 4,
 "nbformat_minor": 5
}
