{
 "cells": [
  {
   "cell_type": "markdown",
   "id": "f2b4ba44",
   "metadata": {},
   "source": [
    "## 문제\n",
    "정수 A가 입력될 때 A가 짝수인지 홀수인지 판별하는 프로그램을 작성해주세요."
   ]
  },
  {
   "cell_type": "markdown",
   "id": "c3fd58aa",
   "metadata": {},
   "source": [
    "### 예제 입력1\n",
    "\n",
    "8\n",
    "\n",
    "### 예제 출력1\n",
    "\n",
    "E\n",
    "\n",
    "### 예제 입력2\n",
    "\n",
    "7\n",
    "\n",
    "### 예제 출력2\n",
    "\n",
    "O"
   ]
  },
  {
   "cell_type": "markdown",
   "id": "680678de",
   "metadata": {},
   "source": [
    "#### 입력값 설명\n",
    "\n",
    "첫째 줄에 정수 A가 입력됩니다. (1 ≤ A ≤ 100,000,000)\n",
    "\n",
    "#### 출력값 설명\n",
    "\n",
    "정수 A가 짝수라면 첫째 줄에 E를 출력하고, 그렇지 않으면 O를 출력하세요"
   ]
  },
  {
   "cell_type": "code",
   "execution_count": 1,
   "id": "734661e8",
   "metadata": {},
   "outputs": [
    {
     "name": "stdout",
     "output_type": "stream",
     "text": [
      "7\n",
      "O\n"
     ]
    }
   ],
   "source": [
    "A = int(input())\n",
    "if A % 2 == 0:\n",
    "    print('E')\n",
    "else:\n",
    "    print('O')"
   ]
  },
  {
   "cell_type": "code",
   "execution_count": null,
   "id": "288d64bc",
   "metadata": {},
   "outputs": [],
   "source": []
  }
 ],
 "metadata": {
  "kernelspec": {
   "display_name": "Python 3 (ipykernel)",
   "language": "python",
   "name": "python3"
  },
  "language_info": {
   "codemirror_mode": {
    "name": "ipython",
    "version": 3
   },
   "file_extension": ".py",
   "mimetype": "text/x-python",
   "name": "python",
   "nbconvert_exporter": "python",
   "pygments_lexer": "ipython3",
   "version": "3.9.13"
  }
 },
 "nbformat": 4,
 "nbformat_minor": 5
}
