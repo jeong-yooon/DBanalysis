{
 "cells": [
  {
   "cell_type": "markdown",
   "id": "977bcf5c",
   "metadata": {},
   "source": [
    "## 문제\n",
    "최대공약수란 어떤 두 개 이상의 자연수들이 있을 때, 두 수의 공통된 약수 중 가장 큰 수를 말합니다. 서로 다른 두 자연수 N, M이 주어졌을 때, 두 수의 최대공약수를 출력하는 프로그램을 작성해주세요"
   ]
  },
  {
   "cell_type": "markdown",
   "id": "5dfa138c",
   "metadata": {},
   "source": [
    "### 예제 입력1\n",
    "124 512\n",
    "\n",
    "### 예제 출력1\n",
    "4\n",
    "\n",
    "### 예제 입력2\n",
    "14 18\n",
    "\n",
    "### 예제 출력2\n",
    "2"
   ]
  },
  {
   "cell_type": "markdown",
   "id": "5645939c",
   "metadata": {},
   "source": [
    "#### 입력값 설명\n",
    "첫째 줄에 서로 다른 두 자연수 N ,M이 공백을 두고 주어집니다. (1 ≤ N ≤ 100,000) (1 ≤ M ≤ 100,000)\n",
    "\n",
    "#### 출력값 설명\n",
    "두 자연수 N, M의 최대공약수를 출력하세요."
   ]
  },
  {
   "cell_type": "code",
   "execution_count": 2,
   "id": "c737fd38",
   "metadata": {},
   "outputs": [
    {
     "name": "stdout",
     "output_type": "stream",
     "text": [
      "14 18\n",
      "2\n"
     ]
    }
   ],
   "source": [
    "N, M = map(int, input().split())\n",
    "for i in range(min(N, M),0,-1):\n",
    "    if N%i==0 and M%i==0:\n",
    "        print(i)\n",
    "        break"
   ]
  },
  {
   "cell_type": "code",
   "execution_count": null,
   "id": "b0ff2b9d",
   "metadata": {},
   "outputs": [],
   "source": []
  }
 ],
 "metadata": {
  "kernelspec": {
   "display_name": "Python 3 (ipykernel)",
   "language": "python",
   "name": "python3"
  },
  "language_info": {
   "codemirror_mode": {
    "name": "ipython",
    "version": 3
   },
   "file_extension": ".py",
   "mimetype": "text/x-python",
   "name": "python",
   "nbconvert_exporter": "python",
   "pygments_lexer": "ipython3",
   "version": "3.9.13"
  }
 },
 "nbformat": 4,
 "nbformat_minor": 5
}
