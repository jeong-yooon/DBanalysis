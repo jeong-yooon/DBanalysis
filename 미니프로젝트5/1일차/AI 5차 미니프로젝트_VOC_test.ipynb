{
 "cells": [
  {
   "cell_type": "markdown",
   "metadata": {},
   "source": [
    "# AI 5차 미니프로젝트_VOC 고객 해지 예측 모델링\n",
    "#### 주제: VOC를 제기한 고객이 해지할 지 여부를 예측하는 머신러닝, 딥러닝 모델 구현\n",
    "(본 파일과 관련 데이터 파일은 외부로 유출 불가합니다)\n",
    "<br>"
   ]
  },
  {
   "cell_type": "code",
   "execution_count": 80,
   "metadata": {},
   "outputs": [],
   "source": [
    "# 코드실행시 경고 메시지 무시\n",
    "import warnings\n",
    "warnings.filterwarnings(action='ignore')"
   ]
  },
  {
   "cell_type": "markdown",
   "metadata": {},
   "source": [
    "<br>"
   ]
  },
  {
   "cell_type": "markdown",
   "metadata": {},
   "source": [
    "## **<span style=\"color:black\">1. 필요한 라이브러리 설치</span>**"
   ]
  },
  {
   "cell_type": "markdown",
   "metadata": {},
   "source": [
    "<Br>\n",
    "<font color=blue>1-1. pip 이용해서 seaborn 설치하기</font>"
   ]
  },
  {
   "cell_type": "code",
   "execution_count": 81,
   "metadata": {},
   "outputs": [
    {
     "name": "stdout",
     "output_type": "stream",
     "text": [
      "Requirement already satisfied: seaborn in c:\\users\\user\\anaconda3\\lib\\site-packages (0.11.2)\n",
      "Requirement already satisfied: pandas>=0.23 in c:\\users\\user\\anaconda3\\lib\\site-packages (from seaborn) (1.4.4)\n",
      "Requirement already satisfied: matplotlib>=2.2 in c:\\users\\user\\anaconda3\\lib\\site-packages (from seaborn) (3.5.2)\n",
      "Requirement already satisfied: numpy>=1.15 in c:\\users\\user\\anaconda3\\lib\\site-packages (from seaborn) (1.21.5)\n",
      "Requirement already satisfied: scipy>=1.0 in c:\\users\\user\\anaconda3\\lib\\site-packages (from seaborn) (1.9.1)\n",
      "Requirement already satisfied: packaging>=20.0 in c:\\users\\user\\anaconda3\\lib\\site-packages (from matplotlib>=2.2->seaborn) (21.3)\n",
      "Requirement already satisfied: cycler>=0.10 in c:\\users\\user\\anaconda3\\lib\\site-packages (from matplotlib>=2.2->seaborn) (0.11.0)\n",
      "Requirement already satisfied: fonttools>=4.22.0 in c:\\users\\user\\anaconda3\\lib\\site-packages (from matplotlib>=2.2->seaborn) (4.25.0)\n",
      "Requirement already satisfied: pyparsing>=2.2.1 in c:\\users\\user\\anaconda3\\lib\\site-packages (from matplotlib>=2.2->seaborn) (3.0.9)\n",
      "Requirement already satisfied: pillow>=6.2.0 in c:\\users\\user\\anaconda3\\lib\\site-packages (from matplotlib>=2.2->seaborn) (9.2.0)\n",
      "Requirement already satisfied: kiwisolver>=1.0.1 in c:\\users\\user\\anaconda3\\lib\\site-packages (from matplotlib>=2.2->seaborn) (1.4.2)\n",
      "Requirement already satisfied: python-dateutil>=2.7 in c:\\users\\user\\anaconda3\\lib\\site-packages (from matplotlib>=2.2->seaborn) (2.8.2)\n",
      "Requirement already satisfied: pytz>=2020.1 in c:\\users\\user\\anaconda3\\lib\\site-packages (from pandas>=0.23->seaborn) (2022.1)\n",
      "Requirement already satisfied: six>=1.5 in c:\\users\\user\\anaconda3\\lib\\site-packages (from python-dateutil>=2.7->matplotlib>=2.2->seaborn) (1.16.0)\n"
     ]
    }
   ],
   "source": [
    "!pip install seaborn"
   ]
  },
  {
   "cell_type": "markdown",
   "metadata": {},
   "source": [
    "<br>\n",
    "<font color=blue>1-2. numpy 별칭을 np로, pandas 별칭을 pd로 해서 임포트 하세요</font>"
   ]
  },
  {
   "cell_type": "code",
   "execution_count": 82,
   "metadata": {},
   "outputs": [],
   "source": [
    "import numpy as np\n",
    "import pandas as pd"
   ]
  },
  {
   "cell_type": "markdown",
   "metadata": {},
   "source": [
    "<br>\n",
    "<font color=blue>1-3. matplotlib 라이브러리를 plt로, seaborn을 sns로 해서 임포트 하세요"
   ]
  },
  {
   "cell_type": "code",
   "execution_count": 83,
   "metadata": {},
   "outputs": [],
   "source": [
    "import matplotlib.pyplot as plt\n",
    "import seaborn as sns"
   ]
  },
  {
   "cell_type": "markdown",
   "metadata": {},
   "source": [
    "<br>\n",
    "<font color=blue>[참고] KT AIDU 플랫폼 [데이터Tab] 사용을 위한 AIDU 라이브러리 임포트 및 AIDU 연동 변수 설정"
   ]
  },
  {
   "cell_type": "code",
   "execution_count": 84,
   "metadata": {},
   "outputs": [],
   "source": [
    "# KT AIDU 플랫폼 사용 시\n",
    "#from aicentro.session import Session\n",
    "#from aicentro.framework.keras import Keras as AiduFrm\n",
    "\n",
    "#aidu_session = Session(verify=False)\n",
    "#aidu_framework = AiduFrm(session=aidu_session)"
   ]
  },
  {
   "cell_type": "markdown",
   "metadata": {},
   "source": [
    "<br>"
   ]
  },
  {
   "cell_type": "markdown",
   "metadata": {},
   "source": [
    "## **<span style=\"color:black\">2. Tabular 데이터 로딩</span>**"
   ]
  },
  {
   "cell_type": "markdown",
   "metadata": {},
   "source": [
    "<br>\n",
    "<font color=blue>[참고] KT AIDU 플랫폼 [데이터Tab] 사용 시 디렉토리 확인"
   ]
  },
  {
   "cell_type": "code",
   "execution_count": 85,
   "metadata": {},
   "outputs": [],
   "source": [
    "# aidu_framework.config.data_dir 내용 확인\n",
    "#aidu_framework.config.data_dir"
   ]
  },
  {
   "cell_type": "markdown",
   "metadata": {},
   "source": [
    "<br>\n",
    "<font color=blue>2-1. pandas read_csv 함수를 사용하여 voc_data.csv 파일 읽어오세요. (df에 저장하세요)</font>"
   ]
  },
  {
   "cell_type": "code",
   "execution_count": 86,
   "metadata": {},
   "outputs": [],
   "source": [
    "df = pd.read_csv('voc_data.csv')"
   ]
  },
  {
   "cell_type": "markdown",
   "metadata": {},
   "source": [
    "<br>\n",
    "<font color=blue>[참고] KT AIDU 플랫폼 [데이터Tab]에서 파일을 읽어올 경우: pandas read_csv 함수를 사용하여 voc_data.csv 파일 읽어오세요</font>"
   ]
  },
  {
   "cell_type": "code",
   "execution_count": 87,
   "metadata": {},
   "outputs": [],
   "source": [
    "# AIDU 파일 저장 위치 변수 : aidu_framework.config.data_dir\n",
    "# 읽어올 파일명 : voc_data.csv\n",
    "# 읽어온 파일을 DataFrame \"df\" 이름으로 저장\n",
    "\n",
    "#df = pd.read_csv(aidu_framework.config.data_dir + '/voc_data.csv')\n",
    "\n"
   ]
  },
  {
   "cell_type": "markdown",
   "metadata": {},
   "source": [
    "<br>"
   ]
  },
  {
   "cell_type": "markdown",
   "metadata": {},
   "source": [
    "## **<span style=\"color:black\">3. 데이터의 구성 확인</span>**"
   ]
  },
  {
   "cell_type": "markdown",
   "metadata": {},
   "source": [
    "<br>\n",
    "<font color=blue>3-1. \"df\" DataFrame 이용해서 읽어들인 파일의 앞부분 5줄, 뒷부분 5줄을 출력하세요</font>"
   ]
  },
  {
   "cell_type": "code",
   "execution_count": 88,
   "metadata": {},
   "outputs": [
    {
     "data": {
      "text/html": [
       "<div>\n",
       "<style scoped>\n",
       "    .dataframe tbody tr th:only-of-type {\n",
       "        vertical-align: middle;\n",
       "    }\n",
       "\n",
       "    .dataframe tbody tr th {\n",
       "        vertical-align: top;\n",
       "    }\n",
       "\n",
       "    .dataframe thead th {\n",
       "        text-align: right;\n",
       "    }\n",
       "</style>\n",
       "<table border=\"1\" class=\"dataframe\">\n",
       "  <thead>\n",
       "    <tr style=\"text-align: right;\">\n",
       "      <th></th>\n",
       "      <th>voc_trt_perd_itg_cd</th>\n",
       "      <th>voc_prod_sbt_id</th>\n",
       "      <th>voc_wjt_sorc_id</th>\n",
       "      <th>voc_type_itg_cd</th>\n",
       "      <th>voc_sttus_itg_cd</th>\n",
       "      <th>voc_trt_reslt_itg_cd</th>\n",
       "      <th>cust_clas_itg_cd</th>\n",
       "      <th>bprod_sbt_id</th>\n",
       "      <th>age_itg_cd</th>\n",
       "      <th>cont_sttus_itg_cd</th>\n",
       "      <th>...</th>\n",
       "      <th>voc_dupl_tmscnt</th>\n",
       "      <th>oos_cause_type_itg_cd</th>\n",
       "      <th>voc_trt_need_time_itg_cd</th>\n",
       "      <th>engt_cperd_type_itg_cd</th>\n",
       "      <th>engt_tgt_div_itg_cd</th>\n",
       "      <th>cont_fns_pam_date</th>\n",
       "      <th>voc_mis_pbls_yn</th>\n",
       "      <th>fclt_oos_yn</th>\n",
       "      <th>cust_snsry_base_conf_need_time</th>\n",
       "      <th>trm_yn</th>\n",
       "    </tr>\n",
       "  </thead>\n",
       "  <tbody>\n",
       "    <tr>\n",
       "      <th>0</th>\n",
       "      <td>_</td>\n",
       "      <td>1000665328</td>\n",
       "      <td>2153</td>\n",
       "      <td>10009</td>\n",
       "      <td>10002</td>\n",
       "      <td>_</td>\n",
       "      <td>F</td>\n",
       "      <td>1000001126</td>\n",
       "      <td>36</td>\n",
       "      <td>10001</td>\n",
       "      <td>...</td>\n",
       "      <td>0</td>\n",
       "      <td>_</td>\n",
       "      <td>10001</td>\n",
       "      <td>_</td>\n",
       "      <td>_</td>\n",
       "      <td>99991231</td>\n",
       "      <td>N</td>\n",
       "      <td>_</td>\n",
       "      <td>0</td>\n",
       "      <td>N</td>\n",
       "    </tr>\n",
       "    <tr>\n",
       "      <th>1</th>\n",
       "      <td>_</td>\n",
       "      <td>1001028714</td>\n",
       "      <td>3311</td>\n",
       "      <td>10009</td>\n",
       "      <td>10002</td>\n",
       "      <td>10081</td>\n",
       "      <td>G</td>\n",
       "      <td>1000852226</td>\n",
       "      <td>32</td>\n",
       "      <td>10001</td>\n",
       "      <td>...</td>\n",
       "      <td>0</td>\n",
       "      <td>_</td>\n",
       "      <td>10001</td>\n",
       "      <td>15098</td>\n",
       "      <td>15244</td>\n",
       "      <td>20220319</td>\n",
       "      <td>N</td>\n",
       "      <td>_</td>\n",
       "      <td>0</td>\n",
       "      <td>N</td>\n",
       "    </tr>\n",
       "    <tr>\n",
       "      <th>2</th>\n",
       "      <td>_</td>\n",
       "      <td>1001028567</td>\n",
       "      <td>1575</td>\n",
       "      <td>10009</td>\n",
       "      <td>10002</td>\n",
       "      <td>_</td>\n",
       "      <td>G</td>\n",
       "      <td>1000851875</td>\n",
       "      <td>52</td>\n",
       "      <td>10001</td>\n",
       "      <td>...</td>\n",
       "      <td>0</td>\n",
       "      <td>10268</td>\n",
       "      <td>10001</td>\n",
       "      <td>15097</td>\n",
       "      <td>15244</td>\n",
       "      <td>20220508</td>\n",
       "      <td>N</td>\n",
       "      <td>N</td>\n",
       "      <td>0</td>\n",
       "      <td>N</td>\n",
       "    </tr>\n",
       "    <tr>\n",
       "      <th>3</th>\n",
       "      <td>10000</td>\n",
       "      <td>1000665328</td>\n",
       "      <td>3546</td>\n",
       "      <td>10009</td>\n",
       "      <td>10002</td>\n",
       "      <td>_</td>\n",
       "      <td>_</td>\n",
       "      <td>1000001126</td>\n",
       "      <td>_</td>\n",
       "      <td>10001</td>\n",
       "      <td>...</td>\n",
       "      <td>0</td>\n",
       "      <td>_</td>\n",
       "      <td>10001</td>\n",
       "      <td>_</td>\n",
       "      <td>_</td>\n",
       "      <td>99991231</td>\n",
       "      <td>N</td>\n",
       "      <td>_</td>\n",
       "      <td>0</td>\n",
       "      <td>N</td>\n",
       "    </tr>\n",
       "    <tr>\n",
       "      <th>4</th>\n",
       "      <td>_</td>\n",
       "      <td>1000779276</td>\n",
       "      <td>3086</td>\n",
       "      <td>10009</td>\n",
       "      <td>10002</td>\n",
       "      <td>_</td>\n",
       "      <td>G</td>\n",
       "      <td>1000764639</td>\n",
       "      <td>50</td>\n",
       "      <td>10001</td>\n",
       "      <td>...</td>\n",
       "      <td>0</td>\n",
       "      <td>_</td>\n",
       "      <td>10001</td>\n",
       "      <td>_</td>\n",
       "      <td>_</td>\n",
       "      <td>99991231</td>\n",
       "      <td>N</td>\n",
       "      <td>_</td>\n",
       "      <td>0</td>\n",
       "      <td>N</td>\n",
       "    </tr>\n",
       "  </tbody>\n",
       "</table>\n",
       "<p>5 rows × 24 columns</p>\n",
       "</div>"
      ],
      "text/plain": [
       "  voc_trt_perd_itg_cd  voc_prod_sbt_id  voc_wjt_sorc_id  voc_type_itg_cd  \\\n",
       "0                   _       1000665328             2153            10009   \n",
       "1                   _       1001028714             3311            10009   \n",
       "2                   _       1001028567             1575            10009   \n",
       "3               10000       1000665328             3546            10009   \n",
       "4                   _       1000779276             3086            10009   \n",
       "\n",
       "   voc_sttus_itg_cd voc_trt_reslt_itg_cd cust_clas_itg_cd  bprod_sbt_id  \\\n",
       "0             10002                    _                F    1000001126   \n",
       "1             10002                10081                G    1000852226   \n",
       "2             10002                    _                G    1000851875   \n",
       "3             10002                    _                _    1000001126   \n",
       "4             10002                    _                G    1000764639   \n",
       "\n",
       "  age_itg_cd cont_sttus_itg_cd  ...  voc_dupl_tmscnt  oos_cause_type_itg_cd  \\\n",
       "0         36             10001  ...                0                      _   \n",
       "1         32             10001  ...                0                      _   \n",
       "2         52             10001  ...                0                  10268   \n",
       "3          _             10001  ...                0                      _   \n",
       "4         50             10001  ...                0                      _   \n",
       "\n",
       "  voc_trt_need_time_itg_cd  engt_cperd_type_itg_cd  engt_tgt_div_itg_cd  \\\n",
       "0                    10001                       _                    _   \n",
       "1                    10001                   15098                15244   \n",
       "2                    10001                   15097                15244   \n",
       "3                    10001                       _                    _   \n",
       "4                    10001                       _                    _   \n",
       "\n",
       "  cont_fns_pam_date  voc_mis_pbls_yn fclt_oos_yn  \\\n",
       "0          99991231                N           _   \n",
       "1          20220319                N           _   \n",
       "2          20220508                N           N   \n",
       "3          99991231                N           _   \n",
       "4          99991231                N           _   \n",
       "\n",
       "  cust_snsry_base_conf_need_time  trm_yn  \n",
       "0                              0       N  \n",
       "1                              0       N  \n",
       "2                              0       N  \n",
       "3                              0       N  \n",
       "4                              0       N  \n",
       "\n",
       "[5 rows x 24 columns]"
      ]
     },
     "execution_count": 88,
     "metadata": {},
     "output_type": "execute_result"
    }
   ],
   "source": [
    "# 앞부분 5줄 출력\n",
    "df.head()"
   ]
  },
  {
   "cell_type": "code",
   "execution_count": 89,
   "metadata": {},
   "outputs": [
    {
     "data": {
      "text/html": [
       "<div>\n",
       "<style scoped>\n",
       "    .dataframe tbody tr th:only-of-type {\n",
       "        vertical-align: middle;\n",
       "    }\n",
       "\n",
       "    .dataframe tbody tr th {\n",
       "        vertical-align: top;\n",
       "    }\n",
       "\n",
       "    .dataframe thead th {\n",
       "        text-align: right;\n",
       "    }\n",
       "</style>\n",
       "<table border=\"1\" class=\"dataframe\">\n",
       "  <thead>\n",
       "    <tr style=\"text-align: right;\">\n",
       "      <th></th>\n",
       "      <th>voc_trt_perd_itg_cd</th>\n",
       "      <th>voc_prod_sbt_id</th>\n",
       "      <th>voc_wjt_sorc_id</th>\n",
       "      <th>voc_type_itg_cd</th>\n",
       "      <th>voc_sttus_itg_cd</th>\n",
       "      <th>voc_trt_reslt_itg_cd</th>\n",
       "      <th>cust_clas_itg_cd</th>\n",
       "      <th>bprod_sbt_id</th>\n",
       "      <th>age_itg_cd</th>\n",
       "      <th>cont_sttus_itg_cd</th>\n",
       "      <th>...</th>\n",
       "      <th>voc_dupl_tmscnt</th>\n",
       "      <th>oos_cause_type_itg_cd</th>\n",
       "      <th>voc_trt_need_time_itg_cd</th>\n",
       "      <th>engt_cperd_type_itg_cd</th>\n",
       "      <th>engt_tgt_div_itg_cd</th>\n",
       "      <th>cont_fns_pam_date</th>\n",
       "      <th>voc_mis_pbls_yn</th>\n",
       "      <th>fclt_oos_yn</th>\n",
       "      <th>cust_snsry_base_conf_need_time</th>\n",
       "      <th>trm_yn</th>\n",
       "    </tr>\n",
       "  </thead>\n",
       "  <tbody>\n",
       "    <tr>\n",
       "      <th>9995</th>\n",
       "      <td>_</td>\n",
       "      <td>1000811136</td>\n",
       "      <td>2123</td>\n",
       "      <td>10009</td>\n",
       "      <td>10002</td>\n",
       "      <td>_</td>\n",
       "      <td>G</td>\n",
       "      <td>1000809259</td>\n",
       "      <td>17</td>\n",
       "      <td>10001</td>\n",
       "      <td>...</td>\n",
       "      <td>0</td>\n",
       "      <td>_</td>\n",
       "      <td>10001</td>\n",
       "      <td>_</td>\n",
       "      <td>_</td>\n",
       "      <td>99991231</td>\n",
       "      <td>N</td>\n",
       "      <td>_</td>\n",
       "      <td>0</td>\n",
       "      <td>N</td>\n",
       "    </tr>\n",
       "    <tr>\n",
       "      <th>9996</th>\n",
       "      <td>_</td>\n",
       "      <td>1001047799</td>\n",
       "      <td>2153</td>\n",
       "      <td>10009</td>\n",
       "      <td>10002</td>\n",
       "      <td>_</td>\n",
       "      <td>I</td>\n",
       "      <td>1001046521</td>\n",
       "      <td>35</td>\n",
       "      <td>10001</td>\n",
       "      <td>...</td>\n",
       "      <td>0</td>\n",
       "      <td>_</td>\n",
       "      <td>10001</td>\n",
       "      <td>_</td>\n",
       "      <td>_</td>\n",
       "      <td>99991231</td>\n",
       "      <td>N</td>\n",
       "      <td>_</td>\n",
       "      <td>0</td>\n",
       "      <td>N</td>\n",
       "    </tr>\n",
       "    <tr>\n",
       "      <th>9997</th>\n",
       "      <td>_</td>\n",
       "      <td>1001027819</td>\n",
       "      <td>379</td>\n",
       "      <td>10009</td>\n",
       "      <td>10002</td>\n",
       "      <td>_</td>\n",
       "      <td>G</td>\n",
       "      <td>1000720809</td>\n",
       "      <td>51</td>\n",
       "      <td>10001</td>\n",
       "      <td>...</td>\n",
       "      <td>0</td>\n",
       "      <td>10270</td>\n",
       "      <td>10001</td>\n",
       "      <td>15097</td>\n",
       "      <td>15244</td>\n",
       "      <td>20180903</td>\n",
       "      <td>N</td>\n",
       "      <td>N</td>\n",
       "      <td>0</td>\n",
       "      <td>N</td>\n",
       "    </tr>\n",
       "    <tr>\n",
       "      <th>9998</th>\n",
       "      <td>_</td>\n",
       "      <td>1001027819</td>\n",
       "      <td>314</td>\n",
       "      <td>10009</td>\n",
       "      <td>10002</td>\n",
       "      <td>_</td>\n",
       "      <td>I</td>\n",
       "      <td>1000720809</td>\n",
       "      <td>_</td>\n",
       "      <td>10001</td>\n",
       "      <td>...</td>\n",
       "      <td>0</td>\n",
       "      <td>_</td>\n",
       "      <td>10001</td>\n",
       "      <td>15097</td>\n",
       "      <td>15244</td>\n",
       "      <td>20210412</td>\n",
       "      <td>N</td>\n",
       "      <td>_</td>\n",
       "      <td>0</td>\n",
       "      <td>N</td>\n",
       "    </tr>\n",
       "    <tr>\n",
       "      <th>9999</th>\n",
       "      <td>_</td>\n",
       "      <td>1001047802</td>\n",
       "      <td>2266</td>\n",
       "      <td>10009</td>\n",
       "      <td>10002</td>\n",
       "      <td>_</td>\n",
       "      <td>G</td>\n",
       "      <td>1001046524</td>\n",
       "      <td>27</td>\n",
       "      <td>10001</td>\n",
       "      <td>...</td>\n",
       "      <td>0</td>\n",
       "      <td>_</td>\n",
       "      <td>10001</td>\n",
       "      <td>_</td>\n",
       "      <td>_</td>\n",
       "      <td>99991231</td>\n",
       "      <td>N</td>\n",
       "      <td>_</td>\n",
       "      <td>0</td>\n",
       "      <td>N</td>\n",
       "    </tr>\n",
       "  </tbody>\n",
       "</table>\n",
       "<p>5 rows × 24 columns</p>\n",
       "</div>"
      ],
      "text/plain": [
       "     voc_trt_perd_itg_cd  voc_prod_sbt_id  voc_wjt_sorc_id  voc_type_itg_cd  \\\n",
       "9995                   _       1000811136             2123            10009   \n",
       "9996                   _       1001047799             2153            10009   \n",
       "9997                   _       1001027819              379            10009   \n",
       "9998                   _       1001027819              314            10009   \n",
       "9999                   _       1001047802             2266            10009   \n",
       "\n",
       "      voc_sttus_itg_cd voc_trt_reslt_itg_cd cust_clas_itg_cd  bprod_sbt_id  \\\n",
       "9995             10002                    _                G    1000809259   \n",
       "9996             10002                    _                I    1001046521   \n",
       "9997             10002                    _                G    1000720809   \n",
       "9998             10002                    _                I    1000720809   \n",
       "9999             10002                    _                G    1001046524   \n",
       "\n",
       "     age_itg_cd cont_sttus_itg_cd  ...  voc_dupl_tmscnt  \\\n",
       "9995         17             10001  ...                0   \n",
       "9996         35             10001  ...                0   \n",
       "9997         51             10001  ...                0   \n",
       "9998          _             10001  ...                0   \n",
       "9999         27             10001  ...                0   \n",
       "\n",
       "      oos_cause_type_itg_cd voc_trt_need_time_itg_cd  engt_cperd_type_itg_cd  \\\n",
       "9995                      _                    10001                       _   \n",
       "9996                      _                    10001                       _   \n",
       "9997                  10270                    10001                   15097   \n",
       "9998                      _                    10001                   15097   \n",
       "9999                      _                    10001                       _   \n",
       "\n",
       "      engt_tgt_div_itg_cd cont_fns_pam_date  voc_mis_pbls_yn fclt_oos_yn  \\\n",
       "9995                    _          99991231                N           _   \n",
       "9996                    _          99991231                N           _   \n",
       "9997                15244          20180903                N           N   \n",
       "9998                15244          20210412                N           _   \n",
       "9999                    _          99991231                N           _   \n",
       "\n",
       "     cust_snsry_base_conf_need_time  trm_yn  \n",
       "9995                              0       N  \n",
       "9996                              0       N  \n",
       "9997                              0       N  \n",
       "9998                              0       N  \n",
       "9999                              0       N  \n",
       "\n",
       "[5 rows x 24 columns]"
      ]
     },
     "execution_count": 89,
     "metadata": {},
     "output_type": "execute_result"
    }
   ],
   "source": [
    "# 뒷부분 5줄 출력\n",
    "df.tail()"
   ]
  },
  {
   "cell_type": "markdown",
   "metadata": {},
   "source": [
    "<br>\n",
    "<font color=blue>3-2. 데이터프레임 정보(컬럼정보, Null 여부, 타입) 출력하세요</font>"
   ]
  },
  {
   "cell_type": "code",
   "execution_count": 90,
   "metadata": {},
   "outputs": [
    {
     "name": "stdout",
     "output_type": "stream",
     "text": [
      "<class 'pandas.core.frame.DataFrame'>\n",
      "RangeIndex: 10000 entries, 0 to 9999\n",
      "Data columns (total 24 columns):\n",
      " #   Column                          Non-Null Count  Dtype \n",
      "---  ------                          --------------  ----- \n",
      " 0   voc_trt_perd_itg_cd             10000 non-null  object\n",
      " 1   voc_prod_sbt_id                 10000 non-null  int64 \n",
      " 2   voc_wjt_sorc_id                 10000 non-null  int64 \n",
      " 3   voc_type_itg_cd                 10000 non-null  int64 \n",
      " 4   voc_sttus_itg_cd                10000 non-null  int64 \n",
      " 5   voc_trt_reslt_itg_cd            10000 non-null  object\n",
      " 6   cust_clas_itg_cd                10000 non-null  object\n",
      " 7   bprod_sbt_id                    10000 non-null  int64 \n",
      " 8   age_itg_cd                      10000 non-null  object\n",
      " 9   cont_sttus_itg_cd               10000 non-null  object\n",
      " 10  new_date                        10000 non-null  int64 \n",
      " 11  opn_nfl_chg_date                10000 non-null  int64 \n",
      " 12  cust_dtl_ctg_itg_cd             10000 non-null  object\n",
      " 13  voc_trt_degr_div_itg_cd         10000 non-null  int64 \n",
      " 14  voc_dupl_tmscnt                 10000 non-null  int64 \n",
      " 15  oos_cause_type_itg_cd           10000 non-null  object\n",
      " 16  voc_trt_need_time_itg_cd        10000 non-null  int64 \n",
      " 17  engt_cperd_type_itg_cd          10000 non-null  object\n",
      " 18  engt_tgt_div_itg_cd             10000 non-null  object\n",
      " 19  cont_fns_pam_date               10000 non-null  int64 \n",
      " 20  voc_mis_pbls_yn                 10000 non-null  object\n",
      " 21  fclt_oos_yn                     10000 non-null  object\n",
      " 22  cust_snsry_base_conf_need_time  10000 non-null  int64 \n",
      " 23  trm_yn                          10000 non-null  object\n",
      "dtypes: int64(12), object(12)\n",
      "memory usage: 1.8+ MB\n"
     ]
    }
   ],
   "source": [
    "df.info()"
   ]
  },
  {
   "cell_type": "markdown",
   "metadata": {},
   "source": [
    "<br>\n",
    "<font color=blue>3-3. 데이터프레임 인덱스를 확인하세요</font>"
   ]
  },
  {
   "cell_type": "code",
   "execution_count": 91,
   "metadata": {},
   "outputs": [
    {
     "data": {
      "text/plain": [
       "RangeIndex(start=0, stop=10000, step=1)"
      ]
     },
     "execution_count": 91,
     "metadata": {},
     "output_type": "execute_result"
    }
   ],
   "source": [
    "df.index"
   ]
  },
  {
   "cell_type": "markdown",
   "metadata": {},
   "source": [
    "<br>\n",
    "<font color=blue>3-4. 데이터프레임 컬럼을 확인하세요</font>"
   ]
  },
  {
   "cell_type": "code",
   "execution_count": 92,
   "metadata": {},
   "outputs": [
    {
     "data": {
      "text/plain": [
       "Index(['voc_trt_perd_itg_cd', 'voc_prod_sbt_id', 'voc_wjt_sorc_id',\n",
       "       'voc_type_itg_cd', 'voc_sttus_itg_cd', 'voc_trt_reslt_itg_cd',\n",
       "       'cust_clas_itg_cd', 'bprod_sbt_id', 'age_itg_cd', 'cont_sttus_itg_cd',\n",
       "       'new_date', 'opn_nfl_chg_date', 'cust_dtl_ctg_itg_cd',\n",
       "       'voc_trt_degr_div_itg_cd', 'voc_dupl_tmscnt', 'oos_cause_type_itg_cd',\n",
       "       'voc_trt_need_time_itg_cd', 'engt_cperd_type_itg_cd',\n",
       "       'engt_tgt_div_itg_cd', 'cont_fns_pam_date', 'voc_mis_pbls_yn',\n",
       "       'fclt_oos_yn', 'cust_snsry_base_conf_need_time', 'trm_yn'],\n",
       "      dtype='object')"
      ]
     },
     "execution_count": 92,
     "metadata": {},
     "output_type": "execute_result"
    }
   ],
   "source": [
    "df.columns"
   ]
  },
  {
   "cell_type": "markdown",
   "metadata": {},
   "source": [
    "<br>\n",
    "<font color=blue>3-5. 데이터프레임 값(value)을 확인하세요</font>"
   ]
  },
  {
   "cell_type": "code",
   "execution_count": 93,
   "metadata": {},
   "outputs": [
    {
     "data": {
      "text/plain": [
       "array([['_', 1000665328, 2153, ..., '_', 0, 'N'],\n",
       "       ['_', 1001028714, 3311, ..., '_', 0, 'N'],\n",
       "       ['_', 1001028567, 1575, ..., 'N', 0, 'N'],\n",
       "       ...,\n",
       "       ['_', 1001027819, 379, ..., 'N', 0, 'N'],\n",
       "       ['_', 1001027819, 314, ..., '_', 0, 'N'],\n",
       "       ['_', 1001047802, 2266, ..., '_', 0, 'N']], dtype=object)"
      ]
     },
     "execution_count": 93,
     "metadata": {},
     "output_type": "execute_result"
    }
   ],
   "source": [
    "df.values"
   ]
  },
  {
   "cell_type": "markdown",
   "metadata": {},
   "source": [
    "<br>\n",
    "<font color=blue>3-6. 데이터프레임의 계산 가능한 값들에 대한 통계치를 확인하세요</font>"
   ]
  },
  {
   "cell_type": "code",
   "execution_count": 94,
   "metadata": {},
   "outputs": [
    {
     "data": {
      "text/html": [
       "<div>\n",
       "<style scoped>\n",
       "    .dataframe tbody tr th:only-of-type {\n",
       "        vertical-align: middle;\n",
       "    }\n",
       "\n",
       "    .dataframe tbody tr th {\n",
       "        vertical-align: top;\n",
       "    }\n",
       "\n",
       "    .dataframe thead th {\n",
       "        text-align: right;\n",
       "    }\n",
       "</style>\n",
       "<table border=\"1\" class=\"dataframe\">\n",
       "  <thead>\n",
       "    <tr style=\"text-align: right;\">\n",
       "      <th></th>\n",
       "      <th>voc_prod_sbt_id</th>\n",
       "      <th>voc_wjt_sorc_id</th>\n",
       "      <th>voc_type_itg_cd</th>\n",
       "      <th>voc_sttus_itg_cd</th>\n",
       "      <th>bprod_sbt_id</th>\n",
       "      <th>new_date</th>\n",
       "      <th>opn_nfl_chg_date</th>\n",
       "      <th>voc_trt_degr_div_itg_cd</th>\n",
       "      <th>voc_dupl_tmscnt</th>\n",
       "      <th>voc_trt_need_time_itg_cd</th>\n",
       "      <th>cont_fns_pam_date</th>\n",
       "      <th>cust_snsry_base_conf_need_time</th>\n",
       "    </tr>\n",
       "  </thead>\n",
       "  <tbody>\n",
       "    <tr>\n",
       "      <th>count</th>\n",
       "      <td>1.000000e+04</td>\n",
       "      <td>10000.00000</td>\n",
       "      <td>10000.00000</td>\n",
       "      <td>10000.000000</td>\n",
       "      <td>1.000000e+04</td>\n",
       "      <td>1.000000e+04</td>\n",
       "      <td>1.000000e+04</td>\n",
       "      <td>10000.000000</td>\n",
       "      <td>10000.000000</td>\n",
       "      <td>10000.000000</td>\n",
       "      <td>1.000000e+04</td>\n",
       "      <td>10000.00000</td>\n",
       "    </tr>\n",
       "    <tr>\n",
       "      <th>mean</th>\n",
       "      <td>9.907267e+08</td>\n",
       "      <td>1578.29170</td>\n",
       "      <td>10008.52360</td>\n",
       "      <td>10002.043400</td>\n",
       "      <td>8.838173e+08</td>\n",
       "      <td>1.744283e+07</td>\n",
       "      <td>1.744505e+07</td>\n",
       "      <td>20001.074200</td>\n",
       "      <td>0.008800</td>\n",
       "      <td>10002.656800</td>\n",
       "      <td>7.004469e+07</td>\n",
       "      <td>193.88010</td>\n",
       "    </tr>\n",
       "    <tr>\n",
       "      <th>std</th>\n",
       "      <td>1.005780e+08</td>\n",
       "      <td>1078.63717</td>\n",
       "      <td>1.57927</td>\n",
       "      <td>0.314843</td>\n",
       "      <td>3.214229e+08</td>\n",
       "      <td>6.849207e+06</td>\n",
       "      <td>6.850077e+06</td>\n",
       "      <td>0.262109</td>\n",
       "      <td>0.103555</td>\n",
       "      <td>6.576864</td>\n",
       "      <td>3.863802e+07</td>\n",
       "      <td>6970.03853</td>\n",
       "    </tr>\n",
       "    <tr>\n",
       "      <th>min</th>\n",
       "      <td>-9.980000e+02</td>\n",
       "      <td>126.00000</td>\n",
       "      <td>10003.00000</td>\n",
       "      <td>10002.000000</td>\n",
       "      <td>-9.980000e+02</td>\n",
       "      <td>1.010100e+04</td>\n",
       "      <td>1.010100e+04</td>\n",
       "      <td>20001.000000</td>\n",
       "      <td>0.000000</td>\n",
       "      <td>10001.000000</td>\n",
       "      <td>2.001063e+07</td>\n",
       "      <td>0.00000</td>\n",
       "    </tr>\n",
       "    <tr>\n",
       "      <th>25%</th>\n",
       "      <td>1.000782e+09</td>\n",
       "      <td>360.00000</td>\n",
       "      <td>10009.00000</td>\n",
       "      <td>10002.000000</td>\n",
       "      <td>1.000003e+09</td>\n",
       "      <td>2.008053e+07</td>\n",
       "      <td>2.008123e+07</td>\n",
       "      <td>20001.000000</td>\n",
       "      <td>0.000000</td>\n",
       "      <td>10001.000000</td>\n",
       "      <td>2.021102e+07</td>\n",
       "      <td>0.00000</td>\n",
       "    </tr>\n",
       "    <tr>\n",
       "      <th>50%</th>\n",
       "      <td>1.001028e+09</td>\n",
       "      <td>2056.00000</td>\n",
       "      <td>10009.00000</td>\n",
       "      <td>10002.000000</td>\n",
       "      <td>1.000749e+09</td>\n",
       "      <td>2.014121e+07</td>\n",
       "      <td>2.015031e+07</td>\n",
       "      <td>20001.000000</td>\n",
       "      <td>0.000000</td>\n",
       "      <td>10001.000000</td>\n",
       "      <td>9.999123e+07</td>\n",
       "      <td>0.00000</td>\n",
       "    </tr>\n",
       "    <tr>\n",
       "      <th>75%</th>\n",
       "      <td>1.001036e+09</td>\n",
       "      <td>2153.00000</td>\n",
       "      <td>10009.00000</td>\n",
       "      <td>10002.000000</td>\n",
       "      <td>1.001044e+09</td>\n",
       "      <td>2.018010e+07</td>\n",
       "      <td>2.018032e+07</td>\n",
       "      <td>20001.000000</td>\n",
       "      <td>0.000000</td>\n",
       "      <td>10001.000000</td>\n",
       "      <td>9.999123e+07</td>\n",
       "      <td>0.00000</td>\n",
       "    </tr>\n",
       "    <tr>\n",
       "      <th>max</th>\n",
       "      <td>1.001079e+09</td>\n",
       "      <td>3856.00000</td>\n",
       "      <td>10017.00000</td>\n",
       "      <td>10005.000000</td>\n",
       "      <td>1.001078e+09</td>\n",
       "      <td>2.020041e+07</td>\n",
       "      <td>2.020041e+07</td>\n",
       "      <td>20002.000000</td>\n",
       "      <td>3.000000</td>\n",
       "      <td>10038.000000</td>\n",
       "      <td>9.999123e+07</td>\n",
       "      <td>367991.00000</td>\n",
       "    </tr>\n",
       "  </tbody>\n",
       "</table>\n",
       "</div>"
      ],
      "text/plain": [
       "       voc_prod_sbt_id  voc_wjt_sorc_id  voc_type_itg_cd  voc_sttus_itg_cd  \\\n",
       "count     1.000000e+04      10000.00000      10000.00000      10000.000000   \n",
       "mean      9.907267e+08       1578.29170      10008.52360      10002.043400   \n",
       "std       1.005780e+08       1078.63717          1.57927          0.314843   \n",
       "min      -9.980000e+02        126.00000      10003.00000      10002.000000   \n",
       "25%       1.000782e+09        360.00000      10009.00000      10002.000000   \n",
       "50%       1.001028e+09       2056.00000      10009.00000      10002.000000   \n",
       "75%       1.001036e+09       2153.00000      10009.00000      10002.000000   \n",
       "max       1.001079e+09       3856.00000      10017.00000      10005.000000   \n",
       "\n",
       "       bprod_sbt_id      new_date  opn_nfl_chg_date  voc_trt_degr_div_itg_cd  \\\n",
       "count  1.000000e+04  1.000000e+04      1.000000e+04             10000.000000   \n",
       "mean   8.838173e+08  1.744283e+07      1.744505e+07             20001.074200   \n",
       "std    3.214229e+08  6.849207e+06      6.850077e+06                 0.262109   \n",
       "min   -9.980000e+02  1.010100e+04      1.010100e+04             20001.000000   \n",
       "25%    1.000003e+09  2.008053e+07      2.008123e+07             20001.000000   \n",
       "50%    1.000749e+09  2.014121e+07      2.015031e+07             20001.000000   \n",
       "75%    1.001044e+09  2.018010e+07      2.018032e+07             20001.000000   \n",
       "max    1.001078e+09  2.020041e+07      2.020041e+07             20002.000000   \n",
       "\n",
       "       voc_dupl_tmscnt  voc_trt_need_time_itg_cd  cont_fns_pam_date  \\\n",
       "count     10000.000000              10000.000000       1.000000e+04   \n",
       "mean          0.008800              10002.656800       7.004469e+07   \n",
       "std           0.103555                  6.576864       3.863802e+07   \n",
       "min           0.000000              10001.000000       2.001063e+07   \n",
       "25%           0.000000              10001.000000       2.021102e+07   \n",
       "50%           0.000000              10001.000000       9.999123e+07   \n",
       "75%           0.000000              10001.000000       9.999123e+07   \n",
       "max           3.000000              10038.000000       9.999123e+07   \n",
       "\n",
       "       cust_snsry_base_conf_need_time  \n",
       "count                     10000.00000  \n",
       "mean                        193.88010  \n",
       "std                        6970.03853  \n",
       "min                           0.00000  \n",
       "25%                           0.00000  \n",
       "50%                           0.00000  \n",
       "75%                           0.00000  \n",
       "max                      367991.00000  "
      ]
     },
     "execution_count": 94,
     "metadata": {},
     "output_type": "execute_result"
    }
   ],
   "source": [
    "df.describe()"
   ]
  },
  {
   "cell_type": "markdown",
   "metadata": {},
   "source": [
    "<br>\n",
    "<font color=blue>3-7. DataFrame 컬럼 항목에 Null 존재하는지 확인하세요. (null값의 합계 포함)</font>"
   ]
  },
  {
   "cell_type": "code",
   "execution_count": 95,
   "metadata": {},
   "outputs": [
    {
     "data": {
      "text/plain": [
       "voc_trt_perd_itg_cd               0\n",
       "voc_prod_sbt_id                   0\n",
       "voc_wjt_sorc_id                   0\n",
       "voc_type_itg_cd                   0\n",
       "voc_sttus_itg_cd                  0\n",
       "voc_trt_reslt_itg_cd              0\n",
       "cust_clas_itg_cd                  0\n",
       "bprod_sbt_id                      0\n",
       "age_itg_cd                        0\n",
       "cont_sttus_itg_cd                 0\n",
       "new_date                          0\n",
       "opn_nfl_chg_date                  0\n",
       "cust_dtl_ctg_itg_cd               0\n",
       "voc_trt_degr_div_itg_cd           0\n",
       "voc_dupl_tmscnt                   0\n",
       "oos_cause_type_itg_cd             0\n",
       "voc_trt_need_time_itg_cd          0\n",
       "engt_cperd_type_itg_cd            0\n",
       "engt_tgt_div_itg_cd               0\n",
       "cont_fns_pam_date                 0\n",
       "voc_mis_pbls_yn                   0\n",
       "fclt_oos_yn                       0\n",
       "cust_snsry_base_conf_need_time    0\n",
       "trm_yn                            0\n",
       "dtype: int64"
      ]
     },
     "execution_count": 95,
     "metadata": {},
     "output_type": "execute_result"
    }
   ],
   "source": [
    "df.isnull().sum()\n"
   ]
  },
  {
   "cell_type": "markdown",
   "metadata": {},
   "source": [
    "<br>\n",
    "<font color=blue>3-8. voc_trt_perd_itg_cd 컬럼 데이터를 확인하세요</font>"
   ]
  },
  {
   "cell_type": "code",
   "execution_count": 96,
   "metadata": {},
   "outputs": [
    {
     "data": {
      "text/plain": [
       "0           _\n",
       "1           _\n",
       "2           _\n",
       "3       10000\n",
       "4           _\n",
       "        ...  \n",
       "9995        _\n",
       "9996        _\n",
       "9997        _\n",
       "9998        _\n",
       "9999        _\n",
       "Name: voc_trt_perd_itg_cd, Length: 10000, dtype: object"
      ]
     },
     "execution_count": 96,
     "metadata": {},
     "output_type": "execute_result"
    }
   ],
   "source": [
    "df['voc_trt_perd_itg_cd']"
   ]
  },
  {
   "cell_type": "markdown",
   "metadata": {},
   "source": [
    "<br>\n",
    "<font color=blue>3-9. voc_trt_perd_itg_cd 컬럼 데이터별 건수를 나열하세요</font>"
   ]
  },
  {
   "cell_type": "code",
   "execution_count": 97,
   "metadata": {},
   "outputs": [
    {
     "data": {
      "text/plain": [
       "_        5422\n",
       "10000    4283\n",
       "10001     163\n",
       "10002      58\n",
       "10003      25\n",
       "10004      16\n",
       "10005      10\n",
       "10006       6\n",
       "10008       3\n",
       "10009       3\n",
       "10016       2\n",
       "10011       2\n",
       "10012       2\n",
       "10007       2\n",
       "10014       1\n",
       "10013       1\n",
       "10015       1\n",
       "Name: voc_trt_perd_itg_cd, dtype: int64"
      ]
     },
     "execution_count": 97,
     "metadata": {},
     "output_type": "execute_result"
    }
   ],
   "source": [
    "df['voc_trt_perd_itg_cd'].value_counts()"
   ]
  },
  {
   "cell_type": "code",
   "execution_count": 98,
   "metadata": {},
   "outputs": [
    {
     "data": {
      "text/plain": [
       "_        0.5422\n",
       "10000    0.4283\n",
       "10001    0.0163\n",
       "10002    0.0058\n",
       "10003    0.0025\n",
       "10004    0.0016\n",
       "10005    0.0010\n",
       "10006    0.0006\n",
       "10008    0.0003\n",
       "10009    0.0003\n",
       "10016    0.0002\n",
       "10011    0.0002\n",
       "10012    0.0002\n",
       "10007    0.0002\n",
       "10014    0.0001\n",
       "10013    0.0001\n",
       "10015    0.0001\n",
       "Name: voc_trt_perd_itg_cd, dtype: float64"
      ]
     },
     "execution_count": 98,
     "metadata": {},
     "output_type": "execute_result"
    }
   ],
   "source": [
    "# [참고]voc_trt_perd_itg_cd 컬럼 데이터별 건수 비율 보기\n",
    "df['voc_trt_perd_itg_cd'].value_counts(normalize=True)"
   ]
  },
  {
   "cell_type": "markdown",
   "metadata": {},
   "source": [
    "<br>\n",
    "<font color=blue>3-10. 모든 컬럼에 대한 데이터 분포 건수를 확인하세요.</font>"
   ]
  },
  {
   "cell_type": "code",
   "execution_count": 99,
   "metadata": {
    "scrolled": true,
    "tags": []
   },
   "outputs": [
    {
     "data": {
      "text/plain": [
       "[_        5422\n",
       " 10000    4283\n",
       " 10001     163\n",
       " 10002      58\n",
       " 10003      25\n",
       " 10004      16\n",
       " 10005      10\n",
       " 10006       6\n",
       " 10008       3\n",
       " 10009       3\n",
       " 10016       2\n",
       " 10011       2\n",
       " 10012       2\n",
       " 10007       2\n",
       " 10014       1\n",
       " 10013       1\n",
       " 10015       1\n",
       " Name: voc_trt_perd_itg_cd, dtype: int64,\n",
       " 1001027747    1426\n",
       " 1000665328     998\n",
       " 1001027746     477\n",
       " 1001047801     408\n",
       " 1001044841     398\n",
       "               ... \n",
       " 1001069182       1\n",
       " 1000667452       1\n",
       " 1000781560       1\n",
       " 1000711760       1\n",
       " 1001056085       1\n",
       " Name: voc_prod_sbt_id, Length: 562, dtype: int64,\n",
       " 2153    1951\n",
       " 329      369\n",
       " 656      336\n",
       " 3086     325\n",
       " 128      325\n",
       "         ... \n",
       " 1900       1\n",
       " 3524       1\n",
       " 3383       1\n",
       " 3331       1\n",
       " 1727       1\n",
       " Name: voc_wjt_sorc_id, Length: 473, dtype: int64,\n",
       " 10009    8847\n",
       " 10003     693\n",
       " 10007     392\n",
       " 10011      61\n",
       " 10017       7\n",
       " Name: voc_type_itg_cd, dtype: int64,\n",
       " 10002    9758\n",
       " 10003     146\n",
       " 10005      96\n",
       " Name: voc_sttus_itg_cd, dtype: int64,\n",
       " _        8857\n",
       " 10081     440\n",
       " 10026     295\n",
       " 10082      92\n",
       " 10003      84\n",
       " 10021      36\n",
       " 10098      33\n",
       " 10097      33\n",
       " 10080      32\n",
       " 10010      28\n",
       " 10009      25\n",
       " 10046       8\n",
       " 10104       8\n",
       " 10109       6\n",
       " 10077       6\n",
       " 10013       4\n",
       " 10099       2\n",
       " 10012       2\n",
       " 10113       2\n",
       " 10076       2\n",
       " 10110       1\n",
       " 10019       1\n",
       " 10018       1\n",
       " 10016       1\n",
       " 10011       1\n",
       " Name: voc_trt_reslt_itg_cd, dtype: int64,\n",
       " L    2769\n",
       " _    1934\n",
       " G    1777\n",
       " I    1266\n",
       " J    1071\n",
       " F     903\n",
       " O     275\n",
       " H       4\n",
       " M       1\n",
       " Name: cust_clas_itg_cd, dtype: int64,\n",
       " -998           1168\n",
       "  1000737200    1133\n",
       "  1000001126    1079\n",
       "  1001046523     499\n",
       "  1001046520     397\n",
       "                ... \n",
       "  1000258159       1\n",
       "  1000002649       1\n",
       "  1000003324       1\n",
       "  1000743238       1\n",
       "  1001048719       1\n",
       " Name: bprod_sbt_id, Length: 272, dtype: int64,\n",
       " _      2129\n",
       " 59      216\n",
       " 51      215\n",
       " 48      211\n",
       " 49      211\n",
       "        ... \n",
       " 101       1\n",
       " 6         1\n",
       " 96        1\n",
       " 100       1\n",
       " 97        1\n",
       " Name: age_itg_cd, Length: 95, dtype: int64,\n",
       " 10001    7843\n",
       " _        1168\n",
       " 10005     552\n",
       " 10003     174\n",
       " 10007     169\n",
       " 10002      65\n",
       " 10006      25\n",
       " 10004       4\n",
       " Name: cont_sttus_itg_cd, dtype: int64,\n",
       " 10101       1337\n",
       " 20200410     138\n",
       " 20200409      51\n",
       " 20200407      23\n",
       " 20200408      18\n",
       "             ... \n",
       " 20150722       1\n",
       " 19880109       1\n",
       " 19890425       1\n",
       " 20080818       1\n",
       " 20110804       1\n",
       " Name: new_date, Length: 3854, dtype: int64,\n",
       " 10101       1337\n",
       " 20200410     168\n",
       " 20200409      54\n",
       " 20200408      25\n",
       " 20200407      24\n",
       "             ... \n",
       " 20020925       1\n",
       " 20130304       1\n",
       " 19880109       1\n",
       " 19890425       1\n",
       " 20110804       1\n",
       " Name: opn_nfl_chg_date, Length: 3786, dtype: int64,\n",
       " 10003    5171\n",
       " 10002    1329\n",
       " _        1168\n",
       " 90029    1160\n",
       " 10019     389\n",
       " 90056     368\n",
       " 90027     217\n",
       " 90024     119\n",
       " 10018      25\n",
       " 10011      25\n",
       " 90030      24\n",
       " 10001       4\n",
       " 10004       1\n",
       " Name: cust_dtl_ctg_itg_cd, dtype: int64,\n",
       " 20001    9258\n",
       " 20002     742\n",
       " Name: voc_trt_degr_div_itg_cd, dtype: int64,\n",
       " 0    9921\n",
       " 1      71\n",
       " 2       7\n",
       " 3       1\n",
       " Name: voc_dupl_tmscnt, dtype: int64,\n",
       " _        9008\n",
       " 10242     177\n",
       " 10270     123\n",
       " 10258     120\n",
       " 10231     115\n",
       " 10268     101\n",
       " 10246      63\n",
       " 10237      59\n",
       " 10269      53\n",
       " 10761      36\n",
       " 10241      24\n",
       " 10239      18\n",
       " 10232      14\n",
       " 10266      11\n",
       " 10233       8\n",
       " 10550       6\n",
       " 10271       6\n",
       " 10243       5\n",
       " 10482       5\n",
       " 10099       4\n",
       " 10238       4\n",
       " 10249       3\n",
       " 10754       3\n",
       " 10104       3\n",
       " 10136       2\n",
       " 10689       2\n",
       " 10757       2\n",
       " 10264       2\n",
       " 10234       2\n",
       " 10567       2\n",
       " 10507       2\n",
       " 10299       2\n",
       " 10244       1\n",
       " 10240       1\n",
       " 10539       1\n",
       " 10547       1\n",
       " 10068       1\n",
       " 10570       1\n",
       " 10686       1\n",
       " 10260       1\n",
       " 10763       1\n",
       " 10274       1\n",
       " 10267       1\n",
       " 10546       1\n",
       " 10276       1\n",
       " 10100       1\n",
       " 10236       1\n",
       " Name: oos_cause_type_itg_cd, dtype: int64,\n",
       " 10001    8631\n",
       " 10002     248\n",
       " 10038     242\n",
       " 10003     180\n",
       " 10004     121\n",
       " 10005     111\n",
       " 10008      60\n",
       " 10007      60\n",
       " 10006      53\n",
       " 10009      47\n",
       " 10037      38\n",
       " 10010      26\n",
       " 10011      25\n",
       " 10012      20\n",
       " 10013      16\n",
       " 10018      13\n",
       " 10014      12\n",
       " 10016      11\n",
       " 10017      11\n",
       " 10019      10\n",
       " 10031       7\n",
       " 10015       6\n",
       " 10021       6\n",
       " 10022       5\n",
       " 10020       5\n",
       " 10035       5\n",
       " 10025       5\n",
       " 10024       5\n",
       " 10026       4\n",
       " 10029       4\n",
       " 10034       3\n",
       " 10036       3\n",
       " 10030       2\n",
       " 10027       2\n",
       " 10023       2\n",
       " 10028       1\n",
       " Name: voc_trt_need_time_itg_cd, dtype: int64,\n",
       " _        6264\n",
       " 15097    3238\n",
       " 15098     492\n",
       " 15099       6\n",
       " Name: engt_cperd_type_itg_cd, dtype: int64,\n",
       " _        6264\n",
       " 15244    2925\n",
       " 15249     585\n",
       " 15277     226\n",
       " Name: engt_tgt_div_itg_cd, dtype: int64,\n",
       " 99991231    6247\n",
       " 20230409     194\n",
       " 20230412      55\n",
       " 20230410      35\n",
       " 20230408      28\n",
       "             ... \n",
       " 20210309       1\n",
       " 20170322       1\n",
       " 20220720       1\n",
       " 20161229       1\n",
       " 20180903       1\n",
       " Name: cont_fns_pam_date, Length: 1839, dtype: int64,\n",
       " N    9914\n",
       " _      86\n",
       " Name: voc_mis_pbls_yn, dtype: int64,\n",
       " _    8988\n",
       " N    1010\n",
       " Y       2\n",
       " Name: fclt_oos_yn, dtype: int64,\n",
       " 0         9838\n",
       " 1          118\n",
       " 262498       1\n",
       " 844          1\n",
       " 4542         1\n",
       " 57           1\n",
       " 357          1\n",
       " 31           1\n",
       " 2350         1\n",
       " 240643       1\n",
       " 50           1\n",
       " 2031         1\n",
       " 29           1\n",
       " 1040         1\n",
       " 778          1\n",
       " 540          1\n",
       " 2238         1\n",
       " 354          1\n",
       " 194          1\n",
       " 14047        1\n",
       " 2519         1\n",
       " 225226       1\n",
       " 3070         1\n",
       " 367991       1\n",
       " 400          1\n",
       " 9088         1\n",
       " 618          1\n",
       " 229454       1\n",
       " 3237         1\n",
       " 14582        1\n",
       " 4392         1\n",
       " 255675       1\n",
       " 1459         1\n",
       " 7087         1\n",
       " 854          1\n",
       " 7837         1\n",
       " 547          1\n",
       " 913          1\n",
       " 6146         1\n",
       " 231875       1\n",
       " 228          1\n",
       " 79           1\n",
       " 4369         1\n",
       " 2217         1\n",
       " 25365        1\n",
       " 832          1\n",
       " Name: cust_snsry_base_conf_need_time, dtype: int64,\n",
       " N    9776\n",
       " Y     224\n",
       " Name: trm_yn, dtype: int64]"
      ]
     },
     "execution_count": 99,
     "metadata": {},
     "output_type": "execute_result"
    }
   ],
   "source": [
    "[df[c].value_counts() for c in df]"
   ]
  },
  {
   "cell_type": "code",
   "execution_count": 100,
   "metadata": {
    "scrolled": true
   },
   "outputs": [
    {
     "data": {
      "text/plain": [
       "[_        0.5422\n",
       " 10000    0.4283\n",
       " 10001    0.0163\n",
       " 10002    0.0058\n",
       " 10003    0.0025\n",
       " 10004    0.0016\n",
       " 10005    0.0010\n",
       " 10006    0.0006\n",
       " 10008    0.0003\n",
       " 10009    0.0003\n",
       " 10016    0.0002\n",
       " 10011    0.0002\n",
       " 10012    0.0002\n",
       " 10007    0.0002\n",
       " 10014    0.0001\n",
       " 10013    0.0001\n",
       " 10015    0.0001\n",
       " Name: voc_trt_perd_itg_cd, dtype: float64,\n",
       " 1001027747    0.1426\n",
       " 1000665328    0.0998\n",
       " 1001027746    0.0477\n",
       " 1001047801    0.0408\n",
       " 1001044841    0.0398\n",
       "                ...  \n",
       " 1001069182    0.0001\n",
       " 1000667452    0.0001\n",
       " 1000781560    0.0001\n",
       " 1000711760    0.0001\n",
       " 1001056085    0.0001\n",
       " Name: voc_prod_sbt_id, Length: 562, dtype: float64,\n",
       " 2153    0.1951\n",
       " 329     0.0369\n",
       " 656     0.0336\n",
       " 3086    0.0325\n",
       " 128     0.0325\n",
       "          ...  \n",
       " 1900    0.0001\n",
       " 3524    0.0001\n",
       " 3383    0.0001\n",
       " 3331    0.0001\n",
       " 1727    0.0001\n",
       " Name: voc_wjt_sorc_id, Length: 473, dtype: float64,\n",
       " 10009    0.8847\n",
       " 10003    0.0693\n",
       " 10007    0.0392\n",
       " 10011    0.0061\n",
       " 10017    0.0007\n",
       " Name: voc_type_itg_cd, dtype: float64,\n",
       " 10002    0.9758\n",
       " 10003    0.0146\n",
       " 10005    0.0096\n",
       " Name: voc_sttus_itg_cd, dtype: float64,\n",
       " _        0.8857\n",
       " 10081    0.0440\n",
       " 10026    0.0295\n",
       " 10082    0.0092\n",
       " 10003    0.0084\n",
       " 10021    0.0036\n",
       " 10098    0.0033\n",
       " 10097    0.0033\n",
       " 10080    0.0032\n",
       " 10010    0.0028\n",
       " 10009    0.0025\n",
       " 10046    0.0008\n",
       " 10104    0.0008\n",
       " 10109    0.0006\n",
       " 10077    0.0006\n",
       " 10013    0.0004\n",
       " 10099    0.0002\n",
       " 10012    0.0002\n",
       " 10113    0.0002\n",
       " 10076    0.0002\n",
       " 10110    0.0001\n",
       " 10019    0.0001\n",
       " 10018    0.0001\n",
       " 10016    0.0001\n",
       " 10011    0.0001\n",
       " Name: voc_trt_reslt_itg_cd, dtype: float64,\n",
       " L    0.2769\n",
       " _    0.1934\n",
       " G    0.1777\n",
       " I    0.1266\n",
       " J    0.1071\n",
       " F    0.0903\n",
       " O    0.0275\n",
       " H    0.0004\n",
       " M    0.0001\n",
       " Name: cust_clas_itg_cd, dtype: float64,\n",
       " -998           0.1168\n",
       "  1000737200    0.1133\n",
       "  1000001126    0.1079\n",
       "  1001046523    0.0499\n",
       "  1001046520    0.0397\n",
       "                 ...  \n",
       "  1000258159    0.0001\n",
       "  1000002649    0.0001\n",
       "  1000003324    0.0001\n",
       "  1000743238    0.0001\n",
       "  1001048719    0.0001\n",
       " Name: bprod_sbt_id, Length: 272, dtype: float64,\n",
       " _      0.2129\n",
       " 59     0.0216\n",
       " 51     0.0215\n",
       " 48     0.0211\n",
       " 49     0.0211\n",
       "         ...  \n",
       " 101    0.0001\n",
       " 6      0.0001\n",
       " 96     0.0001\n",
       " 100    0.0001\n",
       " 97     0.0001\n",
       " Name: age_itg_cd, Length: 95, dtype: float64,\n",
       " 10001    0.7843\n",
       " _        0.1168\n",
       " 10005    0.0552\n",
       " 10003    0.0174\n",
       " 10007    0.0169\n",
       " 10002    0.0065\n",
       " 10006    0.0025\n",
       " 10004    0.0004\n",
       " Name: cont_sttus_itg_cd, dtype: float64,\n",
       " 10101       0.1337\n",
       " 20200410    0.0138\n",
       " 20200409    0.0051\n",
       " 20200407    0.0023\n",
       " 20200408    0.0018\n",
       "              ...  \n",
       " 20150722    0.0001\n",
       " 19880109    0.0001\n",
       " 19890425    0.0001\n",
       " 20080818    0.0001\n",
       " 20110804    0.0001\n",
       " Name: new_date, Length: 3854, dtype: float64,\n",
       " 10101       0.1337\n",
       " 20200410    0.0168\n",
       " 20200409    0.0054\n",
       " 20200408    0.0025\n",
       " 20200407    0.0024\n",
       "              ...  \n",
       " 20020925    0.0001\n",
       " 20130304    0.0001\n",
       " 19880109    0.0001\n",
       " 19890425    0.0001\n",
       " 20110804    0.0001\n",
       " Name: opn_nfl_chg_date, Length: 3786, dtype: float64,\n",
       " 10003    0.5171\n",
       " 10002    0.1329\n",
       " _        0.1168\n",
       " 90029    0.1160\n",
       " 10019    0.0389\n",
       " 90056    0.0368\n",
       " 90027    0.0217\n",
       " 90024    0.0119\n",
       " 10018    0.0025\n",
       " 10011    0.0025\n",
       " 90030    0.0024\n",
       " 10001    0.0004\n",
       " 10004    0.0001\n",
       " Name: cust_dtl_ctg_itg_cd, dtype: float64,\n",
       " 20001    0.9258\n",
       " 20002    0.0742\n",
       " Name: voc_trt_degr_div_itg_cd, dtype: float64,\n",
       " 0    0.9921\n",
       " 1    0.0071\n",
       " 2    0.0007\n",
       " 3    0.0001\n",
       " Name: voc_dupl_tmscnt, dtype: float64,\n",
       " _        0.9008\n",
       " 10242    0.0177\n",
       " 10270    0.0123\n",
       " 10258    0.0120\n",
       " 10231    0.0115\n",
       " 10268    0.0101\n",
       " 10246    0.0063\n",
       " 10237    0.0059\n",
       " 10269    0.0053\n",
       " 10761    0.0036\n",
       " 10241    0.0024\n",
       " 10239    0.0018\n",
       " 10232    0.0014\n",
       " 10266    0.0011\n",
       " 10233    0.0008\n",
       " 10550    0.0006\n",
       " 10271    0.0006\n",
       " 10243    0.0005\n",
       " 10482    0.0005\n",
       " 10099    0.0004\n",
       " 10238    0.0004\n",
       " 10249    0.0003\n",
       " 10754    0.0003\n",
       " 10104    0.0003\n",
       " 10136    0.0002\n",
       " 10689    0.0002\n",
       " 10757    0.0002\n",
       " 10264    0.0002\n",
       " 10234    0.0002\n",
       " 10567    0.0002\n",
       " 10507    0.0002\n",
       " 10299    0.0002\n",
       " 10244    0.0001\n",
       " 10240    0.0001\n",
       " 10539    0.0001\n",
       " 10547    0.0001\n",
       " 10068    0.0001\n",
       " 10570    0.0001\n",
       " 10686    0.0001\n",
       " 10260    0.0001\n",
       " 10763    0.0001\n",
       " 10274    0.0001\n",
       " 10267    0.0001\n",
       " 10546    0.0001\n",
       " 10276    0.0001\n",
       " 10100    0.0001\n",
       " 10236    0.0001\n",
       " Name: oos_cause_type_itg_cd, dtype: float64,\n",
       " 10001    0.8631\n",
       " 10002    0.0248\n",
       " 10038    0.0242\n",
       " 10003    0.0180\n",
       " 10004    0.0121\n",
       " 10005    0.0111\n",
       " 10008    0.0060\n",
       " 10007    0.0060\n",
       " 10006    0.0053\n",
       " 10009    0.0047\n",
       " 10037    0.0038\n",
       " 10010    0.0026\n",
       " 10011    0.0025\n",
       " 10012    0.0020\n",
       " 10013    0.0016\n",
       " 10018    0.0013\n",
       " 10014    0.0012\n",
       " 10016    0.0011\n",
       " 10017    0.0011\n",
       " 10019    0.0010\n",
       " 10031    0.0007\n",
       " 10015    0.0006\n",
       " 10021    0.0006\n",
       " 10022    0.0005\n",
       " 10020    0.0005\n",
       " 10035    0.0005\n",
       " 10025    0.0005\n",
       " 10024    0.0005\n",
       " 10026    0.0004\n",
       " 10029    0.0004\n",
       " 10034    0.0003\n",
       " 10036    0.0003\n",
       " 10030    0.0002\n",
       " 10027    0.0002\n",
       " 10023    0.0002\n",
       " 10028    0.0001\n",
       " Name: voc_trt_need_time_itg_cd, dtype: float64,\n",
       " _        0.6264\n",
       " 15097    0.3238\n",
       " 15098    0.0492\n",
       " 15099    0.0006\n",
       " Name: engt_cperd_type_itg_cd, dtype: float64,\n",
       " _        0.6264\n",
       " 15244    0.2925\n",
       " 15249    0.0585\n",
       " 15277    0.0226\n",
       " Name: engt_tgt_div_itg_cd, dtype: float64,\n",
       " 99991231    0.6247\n",
       " 20230409    0.0194\n",
       " 20230412    0.0055\n",
       " 20230410    0.0035\n",
       " 20230408    0.0028\n",
       "              ...  \n",
       " 20210309    0.0001\n",
       " 20170322    0.0001\n",
       " 20220720    0.0001\n",
       " 20161229    0.0001\n",
       " 20180903    0.0001\n",
       " Name: cont_fns_pam_date, Length: 1839, dtype: float64,\n",
       " N    0.9914\n",
       " _    0.0086\n",
       " Name: voc_mis_pbls_yn, dtype: float64,\n",
       " _    0.8988\n",
       " N    0.1010\n",
       " Y    0.0002\n",
       " Name: fclt_oos_yn, dtype: float64,\n",
       " 0         0.9838\n",
       " 1         0.0118\n",
       " 262498    0.0001\n",
       " 844       0.0001\n",
       " 4542      0.0001\n",
       " 57        0.0001\n",
       " 357       0.0001\n",
       " 31        0.0001\n",
       " 2350      0.0001\n",
       " 240643    0.0001\n",
       " 50        0.0001\n",
       " 2031      0.0001\n",
       " 29        0.0001\n",
       " 1040      0.0001\n",
       " 778       0.0001\n",
       " 540       0.0001\n",
       " 2238      0.0001\n",
       " 354       0.0001\n",
       " 194       0.0001\n",
       " 14047     0.0001\n",
       " 2519      0.0001\n",
       " 225226    0.0001\n",
       " 3070      0.0001\n",
       " 367991    0.0001\n",
       " 400       0.0001\n",
       " 9088      0.0001\n",
       " 618       0.0001\n",
       " 229454    0.0001\n",
       " 3237      0.0001\n",
       " 14582     0.0001\n",
       " 4392      0.0001\n",
       " 255675    0.0001\n",
       " 1459      0.0001\n",
       " 7087      0.0001\n",
       " 854       0.0001\n",
       " 7837      0.0001\n",
       " 547       0.0001\n",
       " 913       0.0001\n",
       " 6146      0.0001\n",
       " 231875    0.0001\n",
       " 228       0.0001\n",
       " 79        0.0001\n",
       " 4369      0.0001\n",
       " 2217      0.0001\n",
       " 25365     0.0001\n",
       " 832       0.0001\n",
       " Name: cust_snsry_base_conf_need_time, dtype: float64,\n",
       " N    0.9776\n",
       " Y    0.0224\n",
       " Name: trm_yn, dtype: float64]"
      ]
     },
     "execution_count": 100,
     "metadata": {},
     "output_type": "execute_result"
    }
   ],
   "source": [
    "# 비율로 확인\n",
    "[df[c].value_counts(normalize=True) for c in df]   "
   ]
  },
  {
   "cell_type": "markdown",
   "metadata": {},
   "source": [
    "### 컬럼에서  '_' 값이 차지하는 비율\n",
    "- voc_trt_perd_itg_cd : 0.54\n",
    "- voc_trt_reslt_itg_cd : 0.88\n",
    "- oos_cause_type_itg_cd : 0.9\n",
    "- engt_cperd_type_itg_cd : 0.63\n",
    "- engt_tgt_div_itg_cd : 0.63\n",
    "- fclt_oos_yn : 0.90  \n",
    "- cust_clas_itg_cd : 0.2\n",
    "- age_itg_cd : 0.22\n",
    "- cont_sttus_itg_cd : 0.11\n",
    "- cust_dtl_ctg_itg_cd : 0.11\n",
    "- voc_mis_pbls_yn : 0.008\n"
   ]
  },
  {
   "cell_type": "markdown",
   "metadata": {},
   "source": [
    "## **<span style=\"color:black\">4. 데이터 결측치 처리</span>**"
   ]
  },
  {
   "cell_type": "markdown",
   "metadata": {},
   "source": [
    "<br>\n",
    "<font color=blue>4-1. '_' 값이 50% 이상 차지하는 voc_trt_perd_itg_cd 컬럼 삭제하세요. (df는 그대로 두고, 컬럼이 삭제된 데이터를 df1에 저장하세요)</font>"
   ]
  },
  {
   "cell_type": "code",
   "execution_count": 101,
   "metadata": {},
   "outputs": [],
   "source": [
    "# voc_trt_perd_itg_cd 컬럼 삭제 결과를 \"df1\" DataFrame 저장\n",
    "df1 = df.drop(columns=['voc_trt_perd_itg_cd'])"
   ]
  },
  {
   "cell_type": "markdown",
   "metadata": {},
   "source": [
    "<br>\n",
    "<font color=blue>4-2. 'df1' DataFrame에서 '_' 값이 50% 이상되는 나머지 컬럼도 삭제하세요</font>"
   ]
  },
  {
   "cell_type": "code",
   "execution_count": 102,
   "metadata": {},
   "outputs": [],
   "source": [
    "df1 = df1.drop(columns=['voc_trt_reslt_itg_cd',\n",
    "                       'oos_cause_type_itg_cd',\n",
    "                       'engt_cperd_type_itg_cd',\n",
    "                       'engt_tgt_div_itg_cd',\n",
    "                       'fclt_oos_yn'])"
   ]
  },
  {
   "cell_type": "code",
   "execution_count": 103,
   "metadata": {},
   "outputs": [],
   "source": [
    "# 위의 drop 함수 사용한 결과와 동일. 하지만 사용방법이 약간 다름\n",
    "# df1 = df.drop(['voc_trt_reslt_itg_cd',\n",
    "#                'oos_cause_type_itg_cd',\n",
    "#                'engt_cperd_type_itg_cd',\n",
    "#                'engt_tgt_div_itg_cd',\n",
    "#                'fclt_oos_yn'\n",
    "#                ], axis=1)"
   ]
  },
  {
   "cell_type": "markdown",
   "metadata": {},
   "source": [
    "<br>\n",
    "<font color=blue>4-3. 'df1' DataFrame의 'cust_clas_itg_cd' 컬럼에 '_' 값이 있는지 확인하세요 </font>"
   ]
  },
  {
   "cell_type": "code",
   "execution_count": 104,
   "metadata": {},
   "outputs": [
    {
     "data": {
      "text/plain": [
       "0       False\n",
       "1       False\n",
       "2       False\n",
       "3        True\n",
       "4       False\n",
       "        ...  \n",
       "9995    False\n",
       "9996    False\n",
       "9997    False\n",
       "9998    False\n",
       "9999    False\n",
       "Name: cust_clas_itg_cd, Length: 10000, dtype: bool"
      ]
     },
     "execution_count": 104,
     "metadata": {},
     "output_type": "execute_result"
    }
   ],
   "source": [
    "df1['cust_clas_itg_cd']=='_'"
   ]
  },
  {
   "cell_type": "markdown",
   "metadata": {},
   "source": [
    "<br>\n",
    "<font color=blue>4-4. 남아있는 '_'값을 null로 변경: DataFrame replace 함수를 사용해서 모든 컬럼에 대해 '_'값을 null로 변경하세요. (df1 원본을 변경)</font>"
   ]
  },
  {
   "cell_type": "code",
   "execution_count": 105,
   "metadata": {},
   "outputs": [],
   "source": [
    "df1.replace('_', np.nan, inplace=True)"
   ]
  },
  {
   "cell_type": "markdown",
   "metadata": {},
   "source": [
    "<br>\n",
    "<font color=blue>4-5. 컬럼별 Null 갯수를 확인해보세요.</font>"
   ]
  },
  {
   "cell_type": "code",
   "execution_count": 106,
   "metadata": {},
   "outputs": [
    {
     "data": {
      "text/plain": [
       "voc_prod_sbt_id                      0\n",
       "voc_wjt_sorc_id                      0\n",
       "voc_type_itg_cd                      0\n",
       "voc_sttus_itg_cd                     0\n",
       "cust_clas_itg_cd                  1934\n",
       "bprod_sbt_id                         0\n",
       "age_itg_cd                        2129\n",
       "cont_sttus_itg_cd                 1168\n",
       "new_date                             0\n",
       "opn_nfl_chg_date                     0\n",
       "cust_dtl_ctg_itg_cd               1168\n",
       "voc_trt_degr_div_itg_cd              0\n",
       "voc_dupl_tmscnt                      0\n",
       "voc_trt_need_time_itg_cd             0\n",
       "cont_fns_pam_date                    0\n",
       "voc_mis_pbls_yn                     86\n",
       "cust_snsry_base_conf_need_time       0\n",
       "trm_yn                               0\n",
       "dtype: int64"
      ]
     },
     "execution_count": 106,
     "metadata": {},
     "output_type": "execute_result"
    }
   ],
   "source": [
    "df1.isnull().sum()"
   ]
  },
  {
   "cell_type": "markdown",
   "metadata": {},
   "source": [
    "###  Object 데이터타입의 Null값 처리\n",
    "- cust_clas_itg_cd \n",
    "- age_itg_cd\n",
    "- cont_sttus_itg_cd\n",
    "- cust_dtl_ctg_itg_cd\n",
    "- voc_mis_pbls_yn"
   ]
  },
  {
   "cell_type": "markdown",
   "metadata": {},
   "source": [
    "<br>\n",
    "<font color=blue>4-6. df1 데이터프레임 컬럼들의 데이터타입을 확인하세요.</font>"
   ]
  },
  {
   "cell_type": "code",
   "execution_count": 107,
   "metadata": {},
   "outputs": [
    {
     "data": {
      "text/plain": [
       "voc_prod_sbt_id                    int64\n",
       "voc_wjt_sorc_id                    int64\n",
       "voc_type_itg_cd                    int64\n",
       "voc_sttus_itg_cd                   int64\n",
       "cust_clas_itg_cd                  object\n",
       "bprod_sbt_id                       int64\n",
       "age_itg_cd                        object\n",
       "cont_sttus_itg_cd                 object\n",
       "new_date                           int64\n",
       "opn_nfl_chg_date                   int64\n",
       "cust_dtl_ctg_itg_cd               object\n",
       "voc_trt_degr_div_itg_cd            int64\n",
       "voc_dupl_tmscnt                    int64\n",
       "voc_trt_need_time_itg_cd           int64\n",
       "cont_fns_pam_date                  int64\n",
       "voc_mis_pbls_yn                   object\n",
       "cust_snsry_base_conf_need_time     int64\n",
       "trm_yn                            object\n",
       "dtype: object"
      ]
     },
     "execution_count": 107,
     "metadata": {},
     "output_type": "execute_result"
    }
   ],
   "source": [
    "df1.dtypes"
   ]
  },
  {
   "cell_type": "markdown",
   "metadata": {},
   "source": [
    "<br>\n",
    "<font color=blue>4-7. 'cust_clas_itg_cd' 컬럼의 값중에 Null을 컬럼의 최빈값으로 변경하세요(fillna 함수 사용)</font>"
   ]
  },
  {
   "cell_type": "code",
   "execution_count": 108,
   "metadata": {},
   "outputs": [
    {
     "data": {
      "text/plain": [
       "L    2769\n",
       "G    1777\n",
       "I    1266\n",
       "J    1071\n",
       "F     903\n",
       "O     275\n",
       "H       4\n",
       "M       1\n",
       "Name: cust_clas_itg_cd, dtype: int64"
      ]
     },
     "execution_count": 108,
     "metadata": {},
     "output_type": "execute_result"
    }
   ],
   "source": [
    "# cust_clas_itg_cd 컬럼에 대한 값 분포 확인\n",
    "df1['cust_clas_itg_cd'].value_counts()\n"
   ]
  },
  {
   "cell_type": "code",
   "execution_count": 109,
   "metadata": {},
   "outputs": [],
   "source": [
    "# DataFrame의 fillna() 함수 사용\n",
    "\n",
    "df1['cust_clas_itg_cd'].fillna('L', inplace=True)\n"
   ]
  },
  {
   "cell_type": "code",
   "execution_count": 110,
   "metadata": {},
   "outputs": [],
   "source": [
    "# fillna 대신 replace함수 사용하여 처리해도 됨.\n",
    "#df1['cust_clas_itg_cd'].replace(np.nan, 'L', inplace=True)"
   ]
  },
  {
   "cell_type": "code",
   "execution_count": 111,
   "metadata": {},
   "outputs": [
    {
     "data": {
      "text/plain": [
       "0"
      ]
     },
     "execution_count": 111,
     "metadata": {},
     "output_type": "execute_result"
    }
   ],
   "source": [
    "df1['cust_clas_itg_cd'].isnull().sum()"
   ]
  },
  {
   "cell_type": "markdown",
   "metadata": {},
   "source": [
    "<br>\n",
    "<font color=blue>4-8. 'age_itg_cd'의 null 값을 중앙값(median)으로 변경하고 데이터 타입을 정수(int)로 변경하세요.</font>"
   ]
  },
  {
   "cell_type": "code",
   "execution_count": 112,
   "metadata": {},
   "outputs": [
    {
     "data": {
      "text/plain": [
       "49.0"
      ]
     },
     "execution_count": 112,
     "metadata": {},
     "output_type": "execute_result"
    }
   ],
   "source": [
    "# 중앙값(median) 확인\n",
    "df1['age_itg_cd'].median()\n"
   ]
  },
  {
   "cell_type": "code",
   "execution_count": 113,
   "metadata": {},
   "outputs": [],
   "source": [
    "# 'age_itg_cd'의 null 값을 중앙값(median)으로 변경\n",
    "df1['age_itg_cd'].fillna('49', inplace=True)"
   ]
  },
  {
   "cell_type": "code",
   "execution_count": 114,
   "metadata": {},
   "outputs": [
    {
     "data": {
      "text/plain": [
       "dtype('O')"
      ]
     },
     "execution_count": 114,
     "metadata": {},
     "output_type": "execute_result"
    }
   ],
   "source": [
    "# 데이터 타입을 정수(int)로 변경\n",
    "df1['age_itg_cd'].dtypes"
   ]
  },
  {
   "cell_type": "code",
   "execution_count": 115,
   "metadata": {},
   "outputs": [
    {
     "name": "stdout",
     "output_type": "stream",
     "text": [
      "<class 'pandas.core.frame.DataFrame'>\n",
      "RangeIndex: 10000 entries, 0 to 9999\n",
      "Data columns (total 18 columns):\n",
      " #   Column                          Non-Null Count  Dtype \n",
      "---  ------                          --------------  ----- \n",
      " 0   voc_prod_sbt_id                 10000 non-null  int64 \n",
      " 1   voc_wjt_sorc_id                 10000 non-null  int64 \n",
      " 2   voc_type_itg_cd                 10000 non-null  int64 \n",
      " 3   voc_sttus_itg_cd                10000 non-null  int64 \n",
      " 4   cust_clas_itg_cd                10000 non-null  object\n",
      " 5   bprod_sbt_id                    10000 non-null  int64 \n",
      " 6   age_itg_cd                      10000 non-null  object\n",
      " 7   cont_sttus_itg_cd               8832 non-null   object\n",
      " 8   new_date                        10000 non-null  int64 \n",
      " 9   opn_nfl_chg_date                10000 non-null  int64 \n",
      " 10  cust_dtl_ctg_itg_cd             8832 non-null   object\n",
      " 11  voc_trt_degr_div_itg_cd         10000 non-null  int64 \n",
      " 12  voc_dupl_tmscnt                 10000 non-null  int64 \n",
      " 13  voc_trt_need_time_itg_cd        10000 non-null  int64 \n",
      " 14  cont_fns_pam_date               10000 non-null  int64 \n",
      " 15  voc_mis_pbls_yn                 9914 non-null   object\n",
      " 16  cust_snsry_base_conf_need_time  10000 non-null  int64 \n",
      " 17  trm_yn                          10000 non-null  object\n",
      "dtypes: int64(12), object(6)\n",
      "memory usage: 1.4+ MB\n"
     ]
    }
   ],
   "source": [
    "df1.info()"
   ]
  },
  {
   "cell_type": "markdown",
   "metadata": {},
   "source": [
    "<br>\n",
    "<font color=blue>4-9. 'cont_sttus_itg_cd'의 null 값을 최빈값(mode)으로 변경하세요</font>"
   ]
  },
  {
   "cell_type": "code",
   "execution_count": 116,
   "metadata": {},
   "outputs": [
    {
     "data": {
      "text/plain": [
       "0    10001\n",
       "Name: cont_sttus_itg_cd, dtype: object"
      ]
     },
     "execution_count": 116,
     "metadata": {},
     "output_type": "execute_result"
    }
   ],
   "source": [
    "# 최빈값(mode) 확인\n",
    "df1['cont_sttus_itg_cd'].mode()"
   ]
  },
  {
   "cell_type": "code",
   "execution_count": 117,
   "metadata": {},
   "outputs": [],
   "source": [
    "#'cont_sttus_itg_cd'의 null 값을 최빈값(mode)으로 변경\n",
    "df1['cont_sttus_itg_cd'].fillna('10001', inplace = True)"
   ]
  },
  {
   "cell_type": "code",
   "execution_count": 118,
   "metadata": {},
   "outputs": [
    {
     "data": {
      "text/plain": [
       "0"
      ]
     },
     "execution_count": 118,
     "metadata": {},
     "output_type": "execute_result"
    }
   ],
   "source": [
    "df1['cont_sttus_itg_cd'].isnull().sum()"
   ]
  },
  {
   "cell_type": "markdown",
   "metadata": {},
   "source": [
    "<br>\n",
    "<font color=blue>4-10. 'cust_dtl_ctg_itg_cd'의 null 값을 최빈값(mode)으로 변경하세요</font>"
   ]
  },
  {
   "cell_type": "code",
   "execution_count": 119,
   "metadata": {},
   "outputs": [
    {
     "data": {
      "text/plain": [
       "0    10003\n",
       "Name: cust_dtl_ctg_itg_cd, dtype: object"
      ]
     },
     "execution_count": 119,
     "metadata": {},
     "output_type": "execute_result"
    }
   ],
   "source": [
    "# 최빈값(mode) 확인\n",
    "df1['cust_dtl_ctg_itg_cd'].mode()"
   ]
  },
  {
   "cell_type": "code",
   "execution_count": 120,
   "metadata": {},
   "outputs": [],
   "source": [
    "# 'cust_dtl_ctg_itg_cd'의 null 값을 최빈값(mode)으로 변경\n",
    "df1['cust_dtl_ctg_itg_cd'].fillna('10003', inplace=True)\n"
   ]
  },
  {
   "cell_type": "code",
   "execution_count": 121,
   "metadata": {},
   "outputs": [
    {
     "data": {
      "text/plain": [
       "0"
      ]
     },
     "execution_count": 121,
     "metadata": {},
     "output_type": "execute_result"
    }
   ],
   "source": [
    "df1['cust_dtl_ctg_itg_cd'].isnull().sum()"
   ]
  },
  {
   "cell_type": "markdown",
   "metadata": {},
   "source": [
    "<br>\n",
    "<font color=blue>4-11. 'voc_mis_pbls_yn' 컬럼의 경우 'N' 값이 99% 이상 차지하므로 삭제하세요.</font>"
   ]
  },
  {
   "cell_type": "code",
   "execution_count": 122,
   "metadata": {},
   "outputs": [],
   "source": [
    "df1.drop('voc_mis_pbls_yn', axis=1, inplace=True)"
   ]
  },
  {
   "cell_type": "markdown",
   "metadata": {},
   "source": [
    "<br>\n",
    "<font color=blue>4-12. 다음 날짜 관련 컬럼을 확인 후 삭제하세요. (날짜 관련 컬럼: new_date, opn_nfl_chg_date, cont_fns_pam_date)</font>"
   ]
  },
  {
   "cell_type": "code",
   "execution_count": 123,
   "metadata": {},
   "outputs": [],
   "source": [
    "df1.drop(columns=['new_date', 'opn_nfl_chg_date', 'cont_fns_pam_date'], inplace=True)"
   ]
  },
  {
   "cell_type": "markdown",
   "metadata": {},
   "source": [
    "<br>"
   ]
  },
  {
   "cell_type": "markdown",
   "metadata": {},
   "source": [
    "## **<span style=\"color:black\">5. 라벨 인코딩, 원핫 인코딩</span>**"
   ]
  },
  {
   "cell_type": "markdown",
   "metadata": {},
   "source": [
    "<br>\n",
    "<font color=blue>5-1. object 타입 컬럼을 별도 dataframe에 저장해보세요. 그 중 cust_clas_itg_cd 컬럼에 대해 LabelEncoder를 적용해보세요. (적용 후 df1에 저장)</font>"
   ]
  },
  {
   "cell_type": "code",
   "execution_count": 124,
   "metadata": {},
   "outputs": [
    {
     "data": {
      "text/html": [
       "<div>\n",
       "<style scoped>\n",
       "    .dataframe tbody tr th:only-of-type {\n",
       "        vertical-align: middle;\n",
       "    }\n",
       "\n",
       "    .dataframe tbody tr th {\n",
       "        vertical-align: top;\n",
       "    }\n",
       "\n",
       "    .dataframe thead th {\n",
       "        text-align: right;\n",
       "    }\n",
       "</style>\n",
       "<table border=\"1\" class=\"dataframe\">\n",
       "  <thead>\n",
       "    <tr style=\"text-align: right;\">\n",
       "      <th></th>\n",
       "      <th>cust_clas_itg_cd</th>\n",
       "      <th>age_itg_cd</th>\n",
       "      <th>cont_sttus_itg_cd</th>\n",
       "      <th>cust_dtl_ctg_itg_cd</th>\n",
       "      <th>trm_yn</th>\n",
       "    </tr>\n",
       "  </thead>\n",
       "  <tbody>\n",
       "    <tr>\n",
       "      <th>0</th>\n",
       "      <td>F</td>\n",
       "      <td>36</td>\n",
       "      <td>10001</td>\n",
       "      <td>10003</td>\n",
       "      <td>N</td>\n",
       "    </tr>\n",
       "    <tr>\n",
       "      <th>1</th>\n",
       "      <td>G</td>\n",
       "      <td>32</td>\n",
       "      <td>10001</td>\n",
       "      <td>10002</td>\n",
       "      <td>N</td>\n",
       "    </tr>\n",
       "    <tr>\n",
       "      <th>2</th>\n",
       "      <td>G</td>\n",
       "      <td>52</td>\n",
       "      <td>10001</td>\n",
       "      <td>10003</td>\n",
       "      <td>N</td>\n",
       "    </tr>\n",
       "    <tr>\n",
       "      <th>3</th>\n",
       "      <td>L</td>\n",
       "      <td>49</td>\n",
       "      <td>10001</td>\n",
       "      <td>90024</td>\n",
       "      <td>N</td>\n",
       "    </tr>\n",
       "    <tr>\n",
       "      <th>4</th>\n",
       "      <td>G</td>\n",
       "      <td>50</td>\n",
       "      <td>10001</td>\n",
       "      <td>90024</td>\n",
       "      <td>N</td>\n",
       "    </tr>\n",
       "    <tr>\n",
       "      <th>...</th>\n",
       "      <td>...</td>\n",
       "      <td>...</td>\n",
       "      <td>...</td>\n",
       "      <td>...</td>\n",
       "      <td>...</td>\n",
       "    </tr>\n",
       "    <tr>\n",
       "      <th>9995</th>\n",
       "      <td>G</td>\n",
       "      <td>17</td>\n",
       "      <td>10001</td>\n",
       "      <td>10003</td>\n",
       "      <td>N</td>\n",
       "    </tr>\n",
       "    <tr>\n",
       "      <th>9996</th>\n",
       "      <td>I</td>\n",
       "      <td>35</td>\n",
       "      <td>10001</td>\n",
       "      <td>10003</td>\n",
       "      <td>N</td>\n",
       "    </tr>\n",
       "    <tr>\n",
       "      <th>9997</th>\n",
       "      <td>G</td>\n",
       "      <td>51</td>\n",
       "      <td>10001</td>\n",
       "      <td>90029</td>\n",
       "      <td>N</td>\n",
       "    </tr>\n",
       "    <tr>\n",
       "      <th>9998</th>\n",
       "      <td>I</td>\n",
       "      <td>49</td>\n",
       "      <td>10001</td>\n",
       "      <td>90029</td>\n",
       "      <td>N</td>\n",
       "    </tr>\n",
       "    <tr>\n",
       "      <th>9999</th>\n",
       "      <td>G</td>\n",
       "      <td>27</td>\n",
       "      <td>10001</td>\n",
       "      <td>10003</td>\n",
       "      <td>N</td>\n",
       "    </tr>\n",
       "  </tbody>\n",
       "</table>\n",
       "<p>10000 rows × 5 columns</p>\n",
       "</div>"
      ],
      "text/plain": [
       "     cust_clas_itg_cd age_itg_cd cont_sttus_itg_cd cust_dtl_ctg_itg_cd trm_yn\n",
       "0                   F         36             10001               10003      N\n",
       "1                   G         32             10001               10002      N\n",
       "2                   G         52             10001               10003      N\n",
       "3                   L         49             10001               90024      N\n",
       "4                   G         50             10001               90024      N\n",
       "...               ...        ...               ...                 ...    ...\n",
       "9995                G         17             10001               10003      N\n",
       "9996                I         35             10001               10003      N\n",
       "9997                G         51             10001               90029      N\n",
       "9998                I         49             10001               90029      N\n",
       "9999                G         27             10001               10003      N\n",
       "\n",
       "[10000 rows x 5 columns]"
      ]
     },
     "execution_count": 124,
     "metadata": {},
     "output_type": "execute_result"
    }
   ],
   "source": [
    "#컬럼 타입 object를 별도 dataframe에 저장\n",
    "# df1.dtypes\n",
    "new_df = df1.select_dtypes(include='object')\n",
    "new_df"
   ]
  },
  {
   "cell_type": "code",
   "execution_count": 125,
   "metadata": {
    "tags": []
   },
   "outputs": [],
   "source": [
    "#cust_clas_itg_cd 컬럼에 대해 LabelEncoder를 적용\n",
    "# LabelEncoder 임포트\n",
    "from sklearn.preprocessing import LabelEncoder\n",
    "\n",
    "# LabelEncoder\n",
    "le = LabelEncoder()\n",
    "df1['cust_clas_itg_cd'] = le.fit_transform(new_df['cust_clas_itg_cd'])"
   ]
  },
  {
   "cell_type": "code",
   "execution_count": 126,
   "metadata": {},
   "outputs": [
    {
     "data": {
      "text/html": [
       "<div>\n",
       "<style scoped>\n",
       "    .dataframe tbody tr th:only-of-type {\n",
       "        vertical-align: middle;\n",
       "    }\n",
       "\n",
       "    .dataframe tbody tr th {\n",
       "        vertical-align: top;\n",
       "    }\n",
       "\n",
       "    .dataframe thead th {\n",
       "        text-align: right;\n",
       "    }\n",
       "</style>\n",
       "<table border=\"1\" class=\"dataframe\">\n",
       "  <thead>\n",
       "    <tr style=\"text-align: right;\">\n",
       "      <th></th>\n",
       "      <th>cust_clas_itg_cd</th>\n",
       "      <th>age_itg_cd</th>\n",
       "      <th>cont_sttus_itg_cd</th>\n",
       "      <th>cust_dtl_ctg_itg_cd</th>\n",
       "      <th>trm_yn</th>\n",
       "    </tr>\n",
       "  </thead>\n",
       "  <tbody>\n",
       "    <tr>\n",
       "      <th>0</th>\n",
       "      <td>F</td>\n",
       "      <td>36</td>\n",
       "      <td>10001</td>\n",
       "      <td>10003</td>\n",
       "      <td>N</td>\n",
       "    </tr>\n",
       "    <tr>\n",
       "      <th>1</th>\n",
       "      <td>G</td>\n",
       "      <td>32</td>\n",
       "      <td>10001</td>\n",
       "      <td>10002</td>\n",
       "      <td>N</td>\n",
       "    </tr>\n",
       "    <tr>\n",
       "      <th>2</th>\n",
       "      <td>G</td>\n",
       "      <td>52</td>\n",
       "      <td>10001</td>\n",
       "      <td>10003</td>\n",
       "      <td>N</td>\n",
       "    </tr>\n",
       "    <tr>\n",
       "      <th>3</th>\n",
       "      <td>L</td>\n",
       "      <td>49</td>\n",
       "      <td>10001</td>\n",
       "      <td>90024</td>\n",
       "      <td>N</td>\n",
       "    </tr>\n",
       "    <tr>\n",
       "      <th>4</th>\n",
       "      <td>G</td>\n",
       "      <td>50</td>\n",
       "      <td>10001</td>\n",
       "      <td>90024</td>\n",
       "      <td>N</td>\n",
       "    </tr>\n",
       "  </tbody>\n",
       "</table>\n",
       "</div>"
      ],
      "text/plain": [
       "  cust_clas_itg_cd age_itg_cd cont_sttus_itg_cd cust_dtl_ctg_itg_cd trm_yn\n",
       "0                F         36             10001               10003      N\n",
       "1                G         32             10001               10002      N\n",
       "2                G         52             10001               10003      N\n",
       "3                L         49             10001               90024      N\n",
       "4                G         50             10001               90024      N"
      ]
     },
     "execution_count": 126,
     "metadata": {},
     "output_type": "execute_result"
    }
   ],
   "source": [
    "new_df.head()"
   ]
  },
  {
   "cell_type": "code",
   "execution_count": 127,
   "metadata": {},
   "outputs": [
    {
     "data": {
      "text/plain": [
       "array(['F', 'G', 'H', 'I', 'J', 'L', 'M', 'O'], dtype=object)"
      ]
     },
     "execution_count": 127,
     "metadata": {},
     "output_type": "execute_result"
    }
   ],
   "source": [
    "le.classes_"
   ]
  },
  {
   "cell_type": "markdown",
   "metadata": {},
   "source": [
    "<br>\n",
    "<font color=blue>5-2. df1의 나머지 object 컬럼에 대해서 One-Hot-Encoding될수 있도록 Pandas의 get_dummies 함수를 적용하세요. (적용 후 df1에 저장)</font>"
   ]
  },
  {
   "cell_type": "code",
   "execution_count": 128,
   "metadata": {},
   "outputs": [
    {
     "data": {
      "text/plain": [
       "voc_prod_sbt_id                    int64\n",
       "voc_wjt_sorc_id                    int64\n",
       "voc_type_itg_cd                    int64\n",
       "voc_sttus_itg_cd                   int64\n",
       "cust_clas_itg_cd                   int32\n",
       "bprod_sbt_id                       int64\n",
       "age_itg_cd                        object\n",
       "cont_sttus_itg_cd                 object\n",
       "cust_dtl_ctg_itg_cd               object\n",
       "voc_trt_degr_div_itg_cd            int64\n",
       "voc_dupl_tmscnt                    int64\n",
       "voc_trt_need_time_itg_cd           int64\n",
       "cust_snsry_base_conf_need_time     int64\n",
       "trm_yn                            object\n",
       "dtype: object"
      ]
     },
     "execution_count": 128,
     "metadata": {},
     "output_type": "execute_result"
    }
   ],
   "source": [
    "# 컬럼 타입 확인\n",
    "df1.dtypes"
   ]
  },
  {
   "cell_type": "code",
   "execution_count": 129,
   "metadata": {},
   "outputs": [],
   "source": [
    "# df1의 나머지 object 컬럼에 대해서 One-Hot-Encoding될수 있도록 Pandas의 get_dummies 함수를 적용\n",
    "df1 = pd.get_dummies(data=df1, columns=['cont_sttus_itg_cd', 'cust_dtl_ctg_itg_cd', 'trm_yn'], drop_first=True)\n"
   ]
  },
  {
   "cell_type": "markdown",
   "metadata": {},
   "source": [
    "## **<span style=\"color:black\">6. x,y 데이터 분리</span>**"
   ]
  },
  {
   "cell_type": "markdown",
   "metadata": {},
   "source": [
    "<br>\n",
    "<font color=blue>6-1. X, y 값을 가지고 8:2 비율로 Train , Test Dataset으로 나누세요. (y 클래스 비율에 맞게 분리, 항상 동일한 결과 나오도록, y 값은 'trm_yn_Y' 컬럼)</font>"
   ]
  },
  {
   "cell_type": "code",
   "execution_count": 133,
   "metadata": {
    "tags": []
   },
   "outputs": [],
   "source": [
    "# 사이킷런 train_test_split 함수 사용\n",
    "# 결과 : X_train, X_test, y_train, y_test \n",
    "from sklearn.model_selection import train_test_split\n",
    "\n",
    "# x = df1.drop(columns=['trm_yn_Y']).values\n",
    "# y = df1['trm_yn_Y'].values\n",
    "\n",
    "x = df1.drop('trm_yn_Y', axis=1)\n",
    "y = df1.loc[:, 'trm_yn_Y']"
   ]
  },
  {
   "cell_type": "code",
   "execution_count": 134,
   "metadata": {},
   "outputs": [],
   "source": [
    "x_train, x_test, y_train, y_test = train_test_split(x, y, test_size=0.2, random_state=42)"
   ]
  },
  {
   "cell_type": "code",
   "execution_count": 135,
   "metadata": {},
   "outputs": [
    {
     "data": {
      "text/plain": [
       "((8000, 28), (2000, 28), (8000,), (2000,))"
      ]
     },
     "execution_count": 135,
     "metadata": {},
     "output_type": "execute_result"
    }
   ],
   "source": [
    "x_train.shape, x_test.shape, y_train.shape, y_test.shape"
   ]
  },
  {
   "cell_type": "markdown",
   "metadata": {},
   "source": [
    "<br>"
   ]
  },
  {
   "cell_type": "markdown",
   "metadata": {},
   "source": [
    "## **<span style=\"color:black\">7. 데이터 정규분포화, 표준화</span>**"
   ]
  },
  {
   "cell_type": "markdown",
   "metadata": {},
   "source": [
    "<br>\n",
    "<font color=blue>7-1. 사이킷런의 StandardScaler로 훈련데이터셋은 정규분포화(fit_transform)하고 테스트 데이터셋은 표준화(transform)하세요.</font>"
   ]
  },
  {
   "cell_type": "code",
   "execution_count": 136,
   "metadata": {},
   "outputs": [],
   "source": [
    "# 라이브러리 임포트\n",
    "from sklearn.preprocessing import StandardScaler\n",
    "\n",
    "# StandardScaler 적용\n",
    "sc = StandardScaler()\n",
    "x_train = sc.fit_transform(x_train)\n",
    "x_test = sc.transform(x_test)"
   ]
  },
  {
   "cell_type": "code",
   "execution_count": 137,
   "metadata": {},
   "outputs": [
    {
     "data": {
      "text/plain": [
       "(array([[ 0.10530589, -1.15108438,  0.30047611, ..., -0.36224539,\n",
       "         -0.05006262, -0.1956702 ],\n",
       "        [ 0.10533456,  0.02043876,  0.30047611, ..., -0.36224539,\n",
       "         -0.05006262, -0.1956702 ],\n",
       "        [ 0.10316536, -1.16216261,  0.30047611, ..., -0.36224539,\n",
       "         -0.05006262, -0.1956702 ],\n",
       "        ...,\n",
       "        [ 0.10514028, -1.32279699, -0.96402092, ..., -0.36224539,\n",
       "         -0.05006262, -0.1956702 ],\n",
       "        [ 0.10275518, -1.34772301,  0.30047611, ..., -0.36224539,\n",
       "         -0.05006262, -0.1956702 ],\n",
       "        [ 0.1028634 ,  0.54388527,  0.30047611, ..., -0.36224539,\n",
       "         -0.05006262, -0.1956702 ]]),\n",
       " array([[ 0.10167592, -1.17785677,  0.30047611, ..., -0.36224539,\n",
       "         -0.05006262, -0.1956702 ],\n",
       "        [ 0.10281631,  0.52172881,  0.30047611, ..., -0.36224539,\n",
       "         -0.05006262, -0.1956702 ],\n",
       "        [ 0.10514028, -0.02572054,  0.30047611, ..., -0.36224539,\n",
       "         -0.05006262, -0.1956702 ],\n",
       "        ...,\n",
       "        [ 0.10533456, -0.86028076,  0.30047611, ..., -0.36224539,\n",
       "         -0.05006262, -0.1956702 ],\n",
       "        [ 0.10533456, -1.17785677,  0.30047611, ..., -0.36224539,\n",
       "         -0.05006262, -0.1956702 ],\n",
       "        [ 0.10163077,  0.45433622,  0.30047611, ..., -0.36224539,\n",
       "         -0.05006262, -0.1956702 ]]))"
      ]
     },
     "execution_count": 137,
     "metadata": {},
     "output_type": "execute_result"
    }
   ],
   "source": [
    "x_train, x_test"
   ]
  },
  {
   "cell_type": "markdown",
   "metadata": {},
   "source": [
    "## **<span style=\"color:black\">8. 머신러닝 모델링 & 모델 성능평가 및 그래프 출력</span>**"
   ]
  },
  {
   "cell_type": "markdown",
   "metadata": {},
   "source": [
    "<br>\n",
    "<font color=blue>8-1. LogisticRegression 모델을 만들고 학습을 진행하세요 (단, 규제강도C는 10으로 설정, 계산에 사용할 작업수 max_iter는 2000으로 설정하세요)</font>"
   ]
  },
  {
   "cell_type": "code",
   "execution_count": 141,
   "metadata": {},
   "outputs": [
    {
     "data": {
      "text/html": [
       "<style>#sk-container-id-1 {color: black;background-color: white;}#sk-container-id-1 pre{padding: 0;}#sk-container-id-1 div.sk-toggleable {background-color: white;}#sk-container-id-1 label.sk-toggleable__label {cursor: pointer;display: block;width: 100%;margin-bottom: 0;padding: 0.3em;box-sizing: border-box;text-align: center;}#sk-container-id-1 label.sk-toggleable__label-arrow:before {content: \"▸\";float: left;margin-right: 0.25em;color: #696969;}#sk-container-id-1 label.sk-toggleable__label-arrow:hover:before {color: black;}#sk-container-id-1 div.sk-estimator:hover label.sk-toggleable__label-arrow:before {color: black;}#sk-container-id-1 div.sk-toggleable__content {max-height: 0;max-width: 0;overflow: hidden;text-align: left;background-color: #f0f8ff;}#sk-container-id-1 div.sk-toggleable__content pre {margin: 0.2em;color: black;border-radius: 0.25em;background-color: #f0f8ff;}#sk-container-id-1 input.sk-toggleable__control:checked~div.sk-toggleable__content {max-height: 200px;max-width: 100%;overflow: auto;}#sk-container-id-1 input.sk-toggleable__control:checked~label.sk-toggleable__label-arrow:before {content: \"▾\";}#sk-container-id-1 div.sk-estimator input.sk-toggleable__control:checked~label.sk-toggleable__label {background-color: #d4ebff;}#sk-container-id-1 div.sk-label input.sk-toggleable__control:checked~label.sk-toggleable__label {background-color: #d4ebff;}#sk-container-id-1 input.sk-hidden--visually {border: 0;clip: rect(1px 1px 1px 1px);clip: rect(1px, 1px, 1px, 1px);height: 1px;margin: -1px;overflow: hidden;padding: 0;position: absolute;width: 1px;}#sk-container-id-1 div.sk-estimator {font-family: monospace;background-color: #f0f8ff;border: 1px dotted black;border-radius: 0.25em;box-sizing: border-box;margin-bottom: 0.5em;}#sk-container-id-1 div.sk-estimator:hover {background-color: #d4ebff;}#sk-container-id-1 div.sk-parallel-item::after {content: \"\";width: 100%;border-bottom: 1px solid gray;flex-grow: 1;}#sk-container-id-1 div.sk-label:hover label.sk-toggleable__label {background-color: #d4ebff;}#sk-container-id-1 div.sk-serial::before {content: \"\";position: absolute;border-left: 1px solid gray;box-sizing: border-box;top: 0;bottom: 0;left: 50%;z-index: 0;}#sk-container-id-1 div.sk-serial {display: flex;flex-direction: column;align-items: center;background-color: white;padding-right: 0.2em;padding-left: 0.2em;position: relative;}#sk-container-id-1 div.sk-item {position: relative;z-index: 1;}#sk-container-id-1 div.sk-parallel {display: flex;align-items: stretch;justify-content: center;background-color: white;position: relative;}#sk-container-id-1 div.sk-item::before, #sk-container-id-1 div.sk-parallel-item::before {content: \"\";position: absolute;border-left: 1px solid gray;box-sizing: border-box;top: 0;bottom: 0;left: 50%;z-index: -1;}#sk-container-id-1 div.sk-parallel-item {display: flex;flex-direction: column;z-index: 1;position: relative;background-color: white;}#sk-container-id-1 div.sk-parallel-item:first-child::after {align-self: flex-end;width: 50%;}#sk-container-id-1 div.sk-parallel-item:last-child::after {align-self: flex-start;width: 50%;}#sk-container-id-1 div.sk-parallel-item:only-child::after {width: 0;}#sk-container-id-1 div.sk-dashed-wrapped {border: 1px dashed gray;margin: 0 0.4em 0.5em 0.4em;box-sizing: border-box;padding-bottom: 0.4em;background-color: white;}#sk-container-id-1 div.sk-label label {font-family: monospace;font-weight: bold;display: inline-block;line-height: 1.2em;}#sk-container-id-1 div.sk-label-container {text-align: center;}#sk-container-id-1 div.sk-container {/* jupyter's `normalize.less` sets `[hidden] { display: none; }` but bootstrap.min.css set `[hidden] { display: none !important; }` so we also need the `!important` here to be able to override the default hidden behavior on the sphinx rendered scikit-learn.org. See: https://github.com/scikit-learn/scikit-learn/issues/21755 */display: inline-block !important;position: relative;}#sk-container-id-1 div.sk-text-repr-fallback {display: none;}</style><div id=\"sk-container-id-1\" class=\"sk-top-container\"><div class=\"sk-text-repr-fallback\"><pre>LogisticRegression(C=10, max_iter=2000)</pre><b>In a Jupyter environment, please rerun this cell to show the HTML representation or trust the notebook. <br />On GitHub, the HTML representation is unable to render, please try loading this page with nbviewer.org.</b></div><div class=\"sk-container\" hidden><div class=\"sk-item\"><div class=\"sk-estimator sk-toggleable\"><input class=\"sk-toggleable__control sk-hidden--visually\" id=\"sk-estimator-id-1\" type=\"checkbox\" checked><label for=\"sk-estimator-id-1\" class=\"sk-toggleable__label sk-toggleable__label-arrow\">LogisticRegression</label><div class=\"sk-toggleable__content\"><pre>LogisticRegression(C=10, max_iter=2000)</pre></div></div></div></div></div>"
      ],
      "text/plain": [
       "LogisticRegression(C=10, max_iter=2000)"
      ]
     },
     "execution_count": 141,
     "metadata": {},
     "output_type": "execute_result"
    }
   ],
   "source": [
    "# 라이브러리 임포트\n",
    "from sklearn.linear_model import LogisticRegression\n",
    "\n",
    "# 코드 작성\n",
    "lr = LogisticRegression(C=10, max_iter=2000)\n",
    "lr.fit(x_train, y_train)"
   ]
  },
  {
   "cell_type": "markdown",
   "metadata": {},
   "source": [
    "<br>\n",
    "<font color=blue>8-2. 위 모델의 성능을 평가하려고 합니다. y값을 예측하여 confusion matrix를 구하고 heatmap 그래프로 시각화하세요. 그리고 Scikit-learn의 classification_report를 활용하여 성능을 출력하세요.</font>"
   ]
  },
  {
   "cell_type": "code",
   "execution_count": 143,
   "metadata": {},
   "outputs": [
    {
     "name": "stdout",
     "output_type": "stream",
     "text": [
      "              precision    recall  f1-score   support\n",
      "\n",
      "           0       0.98      1.00      0.99      1956\n",
      "           1       0.33      0.02      0.04        44\n",
      "\n",
      "    accuracy                           0.98      2000\n",
      "   macro avg       0.66      0.51      0.52      2000\n",
      "weighted avg       0.96      0.98      0.97      2000\n",
      "\n"
     ]
    },
    {
     "data": {
      "image/png": "[encoded data removed]",
      "text/plain": [
       "<Figure size 640x480 with 2 Axes>"
      ]
     },
     "metadata": {},
     "output_type": "display_data"
    }
   ],
   "source": [
    "# 라이브러리 임포트\n",
    "from sklearn.metrics import confusion_matrix\n",
    "from sklearn.metrics import classification_report\n",
    "\n",
    "# y값을 예측하여 confusion matrix를 구하고 heatmap 그래프로 시각화\n",
    "y_pred = lr.predict(x_test)\n",
    "cm = confusion_matrix(y_test, y_pred)\n",
    "sns.heatmap(cm, annot = True)\n",
    "\n",
    "# Scikit-learn의 classification_report를 활용하여 성능을 출력\n",
    "print(classification_report(y_test, y_pred))"
   ]
  },
  {
   "cell_type": "markdown",
   "metadata": {},
   "source": [
    "<br>\n",
    "<font color=blue>8-3. DecisionTree 모델을 만들고 학습을 진행하세요. (단, max_depth는 10, random_state는 42로 설정)</font>"
   ]
  },
  {
   "cell_type": "code",
   "execution_count": 147,
   "metadata": {},
   "outputs": [
    {
     "data": {
      "text/plain": [
       "-0.183289691863032"
      ]
     },
     "execution_count": 147,
     "metadata": {},
     "output_type": "execute_result"
    }
   ],
   "source": [
    "from sklearn.tree import DecisionTreeRegressor\n",
    "\n",
    "dt = DecisionTreeRegressor(max_depth = 10, random_state = 42)\n",
    "\n",
    "dt.fit(x_train, y_train)\n",
    "dt.score(x_test, y_test)"
   ]
  },
  {
   "cell_type": "markdown",
   "metadata": {},
   "source": [
    "<br>\n",
    "<font color=blue>8-4. RandomForest 모델을 만들고 학습을 진행하세요. (단, n_estimators=100, random_state=42 설정)</font>"
   ]
  },
  {
   "cell_type": "code",
   "execution_count": null,
   "metadata": {},
   "outputs": [],
   "source": [
    "from sklearn.ensemble import RandomForestClassifier\n",
    "\n",
    "rf = "
   ]
  },
  {
   "cell_type": "markdown",
   "metadata": {},
   "source": [
    "<br>\n",
    "<font color=blue>8-5. XGBoost 모델을 만들고 학습을 진행하세요. (단, n_estimators=5 설정)</font>"
   ]
  },
  {
   "cell_type": "code",
   "execution_count": null,
   "metadata": {},
   "outputs": [],
   "source": []
  },
  {
   "cell_type": "markdown",
   "metadata": {},
   "source": [
    "<br>\n",
    "<font color=blue>8-6. Light GBM 모델을 만들고 학습을 진행하세요. (단, n_estimators=3 설정)</font>"
   ]
  },
  {
   "cell_type": "code",
   "execution_count": null,
   "metadata": {},
   "outputs": [],
   "source": []
  },
  {
   "cell_type": "markdown",
   "metadata": {},
   "source": [
    "<br>\n",
    "<font color=blue>8-7. Linear Regression 모델을 연습으로 만들고 학습을 진행하세요.</font>"
   ]
  },
  {
   "cell_type": "code",
   "execution_count": 139,
   "metadata": {},
   "outputs": [],
   "source": [
    "# 이 데이터로 연습하세요.\n",
    "x_data = np.array([1.6, 2.3, 3.5, 4.6]).reshape(-1,1)\n",
    "y_data = np.array([3.3, 5.5, 7.2, 9.9])"
   ]
  },
  {
   "cell_type": "code",
   "execution_count": 140,
   "metadata": {},
   "outputs": [
    {
     "data": {
      "text/plain": [
       "array([10.64610266])"
      ]
     },
     "execution_count": 140,
     "metadata": {},
     "output_type": "execute_result"
    }
   ],
   "source": [
    "from sklearn.linear_model import LinearRegression\n",
    "\n",
    "lr = LinearRegression()\n",
    "\n",
    "lr.fit(x_data, y_data)\n",
    "lr.score(x_data, y_data)\n",
    "lr.predict([[5]])"
   ]
  },
  {
   "cell_type": "markdown",
   "metadata": {},
   "source": [
    "<br>"
   ]
  },
  {
   "cell_type": "markdown",
   "metadata": {},
   "source": [
    "## **<span style=\"color:black\">9. 딥러닝 모델링 & 모델 성능평가 및 그래프 출력</span>**"
   ]
  },
  {
   "cell_type": "markdown",
   "metadata": {},
   "source": [
    "<br>\n",
    "<font color=blue>9-1. 아래 가이드대로 해지여부를 분류하는 딥러닝 모델을 만드세요.</font>"
   ]
  },
  {
   "cell_type": "markdown",
   "metadata": {},
   "source": [
    "+ 첫번째 Hidden Layer : unit 64 , activation='relu'\n",
    "+ 두번째 Hidden Layer : unit 32 , activation='relu'\n",
    "+ 세번째 Hidden Layer : unit 16 , activation='relu'\n",
    "+ 각 Hidden Layer 마다 Dropout 0.2 비율로 되도록 하세요.\n",
    "+ EarlyStopping 콜백을 적용하고 ModelCheckpoint 콜백으로 validation performance가 좋은 모델을 h5 모델로 저장하세요."
   ]
  },
  {
   "cell_type": "code",
   "execution_count": null,
   "metadata": {},
   "outputs": [],
   "source": [
    "# 하이퍼파라미터 설정 : batch_size, epochs\n"
   ]
  },
  {
   "cell_type": "code",
   "execution_count": null,
   "metadata": {},
   "outputs": [],
   "source": [
    "# 모델 입력(features) 갯수 확인\n"
   ]
  },
  {
   "cell_type": "code",
   "execution_count": null,
   "metadata": {},
   "outputs": [],
   "source": [
    "# 라이브러리 임포트\n",
    "import tensorflow as tf\n",
    "from tensorflow import keras\n",
    "\n",
    "from tensorflow.keras.models import Sequential, load_model\n",
    "from tensorflow.keras.layers import Dense, Dropout\n",
    "from tensorflow.keras.callbacks import EarlyStopping, ModelCheckpoint\n",
    "\n",
    "\n",
    "# Tensoflow의 Sequential() 함수 선언\n",
    "# 결과 저장 : model\n",
    "model = Sequential()\n",
    "\n",
    "# model.add() 함수와 Dense() 함수 사용\n",
    "# 첫번째 Hidden Layer 생성시 unit 64, activation='relu', input_shape=() 입력해야 함\n",
    "# 첫번째 Hidden Layer 다음에 Dropout(0.2) 추가 \n",
    "model.add(Dense(64, activation='relu', input_shape=(28,)))\n",
    "model.add(Dropout(0.2))\n",
    "model.add(Dense(32, activation='relu'))\n",
    "model.add(Dropout(0.2))\n",
    "model.add(Dense(16, activation='relu'))\n",
    "model.add(Dropout(0.2))\n",
    "\n",
    "# 마지막 Dense에서 1개만 나오므로 'sigmoid' 설정하고 0.5 이하이면 정상, 아니면 해지\n",
    "model.add(Dense(1, activation='sigmoid'))\n",
    "\n",
    "# compile\n",
    "model.compile(optimizer='adam', loss='binary_crossentropy', metrics=['acc'])\n",
    "\n",
    "# EarlyStopping, ModelCheckpoint\n",
    "es = EarlyStopping(monitor='val_loss', patience=4, mode='min', verbose=1)\n",
    "mc = ModelCheckpoint('best_model.h5', monitor='val_loss', save_best_only=True, verbose=1)\n",
    "\n",
    "# 모델 훈련\n",
    "history = model.fit(x_train, y_train,\n",
    "                   batch_size=batch_size,\n",
    "                   epochs=epochs,\n",
    "                   callbacks=[es, mc],\n",
    "                   validation_data=(x_test, y_test),\n",
    "                   verbose=1)"
   ]
  },
  {
   "cell_type": "markdown",
   "metadata": {},
   "source": [
    "<br>\n",
    "<font color=blue>9-2. 다중 분류하는 딥러닝 모델을 만드세요.</font>"
   ]
  },
  {
   "cell_type": "code",
   "execution_count": null,
   "metadata": {},
   "outputs": [],
   "source": [
    "# y_train, y_test One-Hot-Encoding\n",
    "from keras.utils import to_categorical\n",
    "y_train_ohe = to_categorical(y_train)\n",
    "y_test_ohe = to_categorical(y_test)"
   ]
  },
  {
   "cell_type": "code",
   "execution_count": null,
   "metadata": {},
   "outputs": [],
   "source": [
    "# 딥러닝 모델\n",
    "model = Sequential()\n",
    "model.add(Dense(64, activation='relu', input_shape(28,)))\n",
    "model.add(Dropout(0.2))\n",
    "model.add(Dnese(32, activation='relu'))\n",
    "model.add(Dropout(0.2))\n",
    "model.add(Dense(16, activation='relu'))\n",
    "model.add(Dropout(0.2))\n",
    "model.add(Dense(2, activation='softmax'))\n",
    "\n",
    "model.compile(optimizer='adam', loss='categorical_crossentropy', metrics=['acc'])"
   ]
  },
  {
   "cell_type": "code",
   "execution_count": null,
   "metadata": {},
   "outputs": [],
   "source": [
    "# 참고\n",
    "# Y 레이블 One-Hot-Encoding 되지 않았으면 loss='sparse_categorical_crossentropy' 사용\n",
    "# model.compile(optimizer='adam', loss='sparse_categorical_crossentropy',metrics=['acc'])\n",
    "\n",
    "# 'sparse_categorical_crossentropy' 사용할 경우\n",
    "# history = model.fit(X_train, y_train, batch_size=batch_size, epochs=epochs, callbacks=[es,mc], validation_data=(X_test, y_test), verbose=1)"
   ]
  },
  {
   "cell_type": "code",
   "execution_count": null,
   "metadata": {},
   "outputs": [],
   "source": [
    "history = model.fit(x_train, y_train_ohe, batch_size=batch_size, epochs=epochs, callbacks=[es,mc], validation_data=(x_test,y_test_ohe), verbose=1)"
   ]
  },
  {
   "cell_type": "code",
   "execution_count": null,
   "metadata": {},
   "outputs": [],
   "source": [
    "model.save('voc_model.h5')"
   ]
  },
  {
   "cell_type": "markdown",
   "metadata": {},
   "source": [
    "<br>\n",
    "<font color=blue>9-3. 모델 성능을 평가해서 그래프로 표현하세요. 학습 정확도와 검증정확도를 그래프로 표시하고 xlabel에는 Epochs, ylabel에는 Accuracy, 범례에는 Train과 Validation으로 표시하세요..</font>"
   ]
  },
  {
   "cell_type": "code",
   "execution_count": null,
   "metadata": {},
   "outputs": [],
   "source": [
    "plt.figure(figsize=(10,5))\n",
    "plt.plot(history.history['acc'])\n",
    "plt.plot(history.history['val_acc'])\n",
    "plt.title('Model Accuracy')\n",
    "plt.xlabel('Epochs')\n",
    "plt.ylabel('Accuracy')\n",
    "plt.legend(['Train', 'Validation'], loc='lower right')"
   ]
  },
  {
   "cell_type": "markdown",
   "metadata": {},
   "source": [
    "<br>\n",
    "<font color=blue>9-4. 모델 성능을 평가해서 그래프로 표현하세요. 학습 손실과 검증 손실을 그래프로 표시하고 xlabel에는 Epochs, ylabel에는 Loss, 범례에는 Train Loss와 Validation Loss로 표시하세요.</font>"
   ]
  },
  {
   "cell_type": "code",
   "execution_count": null,
   "metadata": {},
   "outputs": [],
   "source": []
  },
  {
   "cell_type": "markdown",
   "metadata": {},
   "source": [
    "<br>\n",
    "<font color=blue>9-5. y값을 예측하여 y_test_pred에 저장하고 정확도를 출력하세요..</font>"
   ]
  },
  {
   "cell_type": "code",
   "execution_count": null,
   "metadata": {},
   "outputs": [],
   "source": []
  }
 ],
 "metadata": {
  "kernelspec": {
   "display_name": "Python 3 (ipykernel)",
   "language": "python",
   "name": "python3"
  },
  "language_info": {
   "codemirror_mode": {
    "name": "ipython",
    "version": 3
   },
   "file_extension": ".py",
   "mimetype": "text/x-python",
   "name": "python",
   "nbconvert_exporter": "python",
   "pygments_lexer": "ipython3",
   "version": "3.9.13"
  }
 },
 "nbformat": 4,
 "nbformat_minor": 4
}
