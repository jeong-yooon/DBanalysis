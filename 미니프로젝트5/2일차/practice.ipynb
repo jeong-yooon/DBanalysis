{
 "cells": [
  {
   "cell_type": "markdown",
   "id": "e7a8d41e",
   "metadata": {},
   "source": [
    "모델에서는 Time Driving(실주행시간)을 예측하고 이후에 출발시간+실주행시간으로 도착시간 예측\n",
    "(참고사항: x데이터에서 Time_Departure와 Time_Arrival 컬럼을 제외한 후에 Time_Driving값(y값)을 예측하는 형태로 해결해도 무방함)"
   ]
  },
  {
   "cell_type": "code",
   "execution_count": 216,
   "id": "9b6bdd0c",
   "metadata": {},
   "outputs": [],
   "source": [
    "# 1. scikit-learn을 별칭 sk로 임포트하는 코드를 작성하고 실행하세요\n",
    "import sklearn as sk\n",
    "# 2. pandas를 별칭 pd로 임포트하는 코드를 작성하고 실행하세요\n",
    "import pandas as pd"
   ]
  },
  {
   "cell_type": "code",
   "execution_count": 217,
   "id": "726f03ba",
   "metadata": {},
   "outputs": [],
   "source": [
    "# 3. pandas 함수로 데이터 파일을 읽어 dataframe변수에 할당하는 코드를 작성하라\n",
    "data = pd.read_csv(\"C:\\\\Users\\\\User\\\\미니프로젝트5\\\\2일차\\\\nav_data.csv\", encoding = 'cp949')"
   ]
  },
  {
   "cell_type": "code",
   "execution_count": 218,
   "id": "7deac6c3",
   "metadata": {},
   "outputs": [],
   "source": [
    "df = pd.DataFrame(data)"
   ]
  },
  {
   "cell_type": "code",
   "execution_count": 219,
   "id": "e97eb106",
   "metadata": {},
   "outputs": [
    {
     "data": {
      "text/html": [
       "<div>\n",
       "<style scoped>\n",
       "    .dataframe tbody tr th:only-of-type {\n",
       "        vertical-align: middle;\n",
       "    }\n",
       "\n",
       "    .dataframe tbody tr th {\n",
       "        vertical-align: top;\n",
       "    }\n",
       "\n",
       "    .dataframe thead th {\n",
       "        text-align: right;\n",
       "    }\n",
       "</style>\n",
       "<table border=\"1\" class=\"dataframe\">\n",
       "  <thead>\n",
       "    <tr style=\"text-align: right;\">\n",
       "      <th></th>\n",
       "      <th>Time_Departure</th>\n",
       "      <th>Time_Arrival</th>\n",
       "      <th>Distance</th>\n",
       "      <th>Time_Driving</th>\n",
       "      <th>Speed_Per_Hour</th>\n",
       "      <th>Address1</th>\n",
       "      <th>Address2</th>\n",
       "      <th>Signaltype</th>\n",
       "      <th>Weekday</th>\n",
       "      <th>Hour</th>\n",
       "      <th>Day</th>\n",
       "    </tr>\n",
       "  </thead>\n",
       "  <tbody>\n",
       "    <tr>\n",
       "      <th>0</th>\n",
       "      <td>35:21.0</td>\n",
       "      <td>55:22.6</td>\n",
       "      <td>12914</td>\n",
       "      <td>1201.534058</td>\n",
       "      <td>38.692536</td>\n",
       "      <td>경기도</td>\n",
       "      <td>광명시</td>\n",
       "      <td>7</td>\n",
       "      <td>0</td>\n",
       "      <td>5</td>\n",
       "      <td>20</td>\n",
       "    </tr>\n",
       "    <tr>\n",
       "      <th>1</th>\n",
       "      <td>55:22.0</td>\n",
       "      <td>09:06.9</td>\n",
       "      <td>7483</td>\n",
       "      <td>823.817017</td>\n",
       "      <td>32.699980</td>\n",
       "      <td>서울특별시</td>\n",
       "      <td>영등포구</td>\n",
       "      <td>31</td>\n",
       "      <td>0</td>\n",
       "      <td>5</td>\n",
       "      <td>20</td>\n",
       "    </tr>\n",
       "    <tr>\n",
       "      <th>2</th>\n",
       "      <td>13:46.0</td>\n",
       "      <td>22:32.9</td>\n",
       "      <td>8087</td>\n",
       "      <td>526.710998</td>\n",
       "      <td>55.273575</td>\n",
       "      <td>경기도</td>\n",
       "      <td>김포시</td>\n",
       "      <td>6</td>\n",
       "      <td>0</td>\n",
       "      <td>0</td>\n",
       "      <td>20</td>\n",
       "    </tr>\n",
       "    <tr>\n",
       "      <th>3</th>\n",
       "      <td>13:43.0</td>\n",
       "      <td>28:42.7</td>\n",
       "      <td>10528</td>\n",
       "      <td>898.581970</td>\n",
       "      <td>42.178456</td>\n",
       "      <td>경기도</td>\n",
       "      <td>광주시</td>\n",
       "      <td>2</td>\n",
       "      <td>0</td>\n",
       "      <td>0</td>\n",
       "      <td>20</td>\n",
       "    </tr>\n",
       "    <tr>\n",
       "      <th>4</th>\n",
       "      <td>01:57.0</td>\n",
       "      <td>17:58.2</td>\n",
       "      <td>10636</td>\n",
       "      <td>957.758972</td>\n",
       "      <td>39.978326</td>\n",
       "      <td>경기도</td>\n",
       "      <td>안산시 상록구</td>\n",
       "      <td>28</td>\n",
       "      <td>0</td>\n",
       "      <td>0</td>\n",
       "      <td>20</td>\n",
       "    </tr>\n",
       "  </tbody>\n",
       "</table>\n",
       "</div>"
      ],
      "text/plain": [
       "  Time_Departure Time_Arrival  Distance  Time_Driving  Speed_Per_Hour  \\\n",
       "0        35:21.0      55:22.6     12914   1201.534058       38.692536   \n",
       "1        55:22.0      09:06.9      7483    823.817017       32.699980   \n",
       "2        13:46.0      22:32.9      8087    526.710998       55.273575   \n",
       "3        13:43.0      28:42.7     10528    898.581970       42.178456   \n",
       "4        01:57.0      17:58.2     10636    957.758972       39.978326   \n",
       "\n",
       "  Address1 Address2  Signaltype  Weekday  Hour  Day  \n",
       "0      경기도      광명시           7        0     5   20  \n",
       "1    서울특별시     영등포구          31        0     5   20  \n",
       "2      경기도      김포시           6        0     0   20  \n",
       "3      경기도      광주시           2        0     0   20  \n",
       "4      경기도  안산시 상록구          28        0     0   20  "
      ]
     },
     "execution_count": 219,
     "metadata": {},
     "output_type": "execute_result"
    }
   ],
   "source": [
    "df.head()"
   ]
  },
  {
   "cell_type": "code",
   "execution_count": 220,
   "id": "37ff0e2b",
   "metadata": {},
   "outputs": [
    {
     "name": "stdout",
     "output_type": "stream",
     "text": [
      "<class 'pandas.core.frame.DataFrame'>\n",
      "RangeIndex: 55531 entries, 0 to 55530\n",
      "Data columns (total 11 columns):\n",
      " #   Column          Non-Null Count  Dtype  \n",
      "---  ------          --------------  -----  \n",
      " 0   Time_Departure  55531 non-null  object \n",
      " 1   Time_Arrival    55531 non-null  object \n",
      " 2   Distance        55531 non-null  int64  \n",
      " 3   Time_Driving    55531 non-null  float64\n",
      " 4   Speed_Per_Hour  55531 non-null  float64\n",
      " 5   Address1        55531 non-null  object \n",
      " 6   Address2        55531 non-null  object \n",
      " 7   Signaltype      55531 non-null  int64  \n",
      " 8   Weekday         55531 non-null  int64  \n",
      " 9   Hour            55531 non-null  int64  \n",
      " 10  Day             55531 non-null  int64  \n",
      "dtypes: float64(2), int64(5), object(4)\n",
      "memory usage: 4.7+ MB\n"
     ]
    }
   ],
   "source": [
    "# 4. 실주행시간과 평균시속의 분포를 같이 확인하려고 한다. Time_Driving과 Speed_Per_Hour을 jointplot 그래프로 만들어라.\n",
    "df.info()"
   ]
  },
  {
   "cell_type": "code",
   "execution_count": 221,
   "id": "7200c272",
   "metadata": {},
   "outputs": [
    {
     "data": {
      "text/html": [
       "<div>\n",
       "<style scoped>\n",
       "    .dataframe tbody tr th:only-of-type {\n",
       "        vertical-align: middle;\n",
       "    }\n",
       "\n",
       "    .dataframe tbody tr th {\n",
       "        vertical-align: top;\n",
       "    }\n",
       "\n",
       "    .dataframe thead th {\n",
       "        text-align: right;\n",
       "    }\n",
       "</style>\n",
       "<table border=\"1\" class=\"dataframe\">\n",
       "  <thead>\n",
       "    <tr style=\"text-align: right;\">\n",
       "      <th></th>\n",
       "      <th>Distance</th>\n",
       "      <th>Time_Driving</th>\n",
       "      <th>Speed_Per_Hour</th>\n",
       "      <th>Signaltype</th>\n",
       "      <th>Weekday</th>\n",
       "      <th>Hour</th>\n",
       "      <th>Day</th>\n",
       "    </tr>\n",
       "  </thead>\n",
       "  <tbody>\n",
       "    <tr>\n",
       "      <th>count</th>\n",
       "      <td>55531.000000</td>\n",
       "      <td>55531.000000</td>\n",
       "      <td>55531.000000</td>\n",
       "      <td>55531.000000</td>\n",
       "      <td>55531.000000</td>\n",
       "      <td>55531.000000</td>\n",
       "      <td>55531.000000</td>\n",
       "    </tr>\n",
       "    <tr>\n",
       "      <th>mean</th>\n",
       "      <td>7041.212548</td>\n",
       "      <td>967.215437</td>\n",
       "      <td>29.906554</td>\n",
       "      <td>19.164197</td>\n",
       "      <td>2.379644</td>\n",
       "      <td>13.158902</td>\n",
       "      <td>22.379644</td>\n",
       "    </tr>\n",
       "    <tr>\n",
       "      <th>std</th>\n",
       "      <td>3265.541600</td>\n",
       "      <td>517.927018</td>\n",
       "      <td>14.444940</td>\n",
       "      <td>13.977421</td>\n",
       "      <td>1.384683</td>\n",
       "      <td>4.806116</td>\n",
       "      <td>1.384683</td>\n",
       "    </tr>\n",
       "    <tr>\n",
       "      <th>min</th>\n",
       "      <td>3000.000000</td>\n",
       "      <td>120.852997</td>\n",
       "      <td>2.143031</td>\n",
       "      <td>0.000000</td>\n",
       "      <td>0.000000</td>\n",
       "      <td>0.000000</td>\n",
       "      <td>20.000000</td>\n",
       "    </tr>\n",
       "    <tr>\n",
       "      <th>25%</th>\n",
       "      <td>4272.000000</td>\n",
       "      <td>600.340027</td>\n",
       "      <td>19.773403</td>\n",
       "      <td>9.000000</td>\n",
       "      <td>1.000000</td>\n",
       "      <td>9.000000</td>\n",
       "      <td>21.000000</td>\n",
       "    </tr>\n",
       "    <tr>\n",
       "      <th>50%</th>\n",
       "      <td>6153.000000</td>\n",
       "      <td>875.612976</td>\n",
       "      <td>26.771460</td>\n",
       "      <td>17.000000</td>\n",
       "      <td>3.000000</td>\n",
       "      <td>13.000000</td>\n",
       "      <td>23.000000</td>\n",
       "    </tr>\n",
       "    <tr>\n",
       "      <th>75%</th>\n",
       "      <td>9297.500000</td>\n",
       "      <td>1200.483033</td>\n",
       "      <td>36.671566</td>\n",
       "      <td>27.000000</td>\n",
       "      <td>4.000000</td>\n",
       "      <td>17.000000</td>\n",
       "      <td>24.000000</td>\n",
       "    </tr>\n",
       "    <tr>\n",
       "      <th>max</th>\n",
       "      <td>15000.000000</td>\n",
       "      <td>7966.559082</td>\n",
       "      <td>137.042329</td>\n",
       "      <td>101.000000</td>\n",
       "      <td>4.000000</td>\n",
       "      <td>23.000000</td>\n",
       "      <td>24.000000</td>\n",
       "    </tr>\n",
       "  </tbody>\n",
       "</table>\n",
       "</div>"
      ],
      "text/plain": [
       "           Distance  Time_Driving  Speed_Per_Hour    Signaltype       Weekday  \\\n",
       "count  55531.000000  55531.000000    55531.000000  55531.000000  55531.000000   \n",
       "mean    7041.212548    967.215437       29.906554     19.164197      2.379644   \n",
       "std     3265.541600    517.927018       14.444940     13.977421      1.384683   \n",
       "min     3000.000000    120.852997        2.143031      0.000000      0.000000   \n",
       "25%     4272.000000    600.340027       19.773403      9.000000      1.000000   \n",
       "50%     6153.000000    875.612976       26.771460     17.000000      3.000000   \n",
       "75%     9297.500000   1200.483033       36.671566     27.000000      4.000000   \n",
       "max    15000.000000   7966.559082      137.042329    101.000000      4.000000   \n",
       "\n",
       "               Hour           Day  \n",
       "count  55531.000000  55531.000000  \n",
       "mean      13.158902     22.379644  \n",
       "std        4.806116      1.384683  \n",
       "min        0.000000     20.000000  \n",
       "25%        9.000000     21.000000  \n",
       "50%       13.000000     23.000000  \n",
       "75%       17.000000     24.000000  \n",
       "max       23.000000     24.000000  "
      ]
     },
     "execution_count": 221,
     "metadata": {},
     "output_type": "execute_result"
    }
   ],
   "source": [
    "df.describe()"
   ]
  },
  {
   "cell_type": "code",
   "execution_count": 222,
   "id": "82eac720",
   "metadata": {},
   "outputs": [
    {
     "data": {
      "text/plain": [
       "<seaborn.axisgrid.JointGrid at 0x2b43460be20>"
      ]
     },
     "execution_count": 222,
     "metadata": {},
     "output_type": "execute_result"
    },
    {
     "data": {
      "image/png": "[encoded data removed]",
      "text/plain": [
       "<Figure size 600x600 with 3 Axes>"
      ]
     },
     "metadata": {},
     "output_type": "display_data"
    }
   ],
   "source": [
    "import seaborn as sns\n",
    "\n",
    "sns.jointplot(x='Time_Driving', y='Speed_Per_Hour', data=df)"
   ]
  },
  {
   "cell_type": "code",
   "execution_count": 223,
   "id": "a4aa56ed",
   "metadata": {},
   "outputs": [
    {
     "data": {
      "text/html": [
       "<div>\n",
       "<style scoped>\n",
       "    .dataframe tbody tr th:only-of-type {\n",
       "        vertical-align: middle;\n",
       "    }\n",
       "\n",
       "    .dataframe tbody tr th {\n",
       "        vertical-align: top;\n",
       "    }\n",
       "\n",
       "    .dataframe thead th {\n",
       "        text-align: right;\n",
       "    }\n",
       "</style>\n",
       "<table border=\"1\" class=\"dataframe\">\n",
       "  <thead>\n",
       "    <tr style=\"text-align: right;\">\n",
       "      <th></th>\n",
       "      <th>Distance</th>\n",
       "      <th>Time_Driving</th>\n",
       "      <th>Speed_Per_Hour</th>\n",
       "      <th>Signaltype</th>\n",
       "      <th>Weekday</th>\n",
       "      <th>Hour</th>\n",
       "      <th>Day</th>\n",
       "    </tr>\n",
       "  </thead>\n",
       "  <tbody>\n",
       "    <tr>\n",
       "      <th>Distance</th>\n",
       "      <td>1.000000</td>\n",
       "      <td>0.530000</td>\n",
       "      <td>0.311770</td>\n",
       "      <td>0.239302</td>\n",
       "      <td>-0.022608</td>\n",
       "      <td>-0.037621</td>\n",
       "      <td>-0.022608</td>\n",
       "    </tr>\n",
       "    <tr>\n",
       "      <th>Time_Driving</th>\n",
       "      <td>0.530000</td>\n",
       "      <td>1.000000</td>\n",
       "      <td>-0.478222</td>\n",
       "      <td>0.530018</td>\n",
       "      <td>-0.007227</td>\n",
       "      <td>0.013728</td>\n",
       "      <td>-0.007227</td>\n",
       "    </tr>\n",
       "    <tr>\n",
       "      <th>Speed_Per_Hour</th>\n",
       "      <td>0.311770</td>\n",
       "      <td>-0.478222</td>\n",
       "      <td>1.000000</td>\n",
       "      <td>-0.391777</td>\n",
       "      <td>0.002364</td>\n",
       "      <td>-0.054872</td>\n",
       "      <td>0.002364</td>\n",
       "    </tr>\n",
       "    <tr>\n",
       "      <th>Signaltype</th>\n",
       "      <td>0.239302</td>\n",
       "      <td>0.530018</td>\n",
       "      <td>-0.391777</td>\n",
       "      <td>1.000000</td>\n",
       "      <td>-0.037167</td>\n",
       "      <td>-0.001802</td>\n",
       "      <td>-0.037167</td>\n",
       "    </tr>\n",
       "    <tr>\n",
       "      <th>Weekday</th>\n",
       "      <td>-0.022608</td>\n",
       "      <td>-0.007227</td>\n",
       "      <td>0.002364</td>\n",
       "      <td>-0.037167</td>\n",
       "      <td>1.000000</td>\n",
       "      <td>0.013949</td>\n",
       "      <td>1.000000</td>\n",
       "    </tr>\n",
       "    <tr>\n",
       "      <th>Hour</th>\n",
       "      <td>-0.037621</td>\n",
       "      <td>0.013728</td>\n",
       "      <td>-0.054872</td>\n",
       "      <td>-0.001802</td>\n",
       "      <td>0.013949</td>\n",
       "      <td>1.000000</td>\n",
       "      <td>0.013949</td>\n",
       "    </tr>\n",
       "    <tr>\n",
       "      <th>Day</th>\n",
       "      <td>-0.022608</td>\n",
       "      <td>-0.007227</td>\n",
       "      <td>0.002364</td>\n",
       "      <td>-0.037167</td>\n",
       "      <td>1.000000</td>\n",
       "      <td>0.013949</td>\n",
       "      <td>1.000000</td>\n",
       "    </tr>\n",
       "  </tbody>\n",
       "</table>\n",
       "</div>"
      ],
      "text/plain": [
       "                Distance  Time_Driving  Speed_Per_Hour  Signaltype   Weekday  \\\n",
       "Distance        1.000000      0.530000        0.311770    0.239302 -0.022608   \n",
       "Time_Driving    0.530000      1.000000       -0.478222    0.530018 -0.007227   \n",
       "Speed_Per_Hour  0.311770     -0.478222        1.000000   -0.391777  0.002364   \n",
       "Signaltype      0.239302      0.530018       -0.391777    1.000000 -0.037167   \n",
       "Weekday        -0.022608     -0.007227        0.002364   -0.037167  1.000000   \n",
       "Hour           -0.037621      0.013728       -0.054872   -0.001802  0.013949   \n",
       "Day            -0.022608     -0.007227        0.002364   -0.037167  1.000000   \n",
       "\n",
       "                    Hour       Day  \n",
       "Distance       -0.037621 -0.022608  \n",
       "Time_Driving    0.013728 -0.007227  \n",
       "Speed_Per_Hour -0.054872  0.002364  \n",
       "Signaltype     -0.001802 -0.037167  \n",
       "Weekday         0.013949  1.000000  \n",
       "Hour            1.000000  0.013949  \n",
       "Day             0.013949  1.000000  "
      ]
     },
     "execution_count": 223,
     "metadata": {},
     "output_type": "execute_result"
    }
   ],
   "source": [
    "df.corr()"
   ]
  },
  {
   "cell_type": "code",
   "execution_count": 224,
   "id": "8deb53d7",
   "metadata": {},
   "outputs": [
    {
     "data": {
      "text/plain": [
       "<AxesSubplot:>"
      ]
     },
     "execution_count": 224,
     "metadata": {},
     "output_type": "execute_result"
    },
    {
     "data": {
      "image/png": "[encoded data removed]",
      "text/plain": [
       "<Figure size 640x480 with 2 Axes>"
      ]
     },
     "metadata": {},
     "output_type": "display_data"
    }
   ],
   "source": [
    "# 5. 데이터간 상관계수를 구하여 heatmap 그래프로 시각화해보자.\n",
    "sns.heatmap(df.corr(), annot=True)"
   ]
  },
  {
   "cell_type": "code",
   "execution_count": 225,
   "id": "1d12f509",
   "metadata": {},
   "outputs": [],
   "source": [
    "# Time_Departure 컬럼을 삭제하고 df_temp 데이터 프레임에 저장하라.\n",
    "df_temp = df.drop(columns=['Time_Departure', 'Time_Arrival'], axis=1)"
   ]
  },
  {
   "cell_type": "code",
   "execution_count": 226,
   "id": "3f09ddfa",
   "metadata": {},
   "outputs": [
    {
     "data": {
      "text/html": [
       "<div>\n",
       "<style scoped>\n",
       "    .dataframe tbody tr th:only-of-type {\n",
       "        vertical-align: middle;\n",
       "    }\n",
       "\n",
       "    .dataframe tbody tr th {\n",
       "        vertical-align: top;\n",
       "    }\n",
       "\n",
       "    .dataframe thead th {\n",
       "        text-align: right;\n",
       "    }\n",
       "</style>\n",
       "<table border=\"1\" class=\"dataframe\">\n",
       "  <thead>\n",
       "    <tr style=\"text-align: right;\">\n",
       "      <th></th>\n",
       "      <th>Distance</th>\n",
       "      <th>Time_Driving</th>\n",
       "      <th>Speed_Per_Hour</th>\n",
       "      <th>Address1</th>\n",
       "      <th>Address2</th>\n",
       "      <th>Signaltype</th>\n",
       "      <th>Weekday</th>\n",
       "      <th>Hour</th>\n",
       "      <th>Day</th>\n",
       "    </tr>\n",
       "  </thead>\n",
       "  <tbody>\n",
       "    <tr>\n",
       "      <th>0</th>\n",
       "      <td>12914</td>\n",
       "      <td>1201.534058</td>\n",
       "      <td>38.692536</td>\n",
       "      <td>경기도</td>\n",
       "      <td>광명시</td>\n",
       "      <td>7</td>\n",
       "      <td>0</td>\n",
       "      <td>5</td>\n",
       "      <td>20</td>\n",
       "    </tr>\n",
       "    <tr>\n",
       "      <th>1</th>\n",
       "      <td>7483</td>\n",
       "      <td>823.817017</td>\n",
       "      <td>32.699980</td>\n",
       "      <td>서울특별시</td>\n",
       "      <td>영등포구</td>\n",
       "      <td>31</td>\n",
       "      <td>0</td>\n",
       "      <td>5</td>\n",
       "      <td>20</td>\n",
       "    </tr>\n",
       "    <tr>\n",
       "      <th>2</th>\n",
       "      <td>8087</td>\n",
       "      <td>526.710998</td>\n",
       "      <td>55.273575</td>\n",
       "      <td>경기도</td>\n",
       "      <td>김포시</td>\n",
       "      <td>6</td>\n",
       "      <td>0</td>\n",
       "      <td>0</td>\n",
       "      <td>20</td>\n",
       "    </tr>\n",
       "    <tr>\n",
       "      <th>3</th>\n",
       "      <td>10528</td>\n",
       "      <td>898.581970</td>\n",
       "      <td>42.178456</td>\n",
       "      <td>경기도</td>\n",
       "      <td>광주시</td>\n",
       "      <td>2</td>\n",
       "      <td>0</td>\n",
       "      <td>0</td>\n",
       "      <td>20</td>\n",
       "    </tr>\n",
       "    <tr>\n",
       "      <th>4</th>\n",
       "      <td>10636</td>\n",
       "      <td>957.758972</td>\n",
       "      <td>39.978326</td>\n",
       "      <td>경기도</td>\n",
       "      <td>안산시 상록구</td>\n",
       "      <td>28</td>\n",
       "      <td>0</td>\n",
       "      <td>0</td>\n",
       "      <td>20</td>\n",
       "    </tr>\n",
       "  </tbody>\n",
       "</table>\n",
       "</div>"
      ],
      "text/plain": [
       "   Distance  Time_Driving  Speed_Per_Hour Address1 Address2  Signaltype  \\\n",
       "0     12914   1201.534058       38.692536      경기도      광명시           7   \n",
       "1      7483    823.817017       32.699980    서울특별시     영등포구          31   \n",
       "2      8087    526.710998       55.273575      경기도      김포시           6   \n",
       "3     10528    898.581970       42.178456      경기도      광주시           2   \n",
       "4     10636    957.758972       39.978326      경기도  안산시 상록구          28   \n",
       "\n",
       "   Weekday  Hour  Day  \n",
       "0        0     5   20  \n",
       "1        0     5   20  \n",
       "2        0     0   20  \n",
       "3        0     0   20  \n",
       "4        0     0   20  "
      ]
     },
     "execution_count": 226,
     "metadata": {},
     "output_type": "execute_result"
    }
   ],
   "source": [
    "df_temp.head()"
   ]
  },
  {
   "cell_type": "code",
   "execution_count": 227,
   "id": "7d759c89",
   "metadata": {},
   "outputs": [
    {
     "data": {
      "text/plain": [
       "Distance            int64\n",
       "Time_Driving      float64\n",
       "Speed_Per_Hour    float64\n",
       "Address1           object\n",
       "Address2           object\n",
       "Signaltype          int64\n",
       "Weekday             int64\n",
       "Hour                int64\n",
       "Day                 int64\n",
       "dtype: object"
      ]
     },
     "execution_count": 227,
     "metadata": {},
     "output_type": "execute_result"
    }
   ],
   "source": [
    "# 7. encoder를 사용하여 범주형 데이터를 수치형 데이터로 변환하라\n",
    "df_temp.dtypes"
   ]
  },
  {
   "cell_type": "code",
   "execution_count": 228,
   "id": "34674e64",
   "metadata": {},
   "outputs": [],
   "source": [
    "from sklearn.preprocessing import LabelEncoder \n",
    "le = LabelEncoder()\n",
    "df_temp['Address1'] = le.fit_transform(df_temp['Address1'])\n",
    "df_temp['Address2'] = le.fit_transform(df_temp['Address2'])"
   ]
  },
  {
   "cell_type": "code",
   "execution_count": 229,
   "id": "77de86fe",
   "metadata": {},
   "outputs": [
    {
     "data": {
      "text/plain": [
       "Distance            int64\n",
       "Time_Driving      float64\n",
       "Speed_Per_Hour    float64\n",
       "Address1            int32\n",
       "Address2            int32\n",
       "Signaltype          int64\n",
       "Weekday             int64\n",
       "Hour                int64\n",
       "Day                 int64\n",
       "dtype: object"
      ]
     },
     "execution_count": 229,
     "metadata": {},
     "output_type": "execute_result"
    }
   ],
   "source": [
    "df_temp.dtypes"
   ]
  },
  {
   "cell_type": "code",
   "execution_count": 230,
   "id": "9d6544f9",
   "metadata": {},
   "outputs": [
    {
     "data": {
      "text/html": [
       "<div>\n",
       "<style scoped>\n",
       "    .dataframe tbody tr th:only-of-type {\n",
       "        vertical-align: middle;\n",
       "    }\n",
       "\n",
       "    .dataframe tbody tr th {\n",
       "        vertical-align: top;\n",
       "    }\n",
       "\n",
       "    .dataframe thead th {\n",
       "        text-align: right;\n",
       "    }\n",
       "</style>\n",
       "<table border=\"1\" class=\"dataframe\">\n",
       "  <thead>\n",
       "    <tr style=\"text-align: right;\">\n",
       "      <th></th>\n",
       "      <th>Distance</th>\n",
       "      <th>Time_Driving</th>\n",
       "      <th>Speed_Per_Hour</th>\n",
       "      <th>Address1</th>\n",
       "      <th>Address2</th>\n",
       "      <th>Signaltype</th>\n",
       "      <th>Weekday</th>\n",
       "      <th>Hour</th>\n",
       "      <th>Day</th>\n",
       "    </tr>\n",
       "  </thead>\n",
       "  <tbody>\n",
       "    <tr>\n",
       "      <th>0</th>\n",
       "      <td>12914</td>\n",
       "      <td>1201.534058</td>\n",
       "      <td>38.692536</td>\n",
       "      <td>2</td>\n",
       "      <td>12</td>\n",
       "      <td>7</td>\n",
       "      <td>0</td>\n",
       "      <td>5</td>\n",
       "      <td>20</td>\n",
       "    </tr>\n",
       "    <tr>\n",
       "      <th>1</th>\n",
       "      <td>7483</td>\n",
       "      <td>823.817017</td>\n",
       "      <td>32.699980</td>\n",
       "      <td>3</td>\n",
       "      <td>57</td>\n",
       "      <td>31</td>\n",
       "      <td>0</td>\n",
       "      <td>5</td>\n",
       "      <td>20</td>\n",
       "    </tr>\n",
       "    <tr>\n",
       "      <th>2</th>\n",
       "      <td>8087</td>\n",
       "      <td>526.710998</td>\n",
       "      <td>55.273575</td>\n",
       "      <td>2</td>\n",
       "      <td>19</td>\n",
       "      <td>6</td>\n",
       "      <td>0</td>\n",
       "      <td>0</td>\n",
       "      <td>20</td>\n",
       "    </tr>\n",
       "    <tr>\n",
       "      <th>3</th>\n",
       "      <td>10528</td>\n",
       "      <td>898.581970</td>\n",
       "      <td>42.178456</td>\n",
       "      <td>2</td>\n",
       "      <td>13</td>\n",
       "      <td>2</td>\n",
       "      <td>0</td>\n",
       "      <td>0</td>\n",
       "      <td>20</td>\n",
       "    </tr>\n",
       "    <tr>\n",
       "      <th>4</th>\n",
       "      <td>10636</td>\n",
       "      <td>957.758972</td>\n",
       "      <td>39.978326</td>\n",
       "      <td>2</td>\n",
       "      <td>47</td>\n",
       "      <td>28</td>\n",
       "      <td>0</td>\n",
       "      <td>0</td>\n",
       "      <td>20</td>\n",
       "    </tr>\n",
       "  </tbody>\n",
       "</table>\n",
       "</div>"
      ],
      "text/plain": [
       "   Distance  Time_Driving  Speed_Per_Hour  Address1  Address2  Signaltype  \\\n",
       "0     12914   1201.534058       38.692536         2        12           7   \n",
       "1      7483    823.817017       32.699980         3        57          31   \n",
       "2      8087    526.710998       55.273575         2        19           6   \n",
       "3     10528    898.581970       42.178456         2        13           2   \n",
       "4     10636    957.758972       39.978326         2        47          28   \n",
       "\n",
       "   Weekday  Hour  Day  \n",
       "0        0     5   20  \n",
       "1        0     5   20  \n",
       "2        0     0   20  \n",
       "3        0     0   20  \n",
       "4        0     0   20  "
      ]
     },
     "execution_count": 230,
     "metadata": {},
     "output_type": "execute_result"
    }
   ],
   "source": [
    "df_temp.head()"
   ]
  },
  {
   "cell_type": "code",
   "execution_count": 231,
   "id": "dea19d81",
   "metadata": {},
   "outputs": [
    {
     "data": {
      "text/plain": [
       "(55531, 9)"
      ]
     },
     "execution_count": 231,
     "metadata": {},
     "output_type": "execute_result"
    }
   ],
   "source": [
    "df_temp.shape"
   ]
  },
  {
   "cell_type": "code",
   "execution_count": 232,
   "id": "377d6cde",
   "metadata": {},
   "outputs": [],
   "source": [
    "# 8. 원-핫 인코딩으로 컬럼 데이터를 1과 0의 이진형 벡터로 변환하라.\n",
    "df_encoded = pd.get_dummies(df_temp, columns=['Weekday', 'Hour', 'Day', 'Address1', 'Address2'], drop_first=True)"
   ]
  },
  {
   "cell_type": "code",
   "execution_count": 233,
   "id": "4c54ee94",
   "metadata": {},
   "outputs": [
    {
     "data": {
      "text/plain": [
       "(55531, 118)"
      ]
     },
     "execution_count": 233,
     "metadata": {},
     "output_type": "execute_result"
    }
   ],
   "source": [
    "df_encoded.shape"
   ]
  },
  {
   "cell_type": "code",
   "execution_count": 234,
   "id": "4cca61d6",
   "metadata": {},
   "outputs": [],
   "source": [
    "# df_encoded의 데이터를 df_temp에 할당\n",
    "# df_temp[df_encoded.columns] = df_encoded"
   ]
  },
  {
   "cell_type": "code",
   "execution_count": 235,
   "id": "4c2d4a34",
   "metadata": {},
   "outputs": [
    {
     "data": {
      "text/html": [
       "<div>\n",
       "<style scoped>\n",
       "    .dataframe tbody tr th:only-of-type {\n",
       "        vertical-align: middle;\n",
       "    }\n",
       "\n",
       "    .dataframe tbody tr th {\n",
       "        vertical-align: top;\n",
       "    }\n",
       "\n",
       "    .dataframe thead th {\n",
       "        text-align: right;\n",
       "    }\n",
       "</style>\n",
       "<table border=\"1\" class=\"dataframe\">\n",
       "  <thead>\n",
       "    <tr style=\"text-align: right;\">\n",
       "      <th></th>\n",
       "      <th>Distance</th>\n",
       "      <th>Time_Driving</th>\n",
       "      <th>Speed_Per_Hour</th>\n",
       "      <th>Signaltype</th>\n",
       "      <th>Weekday_1</th>\n",
       "      <th>Weekday_2</th>\n",
       "      <th>Weekday_3</th>\n",
       "      <th>Weekday_4</th>\n",
       "      <th>Hour_1</th>\n",
       "      <th>Hour_2</th>\n",
       "      <th>...</th>\n",
       "      <th>Address2_68</th>\n",
       "      <th>Address2_69</th>\n",
       "      <th>Address2_70</th>\n",
       "      <th>Address2_71</th>\n",
       "      <th>Address2_72</th>\n",
       "      <th>Address2_73</th>\n",
       "      <th>Address2_74</th>\n",
       "      <th>Address2_75</th>\n",
       "      <th>Address2_76</th>\n",
       "      <th>Address2_77</th>\n",
       "    </tr>\n",
       "  </thead>\n",
       "  <tbody>\n",
       "    <tr>\n",
       "      <th>0</th>\n",
       "      <td>12914</td>\n",
       "      <td>1201.534058</td>\n",
       "      <td>38.692536</td>\n",
       "      <td>7</td>\n",
       "      <td>0</td>\n",
       "      <td>0</td>\n",
       "      <td>0</td>\n",
       "      <td>0</td>\n",
       "      <td>0</td>\n",
       "      <td>0</td>\n",
       "      <td>...</td>\n",
       "      <td>0</td>\n",
       "      <td>0</td>\n",
       "      <td>0</td>\n",
       "      <td>0</td>\n",
       "      <td>0</td>\n",
       "      <td>0</td>\n",
       "      <td>0</td>\n",
       "      <td>0</td>\n",
       "      <td>0</td>\n",
       "      <td>0</td>\n",
       "    </tr>\n",
       "    <tr>\n",
       "      <th>1</th>\n",
       "      <td>7483</td>\n",
       "      <td>823.817017</td>\n",
       "      <td>32.699980</td>\n",
       "      <td>31</td>\n",
       "      <td>0</td>\n",
       "      <td>0</td>\n",
       "      <td>0</td>\n",
       "      <td>0</td>\n",
       "      <td>0</td>\n",
       "      <td>0</td>\n",
       "      <td>...</td>\n",
       "      <td>0</td>\n",
       "      <td>0</td>\n",
       "      <td>0</td>\n",
       "      <td>0</td>\n",
       "      <td>0</td>\n",
       "      <td>0</td>\n",
       "      <td>0</td>\n",
       "      <td>0</td>\n",
       "      <td>0</td>\n",
       "      <td>0</td>\n",
       "    </tr>\n",
       "    <tr>\n",
       "      <th>2</th>\n",
       "      <td>8087</td>\n",
       "      <td>526.710998</td>\n",
       "      <td>55.273575</td>\n",
       "      <td>6</td>\n",
       "      <td>0</td>\n",
       "      <td>0</td>\n",
       "      <td>0</td>\n",
       "      <td>0</td>\n",
       "      <td>0</td>\n",
       "      <td>0</td>\n",
       "      <td>...</td>\n",
       "      <td>0</td>\n",
       "      <td>0</td>\n",
       "      <td>0</td>\n",
       "      <td>0</td>\n",
       "      <td>0</td>\n",
       "      <td>0</td>\n",
       "      <td>0</td>\n",
       "      <td>0</td>\n",
       "      <td>0</td>\n",
       "      <td>0</td>\n",
       "    </tr>\n",
       "    <tr>\n",
       "      <th>3</th>\n",
       "      <td>10528</td>\n",
       "      <td>898.581970</td>\n",
       "      <td>42.178456</td>\n",
       "      <td>2</td>\n",
       "      <td>0</td>\n",
       "      <td>0</td>\n",
       "      <td>0</td>\n",
       "      <td>0</td>\n",
       "      <td>0</td>\n",
       "      <td>0</td>\n",
       "      <td>...</td>\n",
       "      <td>0</td>\n",
       "      <td>0</td>\n",
       "      <td>0</td>\n",
       "      <td>0</td>\n",
       "      <td>0</td>\n",
       "      <td>0</td>\n",
       "      <td>0</td>\n",
       "      <td>0</td>\n",
       "      <td>0</td>\n",
       "      <td>0</td>\n",
       "    </tr>\n",
       "    <tr>\n",
       "      <th>4</th>\n",
       "      <td>10636</td>\n",
       "      <td>957.758972</td>\n",
       "      <td>39.978326</td>\n",
       "      <td>28</td>\n",
       "      <td>0</td>\n",
       "      <td>0</td>\n",
       "      <td>0</td>\n",
       "      <td>0</td>\n",
       "      <td>0</td>\n",
       "      <td>0</td>\n",
       "      <td>...</td>\n",
       "      <td>0</td>\n",
       "      <td>0</td>\n",
       "      <td>0</td>\n",
       "      <td>0</td>\n",
       "      <td>0</td>\n",
       "      <td>0</td>\n",
       "      <td>0</td>\n",
       "      <td>0</td>\n",
       "      <td>0</td>\n",
       "      <td>0</td>\n",
       "    </tr>\n",
       "  </tbody>\n",
       "</table>\n",
       "<p>5 rows × 118 columns</p>\n",
       "</div>"
      ],
      "text/plain": [
       "   Distance  Time_Driving  Speed_Per_Hour  Signaltype  Weekday_1  Weekday_2  \\\n",
       "0     12914   1201.534058       38.692536           7          0          0   \n",
       "1      7483    823.817017       32.699980          31          0          0   \n",
       "2      8087    526.710998       55.273575           6          0          0   \n",
       "3     10528    898.581970       42.178456           2          0          0   \n",
       "4     10636    957.758972       39.978326          28          0          0   \n",
       "\n",
       "   Weekday_3  Weekday_4  Hour_1  Hour_2  ...  Address2_68  Address2_69  \\\n",
       "0          0          0       0       0  ...            0            0   \n",
       "1          0          0       0       0  ...            0            0   \n",
       "2          0          0       0       0  ...            0            0   \n",
       "3          0          0       0       0  ...            0            0   \n",
       "4          0          0       0       0  ...            0            0   \n",
       "\n",
       "   Address2_70  Address2_71  Address2_72  Address2_73  Address2_74  \\\n",
       "0            0            0            0            0            0   \n",
       "1            0            0            0            0            0   \n",
       "2            0            0            0            0            0   \n",
       "3            0            0            0            0            0   \n",
       "4            0            0            0            0            0   \n",
       "\n",
       "   Address2_75  Address2_76  Address2_77  \n",
       "0            0            0            0  \n",
       "1            0            0            0  \n",
       "2            0            0            0  \n",
       "3            0            0            0  \n",
       "4            0            0            0  \n",
       "\n",
       "[5 rows x 118 columns]"
      ]
     },
     "execution_count": 235,
     "metadata": {},
     "output_type": "execute_result"
    }
   ],
   "source": [
    "df_encoded.head()"
   ]
  },
  {
   "cell_type": "code",
   "execution_count": 236,
   "id": "36e970a3",
   "metadata": {},
   "outputs": [
    {
     "data": {
      "text/plain": [
       "(55531, 118)"
      ]
     },
     "execution_count": 236,
     "metadata": {},
     "output_type": "execute_result"
    }
   ],
   "source": [
    "df_encoded.shape"
   ]
  },
  {
   "cell_type": "code",
   "execution_count": 237,
   "id": "e9b455b3",
   "metadata": {},
   "outputs": [],
   "source": [
    "from sklearn.model_selection import train_test_split\n",
    "target = 'Time_Driving'\n",
    "x = df_encoded.drop(target, axis=1)\n",
    "y = df_encoded.loc[:,target]\n",
    "x_train, x_test, y_train, y_test = train_test_split(x, y, test_size = 0.3, random_state=2023)"
   ]
  },
  {
   "cell_type": "code",
   "execution_count": 238,
   "id": "09e0762e",
   "metadata": {},
   "outputs": [
    {
     "data": {
      "text/plain": [
       "((38871, 117), (16660, 117), (38871,), (16660,))"
      ]
     },
     "execution_count": 238,
     "metadata": {},
     "output_type": "execute_result"
    }
   ],
   "source": [
    "x_train.shape, x_test.shape, y_train.shape, y_test.shape"
   ]
  },
  {
   "cell_type": "code",
   "execution_count": 239,
   "id": "6b8d528c",
   "metadata": {},
   "outputs": [],
   "source": [
    "# 10. StandardScaler를 사용하여 데이터 변수를 훈련데이터셋은 정규분포화(fit_transform), 검증데이터셋은 표준화(transform)하여라.\n",
    "from sklearn.preprocessing import StandardScaler\n",
    "\n",
    "# StandardScaler 객체 생성\n",
    "scaler = StandardScaler()\n",
    "\n",
    "# 훈련데이터셋에 대해 정규화 및 표준화\n",
    "# 주소컬럼만\n",
    "x_train_scaled = scaler.fit_transform(x_train)\n",
    "# y_train_scaled = scaler.fit_transform(y_train.values.reshape(-1,1))\n",
    "\n",
    "# 검증데이터셋에 대해 표준화\n",
    "x_test_scaled = scaler.transform(x_test)\n",
    "# y_test_scaled = scaler.transform(y_test.values.reshape(-1,1))"
   ]
  },
  {
   "cell_type": "code",
   "execution_count": 240,
   "id": "79b724c3",
   "metadata": {},
   "outputs": [
    {
     "data": {
      "text/html": [
       "<style>#sk-container-id-3 {color: black;background-color: white;}#sk-container-id-3 pre{padding: 0;}#sk-container-id-3 div.sk-toggleable {background-color: white;}#sk-container-id-3 label.sk-toggleable__label {cursor: pointer;display: block;width: 100%;margin-bottom: 0;padding: 0.3em;box-sizing: border-box;text-align: center;}#sk-container-id-3 label.sk-toggleable__label-arrow:before {content: \"▸\";float: left;margin-right: 0.25em;color: #696969;}#sk-container-id-3 label.sk-toggleable__label-arrow:hover:before {color: black;}#sk-container-id-3 div.sk-estimator:hover label.sk-toggleable__label-arrow:before {color: black;}#sk-container-id-3 div.sk-toggleable__content {max-height: 0;max-width: 0;overflow: hidden;text-align: left;background-color: #f0f8ff;}#sk-container-id-3 div.sk-toggleable__content pre {margin: 0.2em;color: black;border-radius: 0.25em;background-color: #f0f8ff;}#sk-container-id-3 input.sk-toggleable__control:checked~div.sk-toggleable__content {max-height: 200px;max-width: 100%;overflow: auto;}#sk-container-id-3 input.sk-toggleable__control:checked~label.sk-toggleable__label-arrow:before {content: \"▾\";}#sk-container-id-3 div.sk-estimator input.sk-toggleable__control:checked~label.sk-toggleable__label {background-color: #d4ebff;}#sk-container-id-3 div.sk-label input.sk-toggleable__control:checked~label.sk-toggleable__label {background-color: #d4ebff;}#sk-container-id-3 input.sk-hidden--visually {border: 0;clip: rect(1px 1px 1px 1px);clip: rect(1px, 1px, 1px, 1px);height: 1px;margin: -1px;overflow: hidden;padding: 0;position: absolute;width: 1px;}#sk-container-id-3 div.sk-estimator {font-family: monospace;background-color: #f0f8ff;border: 1px dotted black;border-radius: 0.25em;box-sizing: border-box;margin-bottom: 0.5em;}#sk-container-id-3 div.sk-estimator:hover {background-color: #d4ebff;}#sk-container-id-3 div.sk-parallel-item::after {content: \"\";width: 100%;border-bottom: 1px solid gray;flex-grow: 1;}#sk-container-id-3 div.sk-label:hover label.sk-toggleable__label {background-color: #d4ebff;}#sk-container-id-3 div.sk-serial::before {content: \"\";position: absolute;border-left: 1px solid gray;box-sizing: border-box;top: 0;bottom: 0;left: 50%;z-index: 0;}#sk-container-id-3 div.sk-serial {display: flex;flex-direction: column;align-items: center;background-color: white;padding-right: 0.2em;padding-left: 0.2em;position: relative;}#sk-container-id-3 div.sk-item {position: relative;z-index: 1;}#sk-container-id-3 div.sk-parallel {display: flex;align-items: stretch;justify-content: center;background-color: white;position: relative;}#sk-container-id-3 div.sk-item::before, #sk-container-id-3 div.sk-parallel-item::before {content: \"\";position: absolute;border-left: 1px solid gray;box-sizing: border-box;top: 0;bottom: 0;left: 50%;z-index: -1;}#sk-container-id-3 div.sk-parallel-item {display: flex;flex-direction: column;z-index: 1;position: relative;background-color: white;}#sk-container-id-3 div.sk-parallel-item:first-child::after {align-self: flex-end;width: 50%;}#sk-container-id-3 div.sk-parallel-item:last-child::after {align-self: flex-start;width: 50%;}#sk-container-id-3 div.sk-parallel-item:only-child::after {width: 0;}#sk-container-id-3 div.sk-dashed-wrapped {border: 1px dashed gray;margin: 0 0.4em 0.5em 0.4em;box-sizing: border-box;padding-bottom: 0.4em;background-color: white;}#sk-container-id-3 div.sk-label label {font-family: monospace;font-weight: bold;display: inline-block;line-height: 1.2em;}#sk-container-id-3 div.sk-label-container {text-align: center;}#sk-container-id-3 div.sk-container {/* jupyter's `normalize.less` sets `[hidden] { display: none; }` but bootstrap.min.css set `[hidden] { display: none !important; }` so we also need the `!important` here to be able to override the default hidden behavior on the sphinx rendered scikit-learn.org. See: https://github.com/scikit-learn/scikit-learn/issues/21755 */display: inline-block !important;position: relative;}#sk-container-id-3 div.sk-text-repr-fallback {display: none;}</style><div id=\"sk-container-id-3\" class=\"sk-top-container\"><div class=\"sk-text-repr-fallback\"><pre>DecisionTreeRegressor(max_depth=5)</pre><b>In a Jupyter environment, please rerun this cell to show the HTML representation or trust the notebook. <br />On GitHub, the HTML representation is unable to render, please try loading this page with nbviewer.org.</b></div><div class=\"sk-container\" hidden><div class=\"sk-item\"><div class=\"sk-estimator sk-toggleable\"><input class=\"sk-toggleable__control sk-hidden--visually\" id=\"sk-estimator-id-3\" type=\"checkbox\" checked><label for=\"sk-estimator-id-3\" class=\"sk-toggleable__label sk-toggleable__label-arrow\">DecisionTreeRegressor</label><div class=\"sk-toggleable__content\"><pre>DecisionTreeRegressor(max_depth=5)</pre></div></div></div></div></div>"
      ],
      "text/plain": [
       "DecisionTreeRegressor(max_depth=5)"
      ]
     },
     "execution_count": 240,
     "metadata": {},
     "output_type": "execute_result"
    }
   ],
   "source": [
    "# Time_Driving컴럼을 Label로, 나머지 컬럼을 Feature로 할당한 후, max_depth 5로 decision tree로 머신러닝 모델을 만들고 학습을 진행하라.\n",
    "from sklearn.tree import DecisionTreeRegressor\n",
    "\n",
    "# 모델 생성\n",
    "dt = DecisionTreeRegressor(max_depth=5)\n",
    "\n",
    "# 모델 학습\n",
    "dt.fit(x_train_scaled, y_train)"
   ]
  },
  {
   "cell_type": "code",
   "execution_count": 245,
   "id": "bda5517a",
   "metadata": {},
   "outputs": [],
   "source": [
    "# 12. 머신러닝 모델에 대해 RMSE, R-squred 값 출력, scatter plot을 이용하여 x축에 실제 y값 및 y축에 예측값 시각화\n",
    "# 검증데이터셋에 대해 예측값 계산\n",
    "y_pred = dt.predict(x_test_scaled)"
   ]
  },
  {
   "cell_type": "code",
   "execution_count": 246,
   "id": "88e17a7f",
   "metadata": {},
   "outputs": [
    {
     "name": "stdout",
     "output_type": "stream",
     "text": [
      "RMSE: 161.30\n",
      "R-squared: 0.91\n"
     ]
    }
   ],
   "source": [
    "from sklearn.metrics import mean_squared_error, r2_score\n",
    "\n",
    "# RMSE 계산\n",
    "rmse = mean_squared_error(y_test, y_pred, squared=True) ** 0.5\n",
    "\n",
    "# R-squared 값 계산\n",
    "r2 = r2_score(y_test, y_pred)\n",
    "\n",
    "print(f\"RMSE: {rmse:.2f}\")\n",
    "print(f\"R-squared: {r2:.2f}\")"
   ]
  },
  {
   "cell_type": "code",
   "execution_count": 247,
   "id": "e20e9d78",
   "metadata": {},
   "outputs": [
    {
     "data": {
      "image/png": "[encoded data removed]",
      "text/plain": [
       "<Figure size 640x480 with 1 Axes>"
      ]
     },
     "metadata": {},
     "output_type": "display_data"
    }
   ],
   "source": [
    "# scatter plot을 이용하여 x축에 실제 y값, y축에 예측값을 시각화해보겠습니다.\n",
    "import matplotlib.pyplot as plt\n",
    "\n",
    "# scatter plot\n",
    "plt.scatter(y_test, y_pred)\n",
    "\n",
    "# x=y line\n",
    "# plt.plot([-3, 3], [-3, 3], '--', color='gray')\n",
    "plt.plot()\n",
    "\n",
    "# labels\n",
    "plt.xlabel(\"Actual values\")\n",
    "plt.ylabel(\"Predicted values\")\n",
    "plt.title(\"Scatter plot of actual vs predicted values\")\n",
    "\n",
    "plt.show()"
   ]
  },
  {
   "cell_type": "code",
   "execution_count": 208,
   "id": "765730de",
   "metadata": {},
   "outputs": [
    {
     "data": {
      "text/plain": [
       "(array([[-1.18175832e+00,  1.94361170e-01, -2.31134560e-01, ...,\n",
       "         -1.24892178e-01, -5.07215749e-03, -2.32041000e-01],\n",
       "        [-3.92728079e-01, -3.10110692e-01, -7.31166525e-01, ...,\n",
       "         -1.24892178e-01, -5.07215749e-03, -2.32041000e-01],\n",
       "        [-6.34549782e-02, -1.02297856e+00,  1.62612702e+00, ...,\n",
       "         -1.24892178e-01, -5.07215749e-03, -2.32041000e-01],\n",
       "        ...,\n",
       "        [-6.68242844e-02,  7.23864487e-01, -1.08833221e+00, ...,\n",
       "         -1.24892178e-01, -5.07215749e-03, -2.32041000e-01],\n",
       "        [-1.13948884e+00, -6.90933837e-01, -1.37406477e+00, ...,\n",
       "         -1.24892178e-01, -5.07215749e-03, -2.32041000e-01],\n",
       "        [-3.68068296e-02, -3.05130459e-01,  1.48326075e+00, ...,\n",
       "          8.00690657e+00, -5.07215749e-03, -2.32041000e-01]]),\n",
       " 14330     350.462006\n",
       " 8279      816.426025\n",
       " 43461    1629.324951\n",
       " 51344     394.306000\n",
       " 28831     311.279999\n",
       "             ...     \n",
       " 38817    1459.000000\n",
       " 51895    1713.614990\n",
       " 47558     609.216003\n",
       " 22041     600.609985\n",
       " 54103     978.500977\n",
       " Name: Time_Driving, Length: 38871, dtype: float64)"
      ]
     },
     "execution_count": 208,
     "metadata": {},
     "output_type": "execute_result"
    }
   ],
   "source": [
    "x_train_scaled, y_train"
   ]
  },
  {
   "cell_type": "code",
   "execution_count": 248,
   "id": "e7f01bce",
   "metadata": {},
   "outputs": [
    {
     "data": {
      "text/plain": [
       "((38871, 117), (16660, 117), (38871,), (16660,))"
      ]
     },
     "execution_count": 248,
     "metadata": {},
     "output_type": "execute_result"
    }
   ],
   "source": [
    "# 13. 딥러닝 모델을 만들어라. (earlystopping 콜백 적용, modelcheckpoint 콜백 적용, validation performance가 좋은 모델을 best_model.h5 파일로 저장)\n",
    "# 하이퍼파라미터 설정 : batch_size, epochs\n",
    "batch_size = 64\n",
    "epochs = 50\n",
    "# 모델 입력(features) 갯수 확인\n",
    "num_features = x_train.shape[1]\n",
    "x_train.shape, x_test.shape, y_train.shape, y_test.shape"
   ]
  },
  {
   "cell_type": "code",
   "execution_count": 249,
   "id": "cf622c5d",
   "metadata": {},
   "outputs": [
    {
     "name": "stdout",
     "output_type": "stream",
     "text": [
      "Epoch 1/50\n",
      "604/608 [============================>.] - ETA: 0s - loss: -38183133184.0000 - accuracy: 0.0000e+00\n",
      "Epoch 1: val_accuracy improved from -inf to 0.00000, saving model to best_model.h5\n",
      "608/608 [==============================] - 3s 4ms/step - loss: -39065477120.0000 - accuracy: 0.0000e+00 - val_loss: -204776521728.0000 - val_accuracy: 0.0000e+00\n",
      "Epoch 2/50\n",
      "607/608 [============================>.] - ETA: 0s - loss: -1232438427648.0000 - accuracy: 0.0000e+00\n",
      "Epoch 2: val_accuracy did not improve from 0.00000\n",
      "608/608 [==============================] - 2s 4ms/step - loss: -1233271128064.0000 - accuracy: 0.0000e+00 - val_loss: -3093335375872.0000 - val_accuracy: 0.0000e+00\n",
      "Epoch 3/50\n",
      "605/608 [============================>.] - ETA: 0s - loss: -7455126847488.0000 - accuracy: 0.0000e+00\n",
      "Epoch 3: val_accuracy did not improve from 0.00000\n",
      "608/608 [==============================] - 2s 4ms/step - loss: -7479304912896.0000 - accuracy: 0.0000e+00 - val_loss: -13555620380672.0000 - val_accuracy: 0.0000e+00\n",
      "Epoch 4/50\n",
      "604/608 [============================>.] - ETA: 0s - loss: -23740393979904.0000 - accuracy: 0.0000e+00\n",
      "Epoch 4: val_accuracy did not improve from 0.00000\n",
      "608/608 [==============================] - 2s 4ms/step - loss: -23827759235072.0000 - accuracy: 0.0000e+00 - val_loss: -36638600200192.0000 - val_accuracy: 0.0000e+00\n",
      "Epoch 5/50\n",
      "593/608 [============================>.] - ETA: 0s - loss: -54955125768192.0000 - accuracy: 0.0000e+00\n",
      "Epoch 5: val_accuracy did not improve from 0.00000\n",
      "608/608 [==============================] - 3s 4ms/step - loss: -55418223067136.0000 - accuracy: 0.0000e+00 - val_loss: -77449668853760.0000 - val_accuracy: 0.0000e+00\n",
      "Epoch 6/50\n",
      "597/608 [============================>.] - ETA: 0s - loss: -106120983085056.0000 - accuracy: 0.0000e+00\n",
      "Epoch 6: val_accuracy did not improve from 0.00000\n",
      "608/608 [==============================] - 2s 4ms/step - loss: -106638954463232.0000 - accuracy: 0.0000e+00 - val_loss: -140435070648320.0000 - val_accuracy: 0.0000e+00\n",
      "Epoch 7/50\n",
      "603/608 [============================>.] - ETA: 0s - loss: -182490526384128.0000 - accuracy: 0.0000e+00\n",
      "Epoch 7: val_accuracy did not improve from 0.00000\n",
      "608/608 [==============================] - 3s 5ms/step - loss: -182870396108800.0000 - accuracy: 0.0000e+00 - val_loss: -230531581083648.0000 - val_accuracy: 0.0000e+00\n",
      "Epoch 8/50\n",
      "608/608 [==============================] - ETA: 0s - loss: -288858361036800.0000 - accuracy: 0.0000e+00\n",
      "Epoch 8: val_accuracy did not improve from 0.00000\n",
      "608/608 [==============================] - 3s 4ms/step - loss: -288858361036800.0000 - accuracy: 0.0000e+00 - val_loss: -352299121639424.0000 - val_accuracy: 0.0000e+00\n",
      "Epoch 9/50\n",
      "599/608 [============================>.] - ETA: 0s - loss: -426632221294592.0000 - accuracy: 0.0000e+00\n",
      "Epoch 9: val_accuracy did not improve from 0.00000\n",
      "608/608 [==============================] - 3s 4ms/step - loss: -427664422731776.0000 - accuracy: 0.0000e+00 - val_loss: -511086881144832.0000 - val_accuracy: 0.0000e+00\n",
      "Epoch 10/50\n",
      "601/608 [============================>.] - ETA: 0s - loss: -605736417624064.0000 - accuracy: 0.0000e+00\n",
      "Epoch 10: val_accuracy did not improve from 0.00000\n",
      "608/608 [==============================] - 3s 4ms/step - loss: -606911292506112.0000 - accuracy: 0.0000e+00 - val_loss: -712757473181696.0000 - val_accuracy: 0.0000e+00\n",
      "Epoch 11/50\n",
      "600/608 [============================>.] - ETA: 0s - loss: -833380421730304.0000 - accuracy: 0.0000e+00\n",
      "Epoch 11: val_accuracy did not improve from 0.00000\n",
      "608/608 [==============================] - 3s 5ms/step - loss: -834551941169152.0000 - accuracy: 0.0000e+00 - val_loss: -962382851473408.0000 - val_accuracy: 0.0000e+00\n",
      "Epoch 12/50\n",
      "598/608 [============================>.] - ETA: 0s - loss: -1103526549782528.0000 - accuracy: 0.0000e+00\n",
      "Epoch 12: val_accuracy did not improve from 0.00000\n",
      "608/608 [==============================] - 3s 4ms/step - loss: -1106217011249152.0000 - accuracy: 0.0000e+00 - val_loss: -1264826261176320.0000 - val_accuracy: 0.0000e+00\n",
      "Epoch 13/50\n",
      "599/608 [============================>.] - ETA: 0s - loss: -1437782446702592.0000 - accuracy: 0.0000e+00\n",
      "Epoch 13: val_accuracy did not improve from 0.00000\n",
      "608/608 [==============================] - 3s 4ms/step - loss: -1440212056014848.0000 - accuracy: 0.0000e+00 - val_loss: -1626201722454016.0000 - val_accuracy: 0.0000e+00\n",
      "Epoch 14/50\n",
      "604/608 [============================>.] - ETA: 0s - loss: -1827601463115776.0000 - accuracy: 0.0000e+00\n",
      "Epoch 14: val_accuracy did not improve from 0.00000\n",
      "608/608 [==============================] - 3s 4ms/step - loss: -1829022560419840.0000 - accuracy: 0.0000e+00 - val_loss: -2052787135315968.0000 - val_accuracy: 0.0000e+00\n",
      "Epoch 15/50\n",
      "603/608 [============================>.] - ETA: 0s - loss: -2294759687192576.0000 - accuracy: 0.0000e+00\n",
      "Epoch 15: val_accuracy did not improve from 0.00000\n",
      "608/608 [==============================] - 2s 4ms/step - loss: -2296331108352000.0000 - accuracy: 0.0000e+00 - val_loss: -2552890979778560.0000 - val_accuracy: 0.0000e+00\n",
      "Epoch 16/50\n",
      "603/608 [============================>.] - ETA: 0s - loss: -2827861765390336.0000 - accuracy: 0.0000e+00\n",
      "Epoch 16: val_accuracy did not improve from 0.00000\n",
      "608/608 [==============================] - 2s 4ms/step - loss: -2830577795334144.0000 - accuracy: 0.0000e+00 - val_loss: -3130829295321088.0000 - val_accuracy: 0.0000e+00\n",
      "Epoch 17/50\n",
      "599/608 [============================>.] - ETA: 0s - loss: -3450303726747648.0000 - accuracy: 0.0000e+00\n",
      "Epoch 17: val_accuracy did not improve from 0.00000\n",
      "608/608 [==============================] - 3s 4ms/step - loss: -3454844312485888.0000 - accuracy: 0.0000e+00 - val_loss: -3793415779123200.0000 - val_accuracy: 0.0000e+00\n",
      "Epoch 18/50\n",
      "596/608 [============================>.] - ETA: 0s - loss: -4150585259458560.0000 - accuracy: 0.0000e+00\n",
      "Epoch 18: val_accuracy did not improve from 0.00000\n",
      "608/608 [==============================] - 3s 4ms/step - loss: -4159042050064384.0000 - accuracy: 0.0000e+00 - val_loss: -4547860339097600.0000 - val_accuracy: 0.0000e+00\n",
      "Epoch 19/50\n",
      "599/608 [============================>.] - ETA: 0s - loss: -4955333013274624.0000 - accuracy: 0.0000e+00\n",
      "Epoch 19: val_accuracy did not improve from 0.00000\n",
      "608/608 [==============================] - 3s 4ms/step - loss: -4961641783361536.0000 - accuracy: 0.0000e+00 - val_loss: -5402387569180672.0000 - val_accuracy: 0.0000e+00\n",
      "Epoch 20/50\n",
      "600/608 [============================>.] - ETA: 0s - loss: -5869336950472704.0000 - accuracy: 0.0000e+00\n",
      "Epoch 20: val_accuracy did not improve from 0.00000\n",
      "608/608 [==============================] - 2s 4ms/step - loss: -5872505025724416.0000 - accuracy: 0.0000e+00 - val_loss: -6364135436582912.0000 - val_accuracy: 0.0000e+00\n",
      "Epoch 21/50\n",
      "597/608 [============================>.] - ETA: 0s - loss: -6860858068041728.0000 - accuracy: 0.0000e+00\n",
      "Epoch 21: val_accuracy did not improve from 0.00000\n",
      "608/608 [==============================] - 3s 4ms/step - loss: -6872921557434368.0000 - accuracy: 0.0000e+00 - val_loss: -7438458691780608.0000 - val_accuracy: 0.0000e+00\n",
      "Epoch 22/50\n",
      "600/608 [============================>.] - ETA: 0s - loss: -8022775570628608.0000 - accuracy: 0.0000e+00\n",
      "Epoch 22: val_accuracy did not improve from 0.00000\n",
      "608/608 [==============================] - 3s 4ms/step - loss: -8032917599027200.0000 - accuracy: 0.0000e+00 - val_loss: -8638801656152064.0000 - val_accuracy: 0.0000e+00\n",
      "Epoch 23/50\n",
      "598/608 [============================>.] - ETA: 0s - loss: -9289624492965888.0000 - accuracy: 0.0000e+00\n",
      "Epoch 23: val_accuracy did not improve from 0.00000\n",
      "608/608 [==============================] - 3s 5ms/step - loss: -9304252077834240.0000 - accuracy: 0.0000e+00 - val_loss: -9969586535399424.0000 - val_accuracy: 0.0000e+00\n",
      "Epoch 24/50\n",
      "598/608 [============================>.] - ETA: 0s - loss: -10636147206127616.0000 - accuracy: 0.0000e+00\n",
      "Epoch 24: val_accuracy did not improve from 0.00000\n",
      "608/608 [==============================] - 3s 5ms/step - loss: -10651687471546368.0000 - accuracy: 0.0000e+00 - val_loss: -11434600953806848.0000 - val_accuracy: 0.0000e+00\n",
      "Epoch 25/50\n"
     ]
    },
    {
     "name": "stdout",
     "output_type": "stream",
     "text": [
      "602/608 [============================>.] - ETA: 0s - loss: -12204798111645696.0000 - accuracy: 0.0000e+00\n",
      "Epoch 25: val_accuracy did not improve from 0.00000\n",
      "608/608 [==============================] - 3s 5ms/step - loss: -12207453475176448.0000 - accuracy: 0.0000e+00 - val_loss: -13051091352551424.0000 - val_accuracy: 0.0000e+00\n",
      "Epoch 26/50\n",
      "602/608 [============================>.] - ETA: 0s - loss: -13887192636063744.0000 - accuracy: 0.0000e+00\n",
      "Epoch 26: val_accuracy did not improve from 0.00000\n",
      "608/608 [==============================] - 3s 4ms/step - loss: -13884799265538048.0000 - accuracy: 0.0000e+00 - val_loss: -14822851261497344.0000 - val_accuracy: 0.0000e+00\n",
      "Epoch 27/50\n",
      "600/608 [============================>.] - ETA: 0s - loss: -15838547676233728.0000 - accuracy: 0.0000e+00\n",
      "Epoch 27: val_accuracy did not improve from 0.00000\n",
      "608/608 [==============================] - 3s 4ms/step - loss: -15832801009991680.0000 - accuracy: 0.0000e+00 - val_loss: -16770084206804992.0000 - val_accuracy: 0.0000e+00\n",
      "Epoch 28/50\n",
      "599/608 [============================>.] - ETA: 0s - loss: -17783932711862272.0000 - accuracy: 0.0000e+00\n",
      "Epoch 28: val_accuracy did not improve from 0.00000\n",
      "608/608 [==============================] - 3s 5ms/step - loss: -17825394178654208.0000 - accuracy: 0.0000e+00 - val_loss: -18884230318653440.0000 - val_accuracy: 0.0000e+00\n",
      "Epoch 29/50\n",
      "607/608 [============================>.] - ETA: 0s - loss: -19970638001209344.0000 - accuracy: 0.0000e+00\n",
      "Epoch 29: val_accuracy did not improve from 0.00000\n",
      "608/608 [==============================] - 3s 4ms/step - loss: -19967938614263808.0000 - accuracy: 0.0000e+00 - val_loss: -21179016312520704.0000 - val_accuracy: 0.0000e+00\n",
      "Epoch 30/50\n",
      "603/608 [============================>.] - ETA: 0s - loss: -22377645048070144.0000 - accuracy: 0.0000e+00\n",
      "Epoch 30: val_accuracy did not improve from 0.00000\n",
      "608/608 [==============================] - 2s 4ms/step - loss: -22389960866791424.0000 - accuracy: 0.0000e+00 - val_loss: -23669403706982400.0000 - val_accuracy: 0.0000e+00\n",
      "Epoch 31/50\n",
      "605/608 [============================>.] - ETA: 0s - loss: -24994925103808512.0000 - accuracy: 0.0000e+00\n",
      "Epoch 31: val_accuracy did not improve from 0.00000\n",
      "608/608 [==============================] - 3s 4ms/step - loss: -24987945781952512.0000 - accuracy: 0.0000e+00 - val_loss: -26367611683995648.0000 - val_accuracy: 0.0000e+00\n",
      "Epoch 32/50\n",
      "602/608 [============================>.] - ETA: 0s - loss: -27798664722251776.0000 - accuracy: 0.0000e+00\n",
      "Epoch 32: val_accuracy did not improve from 0.00000\n",
      "608/608 [==============================] - 3s 5ms/step - loss: -27793212261269504.0000 - accuracy: 0.0000e+00 - val_loss: -29279616690552832.0000 - val_accuracy: 0.0000e+00\n",
      "Epoch 33/50\n",
      "600/608 [============================>.] - ETA: 0s - loss: -30827172864196608.0000 - accuracy: 0.0000e+00\n",
      "Epoch 33: val_accuracy did not improve from 0.00000\n",
      "608/608 [==============================] - 2s 4ms/step - loss: -30849468039430144.0000 - accuracy: 0.0000e+00 - val_loss: -32418189811908608.0000 - val_accuracy: 0.0000e+00\n",
      "Epoch 34/50\n",
      "605/608 [============================>.] - ETA: 0s - loss: -34064255355453440.0000 - accuracy: 0.0000e+00\n",
      "Epoch 34: val_accuracy did not improve from 0.00000\n",
      "608/608 [==============================] - 3s 4ms/step - loss: -34046564385161216.0000 - accuracy: 0.0000e+00 - val_loss: -35787263090622464.0000 - val_accuracy: 0.0000e+00\n",
      "Epoch 35/50\n",
      "600/608 [============================>.] - ETA: 0s - loss: -37457672508801024.0000 - accuracy: 0.0000e+00\n",
      "Epoch 35: val_accuracy did not improve from 0.00000\n",
      "608/608 [==============================] - 3s 5ms/step - loss: -37486912646152192.0000 - accuracy: 0.0000e+00 - val_loss: -39397352754118656.0000 - val_accuracy: 0.0000e+00\n",
      "Epoch 36/50\n",
      "607/608 [============================>.] - ETA: 0s - loss: -41363335379156992.0000 - accuracy: 0.0000e+00\n",
      "Epoch 36: val_accuracy did not improve from 0.00000\n",
      "608/608 [==============================] - 3s 4ms/step - loss: -41369468592455680.0000 - accuracy: 0.0000e+00 - val_loss: -43277872885923840.0000 - val_accuracy: 0.0000e+00\n",
      "Epoch 37/50\n",
      "597/608 [============================>.] - ETA: 0s - loss: -45364827559821312.0000 - accuracy: 0.0000e+00\n",
      "Epoch 37: val_accuracy did not improve from 0.00000\n",
      "608/608 [==============================] - 3s 5ms/step - loss: -45349803764219904.0000 - accuracy: 0.0000e+00 - val_loss: -47423581478453248.0000 - val_accuracy: 0.0000e+00\n",
      "Epoch 38/50\n",
      "606/608 [============================>.] - ETA: 0s - loss: -49664424830566400.0000 - accuracy: 0.0000e+00\n",
      "Epoch 38: val_accuracy did not improve from 0.00000\n",
      "608/608 [==============================] - 3s 4ms/step - loss: -49661598742085632.0000 - accuracy: 0.0000e+00 - val_loss: -51847213109739520.0000 - val_accuracy: 0.0000e+00\n",
      "Epoch 39/50\n",
      "606/608 [============================>.] - ETA: 0s - loss: -54174698837114880.0000 - accuracy: 0.0000e+00\n",
      "Epoch 39: val_accuracy did not improve from 0.00000\n",
      "608/608 [==============================] - 3s 4ms/step - loss: -54184465592745984.0000 - accuracy: 0.0000e+00 - val_loss: -56551563803492352.0000 - val_accuracy: 0.0000e+00\n",
      "Epoch 40/50\n",
      "598/608 [============================>.] - ETA: 0s - loss: -59108284820357120.0000 - accuracy: 0.0000e+00\n",
      "Epoch 40: val_accuracy did not improve from 0.00000\n",
      "608/608 [==============================] - 3s 4ms/step - loss: -59167061447802880.0000 - accuracy: 0.0000e+00 - val_loss: -61582465155727360.0000 - val_accuracy: 0.0000e+00\n",
      "Epoch 41/50\n",
      "598/608 [============================>.] - ETA: 0s - loss: -64129002805133312.0000 - accuracy: 0.0000e+00\n",
      "Epoch 41: val_accuracy did not improve from 0.00000\n",
      "608/608 [==============================] - 2s 4ms/step - loss: -64145817602097152.0000 - accuracy: 0.0000e+00 - val_loss: -66904865938341888.0000 - val_accuracy: 0.0000e+00\n",
      "Epoch 42/50\n",
      "592/608 [============================>.] - ETA: 0s - loss: -69519105157234688.0000 - accuracy: 0.0000e+00\n",
      "Epoch 42: val_accuracy did not improve from 0.00000\n",
      "608/608 [==============================] - 2s 3ms/step - loss: -69643715043393536.0000 - accuracy: 0.0000e+00 - val_loss: -72555269078384640.0000 - val_accuracy: 0.0000e+00\n",
      "Epoch 43/50\n",
      "606/608 [============================>.] - ETA: 0s - loss: -75557133390708736.0000 - accuracy: 0.0000e+00\n",
      "Epoch 43: val_accuracy did not improve from 0.00000\n",
      "608/608 [==============================] - 2s 3ms/step - loss: -75555733231370240.0000 - accuracy: 0.0000e+00 - val_loss: -78554075670511616.0000 - val_accuracy: 0.0000e+00\n",
      "Epoch 44/50\n",
      "603/608 [============================>.] - ETA: 0s - loss: -81721596871442432.0000 - accuracy: 0.0000e+00\n",
      "Epoch 44: val_accuracy did not improve from 0.00000\n",
      "608/608 [==============================] - 2s 3ms/step - loss: -81720308381253632.0000 - accuracy: 0.0000e+00 - val_loss: -84901547707727872.0000 - val_accuracy: 0.0000e+00\n",
      "Epoch 45/50\n",
      "599/608 [============================>.] - ETA: 0s - loss: -88095817964978176.0000 - accuracy: 0.0000e+00\n",
      "Epoch 45: val_accuracy did not improve from 0.00000\n",
      "608/608 [==============================] - 2s 3ms/step - loss: -88189010165366784.0000 - accuracy: 0.0000e+00 - val_loss: -91619297465466880.0000 - val_accuracy: 0.0000e+00\n",
      "Epoch 46/50\n",
      "598/608 [============================>.] - ETA: 0s - loss: -95054017171816448.0000 - accuracy: 0.0000e+00\n",
      "Epoch 46: val_accuracy did not improve from 0.00000\n",
      "608/608 [==============================] - 2s 3ms/step - loss: -95101158732857344.0000 - accuracy: 0.0000e+00 - val_loss: -98717830433734656.0000 - val_accuracy: 0.0000e+00\n",
      "Epoch 47/50\n",
      "595/608 [============================>.] - ETA: 0s - loss: -102606768701440000.0000 - accuracy: 0.0000e+00\n",
      "Epoch 47: val_accuracy did not improve from 0.00000\n",
      "608/608 [==============================] - 2s 3ms/step - loss: -102543624092254208.0000 - accuracy: 0.0000e+00 - val_loss: -106214017244069888.0000 - val_accuracy: 0.0000e+00\n",
      "Epoch 48/50\n",
      "604/608 [============================>.] - ETA: 0s - loss: -110087227341537280.0000 - accuracy: 0.0000e+00\n",
      "Epoch 48: val_accuracy did not improve from 0.00000\n",
      "608/608 [==============================] - 2s 3ms/step - loss: -110074127691284480.0000 - accuracy: 0.0000e+00 - val_loss: -114090927135391744.0000 - val_accuracy: 0.0000e+00\n"
     ]
    },
    {
     "name": "stdout",
     "output_type": "stream",
     "text": [
      "Epoch 49/50\n",
      "599/608 [============================>.] - ETA: 0s - loss: -118582028407930880.0000 - accuracy: 0.0000e+00\n",
      "Epoch 49: val_accuracy did not improve from 0.00000\n",
      "608/608 [==============================] - 2s 3ms/step - loss: -118512776355250176.0000 - accuracy: 0.0000e+00 - val_loss: -122421926739050496.0000 - val_accuracy: 0.0000e+00\n",
      "Epoch 50/50\n",
      "605/608 [============================>.] - ETA: 0s - loss: -126977727398936576.0000 - accuracy: 0.0000e+00\n",
      "Epoch 50: val_accuracy did not improve from 0.00000\n",
      "608/608 [==============================] - 2s 3ms/step - loss: -126994168533745664.0000 - accuracy: 0.0000e+00 - val_loss: -131160544508903424.0000 - val_accuracy: 0.0000e+00\n"
     ]
    }
   ],
   "source": [
    "# 라이브러리 임포트\n",
    "from tensorflow.keras.models import Sequential\n",
    "from tensorflow.keras.layers import Dense, Dropout\n",
    "from tensorflow.keras.callbacks import EarlyStopping, ModelCheckpoint\n",
    "\n",
    "# Tensoflow의 Sequential() 함수 선언\n",
    "# 결과 저장 : model\n",
    "model = Sequential()\n",
    "\n",
    "# model.add() 함수와 Dense() 함수 사용\n",
    "# 첫번째 Hidden Layer 생성시 unit 64, activation='relu', input_shape=() 입력해야 함\n",
    "# 첫번째 Hidden Layer 다음에 Dropout(0.2) 추가 \n",
    "model.add(Dense(64, activation='relu', input_shape=(num_features,)))\n",
    "model.add(Dropout(0.2))\n",
    "\n",
    "# 두번째 Hidden Layer 생성시 unit 32, activation='relu' 추가 \n",
    "# 두번째 Hidden Layer 다음에 Dropout(0.2) 추가 \n",
    "model.add(Dense(32, activation='relu'))\n",
    "model.add(Dropout(0.2))\n",
    "\n",
    "# 세번째 Hidden Layer 생성시 unit 16, activation='relu' 추가 \n",
    "# 세번째 Hidden Layer 다음에 Dropout(0.2) 추가 \n",
    "model.add(Dense(16, activation='relu'))\n",
    "model.add(Dropout(0.2))\n",
    "\n",
    "# 마지막 Dense에서 1개만 나오므로 'sigmoid' 설정하고 0.5 이하이면 정상, 아니면 해지\n",
    "model.add(Dense(1, activation='sigmoid'))\n",
    "\n",
    "# compile\n",
    "model.compile(loss='binary_crossentropy', optimizer='adam', metrics=['accuracy'])\n",
    "\n",
    "# EarlyStopping, ModelCheckpoint\n",
    "early_stop = EarlyStopping(monitor='val_loss', patience=10)\n",
    "model_check = ModelCheckpoint('best_model.h5', save_best_only=True, save_weights_only=False, monitor='val_accuracy', mode='max', verbose=1)\n",
    "\n",
    "# 모델 훈련\n",
    "history = model.fit(x_train, y_train, batch_size=batch_size, epochs=epochs, validation_data=(x_test,y_test), callbacks=[early_stop, model_check])\n"
   ]
  },
  {
   "cell_type": "code",
   "execution_count": 252,
   "id": "46ed580b",
   "metadata": {},
   "outputs": [
    {
     "name": "stdout",
     "output_type": "stream",
     "text": [
      "521/521 [==============================] - 1s 954us/step\n"
     ]
    }
   ],
   "source": [
    "# 14. 딥러닝 모델 훈련데이터셋의 mae와 검증데이터셋의 val_mae를 1개의 그래프에 표시하여라.(mae, val_mae 범례를 표시하고, 그래프의 타이틀은 Training mae로 표시, x축에는 Epochs라고 표시, Y축에는 mae라고 표시)\n",
    "y_pred = model.predict(x_test_scaled)"
   ]
  },
  {
   "cell_type": "code",
   "execution_count": 253,
   "id": "d070904a",
   "metadata": {},
   "outputs": [
    {
     "name": "stdout",
     "output_type": "stream",
     "text": [
      "MAE: 964.525434797527\n"
     ]
    }
   ],
   "source": [
    "from sklearn.metrics import mean_absolute_error\n",
    "\n",
    "# MAE 계산\n",
    "mae = mean_absolute_error(y_test, y_pred)\n",
    "\n",
    "print(\"MAE:\", mae)"
   ]
  },
  {
   "cell_type": "code",
   "execution_count": 258,
   "id": "29bb94f4",
   "metadata": {},
   "outputs": [
    {
     "ename": "KeyError",
     "evalue": "'mae'",
     "output_type": "error",
     "traceback": [
      "\u001b[1;31m---------------------------------------------------------------------------\u001b[0m",
      "\u001b[1;31mKeyError\u001b[0m                                  Traceback (most recent call last)",
      "\u001b[1;32m~\\AppData\\Local\\Temp\\ipykernel_13608\\3460810909.py\u001b[0m in \u001b[0;36m<module>\u001b[1;34m\u001b[0m\n\u001b[1;32m----> 1\u001b[1;33m \u001b[0mmae\u001b[0m \u001b[1;33m=\u001b[0m \u001b[0mhistory\u001b[0m\u001b[1;33m.\u001b[0m\u001b[0mhistory\u001b[0m\u001b[1;33m[\u001b[0m\u001b[1;34m'mae'\u001b[0m\u001b[1;33m]\u001b[0m\u001b[1;33m\u001b[0m\u001b[1;33m\u001b[0m\u001b[0m\n\u001b[0m\u001b[0;32m      2\u001b[0m \u001b[0mval_mae\u001b[0m \u001b[1;33m=\u001b[0m \u001b[0mhistory\u001b[0m\u001b[1;33m.\u001b[0m\u001b[0mhistory\u001b[0m\u001b[1;33m[\u001b[0m\u001b[1;34m'val_mae'\u001b[0m\u001b[1;33m]\u001b[0m\u001b[1;33m\u001b[0m\u001b[1;33m\u001b[0m\u001b[0m\n",
      "\u001b[1;31mKeyError\u001b[0m: 'mae'"
     ]
    }
   ],
   "source": [
    "mae = history.history['mae']\n",
    "val_mae = history.history['val_mae']"
   ]
  },
  {
   "cell_type": "code",
   "execution_count": 259,
   "id": "b905866e",
   "metadata": {},
   "outputs": [
    {
     "ename": "KeyError",
     "evalue": "'val_mae'",
     "output_type": "error",
     "traceback": [
      "\u001b[1;31m---------------------------------------------------------------------------\u001b[0m",
      "\u001b[1;31mKeyError\u001b[0m                                  Traceback (most recent call last)",
      "\u001b[1;32m~\\AppData\\Local\\Temp\\ipykernel_13608\\2281681364.py\u001b[0m in \u001b[0;36m<module>\u001b[1;34m\u001b[0m\n\u001b[0;32m      1\u001b[0m \u001b[1;31m# 훈련데이터셋의 mae와 검증데이터셋의 val_mae를 그래프로 표시\u001b[0m\u001b[1;33m\u001b[0m\u001b[1;33m\u001b[0m\u001b[0m\n\u001b[0;32m      2\u001b[0m \u001b[0mplt\u001b[0m\u001b[1;33m.\u001b[0m\u001b[0mplot\u001b[0m\u001b[1;33m(\u001b[0m\u001b[0mhistory\u001b[0m\u001b[1;33m.\u001b[0m\u001b[0mhistory\u001b[0m\u001b[1;33m[\u001b[0m\u001b[1;34m'loss'\u001b[0m\u001b[1;33m]\u001b[0m\u001b[1;33m)\u001b[0m\u001b[1;33m\u001b[0m\u001b[1;33m\u001b[0m\u001b[0m\n\u001b[1;32m----> 3\u001b[1;33m \u001b[0mplt\u001b[0m\u001b[1;33m.\u001b[0m\u001b[0mplot\u001b[0m\u001b[1;33m(\u001b[0m\u001b[0mhistory\u001b[0m\u001b[1;33m.\u001b[0m\u001b[0mhistory\u001b[0m\u001b[1;33m[\u001b[0m\u001b[1;34m'val_mae'\u001b[0m\u001b[1;33m]\u001b[0m\u001b[1;33m)\u001b[0m\u001b[1;33m\u001b[0m\u001b[1;33m\u001b[0m\u001b[0m\n\u001b[0m\u001b[0;32m      4\u001b[0m \u001b[1;33m\u001b[0m\u001b[0m\n\u001b[0;32m      5\u001b[0m \u001b[1;31m# labels\u001b[0m\u001b[1;33m\u001b[0m\u001b[1;33m\u001b[0m\u001b[0m\n",
      "\u001b[1;31mKeyError\u001b[0m: 'val_mae'"
     ]
    },
    {
     "data": {
      "image/png": "[encoded data removed]",
      "text/plain": [
       "<Figure size 640x480 with 1 Axes>"
      ]
     },
     "metadata": {},
     "output_type": "display_data"
    }
   ],
   "source": [
    "# 훈련데이터셋의 mae와 검증데이터셋의 val_mae를 그래프로 표시\n",
    "plt.plot(history.history['loss'])\n",
    "plt.plot(history.history['val_mae'])\n",
    "\n",
    "# labels\n",
    "plt.title('Training mae')\n",
    "plt.xlabel('Epochs')\n",
    "plt.ylabel('mae')\n",
    "plt.legend(['mae', 'val_mae'])\n",
    "plt.show()"
   ]
  },
  {
   "cell_type": "code",
   "execution_count": null,
   "id": "94d16746",
   "metadata": {},
   "outputs": [],
   "source": []
  }
 ],
 "metadata": {
  "kernelspec": {
   "display_name": "Python 3 (ipykernel)",
   "language": "python",
   "name": "python3"
  },
  "language_info": {
   "codemirror_mode": {
    "name": "ipython",
    "version": 3
   },
   "file_extension": ".py",
   "mimetype": "text/x-python",
   "name": "python",
   "nbconvert_exporter": "python",
   "pygments_lexer": "ipython3",
   "version": "3.9.13"
  }
 },
 "nbformat": 4,
 "nbformat_minor": 5
}
