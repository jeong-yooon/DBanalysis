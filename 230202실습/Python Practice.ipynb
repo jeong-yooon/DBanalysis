{
 "cells": [
  {
   "cell_type": "code",
   "execution_count": 22,
   "id": "654f32b0",
   "metadata": {},
   "outputs": [
    {
     "name": "stdout",
     "output_type": "stream",
     "text": [
      "이름을 입력하세요.:\n",
      "안녕하세요?님.\n"
     ]
    }
   ],
   "source": [
    "name = input('이름을 입력하세요.:')\n",
    "print(f'안녕하세요?{name}님.')"
   ]
  },
  {
   "cell_type": "code",
   "execution_count": 23,
   "id": "83c62d2c",
   "metadata": {},
   "outputs": [
    {
     "name": "stdout",
     "output_type": "stream",
     "text": [
      "정사각형의 한 변의 길이를 입력하세요.:\n"
     ]
    },
    {
     "ename": "ValueError",
     "evalue": "invalid literal for int() with base 10: ''",
     "output_type": "error",
     "traceback": [
      "\u001b[1;31m---------------------------------------------------------------------------\u001b[0m",
      "\u001b[1;31mValueError\u001b[0m                                Traceback (most recent call last)",
      "\u001b[1;32m~\\AppData\\Local\\Temp\\ipykernel_16948\\1025595173.py\u001b[0m in \u001b[0;36m<module>\u001b[1;34m\u001b[0m\n\u001b[0;32m      1\u001b[0m \u001b[0mlength\u001b[0m \u001b[1;33m=\u001b[0m \u001b[0minput\u001b[0m\u001b[1;33m(\u001b[0m\u001b[1;34m'정사각형의 한 변의 길이를 입력하세요.:'\u001b[0m\u001b[1;33m)\u001b[0m\u001b[1;33m\u001b[0m\u001b[1;33m\u001b[0m\u001b[0m\n\u001b[1;32m----> 2\u001b[1;33m \u001b[0mprint\u001b[0m\u001b[1;33m(\u001b[0m\u001b[1;34mf'정사각형의 넓이는 {int(length)**2}입니다.'\u001b[0m\u001b[1;33m)\u001b[0m\u001b[1;33m\u001b[0m\u001b[1;33m\u001b[0m\u001b[0m\n\u001b[0m",
      "\u001b[1;31mValueError\u001b[0m: invalid literal for int() with base 10: ''"
     ]
    }
   ],
   "source": [
    "length = input('정사각형의 한 변의 길이를 입력하세요.:')\n",
    "print(f'정사각형의 넓이는 {int(length)**2}입니다.')"
   ]
  },
  {
   "cell_type": "code",
   "execution_count": 26,
   "id": "6defa590",
   "metadata": {},
   "outputs": [
    {
     "name": "stdout",
     "output_type": "stream",
     "text": [
      "세 정수의 최댓값을 구합니다.\n",
      "정수 a의 값을 입력하세요.:3\n",
      "정수 b의 값을 입력하세요.:56\n",
      "정수 c의 값을 입력하세요.:2\n",
      "최댓값은56입니다.\n"
     ]
    }
   ],
   "source": [
    "print('세 정수의 최댓값을 구합니다.')\n",
    "a = int(input('정수 a의 값을 입력하세요.:'))\n",
    "b = int(input('정수 b의 값을 입력하세요.:'))\n",
    "c = int(input('정수 c의 값을 입력하세요.:'))\n",
    "\n",
    "maximum = a\n",
    "if b > maximum:\n",
    "    maximum = b\n",
    "if c > maximum:\n",
    "    maximum = c\n",
    "    \n",
    "print(f'최댓값은{maximum}입니다.')"
   ]
  },
  {
   "cell_type": "code",
   "execution_count": 30,
   "id": "5159bc35",
   "metadata": {},
   "outputs": [
    {
     "name": "stdout",
     "output_type": "stream",
     "text": [
      "세 정수의 최댓값을 구합니다.\n",
      "정수 a의 값을 입력하세요.:3\n",
      "정수 b의 값을 입력하세요.:6\n",
      "정수 c의 값을 입력하세요.:2\n",
      "최댓값은 6 입니다.\n"
     ]
    }
   ],
   "source": [
    "def max3(a,b,c):\n",
    "    maximum = a\n",
    "    if b > maximum:\n",
    "        maximum = b\n",
    "    if c > maximum:\n",
    "        maximum = c\n",
    "    return maximum # 최댓값 반환\n",
    "\n",
    "print('세 정수의 최댓값을 구합니다.')\n",
    "a = int(input('정수 a의 값을 입력하세요.:'))\n",
    "b = int(input('정수 b의 값을 입력하세요.:'))\n",
    "c = int(input('정수 c의 값을 입력하세요.:'))\n",
    "\n",
    "print(f'최댓값은 {max3(a,b,c)} 입니다.')"
   ]
  },
  {
   "cell_type": "markdown",
   "id": "8db067ab",
   "metadata": {},
   "source": [
    "<!-- 미니실습1. 네 정수의 최댓값을 구하는 함수를 작성하고, 값을 입력받아 최댓값을 출력하라. -->\n",
    "\n",
    "print('네 정수의 최댓값을 구합니다.')\n",
    "a = int(input('정수 a의 값을 입력하세요.:'))\n",
    "b = int(input('정수 b의 값을 입력하세요.:'))\n",
    "c = int(input('정수 c의 값을 입력하세요.:'))\n",
    "d = int(input('정수 d의 값을 입력하세요.:'))\n",
    "\n",
    "maximum = a\n",
    "if b > maximum:\n",
    "    maximum = b\n",
    "if c > maximum:\n",
    "    maximum = c\n",
    "if d > maximum:\n",
    "    maximum = d\n",
    "    \n",
    "print(f'최댓값은{maximum}입니다.')"
   ]
  },
  {
   "cell_type": "code",
   "execution_count": 31,
   "id": "0917f783",
   "metadata": {},
   "outputs": [
    {
     "name": "stdout",
     "output_type": "stream",
     "text": [
      "세 정수의 최댓값을 구합니다.\n",
      "정수 a의 값을 입력하세요.:4\n",
      "정수 b의 값을 입력하세요.:6\n",
      "정수 c의 값을 입력하세요.:3\n",
      "정수 d의 값을 입력하세요.:2\n",
      "최댓값은 6 입니다.\n"
     ]
    }
   ],
   "source": [
    "# 미니실습1정답. 네 정수의 최댓값을 구하는 함수를 작성하고, 값을 입력받아 최댓값을 출력하라.\n",
    "def max4(a,b,c,d):\n",
    "    maximum = a\n",
    "    if b > maximum:\n",
    "        maximum = b\n",
    "    if c > maximum:\n",
    "        maximum = c\n",
    "    if d > maximum:\n",
    "        maximum = d\n",
    "    return maximum # 최댓값 반환\n",
    "\n",
    "print('세 정수의 최댓값을 구합니다.')\n",
    "a = int(input('정수 a의 값을 입력하세요.:'))\n",
    "b = int(input('정수 b의 값을 입력하세요.:'))\n",
    "c = int(input('정수 c의 값을 입력하세요.:'))\n",
    "d = int(input('정수 d의 값을 입력하세요.:'))\n",
    "\n",
    "print(f'최댓값은 {max4(a,b,c,d)} 입니다.')"
   ]
  },
  {
   "cell_type": "code",
   "execution_count": 15,
   "id": "72f13005",
   "metadata": {},
   "outputs": [
    {
     "name": "stdout",
     "output_type": "stream",
     "text": [
      "정수를 입력하세요.:-4\n",
      "이 수는 음수입니다.\n"
     ]
    }
   ],
   "source": [
    "n = int(input('정수를 입력하세요.:'))\n",
    "\n",
    "if n > 0:\n",
    "    print('이 수는 양수입니다.')\n",
    "elif n < 0:\n",
    "    print('이 수는 음수입니다.')\n",
    "else:\n",
    "    print('이 수는 0입니다.')"
   ]
  },
  {
   "cell_type": "code",
   "execution_count": 21,
   "id": "bc1e19bf",
   "metadata": {},
   "outputs": [
    {
     "name": "stdout",
     "output_type": "stream",
     "text": [
      "세 정수의 중앙값을 구합니다.\n",
      "정수 a의 값을 입력하세요.:3\n",
      "정수 b의 값을 입력하세요.:6\n",
      "정수 c의 값을 입력하세요.:2\n",
      "중앙값은 3입니다.\n"
     ]
    }
   ],
   "source": [
    "def med3(a,b,c):\n",
    "    if a >= b:\n",
    "        if b >= c:\n",
    "            return b\n",
    "        elif a <= c:\n",
    "            return a\n",
    "        else:\n",
    "            return c\n",
    "    elif a >c:\n",
    "        return a\n",
    "    elif b > c:\n",
    "        return c\n",
    "    else:\n",
    "        return b\n",
    "    \n",
    "print('세 정수의 중앙값을 구합니다.')\n",
    "a = int(input('정수 a의 값을 입력하세요.:'))\n",
    "b = int(input('정수 b의 값을 입력하세요.:'))\n",
    "c = int(input('정수 c의 값을 입력하세요.:'))\n",
    "\n",
    "print(f'중앙값은 {med3(a,b,c)}입니다.')"
   ]
  },
  {
   "cell_type": "code",
   "execution_count": 39,
   "id": "d1408551",
   "metadata": {},
   "outputs": [
    {
     "name": "stdout",
     "output_type": "stream",
     "text": [
      "수도요금을 계산합니다.\n",
      "수도 회사 이름을 입력하세요.:B\n",
      "수도 사용량을 입력하세요.:80\n",
      "수도 요금은 6000입니다.\n"
     ]
    }
   ],
   "source": [
    "# 미니실습2. 다음은 A,B 두 수도 회사의 요금 체계이다.\n",
    "# A: 1L 당 요금 100원,\n",
    "# B: 50리터 이하 1L당 요금 150원, 50리터 초과는 1L당 75원\n",
    "# 수도회사와 수도 사용량을 입력 받아서 지불 해야하는 수도 요금을 계산하는 waterPay()를 만들고, 수도 회사와 수도 사용량을 입력 받아 요금을 출력하라.\n",
    "\n",
    "def waterPay(company,use):\n",
    "    if company == 'A':\n",
    "        charge = 100 * use\n",
    "        return charge\n",
    "    elif company == 'B':\n",
    "        if use <= 50:\n",
    "            charge = 150 * use\n",
    "        else:\n",
    "            charge = 75 * use\n",
    "        return charge\n",
    "    else:\n",
    "        return 0\n",
    "    \n",
    "print('수도요금을 계산합니다.')\n",
    "company = input('수도 회사 이름을 입력하세요.:')\n",
    "use = int(input('수도 사용량을 입력하세요.:'))\n",
    "        \n",
    "print(f'수도 요금은 {waterPay(company,use)}입니다.')"
   ]
  },
  {
   "cell_type": "code",
   "execution_count": 40,
   "id": "0c33762a",
   "metadata": {},
   "outputs": [
    {
     "name": "stdout",
     "output_type": "stream",
     "text": [
      "수도 요금을 계산합니다.\n",
      "수도 회사를 입력하세요.:A\n",
      "수도 사용량을 입력하세요.:3\n",
      "수도 요금은 300입니다.\n"
     ]
    }
   ],
   "source": [
    "# 미니실습2정답.\n",
    "\n",
    "def waterPay(company, usage):\n",
    "    pay = 0\n",
    "    \n",
    "    if company == 'A':\n",
    "        pay = usage * 100\n",
    "    else:\n",
    "        if usage <=50:\n",
    "            pay = usage*150\n",
    "        else:\n",
    "            pay = 50*150 + (usage-50)*75\n",
    "    \n",
    "    return pay\n",
    "\n",
    "print('수도 요금을 계산합니다.')\n",
    "company = input('수도 회사를 입력하세요.:')\n",
    "usage = int(input('수도 사용량을 입력하세요.:'))\n",
    "\n",
    "print(f'수도 요금은 {waterPay(company,usage)}입니다.')"
   ]
  },
  {
   "cell_type": "code",
   "execution_count": 42,
   "id": "43452bf1",
   "metadata": {},
   "outputs": [
    {
     "name": "stdout",
     "output_type": "stream",
     "text": [
      "1부터 n까지 정수의 합을 구합니다.\n",
      "n값을 입력하세요.:4\n",
      "1부터 4까지 정수의 합은 10입니다.\n"
     ]
    }
   ],
   "source": [
    "# while문\n",
    "print('1부터 n까지 정수의 합을 구합니다.')\n",
    "\n",
    "n = int(input('n값을 입력하세요.:'))\n",
    "\n",
    "sum = 0\n",
    "i = 1\n",
    "\n",
    "while i<=n:    # i가 n보다 작거나 같은 동안 반복\n",
    "    sum += i    # sum 에 i 를 더함\n",
    "    i += 1    #i에 1을 더함\n",
    "    \n",
    "print(f'1부터 {n}까지 정수의 합은 {sum}입니다.')"
   ]
  },
  {
   "cell_type": "code",
   "execution_count": 1,
   "id": "49c767fa",
   "metadata": {},
   "outputs": [
    {
     "name": "stdout",
     "output_type": "stream",
     "text": [
      "1부터 n까지 정수의 합을 구합니다.\n",
      "n값을 입력하세요.:7\n",
      "1부터 7까지 정수의 합은 28입니다.\n"
     ]
    }
   ],
   "source": [
    "# for문\n",
    "print('1부터 n까지 정수의 합을 구합니다.')\n",
    "\n",
    "n = int(input('n값을 입력하세요.:'))\n",
    "\n",
    "sum = 0\n",
    "\n",
    "for i in range(1, n+1):\n",
    "    sum += i\n",
    "\n",
    "print(f'1부터 {n}까지 정수의 합은 {sum}입니다.')"
   ]
  },
  {
   "cell_type": "code",
   "execution_count": 2,
   "id": "c0f58e9d",
   "metadata": {},
   "outputs": [
    {
     "name": "stdout",
     "output_type": "stream",
     "text": [
      "a부터 b까지 정수의 합을 구합니다.\n",
      "a값을 입력하세요.:3\n",
      "b값을 입력하세요.:6\n",
      "3부터 6까지 정수의 합은 18입니다.\n"
     ]
    }
   ],
   "source": [
    "# for문\n",
    "print('a부터 b까지 정수의 합을 구합니다.')\n",
    "\n",
    "a = int(input('a값을 입력하세요.:'))\n",
    "b = int(input('b값을 입력하세요.:'))\n",
    "\n",
    "sum = 0\n",
    "\n",
    "for i in range(a, b+1):\n",
    "    sum += i\n",
    "\n",
    "print(f'{a}부터 {b}까지 정수의 합은 {sum}입니다.')"
   ]
  },
  {
   "cell_type": "code",
   "execution_count": 7,
   "id": "eb61cea8",
   "metadata": {},
   "outputs": [
    {
     "name": "stdout",
     "output_type": "stream",
     "text": [
      "a부터 b까지 정수의 합을 구합니다.\n",
      "a값을 입력하세요.:1\n",
      "b값을 입력하세요.:5\n",
      "1+2+3+4+5=15\n"
     ]
    }
   ],
   "source": [
    "# for문\n",
    "print('a부터 b까지 정수의 합을 구합니다.')\n",
    "a = int(input('a값을 입력하세요.:'))\n",
    "b = int(input('b값을 입력하세요.:'))\n",
    "\n",
    "if a> b:\n",
    "    a,b = b,a\n",
    "    \n",
    "sum = 0\n",
    "\n",
    "for i in range(a, b+1):\n",
    "    if i < b:\n",
    "        print(f'{i}+', end='')\n",
    "    else:\n",
    "        print(f'{i}=', end='')\n",
    "    sum += i\n",
    "print(sum)"
   ]
  },
  {
   "cell_type": "code",
   "execution_count": 6,
   "id": "f78e590d",
   "metadata": {},
   "outputs": [
    {
     "name": "stdout",
     "output_type": "stream",
     "text": [
      "a부터 b까지 정수의 합을 구합니다.\n",
      "a값을 입력하세요.:1\n",
      "b값을 입력하세요.:5\n",
      "1+2+3+4+5=15\n"
     ]
    }
   ],
   "source": [
    "# 미니실습3정답. 앞 페이지의 코드에서 for loop 안의 if 문에서 앞으로 if는 반복 시에 대부분\n",
    "# 시행되지만 else 부분은 맨 마지막에만 시행된다. 따라서 else에 해당하는 부분을\n",
    "# 반복 부분이 아니고 반복이 끝난 이후에 시행되도록 코드를 변경하라.\n",
    "\n",
    "print('a부터 b까지 정수의 합을 구합니다.')\n",
    "\n",
    "a = int(input('a값을 입력하세요.:'))\n",
    "b = int(input('b값을 입력하세요.:'))\n",
    "\n",
    "if a > b:\n",
    "    a, b = b,a\n",
    "    \n",
    "sum = 0\n",
    "\n",
    "for i in range(a, b+1):\n",
    "    if i < b:\n",
    "        print(f'{i}+', end='')\n",
    "        sum += i\n",
    "\n",
    "print(f'{i}=', end='')\n",
    "\n",
    "print(sum)"
   ]
  },
  {
   "cell_type": "code",
   "execution_count": 9,
   "id": "90c64da1",
   "metadata": {},
   "outputs": [
    {
     "name": "stdout",
     "output_type": "stream",
     "text": [
      "*를 출력합니다.\n",
      "몇 개를 출력할까요?:50\n",
      "몇 개 마다 줄바꿈할까요?:5\n",
      "*****\n",
      "*****\n",
      "*****\n",
      "*****\n",
      "*****\n",
      "*****\n",
      "*****\n",
      "*****\n",
      "*****\n",
      "*****\n"
     ]
    }
   ],
   "source": [
    "print('*를 출력합니다.')\n",
    "n = int(input('몇 개를 출력할까요?:'))\n",
    "w = int(input('몇 개 마다 줄바꿈할까요?:'))\n",
    "\n",
    "for i in range(n):\n",
    "    print('*', end='')\n",
    "    if i % w == w-1:\n",
    "        print()\n",
    "        \n",
    "if n % w:\n",
    "    print()\n"
   ]
  },
  {
   "cell_type": "code",
   "execution_count": 10,
   "id": "e9ed8f55",
   "metadata": {},
   "outputs": [
    {
     "name": "stdout",
     "output_type": "stream",
     "text": [
      "*를 출력합니다.\n",
      "몇 개를 출력할까요?:10\n",
      "몇 개 마다 줄바꿈할까요?:4\n",
      "****\n",
      "****\n",
      "**\n"
     ]
    }
   ],
   "source": [
    "print('*를 출력합니다.')\n",
    "n = int(input('몇 개를 출력할까요?:'))\n",
    "w = int(input('몇 개 마다 줄바꿈할까요?:'))\n",
    "\n",
    "for _ in range(n // w):    # n//w번 반복\n",
    "    print('*'*w)    # *를 w번 출력\n",
    "    \n",
    "rest = n%w\n",
    "if rest:    # rest 값이 있으면\n",
    "    print('*'*rest)    # rest 값만큼 *반복 출력"
   ]
  },
  {
   "cell_type": "code",
   "execution_count": 11,
   "id": "0defd505",
   "metadata": {},
   "outputs": [
    {
     "name": "stdout",
     "output_type": "stream",
     "text": [
      "1부터 n까지 정수의 합을 구합니다.\n",
      "n값을 입력하세요.:10\n",
      "1부터 10까지 정수의 합은 55입니다.\n"
     ]
    }
   ],
   "source": [
    "# 무한루프와 break\n",
    "print('1부터 n까지 정수의 합을 구합니다.')\n",
    "\n",
    "while True:\n",
    "    n = int(input('n값을 입력하세요.:'))\n",
    "    if n>0:\n",
    "        break    # n이 0보다 커질때까지 반복\n",
    "sum = 0\n",
    "i = 1\n",
    "\n",
    "for i in range(1, n+1):\n",
    "    sum += i\n",
    "    i += 1\n",
    "    \n",
    "print(f'1부터 {n}까지 정수의 합은 {sum}입니다.')"
   ]
  },
  {
   "cell_type": "code",
   "execution_count": 12,
   "id": "5d7f9f6e",
   "metadata": {},
   "outputs": [
    {
     "name": "stdout",
     "output_type": "stream",
     "text": [
      "직사각형의 넓이를 입력하세요.:100\n",
      "1 x 100\n",
      "2 x 50\n",
      "4 x 25\n",
      "5 x 20\n",
      "10 x 10\n"
     ]
    }
   ],
   "source": [
    "# continue와 break\n",
    "area = int(input('직사각형의 넓이를 입력하세요.:'))\n",
    "\n",
    "for i in range(1, area+1):\n",
    "    if i * i > area: break\n",
    "    if area % i: continue\n",
    "    print(f'{i} x {area//i}')"
   ]
  },
  {
   "cell_type": "code",
   "execution_count": 13,
   "id": "6077abd8",
   "metadata": {},
   "outputs": [
    {
     "name": "stdout",
     "output_type": "stream",
     "text": [
      "직사각형의 넓이를 입력하세요.:100\n",
      "1 x 100\n",
      "2 x 50\n",
      "4 x 25\n",
      "5 x 20\n",
      "10 x 10\n",
      "100 x 1\n",
      "50 x 2\n",
      "25 x 4\n",
      "20 x 5\n",
      "10 x 10\n"
     ]
    }
   ],
   "source": [
    "# 미니실습4.\n",
    "# 앞 페이지의 코드에서는 두 변의 길이 순서를 고려하지 않고 가능한 조합만 표시되었다.\n",
    "# 앞 변과 뒷 변의 길이를 고려하여 가능한 모든 경우가 표시되게 수정하여라.\n",
    "area = int(input('직사각형의 넓이를 입력하세요.:'))\n",
    "\n",
    "for i in range(1, area+1):\n",
    "    if i * i > area: break\n",
    "    if area % i: continue\n",
    "    print(f'{i} x {area//i}')\n",
    "    \n",
    "for i in range(1, area+1):\n",
    "    if i * i > area: break\n",
    "    if area % i: continue\n",
    "    print(f'{area//i} x {i}')"
   ]
  },
  {
   "cell_type": "code",
   "execution_count": 14,
   "id": "93d71b78",
   "metadata": {},
   "outputs": [
    {
     "name": "stdout",
     "output_type": "stream",
     "text": [
      "직사각형의 넓이를 입력하세요.:100\n",
      "1 x 100\n",
      "2 x 50\n",
      "4 x 25\n",
      "5 x 20\n",
      "10 x 10\n",
      "20 x 5\n",
      "25 x 4\n",
      "50 x 2\n",
      "100 x 1\n"
     ]
    }
   ],
   "source": [
    "# 미니실습4정답.\n",
    "area = int(input('직사각형의 넓이를 입력하세요.:'))\n",
    "\n",
    "for i in range(1, area+1):\n",
    "    if area % i: continue\n",
    "    print(f'{i} x {area//i}')"
   ]
  },
  {
   "cell_type": "code",
   "execution_count": 15,
   "id": "654679fb",
   "metadata": {},
   "outputs": [
    {
     "name": "stdout",
     "output_type": "stream",
     "text": [
      "---------------------------\n",
      "  1  2  3  4  5  6  7  8  9\n",
      "  2  4  6  8 10 12 14 16 18\n",
      "  3  6  9 12 15 18 21 24 27\n",
      "  4  8 12 16 20 24 28 32 36\n",
      "  5 10 15 20 25 30 35 40 45\n",
      "  6 12 18 24 30 36 42 48 54\n",
      "  7 14 21 28 35 42 49 56 63\n",
      "  8 16 24 32 40 48 56 64 72\n",
      "  9 18 27 36 45 54 63 72 81\n",
      "---------------------------\n"
     ]
    }
   ],
   "source": [
    "# 다중루프\n",
    "print('-'*27)\n",
    "for i in range(1,10):\n",
    "    for j in range(1,10):\n",
    "        print(f'{i*j:3}', end='')\n",
    "    print()\n",
    "print('-'*27)"
   ]
  },
  {
   "cell_type": "code",
   "execution_count": 25,
   "id": "2bf2f3e4",
   "metadata": {},
   "outputs": [
    {
     "name": "stdout",
     "output_type": "stream",
     "text": [
      "전기 요금을 계산합니다.\n",
      "전기사용량을 입력하세요.:250\n",
      "전기 요금은 33717입니다.\n"
     ]
    }
   ],
   "source": [
    "# 실습1.\n",
    "def electricPay(usage):\n",
    "    if usage < 100:\n",
    "        charge = 410 + 60.7 * usage\n",
    "    elif usage <= 200:\n",
    "        charge = 910 + 60.7 * 100 + 125.9 * (usage-100)\n",
    "    else:\n",
    "        charge = 1600 + 60.7 * 100 + 125.9 * 100 + 187.9 * (usage-200)\n",
    "        \n",
    "    add = charge * 0.1\n",
    "    basic = charge * 0.037\n",
    "    \n",
    "    pay = int(charge + add + basic)\n",
    "    return pay\n",
    "\n",
    "print('전기 요금을 계산합니다.')\n",
    "usage = int(input('전기사용량을 입력하세요.:'))\n",
    "\n",
    "print(f'전기 요금은 {electricPay(usage)}입니다.')"
   ]
  },
  {
   "cell_type": "code",
   "execution_count": 26,
   "id": "4903f00f",
   "metadata": {},
   "outputs": [
    {
     "name": "stdout",
     "output_type": "stream",
     "text": [
      "전기 요금을 계산합니다.\n",
      "전기사용량을 입력하세요.:250\n",
      "전기 요금은 33717입니다.\n"
     ]
    }
   ],
   "source": [
    "# 실습1정답.\n",
    "def electricPay(usage):\n",
    "    if usage < 100:\n",
    "        pay = 410 + 60.7 * usage\n",
    "    elif usage <= 200:\n",
    "        pay = 910 + 60.7 * 100 + 125.9 * (usage-100)\n",
    "    else:\n",
    "        pay = 1600 + 60.7 * 100 + 125.9 * 100 + 187.9 * (usage-200)\n",
    "    \n",
    "    paysum = int(pay*1.1 + pay*0.037)\n",
    "    return paysum\n",
    "\n",
    "print('전기 요금을 계산합니다.')\n",
    "usage = int(input('전기사용량을 입력하세요.:'))\n",
    "bill = electricPay(usage)\n",
    "\n",
    "print(f'전기 요금은 {bill}입니다.')"
   ]
  },
  {
   "cell_type": "code",
   "execution_count": 7,
   "id": "02201c38",
   "metadata": {},
   "outputs": [
    {
     "name": "stdout",
     "output_type": "stream",
     "text": [
      "+와 -를 번갈아 출력합니다.\n",
      "몇 개를 출력할까요? 3\n",
      "+-+\n"
     ]
    }
   ],
   "source": [
    "# 실습2.\n",
    "print('+와 -를 번갈아 출력합니다.')\n",
    "num = int(input('몇 개를 출력할까요? '))\n",
    "\n",
    "if num%2 == 1:\n",
    "    for _ in range(num//2):\n",
    "        print('+-', end='')\n",
    "    print('+')\n",
    "else:\n",
    "    for _ in range(num//2):\n",
    "        print('+-', end='')"
   ]
  },
  {
   "cell_type": "code",
   "execution_count": 9,
   "id": "18da7a74",
   "metadata": {},
   "outputs": [
    {
     "name": "stdout",
     "output_type": "stream",
     "text": [
      "+와 -를 번갈아 출력합니다.\n",
      "몇 개를 출력할까요? 10\n",
      "+-+-+-+-+-\n"
     ]
    }
   ],
   "source": [
    "# 실습2정답.\n",
    "print('+와 -를 번갈아 출력합니다.')\n",
    "n = int(input('몇 개를 출력할까요? '))\n",
    "\n",
    "for i in range(1,n+1):\n",
    "    if i % 2:\n",
    "        print('+', end='')\n",
    "    else:\n",
    "        print('-', end='')\n",
    "        \n",
    "print()"
   ]
  },
  {
   "cell_type": "code",
   "execution_count": 18,
   "id": "3da1467f",
   "metadata": {},
   "outputs": [
    {
     "name": "stdout",
     "output_type": "stream",
     "text": [
      " 1 2 3 4 5 6 7 9 10 11 12"
     ]
    }
   ],
   "source": [
    "# 실습3.\n",
    "for i in range (1, 13):\n",
    "    if i == 8 :\n",
    "        print(end='')\n",
    "    else:\n",
    "        print(f' {i}' , end='')"
   ]
  },
  {
   "cell_type": "code",
   "execution_count": 30,
   "id": "6b06bbea",
   "metadata": {},
   "outputs": [
    {
     "name": "stdout",
     "output_type": "stream",
     "text": [
      "정수를 입력하세요.: 16\n",
      "root = 2, pwr = 4\n"
     ]
    }
   ],
   "source": [
    "# 실습4.\n",
    "n = int(input('정수를 입력하세요.: '))\n",
    "def cal(n):\n",
    "    for root in range(0,n):\n",
    "        for pwr in range(2,6):\n",
    "            if root ** pwr == n:\n",
    "                print(f'root = {root}, pwr = {pwr}')\n",
    "                return (root, pwr)\n",
    "            else:\n",
    "                continue\n",
    "            \n",
    "if cal(n) == None:\n",
    "    print('결과가 없음')    "
   ]
  },
  {
   "cell_type": "code",
   "execution_count": null,
   "id": "5bd8f74d",
   "metadata": {},
   "outputs": [],
   "source": [
    "# 실습4정답.\n",
    "n = int(input('숫자를 입력하세요.: '))\n",
    "flag = 0\n",
    "\n",
    "for root in range(0,n):\n",
    "    for pwr in range(2,6):\n",
    "        if root ** pwr == n:\n",
    "            print(f'{root}**{pwr} = {n}입니다.')\n",
    "            flag = 1\n",
    "\n",
    "if flag == 0:\n",
    "    print('해당하는 결과가 없습니다.')"
   ]
  },
  {
   "cell_type": "code",
   "execution_count": null,
   "id": "974a98ea",
   "metadata": {},
   "outputs": [],
   "source": []
  }
 ],
 "metadata": {
  "kernelspec": {
   "display_name": "Python 3 (ipykernel)",
   "language": "python",
   "name": "python3"
  },
  "language_info": {
   "codemirror_mode": {
    "name": "ipython",
    "version": 3
   },
   "file_extension": ".py",
   "mimetype": "text/x-python",
   "name": "python",
   "nbconvert_exporter": "python",
   "pygments_lexer": "ipython3",
   "version": "3.9.13"
  }
 },
 "nbformat": 4,
 "nbformat_minor": 5
}
