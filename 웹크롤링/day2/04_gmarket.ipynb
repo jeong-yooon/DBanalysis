{
 "cells": [
  {
   "cell_type": "markdown",
   "id": "eb136fd8",
   "metadata": {},
   "source": [
    "### Gmarket\n",
    "- 베스트 상품 200개 데이터 수집\n",
    "- 상품의 이미지 200개 다운로드"
   ]
  },
  {
   "cell_type": "code",
   "execution_count": 1,
   "id": "22a776e8",
   "metadata": {},
   "outputs": [],
   "source": [
    "import pandas as pd\n",
    "import requests\n",
    "from bs4 import BeautifulSoup"
   ]
  },
  {
   "cell_type": "markdown",
   "id": "d0aec417",
   "metadata": {},
   "source": [
    "#### 1. URL 찾기"
   ]
  },
  {
   "cell_type": "code",
   "execution_count": 2,
   "id": "2677ed34",
   "metadata": {},
   "outputs": [],
   "source": [
    "url = 'https://corners.gmarket.co.kr/bestsellers'"
   ]
  },
  {
   "cell_type": "markdown",
   "id": "ba6511ba",
   "metadata": {},
   "source": [
    "#### 2. request > response : str(html)"
   ]
  },
  {
   "cell_type": "code",
   "execution_count": 3,
   "id": "4001ce14",
   "metadata": {},
   "outputs": [
    {
     "data": {
      "text/plain": [
       "<Response [200]>"
      ]
     },
     "execution_count": 3,
     "metadata": {},
     "output_type": "execute_result"
    }
   ],
   "source": [
    "response = requests.get(url)\n",
    "response"
   ]
  },
  {
   "cell_type": "markdown",
   "id": "7ca93942",
   "metadata": {},
   "source": [
    "#### 3. bs > DataFrame"
   ]
  },
  {
   "cell_type": "code",
   "execution_count": 5,
   "id": "cf4aab14",
   "metadata": {},
   "outputs": [],
   "source": [
    "dom = BeautifulSoup(response.text, 'html.parser')"
   ]
  },
  {
   "cell_type": "code",
   "execution_count": 10,
   "id": "632bcb95",
   "metadata": {},
   "outputs": [
    {
     "data": {
      "text/plain": [
       "200"
      ]
     },
     "execution_count": 10,
     "metadata": {},
     "output_type": "execute_result"
    }
   ],
   "source": [
    "elements = dom.select('#gBestWrap > div > div:nth-child(5) > div > ul > li')\n",
    "len(elements)\n",
    "\n",
    "#gBestWrap > div > div:nth-child(5) > div > ul > li"
   ]
  },
  {
   "cell_type": "code",
   "execution_count": 13,
   "id": "5dbbf71c",
   "metadata": {},
   "outputs": [],
   "source": [
    "element = elements[0]"
   ]
  },
  {
   "cell_type": "code",
   "execution_count": 22,
   "id": "78033fa9",
   "metadata": {},
   "outputs": [
    {
     "data": {
      "text/plain": [
       "{'title': '[매일유업]매일 상하멸균우유/케일주스/요미요미24팩모음',\n",
       " 'link': 'http://item.gmarket.co.kr/Item?goodscode=2628342593&ver=638122426423101645',\n",
       " 'img': 'http://gdimg.gmarket.co.kr/2628342593/still/300?ver=2023021714',\n",
       " 'o_price': '정가33,800원',\n",
       " 's_price': '할인가23,700원'}"
      ]
     },
     "execution_count": 22,
     "metadata": {},
     "output_type": "execute_result"
    }
   ],
   "source": [
    "data = {\n",
    "    'title' : element.select_one('.itemname').text,\n",
    "    'link' : element.select_one('.itemname').get('href'),\n",
    "    'img' : 'http:' +element.select_one('img').get('data-original'),\n",
    "    'o_price' : element.select_one('.o-price').text,\n",
    "    's_price' : element.select_one('.s-price').text.strip().split('\\n')[0],\n",
    "}\n",
    "data"
   ]
  },
  {
   "cell_type": "code",
   "execution_count": 25,
   "id": "698b580e",
   "metadata": {},
   "outputs": [
    {
     "data": {
      "text/html": [
       "<div>\n",
       "<style scoped>\n",
       "    .dataframe tbody tr th:only-of-type {\n",
       "        vertical-align: middle;\n",
       "    }\n",
       "\n",
       "    .dataframe tbody tr th {\n",
       "        vertical-align: top;\n",
       "    }\n",
       "\n",
       "    .dataframe thead th {\n",
       "        text-align: right;\n",
       "    }\n",
       "</style>\n",
       "<table border=\"1\" class=\"dataframe\">\n",
       "  <thead>\n",
       "    <tr style=\"text-align: right;\">\n",
       "      <th></th>\n",
       "      <th>title</th>\n",
       "      <th>link</th>\n",
       "      <th>img</th>\n",
       "      <th>o_price</th>\n",
       "      <th>s_price</th>\n",
       "    </tr>\n",
       "  </thead>\n",
       "  <tbody>\n",
       "    <tr>\n",
       "      <th>198</th>\n",
       "      <td>레인보우 중목 라인양말_10+10켤레 세트 (할인특가)</td>\n",
       "      <td>http://item.gmarket.co.kr/Item?goodscode=27936...</td>\n",
       "      <td>http://gdimg.gmarket.co.kr/2793644100/still/30...</td>\n",
       "      <td>정가43,000원</td>\n",
       "      <td>할인가12,900원</td>\n",
       "    </tr>\n",
       "    <tr>\n",
       "      <th>199</th>\n",
       "      <td>[길벗스쿨]길벗스쿨_언어천재 말놀이 세트(본책9권+꾸러미북1권+스티커북1권+말놀이 ...</td>\n",
       "      <td>http://item.gmarket.co.kr/Item?goodscode=27917...</td>\n",
       "      <td>http://gdimg.gmarket.co.kr/2791705618/still/30...</td>\n",
       "      <td>정가96,000원</td>\n",
       "      <td>할인가80,000원</td>\n",
       "    </tr>\n",
       "  </tbody>\n",
       "</table>\n",
       "</div>"
      ],
      "text/plain": [
       "                                                 title  \\\n",
       "198                     레인보우 중목 라인양말_10+10켤레 세트 (할인특가)   \n",
       "199  [길벗스쿨]길벗스쿨_언어천재 말놀이 세트(본책9권+꾸러미북1권+스티커북1권+말놀이 ...   \n",
       "\n",
       "                                                  link  \\\n",
       "198  http://item.gmarket.co.kr/Item?goodscode=27936...   \n",
       "199  http://item.gmarket.co.kr/Item?goodscode=27917...   \n",
       "\n",
       "                                                   img    o_price     s_price  \n",
       "198  http://gdimg.gmarket.co.kr/2793644100/still/30...  정가43,000원  할인가12,900원  \n",
       "199  http://gdimg.gmarket.co.kr/2791705618/still/30...  정가96,000원  할인가80,000원  "
      ]
     },
     "execution_count": 25,
     "metadata": {},
     "output_type": "execute_result"
    }
   ],
   "source": [
    "data = []\n",
    "for element in elements:\n",
    "    data.append({\n",
    "        'title' : element.select_one('.itemname').text,\n",
    "        'link' : element.select_one('.itemname').get('href'),\n",
    "        'img' : 'http:' +element.select_one('img').get('data-original'),\n",
    "        'o_price' : element.select_one('.o-price').text,\n",
    "        's_price' : element.select_one('.s-price').text.strip().split('\\n')[0],\n",
    "    })\n",
    "df = pd.DataFrame(data)\n",
    "df.tail(2)"
   ]
  },
  {
   "cell_type": "code",
   "execution_count": 28,
   "id": "3c4d6465",
   "metadata": {},
   "outputs": [
    {
     "data": {
      "text/html": [
       "<div>\n",
       "<style scoped>\n",
       "    .dataframe tbody tr th:only-of-type {\n",
       "        vertical-align: middle;\n",
       "    }\n",
       "\n",
       "    .dataframe tbody tr th {\n",
       "        vertical-align: top;\n",
       "    }\n",
       "\n",
       "    .dataframe thead th {\n",
       "        text-align: right;\n",
       "    }\n",
       "</style>\n",
       "<table border=\"1\" class=\"dataframe\">\n",
       "  <thead>\n",
       "    <tr style=\"text-align: right;\">\n",
       "      <th></th>\n",
       "      <th>title</th>\n",
       "      <th>link</th>\n",
       "      <th>img</th>\n",
       "      <th>o_price</th>\n",
       "      <th>s_price</th>\n",
       "    </tr>\n",
       "  </thead>\n",
       "  <tbody>\n",
       "    <tr>\n",
       "      <th>20</th>\n",
       "      <td>[압타밀]압타밀 프로푸트라 HMO 2단계 800g x 6통 세트</td>\n",
       "      <td>http://item.gmarket.co.kr/Item?goodscode=25037...</td>\n",
       "      <td>http://gdimg.gmarket.co.kr/2503772943/still/30...</td>\n",
       "      <td></td>\n",
       "      <td>할인가199,000원</td>\n",
       "    </tr>\n",
       "    <tr>\n",
       "      <th>21</th>\n",
       "      <td>[도루코]베이직 파스텔 주방가위 1+1특가(색상랜덤) + 집게증정 /우수한절삭력</td>\n",
       "      <td>http://item.gmarket.co.kr/Item?goodscode=21508...</td>\n",
       "      <td>http://gdimg.gmarket.co.kr/2150845686/still/30...</td>\n",
       "      <td></td>\n",
       "      <td>할인가7,900원</td>\n",
       "    </tr>\n",
       "    <tr>\n",
       "      <th>22</th>\n",
       "      <td>[일동후디스]후디스 아이음료 과자 모음전</td>\n",
       "      <td>http://item.gmarket.co.kr/Item?goodscode=22631...</td>\n",
       "      <td>http://gdimg.gmarket.co.kr/2263121320/still/30...</td>\n",
       "      <td>정가25,100원</td>\n",
       "      <td>할인가17,600원</td>\n",
       "    </tr>\n",
       "    <tr>\n",
       "      <th>23</th>\n",
       "      <td>도드람한돈 생 삼겹살 500g 구이용</td>\n",
       "      <td>http://item.gmarket.co.kr/Item?goodscode=14907...</td>\n",
       "      <td>http://gdimg.gmarket.co.kr/1490710179/still/30...</td>\n",
       "      <td></td>\n",
       "      <td>할인가11,800원</td>\n",
       "    </tr>\n",
       "    <tr>\n",
       "      <th>24</th>\n",
       "      <td>[구글플레이]기프트코드 5만원 / 구글 기프트카드</td>\n",
       "      <td>http://item.gmarket.co.kr/Item?goodscode=16552...</td>\n",
       "      <td>http://gdimg.gmarket.co.kr/1655242060/still/30...</td>\n",
       "      <td>정가50,000원</td>\n",
       "      <td>할인가47,500원</td>\n",
       "    </tr>\n",
       "    <tr>\n",
       "      <th>25</th>\n",
       "      <td>[닥터지]닥터지 블랙 스네일 달팽이크림 50ml 1+1_A005956</td>\n",
       "      <td>http://item.gmarket.co.kr/Item?goodscode=27324...</td>\n",
       "      <td>http://gdimg.gmarket.co.kr/2732477762/still/30...</td>\n",
       "      <td>정가26,300원</td>\n",
       "      <td>할인가24,200원</td>\n",
       "    </tr>\n",
       "    <tr>\n",
       "      <th>26</th>\n",
       "      <td>[오뚜기]오뚜기 가벼운참치 라이트스탠다드 135GX12개</td>\n",
       "      <td>http://item.gmarket.co.kr/Item?goodscode=25534...</td>\n",
       "      <td>http://gdimg.gmarket.co.kr/2553487898/still/30...</td>\n",
       "      <td>정가29,900원</td>\n",
       "      <td>할인가27,900원</td>\n",
       "    </tr>\n",
       "    <tr>\n",
       "      <th>27</th>\n",
       "      <td>아침이슬사과 22년 햇 부사 가정용 중대과 4.5kg(22과내)</td>\n",
       "      <td>http://item.gmarket.co.kr/Item?goodscode=26129...</td>\n",
       "      <td>http://gdimg.gmarket.co.kr/2612939665/still/30...</td>\n",
       "      <td>정가15,470원</td>\n",
       "      <td>할인가10,900원</td>\n",
       "    </tr>\n",
       "    <tr>\n",
       "      <th>28</th>\n",
       "      <td>쌈빡김치 국내산 100% 전라도 파김치 1kg</td>\n",
       "      <td>http://item.gmarket.co.kr/Item?goodscode=27851...</td>\n",
       "      <td>http://gdimg.gmarket.co.kr/2785125457/still/30...</td>\n",
       "      <td>정가15,000원</td>\n",
       "      <td>할인가10,000원</td>\n",
       "    </tr>\n",
       "    <tr>\n",
       "      <th>29</th>\n",
       "      <td>[풀무원]로스팅짜장 라면 4봉(파기름2봉+고추기름2봉)</td>\n",
       "      <td>http://item.gmarket.co.kr/Item?goodscode=23756...</td>\n",
       "      <td>http://gdimg.gmarket.co.kr/2375673537/still/30...</td>\n",
       "      <td>정가10,000원</td>\n",
       "      <td>할인가9,400원</td>\n",
       "    </tr>\n",
       "    <tr>\n",
       "      <th>30</th>\n",
       "      <td>[무궁화]때비누 3종 혼합(오곡3개+허니3개+참숯3개)</td>\n",
       "      <td>http://item.gmarket.co.kr/Item?goodscode=16489...</td>\n",
       "      <td>http://gdimg.gmarket.co.kr/1648956331/still/30...</td>\n",
       "      <td>정가15,800원</td>\n",
       "      <td>할인가7,900원</td>\n",
       "    </tr>\n",
       "    <tr>\n",
       "      <th>31</th>\n",
       "      <td>[물고기삼촌]양꼬치 양깍두기 양고기 1kg  + 쯔란1봉</td>\n",
       "      <td>http://item.gmarket.co.kr/Item?goodscode=19279...</td>\n",
       "      <td>http://gdimg.gmarket.co.kr/1927983843/still/30...</td>\n",
       "      <td></td>\n",
       "      <td>할인가25,900원</td>\n",
       "    </tr>\n",
       "    <tr>\n",
       "      <th>32</th>\n",
       "      <td>[올리빙]도트 스탠드 분리수거함 3단 다용도 수납함 105L</td>\n",
       "      <td>http://item.gmarket.co.kr/Item?goodscode=23972...</td>\n",
       "      <td>http://gdimg.gmarket.co.kr/2397297134/still/30...</td>\n",
       "      <td></td>\n",
       "      <td>할인가29,900원</td>\n",
       "    </tr>\n",
       "    <tr>\n",
       "      <th>33</th>\n",
       "      <td>문천식품 직화그릴 떡갈비 15팩(30장) 떡갈비 특가구성 단독특가</td>\n",
       "      <td>http://item.gmarket.co.kr/Item?goodscode=26658...</td>\n",
       "      <td>http://gdimg.gmarket.co.kr/2665894484/still/30...</td>\n",
       "      <td>정가22,200원</td>\n",
       "      <td>할인가19,980원</td>\n",
       "    </tr>\n",
       "    <tr>\n",
       "      <th>34</th>\n",
       "      <td>[G클럽]니트릴장갑 100매+100매(200매)_화이트 블루 그레이 베이직블랙 요리...</td>\n",
       "      <td>http://item.gmarket.co.kr/Item?goodscode=27334...</td>\n",
       "      <td>http://gdimg.gmarket.co.kr/2733484740/still/30...</td>\n",
       "      <td></td>\n",
       "      <td>할인가10,500원</td>\n",
       "    </tr>\n",
       "    <tr>\n",
       "      <th>35</th>\n",
       "      <td>[센텔리안24]동국제약 센텔리안24 마데카 링클캡처 스틱 2개 최종혜택가 13900원</td>\n",
       "      <td>http://item.gmarket.co.kr/Item?goodscode=27623...</td>\n",
       "      <td>http://gdimg.gmarket.co.kr/2762352402/still/30...</td>\n",
       "      <td>정가16,900원</td>\n",
       "      <td>할인가15,440원</td>\n",
       "    </tr>\n",
       "    <tr>\n",
       "      <th>36</th>\n",
       "      <td>[깨끗한나라]깨끗한나라 (단독방송) 니가 필요해 화장지 30롤 X 3팩 세트 총 90롤</td>\n",
       "      <td>http://item.gmarket.co.kr/Item?goodscode=27704...</td>\n",
       "      <td>http://gdimg.gmarket.co.kr/2770486099/still/30...</td>\n",
       "      <td>정가39,900원</td>\n",
       "      <td>할인가36,110원</td>\n",
       "    </tr>\n",
       "    <tr>\n",
       "      <th>37</th>\n",
       "      <td>정육생활 최현석의 부채살 구이용 200g x 4팩 (중복쿠폰가21200)+우삼겹20...</td>\n",
       "      <td>http://item.gmarket.co.kr/Item?goodscode=26198...</td>\n",
       "      <td>http://gdimg.gmarket.co.kr/2619820926/still/30...</td>\n",
       "      <td></td>\n",
       "      <td>할인가26,500원</td>\n",
       "    </tr>\n",
       "    <tr>\n",
       "      <th>38</th>\n",
       "      <td>[일양약품]닥터메디프 600 자석 동전 파스 패치 90매 1박스 (사은품증정)130...</td>\n",
       "      <td>http://item.gmarket.co.kr/Item?goodscode=27420...</td>\n",
       "      <td>http://gdimg.gmarket.co.kr/2742067082/still/30...</td>\n",
       "      <td>정가25,800원</td>\n",
       "      <td>할인가11,610원</td>\n",
       "    </tr>\n",
       "    <tr>\n",
       "      <th>39</th>\n",
       "      <td>씨투엠에듀 씨투엠 수학독해 단계별 세트 선택구매 / 하루10분 서술형 문장제 학습지</td>\n",
       "      <td>http://item.gmarket.co.kr/Item?goodscode=14818...</td>\n",
       "      <td>http://gdimg.gmarket.co.kr/1481853791/still/30...</td>\n",
       "      <td>정가50,000원</td>\n",
       "      <td>할인가28,000원</td>\n",
       "    </tr>\n",
       "  </tbody>\n",
       "</table>\n",
       "</div>"
      ],
      "text/plain": [
       "                                                title  \\\n",
       "20                [압타밀]압타밀 프로푸트라 HMO 2단계 800g x 6통 세트   \n",
       "21       [도루코]베이직 파스텔 주방가위 1+1특가(색상랜덤) + 집게증정 /우수한절삭력   \n",
       "22                             [일동후디스]후디스 아이음료 과자 모음전   \n",
       "23                               도드람한돈 생 삼겹살 500g 구이용   \n",
       "24                        [구글플레이]기프트코드 5만원 / 구글 기프트카드   \n",
       "25             [닥터지]닥터지 블랙 스네일 달팽이크림 50ml 1+1_A005956   \n",
       "26                    [오뚜기]오뚜기 가벼운참치 라이트스탠다드 135GX12개   \n",
       "27                아침이슬사과 22년 햇 부사 가정용 중대과 4.5kg(22과내)   \n",
       "28                          쌈빡김치 국내산 100% 전라도 파김치 1kg   \n",
       "29                     [풀무원]로스팅짜장 라면 4봉(파기름2봉+고추기름2봉)   \n",
       "30                     [무궁화]때비누 3종 혼합(오곡3개+허니3개+참숯3개)   \n",
       "31                    [물고기삼촌]양꼬치 양깍두기 양고기 1kg  + 쯔란1봉   \n",
       "32                  [올리빙]도트 스탠드 분리수거함 3단 다용도 수납함 105L   \n",
       "33               문천식품 직화그릴 떡갈비 15팩(30장) 떡갈비 특가구성 단독특가   \n",
       "34  [G클럽]니트릴장갑 100매+100매(200매)_화이트 블루 그레이 베이직블랙 요리...   \n",
       "35    [센텔리안24]동국제약 센텔리안24 마데카 링클캡처 스틱 2개 최종혜택가 13900원   \n",
       "36   [깨끗한나라]깨끗한나라 (단독방송) 니가 필요해 화장지 30롤 X 3팩 세트 총 90롤   \n",
       "37  정육생활 최현석의 부채살 구이용 200g x 4팩 (중복쿠폰가21200)+우삼겹20...   \n",
       "38  [일양약품]닥터메디프 600 자석 동전 파스 패치 90매 1박스 (사은품증정)130...   \n",
       "39     씨투엠에듀 씨투엠 수학독해 단계별 세트 선택구매 / 하루10분 서술형 문장제 학습지   \n",
       "\n",
       "                                                 link  \\\n",
       "20  http://item.gmarket.co.kr/Item?goodscode=25037...   \n",
       "21  http://item.gmarket.co.kr/Item?goodscode=21508...   \n",
       "22  http://item.gmarket.co.kr/Item?goodscode=22631...   \n",
       "23  http://item.gmarket.co.kr/Item?goodscode=14907...   \n",
       "24  http://item.gmarket.co.kr/Item?goodscode=16552...   \n",
       "25  http://item.gmarket.co.kr/Item?goodscode=27324...   \n",
       "26  http://item.gmarket.co.kr/Item?goodscode=25534...   \n",
       "27  http://item.gmarket.co.kr/Item?goodscode=26129...   \n",
       "28  http://item.gmarket.co.kr/Item?goodscode=27851...   \n",
       "29  http://item.gmarket.co.kr/Item?goodscode=23756...   \n",
       "30  http://item.gmarket.co.kr/Item?goodscode=16489...   \n",
       "31  http://item.gmarket.co.kr/Item?goodscode=19279...   \n",
       "32  http://item.gmarket.co.kr/Item?goodscode=23972...   \n",
       "33  http://item.gmarket.co.kr/Item?goodscode=26658...   \n",
       "34  http://item.gmarket.co.kr/Item?goodscode=27334...   \n",
       "35  http://item.gmarket.co.kr/Item?goodscode=27623...   \n",
       "36  http://item.gmarket.co.kr/Item?goodscode=27704...   \n",
       "37  http://item.gmarket.co.kr/Item?goodscode=26198...   \n",
       "38  http://item.gmarket.co.kr/Item?goodscode=27420...   \n",
       "39  http://item.gmarket.co.kr/Item?goodscode=14818...   \n",
       "\n",
       "                                                  img    o_price      s_price  \n",
       "20  http://gdimg.gmarket.co.kr/2503772943/still/30...             할인가199,000원  \n",
       "21  http://gdimg.gmarket.co.kr/2150845686/still/30...               할인가7,900원  \n",
       "22  http://gdimg.gmarket.co.kr/2263121320/still/30...  정가25,100원   할인가17,600원  \n",
       "23  http://gdimg.gmarket.co.kr/1490710179/still/30...              할인가11,800원  \n",
       "24  http://gdimg.gmarket.co.kr/1655242060/still/30...  정가50,000원   할인가47,500원  \n",
       "25  http://gdimg.gmarket.co.kr/2732477762/still/30...  정가26,300원   할인가24,200원  \n",
       "26  http://gdimg.gmarket.co.kr/2553487898/still/30...  정가29,900원   할인가27,900원  \n",
       "27  http://gdimg.gmarket.co.kr/2612939665/still/30...  정가15,470원   할인가10,900원  \n",
       "28  http://gdimg.gmarket.co.kr/2785125457/still/30...  정가15,000원   할인가10,000원  \n",
       "29  http://gdimg.gmarket.co.kr/2375673537/still/30...  정가10,000원    할인가9,400원  \n",
       "30  http://gdimg.gmarket.co.kr/1648956331/still/30...  정가15,800원    할인가7,900원  \n",
       "31  http://gdimg.gmarket.co.kr/1927983843/still/30...              할인가25,900원  \n",
       "32  http://gdimg.gmarket.co.kr/2397297134/still/30...              할인가29,900원  \n",
       "33  http://gdimg.gmarket.co.kr/2665894484/still/30...  정가22,200원   할인가19,980원  \n",
       "34  http://gdimg.gmarket.co.kr/2733484740/still/30...              할인가10,500원  \n",
       "35  http://gdimg.gmarket.co.kr/2762352402/still/30...  정가16,900원   할인가15,440원  \n",
       "36  http://gdimg.gmarket.co.kr/2770486099/still/30...  정가39,900원   할인가36,110원  \n",
       "37  http://gdimg.gmarket.co.kr/2619820926/still/30...              할인가26,500원  \n",
       "38  http://gdimg.gmarket.co.kr/2742067082/still/30...  정가25,800원   할인가11,610원  \n",
       "39  http://gdimg.gmarket.co.kr/1481853791/still/30...  정가50,000원   할인가28,000원  "
      ]
     },
     "execution_count": 28,
     "metadata": {},
     "output_type": "execute_result"
    }
   ],
   "source": [
    "df[20:40]"
   ]
  },
  {
   "cell_type": "code",
   "execution_count": 36,
   "id": "d2523cb9",
   "metadata": {},
   "outputs": [
    {
     "data": {
      "text/html": [
       "<div>\n",
       "<style scoped>\n",
       "    .dataframe tbody tr th:only-of-type {\n",
       "        vertical-align: middle;\n",
       "    }\n",
       "\n",
       "    .dataframe tbody tr th {\n",
       "        vertical-align: top;\n",
       "    }\n",
       "\n",
       "    .dataframe thead th {\n",
       "        text-align: right;\n",
       "    }\n",
       "</style>\n",
       "<table border=\"1\" class=\"dataframe\">\n",
       "  <thead>\n",
       "    <tr style=\"text-align: right;\">\n",
       "      <th></th>\n",
       "      <th>title</th>\n",
       "      <th>link</th>\n",
       "      <th>img</th>\n",
       "      <th>o_price</th>\n",
       "      <th>s_price</th>\n",
       "    </tr>\n",
       "  </thead>\n",
       "  <tbody>\n",
       "    <tr>\n",
       "      <th>20</th>\n",
       "      <td>[압타밀]압타밀 프로푸트라 HMO 2단계 800g x 6통 세트</td>\n",
       "      <td>http://item.gmarket.co.kr/Item?goodscode=25037...</td>\n",
       "      <td>http://gdimg.gmarket.co.kr/2503772943/still/30...</td>\n",
       "      <td>할인가199,000원</td>\n",
       "      <td>할인가199,000원</td>\n",
       "    </tr>\n",
       "    <tr>\n",
       "      <th>21</th>\n",
       "      <td>[도루코]베이직 파스텔 주방가위 1+1특가(색상랜덤) + 집게증정 /우수한절삭력</td>\n",
       "      <td>http://item.gmarket.co.kr/Item?goodscode=21508...</td>\n",
       "      <td>http://gdimg.gmarket.co.kr/2150845686/still/30...</td>\n",
       "      <td>할인가7,900원</td>\n",
       "      <td>할인가7,900원</td>\n",
       "    </tr>\n",
       "    <tr>\n",
       "      <th>22</th>\n",
       "      <td>[일동후디스]후디스 아이음료 과자 모음전</td>\n",
       "      <td>http://item.gmarket.co.kr/Item?goodscode=22631...</td>\n",
       "      <td>http://gdimg.gmarket.co.kr/2263121320/still/30...</td>\n",
       "      <td>정가25,100원</td>\n",
       "      <td>할인가17,600원</td>\n",
       "    </tr>\n",
       "    <tr>\n",
       "      <th>23</th>\n",
       "      <td>도드람한돈 생 삼겹살 500g 구이용</td>\n",
       "      <td>http://item.gmarket.co.kr/Item?goodscode=14907...</td>\n",
       "      <td>http://gdimg.gmarket.co.kr/1490710179/still/30...</td>\n",
       "      <td>할인가11,800원</td>\n",
       "      <td>할인가11,800원</td>\n",
       "    </tr>\n",
       "    <tr>\n",
       "      <th>24</th>\n",
       "      <td>[구글플레이]기프트코드 5만원 / 구글 기프트카드</td>\n",
       "      <td>http://item.gmarket.co.kr/Item?goodscode=16552...</td>\n",
       "      <td>http://gdimg.gmarket.co.kr/1655242060/still/30...</td>\n",
       "      <td>정가50,000원</td>\n",
       "      <td>할인가47,500원</td>\n",
       "    </tr>\n",
       "  </tbody>\n",
       "</table>\n",
       "</div>"
      ],
      "text/plain": [
       "                                           title  \\\n",
       "20           [압타밀]압타밀 프로푸트라 HMO 2단계 800g x 6통 세트   \n",
       "21  [도루코]베이직 파스텔 주방가위 1+1특가(색상랜덤) + 집게증정 /우수한절삭력   \n",
       "22                        [일동후디스]후디스 아이음료 과자 모음전   \n",
       "23                          도드람한돈 생 삼겹살 500g 구이용   \n",
       "24                   [구글플레이]기프트코드 5만원 / 구글 기프트카드   \n",
       "\n",
       "                                                 link  \\\n",
       "20  http://item.gmarket.co.kr/Item?goodscode=25037...   \n",
       "21  http://item.gmarket.co.kr/Item?goodscode=21508...   \n",
       "22  http://item.gmarket.co.kr/Item?goodscode=22631...   \n",
       "23  http://item.gmarket.co.kr/Item?goodscode=14907...   \n",
       "24  http://item.gmarket.co.kr/Item?goodscode=16552...   \n",
       "\n",
       "                                                  img      o_price  \\\n",
       "20  http://gdimg.gmarket.co.kr/2503772943/still/30...  할인가199,000원   \n",
       "21  http://gdimg.gmarket.co.kr/2150845686/still/30...    할인가7,900원   \n",
       "22  http://gdimg.gmarket.co.kr/2263121320/still/30...    정가25,100원   \n",
       "23  http://gdimg.gmarket.co.kr/1490710179/still/30...   할인가11,800원   \n",
       "24  http://gdimg.gmarket.co.kr/1655242060/still/30...    정가50,000원   \n",
       "\n",
       "        s_price  \n",
       "20  할인가199,000원  \n",
       "21    할인가7,900원  \n",
       "22   할인가17,600원  \n",
       "23   할인가11,800원  \n",
       "24   할인가47,500원  "
      ]
     },
     "execution_count": 36,
     "metadata": {},
     "output_type": "execute_result"
    }
   ],
   "source": [
    "# update : 데이터 선택 = 수정할데이터\n",
    "idx = df[df['o_price'] == ''].index\n",
    "# df['s_price'].loc[idx]\n",
    "df['o_price'].loc[idx] = df['s_price'].loc[idx]\n",
    "df[20:40].head()"
   ]
  },
  {
   "cell_type": "code",
   "execution_count": null,
   "id": "d67cdf4c",
   "metadata": {},
   "outputs": [],
   "source": [
    "# regex : 정규표현식\n",
    "# 문자열 데이터를 특정 패턴으로 처리할 때"
   ]
  },
  {
   "cell_type": "code",
   "execution_count": 42,
   "id": "22ae4a9e",
   "metadata": {},
   "outputs": [
    {
     "data": {
      "text/plain": [
       "'11,800'"
      ]
     },
     "execution_count": 42,
     "metadata": {},
     "output_type": "execute_result"
    }
   ],
   "source": [
    "import re\n",
    "price = '할인가11,800원'\n",
    "re.findall('[0-9,]+', price)[0]"
   ]
  },
  {
   "cell_type": "code",
   "execution_count": 43,
   "id": "4072bd59",
   "metadata": {},
   "outputs": [
    {
     "data": {
      "text/html": [
       "<div>\n",
       "<style scoped>\n",
       "    .dataframe tbody tr th:only-of-type {\n",
       "        vertical-align: middle;\n",
       "    }\n",
       "\n",
       "    .dataframe tbody tr th {\n",
       "        vertical-align: top;\n",
       "    }\n",
       "\n",
       "    .dataframe thead th {\n",
       "        text-align: right;\n",
       "    }\n",
       "</style>\n",
       "<table border=\"1\" class=\"dataframe\">\n",
       "  <thead>\n",
       "    <tr style=\"text-align: right;\">\n",
       "      <th></th>\n",
       "      <th>title</th>\n",
       "      <th>link</th>\n",
       "      <th>img</th>\n",
       "      <th>o_price</th>\n",
       "      <th>s_price</th>\n",
       "    </tr>\n",
       "  </thead>\n",
       "  <tbody>\n",
       "    <tr>\n",
       "      <th>198</th>\n",
       "      <td>레인보우 중목 라인양말_10+10켤레 세트 (할인특가)</td>\n",
       "      <td>http://item.gmarket.co.kr/Item?goodscode=27936...</td>\n",
       "      <td>http://gdimg.gmarket.co.kr/2793644100/still/30...</td>\n",
       "      <td>43,000</td>\n",
       "      <td>12,900</td>\n",
       "    </tr>\n",
       "    <tr>\n",
       "      <th>199</th>\n",
       "      <td>[길벗스쿨]길벗스쿨_언어천재 말놀이 세트(본책9권+꾸러미북1권+스티커북1권+말놀이 ...</td>\n",
       "      <td>http://item.gmarket.co.kr/Item?goodscode=27917...</td>\n",
       "      <td>http://gdimg.gmarket.co.kr/2791705618/still/30...</td>\n",
       "      <td>96,000</td>\n",
       "      <td>80,000</td>\n",
       "    </tr>\n",
       "  </tbody>\n",
       "</table>\n",
       "</div>"
      ],
      "text/plain": [
       "                                                 title  \\\n",
       "198                     레인보우 중목 라인양말_10+10켤레 세트 (할인특가)   \n",
       "199  [길벗스쿨]길벗스쿨_언어천재 말놀이 세트(본책9권+꾸러미북1권+스티커북1권+말놀이 ...   \n",
       "\n",
       "                                                  link  \\\n",
       "198  http://item.gmarket.co.kr/Item?goodscode=27936...   \n",
       "199  http://item.gmarket.co.kr/Item?goodscode=27917...   \n",
       "\n",
       "                                                   img o_price s_price  \n",
       "198  http://gdimg.gmarket.co.kr/2793644100/still/30...  43,000  12,900  \n",
       "199  http://gdimg.gmarket.co.kr/2791705618/still/30...  96,000  80,000  "
      ]
     },
     "execution_count": 43,
     "metadata": {},
     "output_type": "execute_result"
    }
   ],
   "source": [
    "df['o_price'] = df['o_price'].apply(lambda price: re.findall('[0-9,]+',price)[0])\n",
    "df['s_price'] = df['s_price'].apply(lambda price: re.findall('[0-9,]+',price)[0])\n",
    "df.tail(2)"
   ]
  },
  {
   "cell_type": "code",
   "execution_count": 44,
   "id": "582334ed",
   "metadata": {},
   "outputs": [
    {
     "data": {
      "text/plain": [
       "['chjy1819@gmail.com', 'chjy1819@naver.com']"
      ]
     },
     "execution_count": 44,
     "metadata": {},
     "output_type": "execute_result"
    }
   ],
   "source": [
    "txt = '저의 이메일 주소는 chjy1819@gmail.com과 chjy1819@naver.com입니다.'\n",
    "re.findall('[a-zA-Z0-9.]+@[a-z]+\\.[a-z]+', txt)"
   ]
  },
  {
   "cell_type": "markdown",
   "id": "3aa5186a",
   "metadata": {},
   "source": [
    "#### 4. download image"
   ]
  },
  {
   "cell_type": "code",
   "execution_count": 45,
   "id": "f1d4a3ef",
   "metadata": {},
   "outputs": [
    {
     "data": {
      "text/html": [
       "<div>\n",
       "<style scoped>\n",
       "    .dataframe tbody tr th:only-of-type {\n",
       "        vertical-align: middle;\n",
       "    }\n",
       "\n",
       "    .dataframe tbody tr th {\n",
       "        vertical-align: top;\n",
       "    }\n",
       "\n",
       "    .dataframe thead th {\n",
       "        text-align: right;\n",
       "    }\n",
       "</style>\n",
       "<table border=\"1\" class=\"dataframe\">\n",
       "  <thead>\n",
       "    <tr style=\"text-align: right;\">\n",
       "      <th></th>\n",
       "      <th>title</th>\n",
       "      <th>link</th>\n",
       "      <th>img</th>\n",
       "      <th>o_price</th>\n",
       "      <th>s_price</th>\n",
       "    </tr>\n",
       "  </thead>\n",
       "  <tbody>\n",
       "    <tr>\n",
       "      <th>0</th>\n",
       "      <td>[매일유업]매일 상하멸균우유/케일주스/요미요미24팩모음</td>\n",
       "      <td>http://item.gmarket.co.kr/Item?goodscode=26283...</td>\n",
       "      <td>http://gdimg.gmarket.co.kr/2628342593/still/30...</td>\n",
       "      <td>33,800</td>\n",
       "      <td>23,700</td>\n",
       "    </tr>\n",
       "    <tr>\n",
       "      <th>1</th>\n",
       "      <td>[피셔프라이스]피셔프라이스 러닝 푸드트럭</td>\n",
       "      <td>http://item.gmarket.co.kr/Item?goodscode=19985...</td>\n",
       "      <td>http://gdimg.gmarket.co.kr/1998535842/still/30...</td>\n",
       "      <td>210,000</td>\n",
       "      <td>99,000</td>\n",
       "    </tr>\n",
       "    <tr>\n",
       "      <th>2</th>\n",
       "      <td>[나이키키즈](대구신세계)[나이키키즈] (105~170) 조던 썸머 상/하의세트 세일가</td>\n",
       "      <td>http://item.gmarket.co.kr/Item?goodscode=27728...</td>\n",
       "      <td>http://gdimg.gmarket.co.kr/2772877848/still/30...</td>\n",
       "      <td>58,000</td>\n",
       "      <td>45,820</td>\n",
       "    </tr>\n",
       "    <tr>\n",
       "      <th>3</th>\n",
       "      <td>(지오지아)사계절 테이퍼드/와이드핏 슬랙스  치노팬츠 10종 택1</td>\n",
       "      <td>http://item.gmarket.co.kr/Item?goodscode=27678...</td>\n",
       "      <td>http://gdimg.gmarket.co.kr/2767818438/still/30...</td>\n",
       "      <td>32,000</td>\n",
       "      <td>24,640</td>\n",
       "    </tr>\n",
       "    <tr>\n",
       "      <th>4</th>\n",
       "      <td>[플랙]남성 데님 팬츠 6종 택1(PJTT5MLD731외5종)</td>\n",
       "      <td>http://item.gmarket.co.kr/Item?goodscode=27808...</td>\n",
       "      <td>http://gdimg.gmarket.co.kr/2780877061/still/30...</td>\n",
       "      <td>69,000</td>\n",
       "      <td>50,370</td>\n",
       "    </tr>\n",
       "    <tr>\n",
       "      <th>...</th>\n",
       "      <td>...</td>\n",
       "      <td>...</td>\n",
       "      <td>...</td>\n",
       "      <td>...</td>\n",
       "      <td>...</td>\n",
       "    </tr>\n",
       "    <tr>\n",
       "      <th>195</th>\n",
       "      <td>(깨비농원) 한라봉 4kg 가정용(크기랜덤)</td>\n",
       "      <td>http://item.gmarket.co.kr/Item?goodscode=27748...</td>\n",
       "      <td>http://gdimg.gmarket.co.kr/2774808274/still/30...</td>\n",
       "      <td>25,870</td>\n",
       "      <td>18,900</td>\n",
       "    </tr>\n",
       "    <tr>\n",
       "      <th>196</th>\n",
       "      <td>[압타밀]압타밀 프로푸트라 1단계 800g 4통 세트 독일내수용 / 빠른배송 / 최신제품</td>\n",
       "      <td>http://item.gmarket.co.kr/Item?goodscode=27748...</td>\n",
       "      <td>http://gdimg.gmarket.co.kr/2774807080/still/30...</td>\n",
       "      <td>149,800</td>\n",
       "      <td>143,060</td>\n",
       "    </tr>\n",
       "    <tr>\n",
       "      <th>197</th>\n",
       "      <td>2세대 코코맘 이동식트롤리 기저귀정리함 3단 캡형</td>\n",
       "      <td>http://item.gmarket.co.kr/Item?goodscode=27623...</td>\n",
       "      <td>http://gdimg.gmarket.co.kr/2762398385/still/30...</td>\n",
       "      <td>51,900</td>\n",
       "      <td>44,900</td>\n",
       "    </tr>\n",
       "    <tr>\n",
       "      <th>198</th>\n",
       "      <td>레인보우 중목 라인양말_10+10켤레 세트 (할인특가)</td>\n",
       "      <td>http://item.gmarket.co.kr/Item?goodscode=27936...</td>\n",
       "      <td>http://gdimg.gmarket.co.kr/2793644100/still/30...</td>\n",
       "      <td>43,000</td>\n",
       "      <td>12,900</td>\n",
       "    </tr>\n",
       "    <tr>\n",
       "      <th>199</th>\n",
       "      <td>[길벗스쿨]길벗스쿨_언어천재 말놀이 세트(본책9권+꾸러미북1권+스티커북1권+말놀이 ...</td>\n",
       "      <td>http://item.gmarket.co.kr/Item?goodscode=27917...</td>\n",
       "      <td>http://gdimg.gmarket.co.kr/2791705618/still/30...</td>\n",
       "      <td>96,000</td>\n",
       "      <td>80,000</td>\n",
       "    </tr>\n",
       "  </tbody>\n",
       "</table>\n",
       "<p>200 rows × 5 columns</p>\n",
       "</div>"
      ],
      "text/plain": [
       "                                                 title  \\\n",
       "0                       [매일유업]매일 상하멸균우유/케일주스/요미요미24팩모음   \n",
       "1                               [피셔프라이스]피셔프라이스 러닝 푸드트럭   \n",
       "2     [나이키키즈](대구신세계)[나이키키즈] (105~170) 조던 썸머 상/하의세트 세일가   \n",
       "3                 (지오지아)사계절 테이퍼드/와이드핏 슬랙스  치노팬츠 10종 택1   \n",
       "4                   [플랙]남성 데님 팬츠 6종 택1(PJTT5MLD731외5종)   \n",
       "..                                                 ...   \n",
       "195                           (깨비농원) 한라봉 4kg 가정용(크기랜덤)   \n",
       "196  [압타밀]압타밀 프로푸트라 1단계 800g 4통 세트 독일내수용 / 빠른배송 / 최신제품   \n",
       "197                        2세대 코코맘 이동식트롤리 기저귀정리함 3단 캡형   \n",
       "198                     레인보우 중목 라인양말_10+10켤레 세트 (할인특가)   \n",
       "199  [길벗스쿨]길벗스쿨_언어천재 말놀이 세트(본책9권+꾸러미북1권+스티커북1권+말놀이 ...   \n",
       "\n",
       "                                                  link  \\\n",
       "0    http://item.gmarket.co.kr/Item?goodscode=26283...   \n",
       "1    http://item.gmarket.co.kr/Item?goodscode=19985...   \n",
       "2    http://item.gmarket.co.kr/Item?goodscode=27728...   \n",
       "3    http://item.gmarket.co.kr/Item?goodscode=27678...   \n",
       "4    http://item.gmarket.co.kr/Item?goodscode=27808...   \n",
       "..                                                 ...   \n",
       "195  http://item.gmarket.co.kr/Item?goodscode=27748...   \n",
       "196  http://item.gmarket.co.kr/Item?goodscode=27748...   \n",
       "197  http://item.gmarket.co.kr/Item?goodscode=27623...   \n",
       "198  http://item.gmarket.co.kr/Item?goodscode=27936...   \n",
       "199  http://item.gmarket.co.kr/Item?goodscode=27917...   \n",
       "\n",
       "                                                   img  o_price  s_price  \n",
       "0    http://gdimg.gmarket.co.kr/2628342593/still/30...   33,800   23,700  \n",
       "1    http://gdimg.gmarket.co.kr/1998535842/still/30...  210,000   99,000  \n",
       "2    http://gdimg.gmarket.co.kr/2772877848/still/30...   58,000   45,820  \n",
       "3    http://gdimg.gmarket.co.kr/2767818438/still/30...   32,000   24,640  \n",
       "4    http://gdimg.gmarket.co.kr/2780877061/still/30...   69,000   50,370  \n",
       "..                                                 ...      ...      ...  \n",
       "195  http://gdimg.gmarket.co.kr/2774808274/still/30...   25,870   18,900  \n",
       "196  http://gdimg.gmarket.co.kr/2774807080/still/30...  149,800  143,060  \n",
       "197  http://gdimg.gmarket.co.kr/2762398385/still/30...   51,900   44,900  \n",
       "198  http://gdimg.gmarket.co.kr/2793644100/still/30...   43,000   12,900  \n",
       "199  http://gdimg.gmarket.co.kr/2791705618/still/30...   96,000   80,000  \n",
       "\n",
       "[200 rows x 5 columns]"
      ]
     },
     "execution_count": 45,
     "metadata": {},
     "output_type": "execute_result"
    }
   ],
   "source": [
    "df"
   ]
  },
  {
   "cell_type": "code",
   "execution_count": 49,
   "id": "acb63beb",
   "metadata": {},
   "outputs": [],
   "source": [
    "import os\n",
    "dir_name = 'data'\n",
    "if not os.path.exists(dir_name):\n",
    "    os.makedirs(dir_name)"
   ]
  },
  {
   "cell_type": "code",
   "execution_count": 50,
   "id": "3771e45d",
   "metadata": {},
   "outputs": [
    {
     "name": "stdout",
     "output_type": "stream",
     "text": [
      " C 드라이브의 볼륨에는 이름이 없습니다.\n",
      " 볼륨 일련 번호: 54BB-5177\n",
      "\n",
      " C:\\Users\\User\\웹크롤링\\day2 디렉터리\n",
      "\n",
      "2023-02-17  오후 03:48    <DIR>          .\n",
      "2023-02-17  오후 03:48    <DIR>          ..\n",
      "2023-02-17  오후 02:54    <DIR>          .ipynb_checkpoints\n",
      "2023-02-17  오후 01:40            19,195 01_html.ipynb\n",
      "2023-02-17  오후 02:10            12,683 02_css_selector.ipynb\n",
      "2023-02-17  오후 02:51             9,640 03_naver_relational_keywords.ipynb\n",
      "2023-02-17  오후 03:48            41,712 04_gmarket.ipynb\n",
      "2023-02-13  오후 05:30             2,427 05_selenium.ipynb\n",
      "2023-02-17  오후 03:48    <DIR>          data\n",
      "               5개 파일              85,657 바이트\n",
      "               4개 디렉터리  147,498,606,592 바이트 남음\n"
     ]
    }
   ],
   "source": [
    "%ls"
   ]
  },
  {
   "cell_type": "code",
   "execution_count": 51,
   "id": "c0f74e61",
   "metadata": {},
   "outputs": [
    {
     "name": "stdout",
     "output_type": "stream",
     "text": [
      "http://gdimg.gmarket.co.kr/2628342593/still/300?ver=2023021714\n"
     ]
    }
   ],
   "source": [
    "img_link = df.loc[0, 'img']\n",
    "print(img_link)"
   ]
  },
  {
   "cell_type": "code",
   "execution_count": 52,
   "id": "5b07896f",
   "metadata": {},
   "outputs": [
    {
     "data": {
      "text/plain": [
       "<Response [200]>"
      ]
     },
     "execution_count": 52,
     "metadata": {},
     "output_type": "execute_result"
    }
   ],
   "source": [
    "response = requests.get(img_link)\n",
    "response"
   ]
  },
  {
   "cell_type": "code",
   "execution_count": 53,
   "id": "30e58397",
   "metadata": {},
   "outputs": [
    {
     "data": {
      "text/plain": [
       "'����\\x00\\x10JFIF\\x00\\x01\\x01\\x00\\x00\\x01\\x00\\x01\\x00\\x00��\\x00HPhotoshop 3.0\\x008BIM\\x04\\x04\\x00\\x00\\x00\\x00\\x00\\x0f\\x1c\\x01Z\\x00\\x03\\x1b%G\\x1c\\x02\\x00\\x00\\x02\\x00\\x02\\x008BIM\\x04%\\x00\\x00\\x00\\x00\\x00\\x10��\\x1f�ȷ�x/4b4\\x07Xw���\\x00\\x18Exif\\x00\\x00II*\\x00\\x08\\x00\\x00\\x00\\x00\\x00\\x00\\x00\\x00\\x00\\x00\\x00��\\x03�http://ns.adobe.com/xap/1.0/\\x00<?xpacket begin=\"\\ufeff\" id=\"W5M0MpCehiHzreSzNTczkc9d\"?> <x:xmpmeta xmlns:x=\"adobe:ns:meta/\" x:xmptk=\"Adobe XMP Core 7.1-c000 79.dabacbb, 2021/04/14-00:39:44        \"> <rdf:RDF xmlns:rdf=\"http://www.w3.org/1999/02/22-rdf-syntax-ns#\"> <rdf:Description rdf:about=\"\" xmlns:xmpMM=\"http://ns.adobe.com/xap/1.0/mm/\" xmlns:stRef=\"http://ns.adobe.com/xap/1.0/sType/ResourceRef#\" xmlns:xmp=\"http://ns.adobe.com/xap/1.0/\" xmpMM:OriginalDocumentID=\"BF0887C7F4A5F7A85C3813F610EAA930\" xmpMM:DocumentID=\"xmp.did:12FAFD9DABFF11EDB3A18515048A3C38\" xmpMM:InstanceID=\"xmp.iid:12FAFD9CABFF11EDB3A18515048A3C38\" xmp:CreatorTool=\"Adobe Photoshop CC 2017 (Windows)\"> <xmpMM:DerivedFrom stRef:instanceID=\"xmp.iid:f81e160d-e993-f34c-a971-1ab98f17e62f\" stRef:documentID=\"adobe:docid:photoshop:c4f65f75-5c8c-054d-84e1-a053cf72c0b5\"/> </rdf:Description> </rdf:RDF> </x:xmpmeta> <?xpacket end=\"r\"?>��\\x00C\\x00\\x03\\x02\\x02\\x03\\x02\\x02\\x03\\x03\\x02\\x03\\x03\\x03\\x03\\x03\\x04\\x07\\x05\\x04\\x04\\x04\\x04\\t\\x06\\x07\\x05\\x07\\n\\t\\x0b\\x0b\\n\\t\\n\\n\\x0c\\r\\x11\\x0e\\x0c\\x0c\\x10\\x0c\\n\\n\\x0e\\x14\\x0f\\x10\\x11\\x12\\x13\\x13\\x13\\x0b\\x0e\\x14\\x16\\x14\\x12\\x16\\x11\\x12\\x13\\x12��\\x00C\\x01\\x03\\x03\\x03\\x04\\x04\\x04\\x08\\x05\\x05\\x08\\x12\\x0c\\n\\x0c\\x12\\x12\\x12\\x12\\x12\\x12\\x12\\x12\\x12\\x12\\x12\\x12\\x12\\x12\\x12\\x12\\x12\\x12\\x12\\x12\\x12\\x12\\x12\\x12\\x12\\x12\\x12\\x12\\x12\\x12\\x12\\x12\\x12\\x12\\x12\\x12\\x12\\x12\\x12\\x12\\x12\\x12\\x12\\x12\\x12\\x12\\x12\\x12\\x12\\x12��\\x00\\x11\\x08\\x01,\\x01,\\x03\\x01\\x11\\x00\\x02\\x11\\x01\\x03\\x11\\x01��\\x00\\x1d\\x00\\x01\\x00\\x02\\x03\\x00\\x03\\x01\\x00\\x00\\x00\\x00\\x00\\x00\\x00\\x00\\x00\\x00\\x05\\x06\\x04\\x07\\x08\\x01\\x03\\t\\x02��\\x00U\\x10\\x00\\x01\\x03\\x03\\x03\\x02\\x03\\x05\\x04\\x04\\t\\x05\\x0c\\x0b\\x01\\x00\\x01\\x02\\x03\\x04\\x00\\x05\\x11\\x06\\x12!\\x071\\x13\"A\\x08\\x14Qaq\\x152��#B��\\t\\x16\\x17$3Rr��4b���\\x18%&56Sc�����\\'CTVdsu�������\\x00\\x1c\\x01\\x01\\x00\\x01\\x05\\x01\\x01\\x00\\x00\\x00\\x00\\x00\\x00\\x00\\x00\\x00\\x00\\x00\\x05\\x02\\x03\\x04\\x06\\x07\\x01\\x08��\\x00D\\x11\\x00\\x01\\x03\\x02\\x03\\x04\\x08\\x04\\x04\\x05\\x02\\x05\\x03\\x05\\x00\\x00\\x01\\x00\\x02\\x03\\x04\\x11\\x05!1\\x06\\x12AQ\\x13\"aq����\\x142��\\x07R��\\x15#3B�$rCb���\\x16S�&45����\\x00\\x0c\\x03\\x01\\x00\\x02\\x11\\x03\\x11\\x00?\\x00��DJ\"Q\\x12��D�%\\x11(�DJ\"Q\\x12��D�%\\x11(�DJ\"Q\\x12��D�%\\x11(�DJ\"Q\\x12��D�%\\x11(�DJ\"Q\\x12��D�%\\x11(�DJ\"Q\\x12��D�%\\x11(�DJ\"Q\\x12��D�%\\x11(�DJ\"Q\\x12��D�%\\x11(�DJ\"Q\\x12��D�%\\x11(�DJ\"Q\\x12��D�%\\x11(�DJ\"Q\\x12��D�%\\x11(�DJ\"Q\\x12��D�%\\x11(�DJ\"Q\\x12��D�%\\x11(�DJ\"Q\\x12��D�%\\x11(�DJ\"Q\\x12��D�%\\x11(�DJ\"Q\\x12��D�%\\x11(�DJ\"Q\\x12��D�%\\x11(�DJ\"Q\\x12��D�%\\x11(�DJ\"Q\\x12��D�%\\x11(�DJ\"Q\\x12��D�%\\x11(�D\\\\��A��d�tֱ��lnޯ\\x0f�n[�.Qa��qKJ\\x01!\\n*W��<�\\x14��ĥ\\x16\\x1aj\\x18^�aݪ�6�S��\"����N�&\\x1aQ%&K�\\x14T1�m��1\\x0e����\\x17\\x1f �\\x11�^4��f��6I���f-��ϊ�������\\x01Z\\x15�g�FG�}G5\\x1b�a\"���0�a�X��4�������\\x13큮Q�5�K�� \\x7f���\\x7f\\x15��\\x7fꊏ�=\\x7fU�n���*��w\\x1b6��q)Yo�IH\\'�ʍ\\\\�\\x14s�k\\\\,\\t\\n�\\x1bN�Jֽ�ċ����\\\\�VdZ��H�\\x13!i?��[��\\x7f�����i;Tֈ�|-[���H��Sd��l��%a���%) �Y�{\\x1aëÝN���Z�\\x02�{��\\x7f��=�[}�!��͠\\x7f�0��\\x1f�EvG��T$�qǖ�M�;1[^:B7#Ը��\\x1c}�W<N�Ν*Yv\\x15��\\x15�v�m�R�>\\x19Y��\\x08\\x1cTc�\\'�[ ��Q�1�\\x1b���;:�`Y{϶M�+�lN��\\x1cF7&<7_۟��H\\x1f�T�Bg\\x1b4_�\\x13�\\n���\"��K/F�h\\\\��\\x1e��|\\x17���]i�\\ntk[k\\x1d���o��(�Q�6{l{A\\x0b\\x06�c0����P^��\\x0bd>\\r`.=�\\x12�v�k�7&C��%2{-�Jl\\x1f�)9�ۊ\\x13��\\x0e�c�k�]MRH\\x19f�3����c{T��\\x1f��ϩn�\\x15�<:����Ր�ç�\\x00mG���\\x00K7��6�\\x12Up��XJFNא�?\\x1cUC\\x13g�X�~\\x1eU7I��\\x0f���iI��rݸ�!���\\x1dԕ8��a ��ƣ\\'�\\x1c\\x0e\\x07\\x06�P��\\x176�ݽ�V�6���+�\\x0c��Ƈ��R,�GJ?�o����\\x14~�)\\x1e�`/ҩ�7\\x1e�+\\x07\\x06�\\x1f���o]鷇��g�\\x19���Me�i�W�W\\x1f�m�U�a��X��V[Z���<\\x1b��y��R\\x0e\\x7fme�\\x17���������.��n��\"�\\x1b����<���U�Yl�\\'��\\x07�Y,p�/nA���T�z\"�DJ\"Q\\x12��D�%\\x11(�DJ\"Q\\x12��D�%\\x11(�D_\\x1b��\\x14��ڗU��%/Ea���\\x19���h)?#�y��\\x06�m����7S��32\\x0f#�{\\x1e^!Z���Y_\\x00=f�s\\x0bRY/���g��v�0+n\\x106�P�\\x15�ͬ$B�Ը���Y9J��c\\x04\\x1f�\\x19\\x07�H�54\\x11���d\\x1dW\\x0b\\x1f\\x15jx[4N��\\x10G���էeK�<\\x1cP\\x18��ڂI�\\x06�Z���0x\\x0fD�[�\\x03�M�\\x8b\\n��Y�\\x0f\\x11\\x7fSuᾤ�-�\\x10�y��!/�\\x15\\'�B�W�W\\n�ik�\\x03��R<[e��5\\x04�4C�[��kh\\x7fh���\"ۨ��W\\'յ�\\r)A���NI)Q���8\\x07�m���xc\\x1d]��=��\\x0b��\\x1cMŷ��\\x1c�dC�XuL7�\\x19\\x1cG\\x1c�\\x1f��\\\\z�+E>��Li�î*$g[}L\\x14���\\x01���x#���a��+-;�3��Ņ�>[ڟ2�/�%#�z�b�;�kn��{\\x1b��]x�&�ӡ������\\x95\\x1eC�J��|r\\x0f�ҲE@v�w�a��\\x1b�]�ӑ�\\x11�e�r��?Q�AE�|GT��a�\\x10�I�c\\x07����hY\\x1b��g\\u07b963�a�\\'\\\\��ae�X;}�\\rƎ�\\x1b���_R��:#��\\x05J�+S@����e6\\x0e> ��+��hͤ�����]\\x16�FXl\\x1e��\\x1eѧ1�#�Q�\\x04��]+{�\\x16L�@�a$�ԧ\\x06�\\x03<ag$c>�\\x04\\x0fƩt-y���_��\\x11!īg�p�c\\x18����9�ձ\\x17�#k\\x1b\\\\\\\\+�\\x1e�٬Q[bʇ�i�(�2[��\\x0er\\x02I�;�\\'?:�8�\\x0f̦���1�����k\\x00>����o{D\\x08A�KeA�-(m88��\\x07w9\\x03\\x1f\\x1a��qH��zW��r\\x01��a�KS�d\\x18|\\x16dk:c:\\x1e�Q&J9o�p\\x04��p+�c���b7��\\x18�<\\x1b�#����(��jf\\x06�ܿuV�N����\\\\��:\\x08R\\x0c\\x06��@�`\\n7\\x13�9���\\x7f��Q4:�����\\x03��ΰ\\x1d�K���l$�\\x03**\\x1b\\x14W̵���\\x02��{��U#&���HJ�Ne`\\x00Vm�;���x&�(�0\\x11)5\\x19���\\x11��ں����8\\x14�,�{\\x1ey4���*\\u1aef6���M]]�]KM�=��Eg�q��~x�\\'a�\\rT͊���\\x0ex�ݱU��\\x19\\x18�U$c�mŻz��)�%��\\x00,8���ԐҒ6�.<v\\x1bǮy+?�I�\\x0c_e~\\x1a.�2�\\x007��\\x7f\\x0b�<ʍ���l�\\x14�[��7H\\x1e;��WH�%aJ}-!I<xk*�㓌W7u@i����pG}@X�MX͌m�%�(���ӧ��灞2p>b�i&�&��\\x1d�{{j���\\x06E�����z�_���79r_m\\x12\\x19m��t���\\x15\\x1e��\\x00\\\\\\x0f��\\x7f�*uK�\\x1f,���\\x0b�m`ok�|�>ڱ\\x1be��h\\x06�AnKv�YZ�Q\\x12��D�%\\x11(�DJ\"Q\\x12��D�%\\x11(�DJ\"�\\x17�#\\x0cj���\\x05��Rݾ�KJ?��<����\\x07ҡ(�\\'�b��\\x7fiϴhG����W��\\x18tネ��>��\\\\�g�L�\\x151m����AZ��\\n�[\\x1fyG\\x1d��\\'�]�j�zf���֒\\x00$���\\x072x\\x05ԟ+\\x18.�`��t�أ�����{���:]��g�2R���;\\\\u��@%\\x1b@\\x00��\\x0eOĚ�k6�\\x13eD���\\x02@��*ّ�S+�\\x0f��\\x19�[2�l����� Aϧ95�1�H?|\\x0c�\\x00��\\x17��Y���:\\x0f&\\x03��zlGւ\\x11)�BT�ϡ\\x01D��)5|m6,�}{7W�#��g#Ĵ����o�\\x0cL��\\\\R\\x12��J���\\x01D\\x02\\x13�3\\u07ba\\x05wO%+�=���wz����[;_^6Y\\x02��h�/_u\\x027Q���]<m���g!�%�\\x16�)P����$���?��,\\x02Kk���&-K��b�67��rk�p�{\\x08��K�@�\\x00t�ÆRRbR>\\x1c��r�o��%G��.�]\\x1dM�Z��\\x1dE���@\\t\\'���3��\\x1a4���)!t`�,\\x0ejb^�n�p�n�!���\\t����B@�8��~��Ƽ������|�2\\x00�\\x02�8�\\x00\\x19�{\\x00W;}���!2�\\x05�<�vx�\\x13�Y\\x01���͵�0��zz�$\\x11\\x0b�YZ�B@�\\x1cs\\x00�v�X������68\\x11娨-�-[U�A�@��f�2Gh\\x02��\\x00\\x0e1�z.�\\x0c\"��\\x1b�<�gv\\r��-��9��O��0R�\\x08�(\\x05m�nڬr3�Wor���3\\x1afI;7\\x1e@�o{\\x1bf/�Ǐ\\x15O�IR\\x0bn\\x05`��\\'�5�m0�\\x1b\\x7f��*�]g�k�_wG(t![��n@?����k���y=\\'Z�e�l&P���\\x07�\\x05EhQI\\x03�\\x14S�\\x1e���j\\x05-;��cA$��\\x03U�?Y\\\\�0\\x0b:}��.ʔ�\\x0f\\x10|�y\\x1f\\\\f�S�\\x11\\x0c�%P���;��\\x00���.9�\\x18�-��}���/�x���4���EΣ,�H��AyYy�\\\\����\\x1d�\\t��F���0\\\\<tfF�r\\x00�\\x02�3ln��JL�<��q\\x1e�*z���|\\x17R���nl\\x1eP����\\x14��֝�m^�H�\\x0c=)绻�\\x00q�\\x1eKn�63k�xp��G\"���E�|HS��˙hu�c�f{(\\nCͣb\\\\q#8RG\\uaad0G<\\x1f�r�j��}�Ρ:q\\x03�,��f)\\x04!�u�\\x00�K��_�ֻz�.���e���m-��\\x04\\x154��)!@���=�~@����^��a:X��ᝈ?����}���u\\x17�\\x04���_�-���}��\\x01Y\\tψ\\x078\\x1e�\\x1e��;Wi�*{>\\x1a��7\\x01��\\x07�ZV�\\x03����\\x1fuЕ�\\x16��D�%\\x11(�DJ\"Q\\x12��D�%\\x11(�DJ\"Q\\x12��$uc���\\x00�-d��7[\\x1a�v\\x1cڬ�{���\\u07bd�in�a�\\x0c\\x13:G��s�ms��P3�$�2�\\uee79���gh\\x1e�i�i+��\\x041h�p��\\x00���Ze���\\x00.`\\x14������\\x1c�u�kd���Rb&^�\\x18�\\x1e@\\x10X��rm�ŇX�s�\\x16ҩ�ڦ�\\x1c���i\\x1e\\x00\\x1e^�}G��\\x00KtrzK�~��Zq�N[����,�Ź���TJrTNs�������7d6�<O59eo�K�\\'���o�\\x00\\x0e���������y������\\x15I h�,\\x0e8�\\x00y��\\x00�^\\x1a��\\x00\\x11�e,\\x17�\\rF�\\x1b��a��&+�g�<\\x16�\\x12�\\x1f�G?<�d�6\\x07s�e�r��`�\\ruS�[,��\\x15%�2S���@���k��\"Xѳ��WB�7q\\x18���\\x0f�U�D[��۩�\\x1bu��?�R/ѣIzC���y)R��6��YW\\x18\\x1c�\\\\r\\x165�0?K���]SW\\x0e\\x17<�\\x0f�8�\\x01~�i�\\\\s��\\x0f��C.�J��\\x11��r\\x12�\\x1dB��8����¶q��;����̻I��\\x1e+��A�9�7��p4�\\x1b�p�mp;�.�\\x9a*�X�����\\x14�ܖ\\x14��������,\\x07G\\x1f�\\x05\\r���{8\\t����\\x1b���9�<\\x07Z�,��\\\\kuK�g�\":%�f�\\r3�gOE�!Rb�a9y�-(>t`dn\\x07��|k\\x12�\\r\\x14�\\x1a�ۚ��p���\\x1b+vv6�+��U�\\x1b�����\\x06�\\x02H\\x06� \\x01j�ɢCm\\x14\\x14��\\x01d�[�##\\x07ֱ�\\x17��#�\\x01p����\\n\\n���e^\\x1e?Fw��p\\x01�\\x00m@m3��6�qp\\x1e�X{�\\\\�{�L\\x07\\x1cy-\\x06\\x02���HJFIWl\\x01\\\\�f�T�\\\\�η\\x05v��-V���HޛG�����9��I\\x00q��\\x1a|\\x13\\x19�%��;����kO�0Z��Z�9�� �k\\x1c��0��Zfiж�m�\\x0c��Iy����®�O[!\\x1d;M�1o���������6��76qw�+&רd[&\\x07\\x1bܟ��X�\\x11Z�)\\x03*���ׇa��[\\x14�l��W�.��\\x08He[��r��\\x15�d�F�c~�U��\\x19���Um�\\n��䫹��v��\\r�%F\\r�ì�aĤE�$��#�9)\\x1e`>\\x1b�?4���}��\\x00�����!ԛ���}��K��w�Fu<q��\\x1f�k��\\x11L\\x01����\\x7f�\\x1f������w\\x7f�tMv��%\\x11(�DJ\"Q\\x12��D�%\\x11(�DJ\"Q\\x12��E∾\\x02k�M�Pނ�S~=��,�\\n\\'�?�5؛\\x0fIN�^�\\x05�\\x06Km{\"{8���|�7�Z4���I��#\\x1b�TJc�\\x07+s\\x05?$�\\x1e�\\x03\\x1b�WǆR������~������j\\x1aKm�\\r�%)@\\tH\\x18\\x00\\x01\\\\�X_��E�$z�\\x17�_n?f�Z\\x07�N�-mzu�\\\\N$\";jR��p�-�\\x03�p��<w*N<�=\\x1bg1v�O�H�9��~�\\x1f5~7\\\\n�U���^��L\\x1b|���&zd�)#\\x1e2�AH�\\x18JBQ�\\x07nGzն�^��xh\\x1c-�\\'����O�O�P}\\x04aR�Ӣ#����0�2x\\t}\\n\\'�\\t��\\\\��^���{�ݴ�n`�O&��\\x7f�H_V�:OL�T~���i��2 ��\\x7f�I�����Z<��p�u��\\x00Jg7��{\\x15\\x1d����]9n����\\x1a\\x11\\x0f���V�\\x16\\x1e\\r\\x03�/e��\\x00�1O���\\x00q��\\x00��T{Wh�M���\\x00VϵH�^+\\r�!��\\x04��P2Z\\x04)�\\x1eR\\x08��O\\x1d�ab05��\"�g�z�v\\x1b\\x17��\\x1f��@�\\x1d��q��G\\x06��_����Z.2�(�خ.:�}ByO�\\x01�T$\\x0e�\\x17d��\\x11�\\x1bq�Xn��\\x12~n\\x0f�j/\\x1e\\x1f�<G�Eɖkݤ�u\\x17�\\x01�oq2[Z\\x018\\x05AC�\\x06�\\nv��ih�\\x11�*K~\\x1d��\"\\x08�]ֻ��k���\\t��\\x00�]J��v���t���\\x1e�_ݭ_:�>\\x1e�r?��{9��54��\\x00�4��\\x18\\x1c�\\x0b���\\x1e��~6a�;�\\x00�>�O��\\x1f���O\\x1e췪��\\x17�=��p�\\x7f�]�j���\\x1a��\\x1eS��A$|s�z��jig�{\\'�ֱՎ>�\\x10;�,�2��\\n��O3oq��\\x1cy\\x12\\t��]9zQ}V�\\x0eRS�\\x0f��G���k�m��\\r���t=�<��]�\\x16�{���Je�\\x1c\\x07�Z�N�P\\x0e\\x19(MKg�ye\\t�\\x16�4�q�[;V��r\\x14\\x0f֤a�|O.o\\x1c��\\nǒ0�b��<\\x15GgS>玳!q����`x�w�0\\x0e{z�ֻ��]%TT��,e�~��V���G\\x13�?%�mT�:F5��\\x17�f���-M(�DJ\"Q\\x12��D�%\\x11(�DJ\"Q\\x12��D�%\\x11|\\x08�6��-�\\x0c�kZ�:��#%D��\\x01��\\x11\\x021ܲ��\\x7ffn�ٺA�;V��.�������Y����ghx�\\x0ep�P�8�%\\x00�\\\\�\\x14�5�n��p�\\x0b\\x1dēu���kYm+B�m)+@W)\\x07�G�\\x07���W����\\x06���5�5��.\\x05�!L�l��r���\\x07����J�\\x1e�B��-7\\x0b�^-��\"\\x18R�\\x1e�tCK�l��q�\\r�x�\\r\\x0f\\x1a\\x12\\x17H�G\\x03�_�G}\\x15��{���.c�ک����݂:�*\\x07(\\\\�>\\x18ܔ�r�\\x7fT�/\\t�7�����\\x00ĭ�k��\\x13Ly\\x19\\x0f�o��\\x0ek�\\x03~c[\\x02���\\x11DU��h�z���A�%�6��\\x15�K�τ�<�Ǯ�\\x04��S�%��<T�\\x11��\\x0e�����\\x06��\\x11�2\\\\5�t<�\\x01b\\x16k�\\x1e�s���cy�J�\\x1c`���<�֮ȝ\\x18�v��\\tk�\"�\\x13v8\\x0b\\x1e�,ے<���D������\\x0b\\x0el�T�M�������\\t�\\x17���N:�\\x1f+I9^Gl\\x00\\t���aTsTb���\"F]��߹b�5M���� �a�t�6\\x0b������\\x1a�k�5�L�G�\\x13��,K�zu��\\x19�\\x15Ȉ�i�Ԥ�V*Xd��\\x1a�G�Ȥ�GPǝ\\x01\\x07ȯ�6���u��!��\\n\\x07�\\'\\x04~�_9b\\x11\\t)dk�\\x1f�5��C\\x03�p�[\\x1eB0+�4�P�G���g@�J\\x16�{��\\x14[x���y\\tP\\n\\x04\\x11�H��[^��ɱ�x��Av�M\\n��\\x1c��H�ll��٦B\\x1e�}C2��\\x0cD �\\x00Txg\\x03�}H����\\u0590�$���W���%\\x11(�DJ\"Q\\x12��D�%\\x11(�DJ\"Q\\x12��\\x1eE\\x11|P�u��M�7���R\\x16��\\ty�\\x1e�K.�JOȄ\\x10k��r���\\x1c?-��Y\\x0e=U��RXb��ᗯW��\\x0f���e��SN-YZ\\x10�ҕ����\\x07w�:xWj�n�U������Ի#\\x16{ĹS�+\\x12\\x1c�5\\x0bK�- \\x17\\x1bR�N�\\x05!���Hۅ�߀��7C�+�Im�T�\\x1a\\x1f\\\\�u�Ӫ�߃�mWeF������J��Oa.�+�d8�|\\x10�:���+*\\x08)s��\\x12E�e��\\x06ܽ/�S�\\x0e�\\\\\\r\\x05w��4�q78oA&`����9.>��P��)*B\\x02�2P�$�)�ѿst\\x15�H��l�z�Ejx�;���5 �;O&�#���AC�ǋ$���c-�$!���ʼ��Na��@�s��صG[tD��-�L�2g�jU\\x93!��\\x92���F\\x13�k\\x0e+�|�j*�J���8�\\x128y.��x�\\x14�,k\\\\ѿ\\x1e�A��ɸ\\x17��`;�o�]kr��)n-�\\x0cV\\x1bLr\\x1fIe\\x08\\x00��x\\x08)HO�X<�\\x0e*]����.;6��^�w\\x13s̞j�j���u�=�\\x1cĳ�\\'��U�s�@<\\x03��{�E\\\\k��\\n�ZF�I\\x00\\x0fnj�J�LNc,}(�J{@hdI����7�\\x11\\nZ��}���T~i$\\x0f��Tf#\\x05��\\x0e\\x1a���8ɎcA!�6�\\x1e#�g�;W7����\\x00�G�µ\\x1cd\\x7f�=��u\\t�B����/kGZ�ո�\\r��\\x02�T9��9Kc�x*��zT������� �c�\\x07/��\\\\gkv�\\u0604\\x9e3��z�\\'�;3ⶪ��!��i��\\x13D^\\x16�ѫ�&��\\x1b��3sJ�(�{kg�̴�m\\x1c0�VT���C�\\x1f�\\\\cn��B%�`�[Ïq����x�]�d1��a\\ue9d4�\\x0021��\\x07�C�x�i)�5��\\n�:-sև\\x14�Mo+h���9\\t\\n��Ἔ\\x10G\\x03�ո�W�\\x00���>�D��\\x00�������&\\x14}@�V\\\\\\x0eG�@))J�V\\x08N?W\\x00c?�\\x15��\"�\\\\�Cu���D�%\\x11(�DJ\"Q\\x12��D�%\\x11(�DJ\"Q\\x12��Ht\\x13B�?�1�.�M?9����6�\\x05)B\\x02\\\\�\\x1b�s߅��\\n�x��I��ֻ;{X���Ś/�Z�MK��˥��pj\\x1d��\\x1db\\r�\\x1b./ʐw$�\\nQt�C�\\x02\\x14\\x13��Uʥ�|��y\\x03���\\x1c�\\x1d��*�\\x13Siy3l\\n�o��\\x1e��r3r\\\\�<�HRT�\\x02���\\x19I2Br�r���\\x00�Q�ѓ���\\x00#���y/sZ�B��.2,SЏ���-\\nܧX*m.-�|�D�ڷ82J6�F�)����}Ӣ\\x17YQ�6�ruՈ��K\\x19V��Ks����R��MTD-\\x01.��\\x05 ����2\\x08���d.<O�\\x12��\\x0f�R[$ɱ��XbJ�1��jZ\\x93�\\x1c�\\x02�m_\\x14\\x15\\x05\\x0f\\\\z]lD|�>w����\\x17+j[�2\\x7f�CN�g\\nz\\x1d�Q�\\t�o�\\'�\\'���\\x1fެ=q\\x0e�\\x06�bؠ�s|�ۺߠ=˥o�{KZ��d�\\x00\\x15���\\x13-����[+ڣ�Q�J���x@�\\x07\"��0�M��~7!hMx\\r\"�Q��c�+����R�Q�1܊[M�>�Yx��B\\x167��\\r�e9RP��\\x02\\x11���\\x03ˆ��\\n��6�\\x10U\\x13Jt�[��+\\x1e{���;�Ա�IbM���q�aFc9e?�\\x99 �[�\\nIJВ\\x14��\\x13�ۃl����c]mE����oU�����p.{�[}�\\x15�j�HJU#�JKN4���\\x16�\\x12��Xu$\\r���@��f�x]z\\x0c$<\\x0e�!�djk��Z\\x1fQ�\\x06��\\x06\\x1c�1\\x0b����>��B�\\x12�0����H�\\x01\\n\\x00d��\\x1a�\\x171ǚ�\\x05@��*�\\x0c�A��W4t7\\\\/�]K�i�MoC\\x13=�{�d��\\x19qiRI��A\\x1d�\\x7fJ�c��Ȟ8�|3�.�����&���Z��\\x00�@��ܳ^��)�7znMȭ\\x01��M\\x17P�+Vݪi���,ac���e\\\\�A�i��_:\\ued0c���_��p�\\x1a�o�i-��\\x1c��\\x04\\x00�I\\n;�;RTN0\\x00䌧uL���/\\x1d\\x1d�EDD���rl��\\x1c�G�\\r�TK�S�;��J�Cj�2s�����H\\x00�\\x15\\u0a4a\\u05ffj���{YN=�\\r\\x1e͡���Mc�n��Ǘ\"j\\x1ai巐��(��`�8�=��4`\\\\�OD���\\x06�/Mj�&�/\\x16g�`\\'0����\\x0e�sj-��\\x1e����\\x1a��p�q\\\\>j\\'��\\x11�x\\x1f\\x02���ɨ�\\x19P���8�%η(�D}�$$��VP��E\\x03�+�G��%tR\\x0b9��9\\x11�]�=�h{NG5�zʐ��]����Q��@#��\\x7f\\x1e+p�q|~���\\x00�TV2mE\\'�\\x15־��Bl���\\\\%\\x0f0�7\\'��+\\x07\\x18<��5�t:.K&�wU�m(�DJ\"Q\\x12��D�%\\x11(�DJ\"Q\\x12��D�/ʖ���\\x01�ׄ��\\\\l��6��,�t�2�T�ܜ�^A�[��Ӻ=���\\x14�sKmu�+�Ŷ\\x13�纖cEmN���\\x08BFI?@\\ri�Ú��+�+�\\x1a^�en�t���\\x15l��\\x04��n�5�\\x10\\x06��\\n�A\\x05\\x1bw\\x020Fx�7�4�:YK��ۮ3&C�%�%@{���e!~\\x1a\\x1c�\\x0f\\x7f#�9\\x1cy��n�+\\x1a\\x16��ܯ�\\x0b49i]���\\\\�\\x18����(��\\x1c�\\nIJ�G\\x07i�\\x1a\\\\\\x13e��\\x02�\\x1e%�\\x1d��\\x1e�f���3Z\\x0e�}�e. �\\x08?\\n�\\x1b�\\x08���գob\\x7f��ɚ��M��\\x0bvO�-��HI��\"x��ס��@ߙ��ٱ�\\x1e��\\x1d\\x0c�0^�1�6�o\\x10]c�O�_B%�_�5gN5\\x15����\\x00I�#w��\\x05�\\x13�F��N�7�O�N:1k�g��4�_5\\x00��a\\x15�Y�i�D�m��wČF\\x157�\\x1d@IQQ@ˊ\\x1e@N�w#4\\x16�\\x0bA\\n��\\x1e+\\x06L�LRۓt\\x12�uvG.\\x0eJn\\x02Y(})*\\x11����R���\\x00 \\x02r�VM<\\x1a����x\"\\x07B�7�-\\x08�\\x15�25U�S�yM4���ܶ��Rd)a�\\x17]@�\\x00\\x00N�\\x1a\\x08�\\x07U�\\x1e7��tG���\\\\m��#��\\x1d��$4��\\x08���>�Z���pO`\\x00��Y1�����3��Tf2_,�����\\x00�\\x06ц��&ܹ����oL��\\x0e�w\\x07�*\\x12\\x04��q�+�mkd~\\x12�O�\\x14w��b�?~E��-��[u2\\x19�)��\\x16���|��\\'�q>T�\\x00P![��Hɓ�Y:P\\x1a�\\x108�}H��\\\\M�X\\x11e�u�V�����fM��6\\x17�)�\\x10�\\x17\\x16\\x08\\x01A�\\x1d!I)�\\x08���\\u05cd�M�]\\x19�\\x00��^��[\\x00B�ۺIl}�[\\x0f^��!�C=�,��>�[\\x05��y*Q��h��\\x1bpQ�P\\x19Y�!��<;?�O�\\x10�\\x1a�n�\\x14V��-���ܳ�}j�2,铚��q��NR�.,���%���\\x15nA��$C �c��qU��o]�K\\\\zOxg��f{m^.VǌiW����I��2�Y\\x05\\x08Sim(V�������\\x04`�tG|\\x14\\x12���Ȟ�\\x1a����h�PŮ�Q\\x02|�d�\\x06I.2�i\\x0e,\\x04��V�r�}k��&�a��D�X���\\x0c�����lԴ5;=J�\\x03�P\\x1e7\\x0e \\x0eܭ��֝g��.�\\\\X�݉u+��\\x1a���\\x00����\\x00�\\x03�8?��\\x0c\\x0fd�0�z\\tOZ+���\\x06�\\x1f��j�ڌ&jZ)\\x1csnY��\\x0b����[V;�YJ���-,+w���*�����\\x7fZ�\\x12.+�I�[���iDJ\"Q\\x12��D�%\\x11(�DJ\"Q\\x12��D�(\\x1b���\\x17\\x19�Z\\x18$|{\\x1ej.��F��\\x1b\\x05�\\x0cM-�Q~�6-�c���\\x7f�a�����\\x05���\\x7f��)?G3�꿈z��j�6�̥A�+N��T��@W�\\x12N����я�/K�\\x16��(0�P�:�V\\x7f\\x1c�\\x05�<\\x0f�콱���o�\\x05\\\\\\x04+zg\\x14l���K�~\\x1b���ƽl�\\x06�?~HZ�X�\\',v�P��Z\"���o���>*]�wr��\\x14@�=H\\x19�U\\x17��\\x00>H\\x1a-���V���� GKlLt:Y��\\x10�/\\x18R�W$��q���\\rN��u�ՙ\"��jH>�:\\x16��4��w-^��]]����K`�┥\\'\\x01��r��ߍXd\\x10�z@s��\\x0bn�l�\\t0�{\\x1b��\\x19{:�\\x02Í��%��^Yd�+S[yIq�3�\\x12?�jG�;=�U�tC�ߒ�\\x7f\\x19Zq�*\\x1b�{)O\\x04��1���8j½\\x10\\x03��,^\\x1a�B\\x16G�\\x06���q\\x05>\\x1d��;�(ӣ-*����)R]h\\x0c�PA���lZ\\x15�ýU�潅����kkKrm��R�l��e��\\x07\\x1d��\\x1d[\\x1e�-9�}\\x16f\\x1b����\\x18\\x0e�s[�@_2��$F�u�N8��rM�r��ū.+s+BA�\\x0c�}\\tɭf\\n�\\x14�����\\x00���WG����f�v*��b`��鐰��\\'���澩˴��g�oq�XD��2�g���\\x11�\\x07�2\\x0fz�\\x1c��eɚln�����)�;gՒXm�c�\\x12Ì\\x17\\x1bC��\\x1e\\x08+ۄ)��I\\x19��\\x05GҎ���\\x15Yx#E�\\x1a&���*r�&3R^7T���\\x1ceK!���\\x0eP�\\x05��\\x15\\x14m\\x00g4\\x02Ad�\\r�tG���S\\rj�=j��:�B\\n\\x16Ȇ�\\x12����\\x17�\\x1a9\\x07\\x19$\\x02�*����\\x07�\\x1f���Kc:\\x1f��=/hhZ��\\x11�m��K��%Ȭ���x\\x04�\\x1cz���+��clZ-ݐ��Z-\\x00�b�{<5\\x17�\\x04�6��\\x11QC�\\x06q��mJ�Õc�*\\x0e���$=�z.������xs�%ll�s�q�\\x01���\\x1a��Տ�%1\\t��@BT�d��O2Z\\x1f�P�\\x1e�?�\\x0fb��?\\x126{\\x19����R���W\\x00lns /�\\x1e�%���0\\x16���\\x05*�R\\x01\\x04g�|�U�C�\\\\�E���D�%\\x11(�DJ\"Q\\x12��D�%\\x11(�DJ\"�ݿ�\\x07\\x7f\\x0f�*\\x12���g��\\x05�X��՝V��^����X�]a\\\\a?%���B\\x1fd4S�\\x1a^\\x03���B��}\\'p�\\x10�������\\x0c�F����GVb\\x1f\\r#Z[pA��_�\\x13�\\x17bךͽ7h�jx�\\x16��z�\\t�삔\\x15��s�9\\t8;1�zV��M%9�G6܁$�[�yO�E4�6��������&\\x05�f�����K,)Ϻ�(�q�\\x01��V�_,��z/��\\x05�\\x04�=ڭ�\\x0c�)j\\x00��\\x00�mH\\x1c\\x07~����L�a�X樕G���^I>a�+�\\x08�I# \\x1f7ҡ6jYc.��;f\\x0f���\\x071�l\\x1bS\\x0cR�VE��\\x08�\\x1c\\x086<\\x15��E���\\x08��-��@Z��Dw5�?�Z��Y�\\x1a��x��Q\\x13?*/W�%+�I���^��U�;�-\\x1a�u�<\\x06\\x19\\n�;�~Đ�rF���#�T}\\x060ʹ$dn=C�^Ф�\\x0c\\x1aZ(�Q�Zv\\x1eՍj���n\\\\\\x05�M��\\nS�\\x1cqD��8�3��\\x03\\x07�s�K\\x17\\\\Y٨��h��鵮�\\x1d��\\x11�tnKN4�r\\x1dq)q\\x0e!HX;UإJ\\x1f�x\\x0cb�]U�g�\\t\\x1b,N��A\\x07�\\x1a\\x1e+\\x06��M\\x05f�\\x12m�Ai��`(*<��\\x16�B�c�\\x00I��/���\\x070j\\x0e�A���)\\t��bh�\\x1c�\\x0es]�\\'#�exn{�qC�J\\x1b#\\x006�G\\x1f\\x12��\\x0f�\\x07��\\ue83a\\x0e��]�a^�%m�>����v��O�?����o\"��Ԙ�X�\\x7f�ei��誛�>?��gj�5}u�zc\\x0cp6����^���ի�N��`��VԆYLG\\x1dJ�\\x12�\\x13�\\x10\\x0fsۜW��A6\"��k\\x0c����/f�������Im���W���Zu��ǈǊ�\\x08\\x11���\\x11�5\\x057H�\\\\x\\x12WHŨv\\'\\x17���zH�\\x05�\\x1c\\x086\\x17�c�0V7����p�Z�\\x0e�\\x19Jz:ʽ��ۇ�P�Vz\\x17�\\x18�\\x00�Э\\x11�-�X[�>\\x1fQ+䵀pm��@\\x0fr힁�_鵊�\\x13Q\\x07\\x14��A��\\x10VU��Y�\\x00y��\\x07�+d��\\x16��\\x92\\x17;E�\\x7f��Q��;�%@��+��ޅ[�\\x1f�LE�����\\x11ĺ˩\\nB�r\\x085��\\x07\\x0b�h�2+�^�\\x12��D�%\\x11(�DJ\"Q\\x12��D�%\\x11R����a]\\'$\\x05*+\\x05i\\x07������Z�;Ri��a�E�\\x16X\\x7fG\\x01w%�l�\\'j����I�\\x1f�<���c��}��s\\nZxi8 \\x03���\\x05s�>��\\x13���l�;u�\\x04�����J5����@\\x7f\\x1d��\\x12�\\x1a��i�\\x11ѐ#�c����%J\\x07\\x1d�}�\\'\\x0f�Lg\\x0c~�$���>\\x0e\\x19��T\\'\\x0e��8v��e�JX�m\\\\����Z\\'��m~:R���\\x07ʄ�\\x1c�F~u3U���TGІ\\x13\\x7f���K\\x03�1�5��`\\x05[��n�Ð/m.:�\\x02��È) �������>\\x15hm%T��U\\x1d���n �mc�)JLE�J$h�s��\\x07��K>��n�\\\\�M\\\\&\\\\��\\rԡr\\x14?D�\\x1c�\\x01ې3�\\x18��\\x03����!~�>\\x19�-�3��L�\\x18����k\\x03\\x1a3ˉ�T��u\\x0c�[[�--��b��G\\x01 \\x13�O����TC�h�P�:צ�p��2C@�<�i\\tW�nP$~\\x15�����C�\\x1c�\\x07+��:���7�;w����\\x1a�\\x1aR$ƋvT\\x17��G(R�V\\x12�\\x02[p\\x14����\\x0f�l�;�ab)c�������{��FaX���9��~b�^Ǉ\\x0e+\\x03G��k}JӪ�3/�i��pNC��\\x1bh��8\\x13�݉Q�l9�@8\\x12Վ��\\x14�\\x0e\\x06������s^��DT3�\\'w����o�F�%XnLAQT��q)Kg�r����´\\x1a����5���ڰ�#edn~��~=�Z�qlk_�V�^\\x12�Z\\\\a�\\x13jZ³�x�xA�98�FN�@)[�4�\\x1dop/kg�ƺ\\x1du��N퉚�a.\\x15�KX�^�ic��M3��\\x17\\x1e���\"��\\x00<Kܕ\\x1c||�����|U��^,\\x0b���XU\\x117��\\x1by���\\x14J���wH*\\x08F�7+\\t\\'\\x03�\\r]�\\te�F�m����5C�c-�mu!����3�\\x02�EG��)�ֳ�kAg܊q\\r�\\x08.�?xg8��\\x11ǧε�<z:���-����\\x1a�l�z흒�\\reI��\\x00�\\x0e@���Ã�ܹuN��!-��\\x14-�wX;rO�kb��PV��lh\\x16��GK�-cvx\\x18�\\x06�i�Y$a�%bK;��\\x05��\\x0b?����\\x7f�l|ʣ�\\\\�*��\\x0e\\x1cw>���S�lVԧĹR�dﳡ8�\\x15�\\x1cQBH�����8�K0\\x1b��i\\x01E��b��x�\\x7fad�~\\n\\n�\\nh�:]o������?5:\\x7f����!�����\\x00�U�����%\\x11(�DJ\"Q\\x12��D�%\\x11(�DU\\r]mE囜\\x07��LaL�c��F3�g5�b�6}�������lbH\\x0b\\x0f\\x1b�|Қ�ݠD�6���#]\\x13%Bk�٩@u;\\x16�\\r������\\x07$�$\\x1cdV��W�`�v<:��\\\\�\\x1c�\\x1b�\\x15��P!&9\\x01\\x0e\\x1a�\\x1b\\'P�m�-\\x16�$�\\x12�7`�n,��\\x0c��f�L�,\\x13���Ґ;�9�ԛA@\"�\\x12�`X�\\x08\\x16\\x1b���<�uY\\x0c���]H\\x17 \\'Lʹ�\\x0c%�\"t��V�]��<\\t)�>�C�h\\x14�e9�P9\\x19/���O�腆��W2�����\\x1b�˖�\\x0b 8n�z��\\x06\\x15ѻ�K�o�V��B�\\x0ex�\\x0fH,�0�Np�|5c8��P�;WES\\x14̻��$�\\U000f37fbf6��X��^�ZU�E���u��Tp��)�\\x13��\\x18���U-��H�1�N.$wd=�RT���Un�e1���N8��i��s���\\x1e&\\x7f��?�mu��x\\n+i�,\\x1ewǨ\\x1e�\\x17���=\\x12E�TiPo���\\x1d7�1s~�\\x19�\\x1e\\\\Ov.%�+l\\x1c>\\x02\\x1d^�� g��Xu4/���s���õh[?<ut��\\x00N�\\x06���{6�r%Vm�:ԮY��,wKZ�h�hE�.^\\x1c�D� �����I8��QN�$p�#p�3���Z�����F�\\x17�n��S��uDC�*k�땺�%��\\x1cE�N!jd�\\x84�An$c$��z�\\x07\\x18u\\x18^&Z� e�/\\x1cԫf�l���\\x1aH9���O��ٴ]�\\x15�V˽�\\\\�Ib<��S�\\\\7\\x1eaO��\\x14\\x0c��\\x1eRO$q�\\x17��jcxlr4�}r��R�2@�ָ\\x13�����bt_\\\\7�-�\\x14�[3b\\x16ˏm\\x01n��v�#�\\x05*\\x19�z��\\x15bp�GXjx����x����s�������ePo�\\x07\\x13��Ԥ���II\\x19�ҧ%��y)@\\x0b�\\x03UK��D�nC��\\x1d��FJ\\x1cy�\\x14�G�m\\x03�>��իK�cx�L�\\x1fz\\r\\x16�\\x0e��\\x18:w�ǀ��rs*��-I�z�k�Z�78�fE�j����)��|��\\x1a)P*@��VU�\\x08\\x1d�Ml��RQ��+l\\\\-������N w�|{���у\\x0f\\\\\\x03}3��-��\\'�@5����맮�j�=:\\x15��\\n_�H��m(i��p��Z�Br\\x1bV\\x02T���q[��ҁ��\\\\n�\\x07\\x0b��f\\x08��y��\\r�3X\\'kCI ����G\\x0c�F\\x1dy��)v3\\x17�*.$��C�H��w���\\\\��tR���3��\\x00��q\\x186#\\x11\\x12:\\x03�v��ULj�6m���,�r\\x11d{�rc�\\x08);�VH �Q�\\x19ݍ�\\x19:�i*a`���u��\\x01m\\r����־gguL\\x11���0!��_�$�\\'\\x0b_+�z^��F<ُ�i\\x12[���W�ȅ\\x7f٭���kA:-�ha\\x0e[�R�ʓ���Խ$c�m�|�;�f\\x18�㲿�?�������^�\\x18m)\\'��\\x00�W�k�\\x1b~�Mⴎ�����d\\x1c��ڎ{�MkjPh�$4|F$��0����W\\x7fȄ����U\\x03�n��?��d��\\x00�$8����\\x00�S�\\x06��\\x1d8�}f�)DJ\"Q\\x12��D�%\\x11(�DJ\"Q\\x12��wO���\\x00�\\x7f�\\x15\\t[�b���\\x02�k��ڵ�I\\\\�\\x12%���bs\\x18ޑ�U\\x0e�N}\\x0f�Fj\\x12�\\x0c��m�\\x19�X��lUB�\\'\\x0e#�5�.�\\x15�ve��ڍx`}�#8\\x1b^>hY\\x1c��5��l�K\\r��\\x05�Ʉ�Š�\\x1d��D{���I��5+\\x11\\x03~\\nXqG�\\x08�6��P1�\\x14�m\\x041�Ls�mk\\x1d-�5�~5�ۥ{t�M��\\x17�\\x17���d\\x02�\\x0e\\x07�X�e9J>��|\\rcQl���g9r\\x19��x�,�igy��<��u�\\x03V�\\x132\\x1b,��,[\\\\l6�T\\x12\\x03g��O�]2�&��F�`,�H�\\x1a��h��&�1v�͢�to�\"˷9\\x1aCk\\x18�ڊҤ��\\t\\x15�7�U\\x12�ɡtR\\x0b����r+�5.��_�\\x04�i��\\x14��C�9f~E���u+*$\\x15�n\\x0e\\r�ܝޤ�\\x08�By�m�9w.\\x13���+ �\\x0e�\\x17;��\\x11c�����,�b\\x07_�����v5!kR=�!�\\r�\\\\�!q[ZxK%\\x7f���\\x1c\\x0fLc|t�\\x16���{۹F��Hf���,@��G!��z7TA���u\\x00�h(��.\\x17��Hw;�L�9��\\x03e$�.\\x15�9�\\x08\\x01A@��%\\x0b�#K����EΗ[�\\x1f��W\\x17N%`y/-\\x05ٷxi��:�Z��\\u05fdM������w\\x164��^\\x19m�\\x19E�T�\\x0b� nsj\\x14BI\\'ӿ\\x06�\\x1b�Ա�\\x0e�w�+k�k��OS\\x0b�\\x1eA\\x0c=��[25�\\x05�����ѥn��h[q�6�-�\\x1e#l�\\x058>EK \\x7f`טm\\x1f@\\x1c㫖��BI)�P�`�a�\\x07\\x1e�x+^��*���\\x0e\\x1aq*e���}��JAJO\\x1e�5\\'^�$.hԶދ�aS2\\x1a�d��k�Opp%i�f5�.�=D屛�H�̀���1���Ļ�G)_\\x05�\\x1dJ���\\x06H)�k�3O3b�4\\x10\\toXZ�\\x1d3�k��!�\\x1cuT�Ůpk��$\\x0b\\x11��8�f�9\\x0c\\u05fagL�j���a�/Lϼ^�[���m�vo�)uiX��$�`\\x11�1���Ul�\\x15��!qc��Y�˪/��WV���j\\x1ax�\\r\\x12������\\'|��-��G�5\\x19���\\x12�S|��ek�\\x1a#���2�J����BB�@V7\\x12\\x07o�\"d����@\\x1dP/���{eu�6�3\\x18.����\\r��k\\x1cZ\\\\onZ+u���b�n��Qù*<\\'����*\\x12V���r:\\x16\\x0e|T(����8vb6�λ��4���n�-\\x07�PU\\x1bO#����2�\\r\\x17;�\\x0c�\\x0e#�ܮ\\x1d\\x14Տ�_����-�m��YR�0Z{�Q\\x03�vRq� �M\\\\�j���艸i6�6�Q{U�0����\\x16/\\x02�-���w(���h%�Yl��\\x10���|�?gz�\\x0c_�ˏ�kA.�6\\u07b3\\x12��\\x17��\\x00T�-ݍ��Q�7q+�g\\x03�E\\\\T��It1-O)����\\x18��\\x1f�DZ��oS\\x0eo\\x03-��\\x11��*�s\\x1b�4+>\\x19\\x03���\\x17\\x03�\\x05�i����H��m��I*PJ�`{\\x03��:��G1�h\\x17�6\\x1ev>��d�n�[��M�t\\x1d�Sm���FD��Q9Z�2\\x7f +c�\\x03���j\\x01�XR8��*�Yj��%\\x11(�DJ\"Q\\x12��D�%\\x11(�DU���e\\'�I�\\x00Q5\\t[�b� ��X���S��%\\t�2N\\x05b\\x12\\x06��\\x17�U �/�\"N�Dp�+\\x08\\x01�,���m) � $���)��\\x07\\x15�Jo���r�c�\\x00\\x1c\\\\�\\'�+[M\\x05�r^����b\\x0b�--�2��B\\x19q*�]\\x0b\\t�x!(\\x00��7y�\\x02�\\x02���\\x02��/���{Ձ�J�ΏV���~|��|�\\x05Z�ŕ�eȍ!��m*\\x08HO�c����\\x1cVS\\x03wE���D9��Z�\\x17S�\\x00ɫ�?�\\x17��5v?�+���%\\x15��O�\\x0c\\x10\\x87|�qC�\\\\�����Ej�Xmښ���PA�q� a��Z\\x0e!_��\\x1e���*�U,\\x15Q\\x18�`sN��\\x16�՞�\\x1an���ї{��R��wR%���B�X�Tjۣk�\\\\�\\x12�-��qu$�#��\\x1fC�\\x13���-�����!�q�\\x08.-�s����գLҵ��\\x18�ş�4�ƛ�~�ã��b�!���\\\\/�Aܖe��1r\\x0e<�IR��8ܐG<�\\x03Sact\\nk\\r�=��\\x0e�q���[�\\x05��\\x1e+�,��٭��maHa;P\\x12���z%)\\x00\\x04�z\\x01��W�Q��C\\x18`�}�ت]$QT=O�f\\x06��\\x00O��;��\\x7fƯ�,GpWB�ν�\\x7fWt��pս!�{j�quRn0�2�i�n�T��\\x10T����\\x18�k(��Jw\\x11~D��vGip�J\\x06P��i{E��A\\x1c\\x05·߽i+\\x7fZ�o��\\x1aoT^V��!7\\x1d�\\x14�$l\\x08�\\x15\\x12s�\\x04�`�\\x01�T\\x1b�+�\\x1eސ���^\\x0b�ɲX;�n\\x14��_�akg~\\x1d���o\\x1e���O\\'ާ��E>�v��\\x16�qm\\x1e�\\x181\\x11�\\r\\x05);��2�������Ma��8��$-q��\\\\Y�Þg����I�x�sb��>0\\x1en_g]���\\x00.C����Z�f��g��գSϹ�a�=�+�)�ڐ�\\\\ޗ�\\x0b8\\n*�\\x1d�9�B���9�a�����[\\x13{��r�\\x04������k\\x1eY�FD�kn�\\x0e̲+�}����r�Z�P!M���&.�l/%k�\\x1dwo�T��~��\\x15���\\x0c�|�s|��n}W/ۺ�v�p�svǯe���\\x02��T\\x05����R�|G\\x16�KH-�yP\\x0c`\\t$����\\x1f���x@?y�f���\\x1a��tb\"Y�\\x1d\\x0f�ASQ��<B\\x01\\x1e�����!#J�-!H\\x14`d��R��J\\x7fާ~���ERm\\t�\\x19M�8\"����-+ָ�p�3%���zCn=�\\x17R\\x1bi�:�\\x14ZXJ@H�I g��\\'\\x00\\x1aԫ��X��q`\\t�G���ʨ;�\\\\-�ӘJ�h;\\x04Wq��{HV;d$V�H��v\\x03�{,gj�u��J\"Q\\x12��D�%\\x11(�DJ\"Q\\x12��EH�\\x17)0\\uf3f6�m����\\x0b\\x13�mnyP\\x0e\\x10�3�\\x03�P\\x18��l�\\r���\\x02|\\t\\n�W�٥��\\n\\x0e����#\\x10�M��\\x08yЦ$6��\\x14�\\x10��PT\\x01�#��\\x07~A�\\x13\\x16�}��Н<�!_��7\\x10\\x08�z���eɎ��5S�H\\x046ˋJ�IVF咥g�2;�Yf\\';V���4+�4��E��V�v�Cq�\\x0b1��\\'\\x05�\\x04�#\\x04\\x00�����9��R�p\\x1e6N����:��;�Q�\\x1b��J=ܳ;���\\x15\\x8eq���8#��>\\x19�O\\x7f�:@\\x7f��Աֻ\\x15ɀ�\\\\z#�Br9QA\\x00~f��k��x\\x10�zYl�c�6�76�Ę��.!��\\x0e�\\x1f�&7y*���:�i9JK�=����H�F��\\x05K�B�!%h�-�;1RI@�\\x14�\\x00��\\x04���q�1���lOm�:�O�EŇL���5$���^�s׆�[\\x0f����}���\\x04\\x01��#8Y�O�\\x03�$ն��\\r��]��\\x00y�1��\\rdv7 \\x1b�喇�v�p�>���}��\\x12BAJ�veX8\\n!\\x04�$`���v\\x19q��__�JR\\x01(�t��}2�೪⺨�$\\x18���s�\\x00\\t��\\x1eaW�ս�x\\x15�/V��=\\x04�R�SM��\\t\\x17�\\x14�{�l{��!K\\x19Ip ��9\\x05i9�Ii`���5�a�Y��10�!�\\u0381��6����B�r����m�l��H�\\t\\x08eR�\\x19 ���\\x17\\x18�Ӹ�\\x17�М��\\x19����6h�;l�m流�\\x1eʶ+#����\\x0f>Ҳ\\x1e���Ⓚr��R��2\\x0fl�+�p�3F���y��Ko*�AoHlx4ny��y\\x10����՞/�ږ��u�>��2\\x7f�z\\x0e*R8�\\x05��UR�\\u07fcE�\\x01�.y����F����\\x19\\x04�Ǚ�\\x0fϊ���M��d9\\x15��*e�:���i(�-Ž\\x1a\\x0b�Xh���[R\\x16x\\x07pV�8\\x03��n�n�Y�\\x19�W\\x1f`G��\\x12\\x0b*\\x14����\\x17}T�����K�\\x19�U��)�O������9y{��@�JF�CS\\x15��-\\x1c�p� *�v�.\\x16-�I�&�K:��;J�I�N\\\\)�:��C\\x0e~�`87���A�j!�S�\\x15^��Kn<8[;\\x1b��X�6\\x1cT�JX�B��\\rZ��{�Y�#�q�$%\\x00o�s�yϪ��ʈ87��JZ]�S�V�\\\\���(7\\x1c�R��x����V��\\x1dƽÒʧ͠-Ϥ��X�o��\\x1bD�v��)�ж��ē�*Z�*\\x12��D�%\\x11(�DJ\"Q\\x12��D�%\\x11k�m\\x15\\x17k�v\\x1bf$�FS�+*�\\x10�T�\\nR@ZN\\x14F>\\x7fN�\\x18�bi��\\x03�{���-�dV-CC�\\x06��KE�6˽�:틌ڂIt�VԀTJI��,\\x14��x\\n\\x03\\x03\\x02��O����Xs�u�9k�l��C\\x08\\x12�\\x16��0G\\x15~�az}�?��c���\\t^4q^n�����\\x19�Q��R���kޞNk���^}Ų��K\\n���r?\\x13^��:��&�X�\\x1cDW�eۉi�D�\\x1bp��\\x08\\x1c㌚������]�v������s�\\t\\r׳�{C%\\x12A+eO\\x14��\\x14S۾j��H�\\x16\\x1d����zd�ݚ���6�\\x1f�B\\n2>\\x04�5���|\\u05fdnk�\\x1e�\\x12+hm\\x16�i\\r�\\x05%\\x12\\x1c\\n�gg=���5tI\\x10�z~��c���/z@��&,\\r�\\x19\\x05ž��A�\\x009K��k������{��~����(\\x00�g\\x1b㒥g\\x1f�j�23�\\x1e��\\\\5Q6+d\\x1d8����)���{�mg�9V8�|���ζ�az\\x1c\\x14����>\\x0b�ԓܩ{q^\\x08]�7«]tU�H�̝&c��-.\\x04��/�X�2�9ې@��8�H8� IS�c��\\x1clkZ\\x03r��\\x19kmy���b��\\x1a&�=)y�)\\x06.�r|u;\\x18��j\\x19�@�\\'*W$m99\\x06��Br\\x17��)��6!̵�\\x0c9�G\\x1c\\uf59d��\\x15w�6;�����\\x15Ȕ���%Օ�D\\x1eNJ�~�Q�N3���.��P3\\x05CW�S�6�`4[L��ݖ�}Nw&P���\\x0b\\x1fT������-��\\\\�}�!�h�e8��`\\\\㔺Rv�6�Ƿs�����\\x0f�U\\x0f��y��\\x11�wY�\\x06��Z���E�e/�m�R6�y\\\\\\x07\\n\\x00���Y�\\x00�b��H\\x19��<+꒟�54\\t�K�\\x1dp.8*SkACH*ܠ��\\x05(��\\x0eݻF\\x0e}\\x1b�\\n��\\n\\x1bQY���aW���Ġ�\\x1fyQ�^7��\\x14\\x028��\\x00\\x12q�2I\\x00�o�d��4\\x1e�;��Ƈ\\x15�v����\\x07d� \\x0f�U�F�\\x0b4X*U\\x7fYjhzuaw\\x02v�Z�6��PZ�Kp�S�@Kk9<d\\x01�!&\\x16�14��E�\\x00�\\x05��s�N������oad|2�?�S1\\x7fM��\\r�\\x001S\\x15qR�D�%\\x11(�DJ\"Q\\x12��D�%\\x11(����1V����2VP�sy,���!�\\x054P\\x08����x����U��;��FE�m����\\x16}%\\x18}��\\x089f��\\x14�Ĺ�m�D����l\\x0bE�\\x1b+.\\x06�L�\\x10��\\x06��A\\x04��z��\\x9aޅ�\\x1a��7\\x0f|l���u���\\\\�V�q�2��V�$wR�\\x00��\\t6\\x0b�W�n����q�o�e1��-��dDK�.��\\x12����\\x02G�\\x04}Ef��̞�8eɮ \\x1e\\x0b\\x1a�G�\\x03��@Z2\\x07�,�EDu�k]��\\x17�r _��e�T\\x10�\\x17�2�`!|�����M�f��1\\r�mϡ��P���k\\x16\\x02{\\x0e_��\\r\\x03�\\x0e���\\x7fP�7�\\x1b�<�\\x1b������{7`g\\x1b��\\x0c㰭B���d���$_����<�4-�ָ\\x07�Q5�k�����)[\\x1c���ⱴa��i+Q�yQ\\x1f�F1�Z\\x06-\\x15L�\\x1d;\\x1d�\\x1d`9Zٜ���-r�.\\x0b%,4�\\x0f#.$m�y��\\x0c�\\x0e�o`����iͅ7n�{��\\x8c��T\\x0e?mn\\x14�t���0\\x07�-\"�\\x0e�w�{�<����\\x1d~\\x1e��V\\x1czK�e��V�PJP�2I\\'�\\x00��Z\\t6\\x1a� \\x0b��,�gGjD\\'����\\nm֖\\x16��� �\\x08�\\\\�5Ů\\x16+���pW�?\\x10*���\\x03]\\'GŎ#����^R�����8<z\\x01�\\x00��Lk\\x18\\x14\\x0cn�\\x05Ǉg\\x12��\\x1c\\x10�/v��\\x00�s�?U�y�\\x08f�g�k�37y�0�\\x01��s��\\x1d�Φ`�9�$f`��\\r4/�GF�b2*]\\x16��!E�-�\\x00�\\x16��c�W�W�+\\x1fu����kvS�\\x07\\x1f��$~@\\u05fd+��&�^LrRR$H\\x00�G�O彩��^ta~Z��\\x1bR\\x18}�%X�HH�½��o�ꛝ����#���8��eG��T����_�{gs_�c��knC1\\x1em��X9\\x1b���\\x1a��i�X\\x12.P,\\x01bG�ۻ3�\\x0enR�O~�\\x19Q?���nq��]�^\\x06�b\\x16��z�7\\x17�n��0�x��d\\x16����z�;(�I�{���UO$��\\x0b�dcC\\t!X��iq��[��\\x1d��\\x08K�䜀;���_\\x15g����T�/�/��u�l�g\\\\%��t�e��<��\\x08k\\x19ȉ\\'��\\x19��٨Ro#����Ś\\x17W衷F\\u0601\\x1bql����i���Aܰ\\x1f�\\x155U�R��D�%\\x11(�DJ\"Q\\x12��D�%\\x11p��έ�\\'�Sl,&+\\x11�6��FP��:���˿\\x7f\\x00q�$\\x0cwϤ-^\\x1b\\rD��\\x1d>��\\'�R�D*j\\r��\\x00\\x13a����NH���\\x11Yh%�Zwo\\t8ϊ�3۷��E3F�0\\x00-n\\x0b/l��<Q�uo~�\\x0eC���kI�O��N.r�F��1�a�!M5\\x15++\\r2\\x08���\\x13����\\n�����(\\x17.\\x00����\\x0bY1�����{۳^g����+�\\x00L�V�\\x1aj�9��{kw8��j��eJRv�\\x1c�\\x00B�G9\\x07 ��e|4\\x15l-��#n~E_��jXD�\\\\\\x1bk\\x7f\"�\\r{Q;v�%�Y��WrF<GS�,�R�\\x05\\x03��\\x15\\x16vq�}����V���y�.�\\x15-i떫�\\x0c9��!�D\\x04��\\x0e�hS�FH\\x1c �\\n\\t�q�\\x1cU.��\\x01�c�q�Ne\\x0e\\x1dI\\r�&ǅͼ�V�7�-}I�E��ۗ\\x02l���\\x0eGR�D�\\x13��!Y�\\x1d�O\\x04p1�u\\x0c\\x7fc��y��a�\\x00|.}���\\x0e!SA\\x11\\x10��e��\\x1c�{�\\x05m�Yn%���\\x1bi�yJ\\x12;%!I\\x00V+\\x18�F\\x1a�`2Z̏t�/q�9�����\\x17�:kx]��9q�2�\\\\��n%��\\x05\\x0c�-g�� �\\x02pA8��LT�x�\\x05\\r[�AL�\\x1e�kب�{[�gh�X��?���\\x13�\\x11p8�\\x1d��\\n\\x02�Q�\\x0c\\x15g���EeA\\x03ᕒ��H6�7Q�i(�k�!ݸ��\\x1e6Uk7�F�]�\\n�Ϋ��g�B�X5\\x1c�di)ܵeM���j;�$��@\\x18\\x1c\\r��OE#�<$�ֵ��تb�\\x1e���@Z\\x7f+�\\x1e�\\x0btt�G�\\'O-�\\x7f�ڂ�\\x12�\\x1eD��/ݒIC��q�\\x14�\\nV\\x10��ޕ�b\\U000f2cb1�@Ӻm��\\x00\\x0e��V�X�!\\x11� \\x0e�S�y��g*\\x0c�*|t&�\\x06|T2ܸ)L�Ґ\\x1c�n\\n�ARЬ\\U000dd9f1�\\x1a\\x1e7\\x1fD�H�\\x0e\\x00\\\\\\x0b���k�$�~á�[��T�x��e\\x00���z����\\x1b�\\x01\\x16�\\x1a����\\rȚWO��\\x1d��|i�\\x19t\\x10��I \\x10I#\\'q��R\\x18\\x0cne\\x18\\x05�\\x19�\\x0f\\x01����\\tY%s�\\\\\\x1cl\\x01#�\\x1e]�dT��J\"�Z��+O�\\ryuӚ�\\r�\\x1b\\x16�\\x00.��ox���4��\\x04\\x12�\\x0e^@\\x1eB\\x0f$\\x1e\\x0e\\'��z����\\x10�o~��r\\'�GNj6\\\\R(�to\\x04[�\\x0e\\x1e<T�����F�6M\\x19r�p��J\\x0e\\x1bl�\\x1a[m�\\tQJ�BB�.\\'�{�=n\\x07]G\\x0fK;l/mA9߀\\'��O�S�I�\\x19��B�������0ѐ�v�����Ũ%\\t�T�Z�eA�\\x17H�s�s$�\\x0f2�hi�ECcq��y\\x00.O�T\\x0e�^�05\\x05��~ʗ5�<�R�q\\x01�����H�<�<m�ֳ��TEU%=F�7��/�\\x17\\x19i��Ym�GGM-$u4�4\\x01kX��\\r�z�~7Z�����]M\\x16k�s�}keJ9�\\x171���c��ZM�Ug.R��U���ۈӨT�[uI\\x07�\\x0eppG�)��߅,p3��}��� \\x15�ю\\x12�I8�}jaF-=��\\x1e�x�*/!�\\x0e|�\\x12�9�\\x02������]�\\x00|T�\\x0fT.��(��ݩ\\x07�a2?�\\n���\\n=ڕ\\'U�\\x12��D�%\\x11(�DJ\"Q\\x12��D�%\\x11p\\u05f5����T�� �ݘ��i+S\\x04���:G�zs��\\x15�^�J�\\rG�5ҶW\\x13��l�?3\\\\r��\\x1c\\x0f�X��o\\x15k��\\x16���i�x��?L�\\x00�\\x00�ұ*��\\x17X\\x18�X\"e�\\x06�|t��\\x0b\\x07���}\\x06��:�YY��M;{\\x0b�m]����f�\\x03�D�P%k\\x03)�� �H��\\x05�uv\\x1c)��\\x1e܍�p�\\x15�L��]\\x04n\\x01�[�F=�tSڎd�\\x1d�vE�� ̽OKr�Fv+�R\\x16�����|P�`\\x02�BpN$\\x0e\\x17P#\\x01�i�&�!��\\x0c��\\x1c\"�F\\x03��bM�C?\\x0e\\x1c\\x15���]?ԋ��U�+.<��D���\\x04L6E-M8ķ��\\x1c��\\x08H�%G\\x1b��I)���<�A����+\\x12Ji�����8���\\x02�\\x17\\x0e�i����\\n�ziV�1.�6T\\x0b{\\x13�*\\x1aR�\\\\adl��ѯ\\x00d\\x1d�sF�K<{���3�����r:\\t�b\\x0f\\x04gq�d\\x0b�0��z��]�.����2\\x1c�j�F��!I��`\\x15>�@�\\t\\x07��έ�G��N_�z�:,��`��<j]o\\x1d\\x17R��5�td���8�������\\x7f��kˁZ\\\\��}\\\\-��<��*��Ra��|6�Y\";�B�J�߈��\\x07�z⦩�L-!r���h�Ƿx\\\\����JK��7�u\\x0fP�Ú��j�f�.�u6�^�v�\\x1e�Ͻ�L-1\\x1bHPX\\nڥm\\x19�88�^i\\t�a����p�֒�n�\\x1c�2�T���u�����f�\\x06d���il@��v�I��x���$%���wr\\nH���i�(���tF�I�u�$p\\u07bf����\\x0b�Y��.:�\\x00Uǰ[�&��+��(��s\\x13_q��mm�2��{O�*\\x19\\x03���U�<\\x12x��4��+\\x107�set��\\rE��7O\\\\���n�N�]!<�v\\x0bHu�\\x12\\x10Ғ���\\x0e\\x05�p\\n\\x0f��V����\\x14���\\x181�I\\x1f�Ip�Z�k�<�^�;�\\n��d�D�.�\\x13�8�����r;\\x17Rc��\\r\\n��Ǫ�\\x00ɭ���e���U9��$+�m���\\x03�VT�3�z�KOҒN�m[1��\\x00\\x13��p�Yl����Z��5݆Ƌ�%�~\\x13/�\\x0c�v;O\\x7fD���(J�\\tO���y���S��XEMA�\\x16\\u07b9\\x03\"\\x01#P\\x1dĎ�\\x02�w�5��W\\x0e�i�*�8\\x13��i�\"9p��\\n��Q����\\';\\x13�\\x02�a������K7�\\x00��̨�O��y�\\x03sȒ\\x0f���\\x059��]6�ڝ\\x17�\\x1a֣�pL\\x17!�ܙ;�CKZ\\x14���\\\\\\'-��U�J����z\\x19��淚��e�ER�\\rL2�!�[R~���\\x1dd��\"9\\x16TE��R�;\\x1eJ][KJ�������\\x00q�J���̱\\x16\\x07��<�7\\x07��\\x16�\\x12�H$k���,\\x08\"�\\\\\\x13��Mh�;6u�=�e��.\\x02\\x13�(��IQ\\x08-��\\x00�\\x02�\\t8<qZ�.\\x13Y\\x1d_IR�f�\\x00�~\\x07�V�LN��\\ue94a75�]��|�m�Y�d�����u�k!,��6��p��\\x0f����k��V:*���\\x1f�V���L#%�<�%CqAW*\\t\\'��\\x0f�\\x1c����A��\\x19\\x03w�6h��\\x05f{\\x10l�6�r�7��\\x19|\\'���V>���z�j�xd\\x0e�\"\\x0f�� ��:�\\x1f��zY�ᩴ{���շ�\\x08C`��Ϝ�\\x14�ݕ�\\x0b6\\x13�]�gG�h��0S\\x1d��$T�~P���2�^%\\x11(�DJ\"Q\\x12��D�%\\x11(�DJ\"�jΓ�5l�2�˞ò�|@ڐS��\\x01\\x19I �\\x0e�s�F��pO/JI\\x0e�\\r�!���i���K�\\x10�i\\x7f�u��^�&�1�\\'\\x1a\\x00�o\\n������uQ:8�..��)Ӌ��B ���f=�����N���6=a\\x01���P�6�\\n\\x14;-\\n\\x1c�CЎk\\x1e��Zi\\x04�\\x1b\\x10��W���\\x1b\\x15��H�\\x12��)\\x0fI�}��Co�-\\x98�c�@�N����>����a\\x0b�mKly����*\\\\q�Zanծ����7I�;�l:��-�\\x06�r�\\x05�\\x10�A�\\x05H\\nB�~�8��*��zF��G�5�4�\\x15M\\x02B\\x08�SWk?X:�t�3YZ�\\x0fɎ�c7.��v䡽ĀJ�7r�}I��7��ԭ\"\\x12<3���\\x1c�4�-���5�>��\\x1aN�������2Z2�\\x16�1��(`)!K\\'�����\\x01��i��$�\\x19������C�\\x15������n�T\\x06���Sjx�N�����\\x00��E�v��趲7����\\x19�\\x18\\x1a��\\x08ĺG�8P����)\\x00}��\\x00\\x14\\x1c�JS�R\\x01ˤ�\\x0c�E�m\\x06\\x17P�|e\\x19��Xۈ\\\\_\\'��\\x12�\\x10��-L���KR\"����\\x1d�-��R�/ �<D��NR��\\x1e\\x08�PAZ\\x0b��I�\\x1b\\uef6f�\\x03��e�[�]�a���uoS�ӌ�S;��_�\\x1b\\x7f��\\t0�\\x00�[SimLdd�\\x00$��\\x1a\\x15!��N�`ڗ����畷mܤz���O/:6��N�h�\\t�\\x12������\\x10��|W�\\x1d��!jR\\x14��U�*�c��\\x07\\x15F7��L褣�����e�NK\\\\i�����h�\\x00�S5�7)�\\r�j��Lא���,��\\x12RT\\x08\\x03�9$W�Hؚ\\\\T5;��!�\"�$��3rOr�OԦ[�l��0\\x12���0\\x1b@>�(�\\x0e�J�������\\x1a\\x1a���i�n]?%�7�/�1풝�-X$6��6-X�77���Ƥ��\\x02�0��.��c[\\x1b*g�v�\\x00����y\\x1fE���kw��\\x05[u�M�7$�m�\\x08��.\\x13㰢�\\x0c� a��\\x08;w���\\x08J�@��E�M\\x1dKqV��L�Ｕ��u�vM:\\x1e$�;\\rE�\\nY���ڂؖ�V�Q�7Y����y[��Qmy��)\\x0e\\x1d�.�ǧ=�\\r[pX��qh�\\x7f�KZ��恸� \\x1b�������N�i��2Ө�\\x0bӰa� ާ�\\x1cu�-�w:�\"\\nP\\x06��\\x05I\\x039��\\x1d��jϩ��䫒�n�9�``\\x04=�\\x1d��K\\x1dyrV�\\x19��9�\\x03Lh��/R�\\r<AG�!��q�B^�ϡ�㱯,���B&\\x0b�\\x03o\\x18;�\\x00���\\x1cڦ=���]����Y[q�iiϢ����T�]p��U�+a�\"5 �\\x1c�ֈ�%��5}���H���\\x18h�oV3��>�\\nʉ�kAⴗ;5\\x04���w��\\x1d��\\x01�\\x1aU�\\x12�$�1\\x07��\\x00�rEDc�\\x1c:bG\\x05E���r�E�k�\\nY�C�#\\x00�\\x14���\\'a�F(�4->�X�E\\x11��\\x12֡ӊ\\r!Ǘ\\x0ej\\x1a܍�%Lg����\\x07�ԏ�y}Up|���df��T$~ʑ\\x1a,E��Q(�DJ\"Q\\x12��D�%\\x11(�DJ\"Q\\x12�����5��Q���;�M7�T5E,�W��n�/�\\x1a�@~t7\\x18uN�\\r$��6��]ݖ��B��\\x0e�E��م1EII%4��@�\\x02-�v�յ���ZĨ�=D�\\x0eEŇ�(D�v�Nj*�XZ�^[g\\'g\\t;R���\\x1f\\\\f��H��k6<\\n\\x19\\x19\\x1b�/U�\\r&�ٴ;,�\\x17\"ݜ\\x17�J�N]n/�\\n�\\x1a+�a��\\x16��2���;A;Jr��\\x06yې\\t�ώ��\\x17\\x15�_��K\\x18{�pI\\x1cxhs��:^�lJ����iD�����\\x1f�\\x00G\\x7f�\\x00��\\\\�\\x00��U���ԽZ�Z��Y^\\\\�YcDk��\\x1fj�W��Tq�D\\r�\\x1f��X�]�w�B�k�Z*��n|�Es���0�.A^��\\x04����f�gK�\\x03��\\x1d@?��\\x15�Z��\\r\\x11?˔��\\x7f�P����TK�پ_�\\x05Ŷ���ij\"\\x1d�#���d\\x02yG�㚬�\\x1e\\x01G7c�^C���\\x00>7>˨z+��h�#\\x7f�\\x14&-�V�,�❕$�\\x7fN���g�$%\\x1d��sXr����+\\x04m!�@h���������r\\x04\\x1d;��\\x7f�X\\x18��>&j�A��+`*Ϩ���U����\\x04f�[�,�d2��I��pA\\x1c�\\x01\\x1c��9\\x1c�\\x074�\\x16M%TԳ�x]g4�\\x15��f�R�=3�\"v��\\'Q��m�\\x1d��#\\'��c�\\x07�\\x14\\U00053df5mT��3�?\\'z/�vk�\\x02�\\x10cb�\"9{t=��s�Z~ɩgXf�]�d�t�Ҵ�DgKN$)%*\\x1b�\\x0f �~D�{�\\x0e\\x0bx������F�4�\"�,��R��tM�C?������\\x1bkp�H�|R�*ijq��.6p|E\\x1c��\\x14�����4�\\x06뚳a�jz�V���q�-{�\\x11�妀\\x1c�֘�r��\\x1a����d\\x02�3\\x10\\x12��0���8\\'$�犦H�Eݐ[>$)`��P@h���ˏ%�}\\x08ЩК\\x05��Hb]�k��9�\\x15�\\x01ӄ�I�\\t\\t\\x03>�\\'ֵʹzI.4\\x0b�m6&k����\\x1a2\\x00�n~:�.Z��\\x00�\\u05fa���J���\\x19\\nZ��\\x7f�3���Y��\\x02�N�ci=8���\\x1c\\x15����\\x08���$\\x13�\\'�#?��ab��TQI\\x1c?1\\x19*I����\\x1bLL�\\\\]�p\\x08@-\\x14%!aD�A�\\x1fJ\\u05f6Wg+(*�=@\\x00n�g}H�ܱ^�FK٭���k\\x1b<��Ӯ[���P���\\\\yh)P\\'�\\x01�g��=�s�U�%��~E�h\\x18H\\x1f*�X��DJ\"Q\\x12��D�%\\x11(�DJ\"Q\\x12��D�*\\u07b5��<Xή\\x1d�bV�I\\x10a�J��r�\\x02q��X���\\x03u�_��eR�xܪ\\x7f\\U000939dbPL���N1p��@>��$V\\x13����/�A�+8F�~��|�J��o�&Ba\\x1e\\x02�E\\x0e\\x07���[�\\x01�\\x18\\x1e��F��~�W��梜��V\\x0cVȳN��\\x13\\\\+y�\\x16�/\\x01(I�RN�s���p+\\u038d�eT%{s\\x07L�W�Hɽ�t�Q0�/7\\x15�$�\\x1b\\t\\x04��oP9 ����\\x1c��Ym\\x1d��\\t\\x16*�U*\\x15zF?�(?\\x1f����\\x00�3U�\\x00�=��Xj�U������$��\\rARʒ� �[�\\tJ�J�v�\\x1cc�#\\x04V4�/sNy}��:�#<��>����\\x0c��\\x11\\x0e�\\x1e�\\x1c�q}�3�Hq�-!*\\x0c��d��\\uf16b)����jݞ\\x1c3��o�[��\\x1b��+w_qb\\x0f�\\x03���˚��/��v���%�\\x18����>B�HR��VW���q����s�����\\x1f3����:�\\x16\\tokg��9\\x1b�����YjMQ:��A���5,\\x1fO�_�Ww\\x14*�V\\x11z��D(�Hx8P�jqA�\\x15����$rO\\x1d�&�&���Q�\\x1e\\x185&��3�x-w�tgLu�^����}�\\x0e��:��K2��$�\\x01e8q$�\\x13��{\\x03W���!�}��-���\\x1f�wGK#�\\x17���wM��v�\\x1c�@⪒=�:X�e\\x1ar�eD�\\x10\\x1d}�\\x17\\tR0ڱ�{K�\\x03\\x01X$\\x10\\x7f\\n�\\x18�Aȿ��Rcl��r�\\x12;t�\\x02\\x1aј�_w]8�Zo���=\\x1f���8q�J�\\x16�\\x11\\x11\\x1bY\\x03��r���*��s�6$�{�ɿz���g��Ēy��\\x1f\\x0b����+�M%���c\\x08BBR3�\\x01X�\\x10�M��}S��}A�\\t\\n�J@#\\x19$��䟞;\\x0f�K\\x01f\\x05h��k\\x18\\\\u푲�\\x1b˼8��R\\x02Tx?>��=`���Ҋ���T�0��|�U���F��jս@�p��0!\\x16�\\x1c<d\\x01�\\x07<�s�\\x06~5\\x1e��җp\\x0b �q�q[Τ\\x16:�DJ\"Q\\x12��D�%\\x11(�DJ\"Q\\x12��D�*�PZC�2�۾6�ڥ\\x03�)I_�g\\ue502A�\\x03�5z��V��v\\x03i[�\\x17?F�q�o�Kf�\\x00�a�1M0�ʌ�q���2\\x12��Aq\\n.�+\\tJ�S�\\n\\t\\x08H�!��\\x1b�6�<{;;�\\x1c��k\\x1c�\\r֛x\\x1e=���\\x05���f�\\x17�Kf�\\x00�u�cj��~�\\x7f\\x15�����HQ*\\x03�/\\x1d�Z�.�Lrqp϶��X�qtmq�W���H�!Џ^�8�N��a�\\x1e\\x19CGj���z��\\n?\\\\\\x0fZ���\\n��\\\\l�.{��\\x1bC������ڗ�\\x17ǥim}).HH��Ŝ�\\x0f`�\\x04\\x04�>�\\x14��Su\\x18N\\rR�\\x06�c#��{��u�]B��\\x0f�wF|��<~�]e��\\t=N��X�Q�.zr#\\x1e$���\"B\\x15��C��\\'a9\\x03\\x1f\\x12\\x0e7@�\\x18EN\\x1e�Ib���,\\\\.:�\\x1a`�nM���8{\\u07fc~�\\x1fZ�t��V�VYv���,3$LU�3ϧ�B�R����p�x\\n�`�V��\\x124����e�=���[�r�P�uf�ӛ\\x1esB��B�Ρ\\\\\\'\\x14��HD�R<Ô����$sWM\\x0f\\'(���\\x03g5����\\x1fUr�:��\\x0b,���߄��p��\\x05��<��l^���\\x14�\\x08 �A�7�Ѻ�LR�2���Ȍ�:��.}4Ӗ�\\x1c�9&M��[_K�F\\x1aeM����\\x1f�@m#�Os�Nj��H����6\\x01V��V���M�S\\x1b��\\\\R�hBs, \\x000�ߪ8�y<��_b.tP�\\x1bK�S9�t�\\'�>�jٮ�o6��lo�&\\x0b��.2|�v��c\\x1e�b�\\x16�Jf\\x19㝂H�px��V�Sn��V�\\x06����G\\x15~\\x0b���+�YE�z���o�\\x02jc�\\x0e[*i�^h�-$`�P��w�\\x1e��e�KS%4��2C�n\\x08�Z���U��a�\\x15Q�nmp��d�)�<\\'ҕ�����<�\\x13��\\x10�8�\\x0c.ݰ���Rp�,�\\x13���܃��i�\\x00�ou�^�6�>�R\\x1c�)قM����\\x1aJ�d��\\x12�\\x13jԒ[�\\x1ft��\\x1d����}���c�`\\x01��qvD�_��\\x04_#k�/�ض��a�\\x1d�\\x10��IB���́��Y�TO��Ɯ��\\'p|�x�\\x13\\x7f�\\x00=\\x02˪Օú��\\x00\\x1b�\\x12��79\\x05ͧ�\\x0e\\x11�y����2�\\x0b\\x1a;\\x15��X�5\\x19w^��#����V\\x17�pA��\\x7f\\x1e�U;������n����h���\\x16ڛ\\x15ī���\\x0e?\\x00k��R�m���;_\\x18���`�G��ơ�\\x1c#���\\\\Q���\\x00³#�1��[s�7R5Z�(�DJ\"Q\\x12��D�%\\x11(�DJ\"Q\\x12��E�:ĉ2 [��~T\\'\\x1dq��Lu�\\x1fj{�\\rIݞ�\\'\\x1e�8�Bc���a3@$�f\\x01�Y\\x14�\\x00��ѯu\\x05�&�����j�\\x0e�)�3\\r��p��[s�͐\\x1c+�\\x00�6�y\\x01\\'\\x11��p�\\x10|�n�`�\\x10t�#[��^�\\x1bn�t�>��Y�{�\\x16�7\\x15{��Qk/\\x07fM�Gޥ�N) ��6\\r��JV@�\\x06|��T�X�p�[a�p�������o���Ѭ4��l֠�m\\x1a^�\\x1em�\\x01Jd��Z\\x14\\x16�\\x1b�)\\tZ\\x1c �P�\\x1c\\x11[�\\x0f6�\\x16;���;�\\x03����^ӹ��xdT[�\\x17�\\u07bc���yњ\\x1d�1�;\\x1d0b2<�\\x00���J\\x15�#���\\n�2�o�q!\\u070e�JEԏsK�\\x01h��5L�a�-��]z�\\x11zv����m��i�<c\\x02L���#��<!�+\\x04��Ǔ�SS�=�Dm���w\\x01���Q\\x1bc�F]���f��i��S�n6�kW\\x0b\\x14�̮s�CKqJk\\tQP)��\\x04c<\\x1eՅB@&�\\x1f\\x11�8��\\x0b�Z�Y=�Fx�#t��3�e\\x12���6㯫�\\x13�El\\x14d\\x04\\x12��\\x16�0�FB�r��Ak��KI�=���m]/>-�_j���Z\\x1f�&$\\x08\"KN\\x17\\x1a�%���P��ڗ\\x1aAW�N=*6��.\\x16SXY\\x0f�Y\\x19�٢�\\t\\x17��\\x0bU�]�E۬1�Q�my�&��APx��\\x03I�\\x07$(���k\\r�\\x1c�Z����\\r\\x08�K����}�\\\\\\x17�z�\\x07X�m��\\x1dh:Ē����2\\x08�韟ʲ\\x19Mуe�O���Ѻ��H\\x00\\x1d5\\x19i�OI:�n�}W�3��ݗ�n!���vJ�n9+��S��r\\x01<\\x1cV9�]˼\\u0603�\\x15X\\x1e-�um1�63`A�\\x13�}�h�m��V\\x1d<��^�.�\\x00\\x07.0�N�Ԣ7%i ��0A��)-�X��ٷm#\\x086�q\\x1f�Q\\x17���w۔\\x00\\u07be�\\x1e\\x01�\\x1c�.�����\\x1fӴ��A\\x00\\'q%d\\'\\x1c�SI\\x11�\\nP*���$��n�\\x1f��\\x1c�&�\\r��S:WU��e̕*�k�9V�9:;Lˁ,\\'r[t4J\\x14�\\x0f���J{�\\x03X5Ta��j¯���\\x0645�n�\\x00T��6��w�\\x04q\\x07�B,��\\x0bdK�eG��jC*RVP��\\x12�\\x08?�\\x02������Xh=\\x05~����\\x1e\\x15��\\x14�Hmk\\x07r�\\nԔ�F@\\x19R��<dճ;w�w̬sS\\x1fN�v��;F�I>\\x01Y4���k�z&ik�\\x0b�jH+Ly\\x08qM\\x1fT�\\x02v�x ����\\x00\\x0b���g�KQ\\x13Z�c-\\x07K�=��x�.\"��-�o}e %)��\\x07o�\\x0f\\x14�\\x7f\\x13���v�т��U�\\ta��i�4�[��p�����\\x00��߉�#$�\\x152d»N��\\x02Q\\x12��D�%\\x11(�DJ\"Q\\x12��D�%\\x11(�DJ\"Ӿ�z��9��iF����Z�Hl/\\x01J8�I�\\x05k�A��\\x11\\x10��0<\\x17\\x1eM�\\x17�!e���\\x1ff��?%�ڞ�Ļc��E�\\\\�����֦Ҟ\\x12�!�6���Y�=\\x1e�a\\x14Կ\\x0e�Ax\\x00܌�\"I��ً�3�\\x19\\x15)\\x04;Ĺ�vڨw�֛��Lŝ\\x1aހ�Sl6�\\x01�\\u0b29|�\\t\\t*�\\x1c$d�q�qz\\nj��-,[��X������4[{vf��\\x11T��C��\\x01k���\\\\��f�`����\\x1brn�ڧ0�3T��Ip5���\\x10\\x1c�\\'jF��O\\x00w%�V͇�2x����+x�rR����+���[agepG\\x1b\\x03ǎ^�*�\\x13�пM�M�~�����Ͷ�)��0w\\x10�V���VI\\x00�\\x13�?�;�\":G���bZ�\\x0e�pM���k�$�,�؟�-\\t����^o�2�OZl�cC�\\x1a\\\\�S��o\\x9d5�)[\\x16��T\\x0b�6���ڑ�`�\\x1f\\x1d���x�GJ\\x0bc;�\\x1f\\x01q�7�kp��\\x0e}��:s9}�̃��W�7U��\\x176\\x03�e-�2��ns�Ju��m�����9G\\n\\uf411�*\\n5!G���Nv�wZ���\\x1c��R���ۅ�|\\x14ދ��~��\\x16���i�K�8��\\x10�G�a�R��J��\\x16\\x13��!*O\\x00\\x1d�#\\x0f��Zp&q.vv\\x1c\\x01��D���������b�f�\\x1d��a�����B�.5��\"#L8�<\\x01V\\x11�\\x14\\x10�\\x03�xY�P��\\x19\\x7fŘM����_\\x13�\\x19�\\x02�ve���04��\\x06��[Y�)���Xi�R�x�!\\x18$c�\\x07\\x01$�\\x08$d�[jD�8�sXئ\\x1f\\x15u-���-���F[lz\\x16��������~\\x1b\\ue946b;kmԏ(�ZJHIݻ�\\x07o�U\\x05TN`p:���6�.��\\x02�_�C���KI�\\x7fg\\r7l�U�ސ�z-S]y����Ȭ����䷿\\x08ܢ�� �\\x12��O5y�\\x01�q���i�I��US\\x06��~}ۣ����%�:�ڝ\\x1b���\\x16=��,�ഌ\\x04��\\x0b\\x7f\\x0c��N> \\x0c�+&��%��%+c��\\x07X\\x00\\x05ϕ���������G��ASl�J�{c��\\n�+�\\x01XX�b�߽L��#�m��O����\\'�_W�w\\x07h�-��0J�`�.�j�i��ܮL��\"|�����\\x11�p��\\x12]B\\x14��� \\x02\\x123�j�WPΌ�u^ղ8&����.f�h-$���q�$\\x01��<�[.�V��ou�V��r���WQ�Dy�����\\x1fi����\\x14�\\x08ޭ�X���N�:*xct�\\x05�\\x17�|N���Ua�\\x06\\x1dN��\\t\\'��䌍�6��I��v-[���:9��V��_4����\\x13p���q�p�7\\x00\\x14��8��\\u07b3\\x19%\\x1dP\\x0c\"�7�Y�mn\\x11��\\x00����\\x0f�\\x1b�_�\";\\r�_V4F�g[h�-�\\x1a<6�\\x10Z�\\x1b\\'>\\x19ZA)�\\t#�r�\\x13\\x0cΌ�6\\\\���ԕRS�V\\x12<��[\\x0b����N��7\\t\\nJO\\x19*qG�\\x0f�Y��`\\x0b\\x07B�}\\x0bQ�U��\\x06T����\\x1c\\x02\\x1as���\\x1f�W\\x10�n_��Ҭ傔D�%\\x11(�DJ\"Q\\x12��D�%\\x11(�DJ\"Q\\x12����J,��U��hRR��J}В|\\x14x+�\\x1c\\x1e\\x06���qY�\\x13F�K\\x1e�7�\\x02��Y�}I�BA�#�\\\\�w�ϺFJ�\\x0e�}��Zd�i�\\x01�<�c\\x07����I�ϊ��sK�\\x0f��-�4�qZ.P��\\nBR�<��\\x07�\\x1e\\t\\'�A�\\\\w\\x13���c\\x1cr\\x11�ˇ\\x7f���]\\x1a��b1\\n���4�\\t\\x1aߑ��\\\\頾�Z,�\\x16��\\x18bJf��%AA�G�M��T�\\x13���\\x1b����ux�*2���w���ksc�Ml�k�և\\x16��s��L�X\\\\\\x1e�f��K�X\\x05�]��˔V�H���\\\\�����n9�\\x1e2=F4ɩ�wnON\\x1da��7<r6eͲ�Xے����a1�A�\\x1f�{o\\ri�朎���+i�ˮ�ų��\\x11��7$���\\x0ep\\x0e;\\x1a�\\x14إ={�i�i.��鮄ۏ�������\\x11��\\x10\\x06y���g],�f�\\r�7�-�\\x1d��<��\\x1eq�����AJQ\\t\\x1el\\x029*\\x04\\x05\\r�g^\\x06\\x1b#�v�d��-4�t��Cm\\r ��!\\x18��u�۟b�Ŷ^ci@����kC\\x7f�ms\\x1c\\t��O��\\x00�e(!�y\\x1bP�m��e5t\\x12���\\\\�~�\\x1e̖,�1��<�>�ƀ\\x00o�{���\\x14i6\\x19S-�{���W\\x16�}L�KHJ�YK`�G�1�g\\x1c�0\\n�y��&\\'>25���K@4���:9~f�l��\\x1f\\x1d|U��t��xL\\\\Qov$!!�.\\r9\\x17�K�*^\\x16|�aԂ�\\x12��3�@�>\\x11Q\\x13C���z\\x05rI�\\r�\\x1b\\x1f��1��v֧��kM�\\x03O7\\x17nW=ǥ>�S�i!hڅwʷ\\x0f�G$�E�M?�Z7\\x05���U4X|Q��i\\x07�9\\x1e��s��U\\x1d[a�h=9z����Ƭ��q�2�W\\x04��ԣ!\\x08\\n�)*V9�\\n�A\\x15n��\\x16�\\x04X��-3=�+\\x0c�m<��$�7��n-��\\'#�j�;���g����_m�ݦ�\\x17�#6��e\\x08{�S�=��4Oe\\x03�\\x11�\\rI�V�1s\\x01�\\x01���{w]ef�=\\x7f�i(\\x0b�kC��0�\\x03�\"\\x16\\x1bKD�KK�\\n\\x17��<�j&}���a\\x0b^\\x1c�C�RQ��o��ZCy�E֞������i\\x0fۭ��\\n[뷩2\\\\x��\\x0e���\\x00O*O�#8\\tT]V�:W�L�3�W���Ş������eh/h�߾3k�h���\\x1d�h7\\x19Hr:�\\x06\\x1d\\t\\x1e\\x19I����JH�Nk;\\x0fƤ{�%m��\\x1fP�|@\\x0b�\\n:�a��T��̟\"\\x16��R��\\x0e�\\x1c���4ZZ\\x1d�IKn\\x14��,m�II#j�v�\\x0b�\\x08[4\\r���\\x1f\\x0c�\\x1c����))*1�&\\'@.�z��\\x17��2/b\\x06z\\x1e*c_ug@�}\\x16�7��n�om�c�X���U\\x04\\x06�l�-J^�\\x07\\x04\\x05\\x13�\\x18�YKU#�DNk�E��O\\x00�۳��n��6�H \\x01���iǂٝ\\x14�2�wI�����fl+kbCD��Z��F\\x7f�*��UuҶZ������c\\x15,���V\\x1b�M����m\\u05c9R�u�\\x00\\x1b��\\x01X�9�����|�E\\x1dU�����X7�/=�F9�\\\\�\\x03��Uv/�+r��v�g,\\x14�%\\x11(�DJ\"Q\\x12��D�%\\x11(�DJ\"Q\\x12��ED�ƌ��������T�R�C�����1�\\x0f\\x04�}@��N��Q\\x1b���\\x1c\\x08��*\\x1c��\\r�7\\\\����uM�)�6%�B�Z\\x08��9����R�\\x10O$\\x1c\\x1eFq)I��H�ڈ\\x03l2!�\\x05���\\x1f\\x1b)8猰��֭���\\x1a�S�gTF��_���P\\x16��0��d�\\x1c���\\x7f�v�Ѳ�����nG��M}9ێ�ؽ\\x15,}\\x1c��\\x13sk\\x1c�F��\\u05ff%\\x01`��d\\x16�jM��P�N�ս¶�x*)�9�{�p~u�T9�\\x03\\x15T%����{4[=W�`�f �\\x1f0�9v�\\x7f\\x0b\\x1c�u�O^��e4����0�\\x0f����{7\\x15\\x10��)�\\x1b\\x1c}�(�x5�kk�)*Z�\\x18XƂ\\x1a���\\x00M�v�瞺��9�.{i�\\x12\\x00u\\x1f�\\x07��^4e�$���ʇ�a�\\x04���J@*V\\x03gf�8��dc\\x18Τ�h�\\r�E�A���\\x0f�;js�a�OI1qwGp-��W+����\\x04G.:ž@%\\n\\x1b��m��A��f`���l�\\x7f\\ued0eYg��B��\\x06���[�{��%�/z�S��f\\u07b9���#h�\\x141�$%$\\x0c���=;c#e��wF�<\\x02�\\x1d<|�͕Q�\\x05)|�q\\x01��\\x03;p�>ze��h�9\\x06��י��\\'5��y��w\\x07~�8�\\x00\\'h)<yv�g5#ENޑ۱�t���r���-Y\\x05}GŰ��k}A\\x19\\x0f\\x024���s�D�wH\\x11$Yl̪BY�1�\\x14�\\'n[H�\\x1a)ٴ9��pTpv�RfA#\\x1d��s�\\x00\\x0b\\x1e\\t7�g\\x0c���\\x18�ۛn=�\\\\I�)�(4��)��\\x1cA\\x01�.B���\\x0e�\\x03�l����5��˹fFѫ��t��]\\x11cbػU�@��:\\x15!M��\\x059)#˜\\x11�\\x00z��(w��d\\x03x�\\x05��\\r\\x1a\\x05C�\\x1af�\\x10ϸY�SV뛋r<w\\x10\\x10YC��kiH\\x04�\\x15�\\x1e�\\x0c�@\\x1a,��\\x18�|-Ӣq�\\x1f���ߒ�)\\x1e5-\\u05ce`}3UK��\\x13\\x1e�h�>Ŷ3���+/ed\\x11�2��W���\\x18�/\\x04�ʚ�����{r �/~\\x7f��q\\\\n��4�B\\x06���-\\x05���r�8�B�2�yr�m�y0��\\t)!+y�\\x0c��e%Y!g\\'͐\\x01\\x19�����V1��1���z^��,��PX�-\\r4\\x7f�boK�.\\x1d�#ǉ �V$�ov�`���\\x1b�C��-*\\x01��㭠\\x16\\x12��J\\x15�B����w\"�H�Z��:R[on`[�s*�Zy�.��\\t:\\x03����mڥ]\\u05f6��9��c��l�\\r��O\\x1d,:�\\x13�Z\\x1b^\\x02RI�0\\x0e\\x07\\x00�VC�*���5�Ss�˸y-�eq��\"�B�FI9ks`r\\x04_Ak�J:\\x1c[\\x03n8�oBwT�Z\\\\�t�\\x1d��E-�)@4�\\x12������O9\\x1c\\x1b�\\x15�tq=�. �fM�\\x04\\x0b_��.�G\\x1c%❲�വ��C�\\x11���顽��\\x07TFN��%�;mm�&<͠\\x17_{�\\x0b�<$�>�Nw\\x00S�F\\x031wFw�=Q����\\\\\\x11�\\t$�\\x0e-i����\\x1a[���V5\\x05ͻ��u�!ZbO��,�\\x00\\n\\tQ\\n�\\x0f_0\\x18�\\x18���V�\\x13^�\\x08\\x07�j�\\\\:\\x08\\x7f��a\\x03�\\x14��Б�\\x1c��3�5�\\x17�\\x15�~B�:��\\nQ\\x12��D�%\\x11(�DJ\"Q\\x12��D�%\\x11(�DJ\"Q\\x12��`\\x1e�Q\\x16\\x1c�%�v}�\\x0c7���a*��|lx���B�鮛����[-�\\x07)[\\nSE\\'�RF;�Σ*�,6�����\\x03�\\x15p�п~3b��]\\x1e�]㭶f�!-I)C���)���zO?\\\\ֲ��]���d%��wԕ1\\x0e��\\x11\\x0b5���U��ύY�a6K��\\x18�\\n�G.���J��\\x12��~X�*Z-���\\x03\\x0c$�^�8\\x0bp������7���Tۏ�v��=�6��ſ\\x18��2���<��v\\x13�{\\x10{`\\x1c��Fó5���S�7\\x0e��yj�jq\\x1alB��ִ����ܜ\\t\\x17��M㤚�*��E@�\\x1e*��mN\\t[)퐴�> \\x1c�*H�q�\\x1cݓ\\x0b�c;�ϲ�\\x00���)�k�Aˁ�����U��r��^���em[N\\'ޜ��\\x7fiJ����\\x1d�،�_��\\x063X��Q\\r�\\t�\\x1e�fCM\\x1b\\\\\\x08x#���<\\x14���\\x1e��-suD\\x1d=v��a-��\"\"]i*ym�\\'zA\\x05/\\'<q�\\x02�@��\\x0cF(c?\\x10��\\x13�,ʺC�\\x1d\\x0em#/��\\x05~�z�\\x0cH\\x12��~��c�<8n:�<4����6T�B�\\\\G�$\\x10���\\x15q�EI{FtRxn�Wִ���\\x1c�U9r$�je�{�)�ˏ!\\x1fз�B6�\\x03�P\\n)�a)P\\x1e���t5U\\x152���p�\\x1bX)�F(� ���\\x0b\\x1d��n~z�Ou�=t�\\x19h���2�J�2H�\\x03�8��ԩ(!�����\\x1a4�.�-YM!�y���c^�����PӒ]l7$:�ZTF2���Rp7�8��3�X��!��֫�4�J\\t,\\x0e�nnt\\x00j\\x0e\\\\��\\x11�5l��\\x1eT�\\r�YSI*PAR�J��O������A�ߔ\\\\\\x03\\u07b9l�dq�q���W\\x19)��\\x1aC\\x1bT\\x13ⲕ�<\\x13�� c��#5l��\\x030{\\t�\\x1f����\\x11���4\\x0be�\\x00��>�\\x17�L_�\\x12z�\\x0fÈ䦖�\\rm�P\\x01A^�V=0N3���DϘ\\x10��e��[K��9.���\\x0f5\\x02!�s�nm{�@9i�\"�ߚ�b�\\x16��\\x07�7\\x19r\\x1b*+B�V\\x0e;��q�~\\x1f\\n��\\x10D�]�\\x17��b�O�&\\n��]��{�\\x08��줣����Lu:���$\\x15�N\\x00��\\'��\\x00*ߨm��\\x00�{.-��2��Xc�Z�\\x01�\\t\\x0bh�:\\x0f��\\x16�q�v%�<��rBB�Zr\\x7f\\x12+6\\x13y\\x05�\\x04��$���r�0f;�B��\\x02ʢ%\\x11(�DJ\"Q\\x12��D�%\\x11(�DJ\"Q\\x12��D�%\\x11(�DJ\"Q\\x12��D�%\\x11cJ�D��������8�W�\\x08\\x07T\\x06�\\x06\\x7fL��̃.�o*I�T��\\x10~E8�i(i�\\x16|`�\\x05�\\x0e%Y\\x0f��p�%A��f��f\\x16�5�5iqҗ��� %*�\\x03�\\t\\x00z\\x0cU��(���\\x05Ų�V<��+��땮�~�v�%I�f�s�K�t��fք�G\\'nݤ\\x0c�T�$��\\x06�3\\r\\x16\\x17�ܖχm�e\\x1c-��9���櫓��u<T\\x0f��v�Ԃ\\x14��\\x14҉\\x078��\\x06{g\\x07\\x1f\\x03V�\\tf����`�īض�>�\\x0f��G�^\\x0bw�{\\x03� \\x11���t\\x13XȜ\\\\�c�\\x06��J�!)\\x0e\"2\\x12�s���\\x14TO8O�\\x1f\\x0eu\\x11��0�w\\x08q�깽F\\x1aex\\x01�h\\x1e$�h\\x07��Zϡw�-��黄�+)-?\\x1e?��N0RB��Gǜ�ۑQ�C�4g\\x1f��*\\x7fej\\x19�ׁQs\\x13�\\'��E�\\x03�Ɨ��Z�f�z��mqgEP \\x04ʌF�g9\\x04\\x0c���aO=K~x��!}\\x13C�a\\x15е�� �ŧNc#�ݧ5�o��V�C����U���6}~\\x1f�Qu�\\tͷx�\\x7f\\x05!�`��FH�:�\\x10G�\\ufbc7�l�\\r���[��\\x1c0���<���G�\\x18���\\x00\\n��|e�с�G���\\x1d��ؕD�7\\x05�#��ˢ�N�j\\x1a\\x10�[\\uf0a5\\x1e�?\\x13R�cX,\\x14\\x03�盕�-\\x16��i8\\x15Z�J\\x0e(��\\x11(�DJ\"Q\\x12��D�%\\x11(�DJ\"Q\\x12��D�%\\x11(�DJ\"Q\\x12��D�%\\x11(�DJ\"Q\\x12��E∱��bLI\\x12��|\\x1e�Ƃ�}\\x11U�\\x1d\\x1f�w�w-7j[�XZV�\\x02\\x14\\x14\\x0eA�q�*��\\x7f��|\\x02�muSXX�\\x1c\\x1ax\\\\��I���\\x1c�\\x05��rI��&�\\x00\\x00�X��U%\\x1e�\\x12/�\\x0c!\\x1fA^��\\x00$`\\x0cQ\\x17�\"Q\\x12��D�%\\x11(�DJ\"Q\\x12��D�%\\x11(�DJ\"Q\\x12��D�%\\x11(�DJ\"Q\\x12��D�%\\x11(�DJ\"Q\\x12��D�%\\x11(�DJ\"Q\\x12��D�%\\x11(�DJ\"Q\\x12��D�%\\x11(�DJ\"Q\\x12��D�%\\x11(�DJ\"Q\\x12��D�%\\x11(�DJ\"Q\\x12��D�%\\x11(�DJ\"Q\\x12��D�%\\x11(�DJ\"Q\\x12��D�%\\x11(�DJ\"Q\\x12��D�%\\x11(�DJ\"Q\\x12��D�%\\x11(�DJ\"Q\\x12��D�%\\x11(�DJ\"Q\\x17��'"
      ]
     },
     "execution_count": 53,
     "metadata": {},
     "output_type": "execute_result"
    }
   ],
   "source": [
    "response.text"
   ]
  },
  {
   "cell_type": "code",
   "execution_count": 54,
   "id": "ac26d9db",
   "metadata": {},
   "outputs": [],
   "source": [
    "with open('data/test.png', 'wb') as file:\n",
    "    file.write(response.content)"
   ]
  },
  {
   "cell_type": "code",
   "execution_count": 55,
   "id": "a1588f32",
   "metadata": {},
   "outputs": [
    {
     "name": "stdout",
     "output_type": "stream",
     "text": [
      " C 드라이브의 볼륨에는 이름이 없습니다.\n",
      " 볼륨 일련 번호: 54BB-5177\n",
      "\n",
      " C:\\Users\\User\\웹크롤링\\day2\\data 디렉터리\n",
      "\n",
      "2023-02-17  오후 03:53    <DIR>          .\n",
      "2023-02-17  오후 03:53    <DIR>          ..\n",
      "2023-02-17  오후 03:53            33,866 test.png\n",
      "               1개 파일              33,866 바이트\n",
      "               2개 디렉터리  147,500,212,224 바이트 남음\n"
     ]
    }
   ],
   "source": [
    "%ls data"
   ]
  },
  {
   "cell_type": "code",
   "execution_count": 56,
   "id": "5ccc63c9",
   "metadata": {},
   "outputs": [],
   "source": [
    "# pillow: 파이썬에서 이미지 전처리를 하는 패키지\n",
    "from PIL import Image as pil"
   ]
  },
  {
   "cell_type": "code",
   "execution_count": 57,
   "id": "a01edcf9",
   "metadata": {},
   "outputs": [
    {
     "data": {
      "image/png": "[encoded data removed]",
      "text/plain": [
       "<PIL.JpegImagePlugin.JpegImageFile image mode=RGB size=300x300>"
      ]
     },
     "execution_count": 57,
     "metadata": {},
     "output_type": "execute_result"
    }
   ],
   "source": [
    "pil.open('data/test.png')"
   ]
  },
  {
   "cell_type": "code",
   "execution_count": 63,
   "id": "f2570fa9",
   "metadata": {},
   "outputs": [
    {
     "name": "stdout",
     "output_type": "stream",
     "text": [
      "0 http://gdimg.gmarket.co.kr/2628342593/still/300?ver=2023021714\n",
      "0 http://gdimg.gmarket.co.kr/2628342593/still/300?ver=2023021714 data/0.png\n",
      "1 http://gdimg.gmarket.co.kr/1998535842/still/300?ver=2023021714\n",
      "1 http://gdimg.gmarket.co.kr/1998535842/still/300?ver=2023021714 data/1.png\n",
      "2 http://gdimg.gmarket.co.kr/2772877848/still/300?ver=2023021714\n",
      "2 http://gdimg.gmarket.co.kr/2772877848/still/300?ver=2023021714 data/2.png\n",
      "3 http://gdimg.gmarket.co.kr/2767818438/still/300?ver=2023021714\n",
      "3 http://gdimg.gmarket.co.kr/2767818438/still/300?ver=2023021714 data/3.png\n",
      "4 http://gdimg.gmarket.co.kr/2780877061/still/300?ver=2023021714\n",
      "4 http://gdimg.gmarket.co.kr/2780877061/still/300?ver=2023021714 data/4.png\n"
     ]
    }
   ],
   "source": [
    "for idx, data in df[:5].iterrows():\n",
    "    print(idx, data['img'])\n",
    "    filename = '0' * (2 - len(str(idx))) + str(idx)\n",
    "    filename = f'data/{idx}.png'\n",
    "    print(idx, data['img'], filename)\n",
    "    response = requests.get(data['img'])\n",
    "    with open('data/{}.png', 'wb') as file:\n",
    "        file.write(response.content)"
   ]
  },
  {
   "cell_type": "code",
   "execution_count": 64,
   "id": "3f748e6b",
   "metadata": {},
   "outputs": [
    {
     "name": "stdout",
     "output_type": "stream",
     "text": [
      " C 드라이브의 볼륨에는 이름이 없습니다.\n",
      " 볼륨 일련 번호: 54BB-5177\n",
      "\n",
      " C:\\Users\\User\\웹크롤링\\day2\\data 디렉터리\n",
      "\n",
      "2023-02-17  오후 03:59    <DIR>          .\n",
      "2023-02-17  오후 03:59    <DIR>          ..\n",
      "2023-02-17  오후 04:02             5,481 {}.png\n",
      "2023-02-17  오후 03:53            33,866 test.png\n",
      "               2개 파일              39,347 바이트\n",
      "               2개 디렉터리  147,495,817,216 바이트 남음\n"
     ]
    }
   ],
   "source": [
    "%ls data"
   ]
  },
  {
   "cell_type": "code",
   "execution_count": null,
   "id": "7559c950",
   "metadata": {},
   "outputs": [],
   "source": []
  },
  {
   "cell_type": "code",
   "execution_count": null,
   "id": "ef60144f",
   "metadata": {},
   "outputs": [],
   "source": []
  },
  {
   "cell_type": "code",
   "execution_count": null,
   "id": "ac3c5522",
   "metadata": {},
   "outputs": [],
   "source": []
  },
  {
   "cell_type": "code",
   "execution_count": null,
   "id": "1bf6e417",
   "metadata": {},
   "outputs": [],
   "source": []
  },
  {
   "cell_type": "code",
   "execution_count": null,
   "id": "8a416eb2",
   "metadata": {},
   "outputs": [],
   "source": []
  },
  {
   "cell_type": "code",
   "execution_count": null,
   "id": "c633f4e6",
   "metadata": {},
   "outputs": [],
   "source": []
  },
  {
   "cell_type": "code",
   "execution_count": null,
   "id": "338c720b",
   "metadata": {},
   "outputs": [],
   "source": []
  },
  {
   "cell_type": "code",
   "execution_count": null,
   "id": "8984dcc5",
   "metadata": {},
   "outputs": [],
   "source": []
  },
  {
   "cell_type": "code",
   "execution_count": null,
   "id": "f96ecfb3",
   "metadata": {},
   "outputs": [],
   "source": []
  }
 ],
 "metadata": {
  "kernelspec": {
   "display_name": "Python 3 (ipykernel)",
   "language": "python",
   "name": "python3"
  },
  "language_info": {
   "codemirror_mode": {
    "name": "ipython",
    "version": 3
   },
   "file_extension": ".py",
   "mimetype": "text/x-python",
   "name": "python",
   "nbconvert_exporter": "python",
   "pygments_lexer": "ipython3",
   "version": "3.9.13"
  },
  "toc": {
   "base_numbering": 1,
   "nav_menu": {},
   "number_sections": false,
   "sideBar": true,
   "skip_h1_title": false,
   "title_cell": "Table of Contents",
   "title_sidebar": "Contents",
   "toc_cell": false,
   "toc_position": {},
   "toc_section_display": true,
   "toc_window_display": false
  }
 },
 "nbformat": 4,
 "nbformat_minor": 5
}
