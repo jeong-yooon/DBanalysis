{
 "cells": [
  {
   "cell_type": "markdown",
   "id": "03fff3b4",
   "metadata": {},
   "source": [
    "### selenium\n",
    "- `https://www.selenium.dev`\n",
    "- 자동화를 목적으로 만들어진 다양한 브라우져와 언어를 지원하는 라이브러리\n",
    "- 크롬 브라우져 설치\n",
    "    - 크롬 브라우져 드라이버 다운로드 (크롬 브라우져와 같은 버전)\n",
    "    - 다운로드한 드라이버 압축 해제\n",
    "    - chromedriver, chromedriver.exe 생성\n",
    "    - windows : 주피터 노트북 파일과 동일한 디렉토리에 chromedriver.exe 파일 업로드\n",
    "    - mac : sudo cp ~/Download/chromedirver /usr/local/bin"
   ]
  },
  {
   "cell_type": "code",
   "execution_count": 1,
   "id": "a6e6bc99",
   "metadata": {},
   "outputs": [],
   "source": [
    "import pandas as pd\n",
    "from selenium import webdriver\n",
    "from selenium.webdriver.common.by import By"
   ]
  },
  {
   "cell_type": "code",
   "execution_count": 15,
   "id": "4ca7ce4b",
   "metadata": {},
   "outputs": [],
   "source": [
    "driver = webdriver.Chrome()"
   ]
  },
  {
   "cell_type": "code",
   "execution_count": 16,
   "id": "9fe65da3",
   "metadata": {},
   "outputs": [],
   "source": [
    "driver.get('https://daum.net')"
   ]
  },
  {
   "cell_type": "code",
   "execution_count": 17,
   "id": "88334287",
   "metadata": {},
   "outputs": [],
   "source": [
    "driver.find_element(By.CSS_SELECTOR, '#q').send_keys('파이썬')"
   ]
  },
  {
   "cell_type": "code",
   "execution_count": 18,
   "id": "0b37b3e5",
   "metadata": {},
   "outputs": [],
   "source": [
    "#daumSearch > fieldset > div > div > button.ico_pctop.btn_search"
   ]
  },
  {
   "cell_type": "code",
   "execution_count": 19,
   "id": "c35a5f33",
   "metadata": {},
   "outputs": [],
   "source": [
    "selector = '.inner_search > .ico_pctop.btn_search'\n",
    "driver.find_element(By.CSS_SELECTOR, selector).click()"
   ]
  },
  {
   "cell_type": "code",
   "execution_count": 23,
   "id": "afbda51d",
   "metadata": {},
   "outputs": [
    {
     "data": {
      "text/plain": [
       "20"
      ]
     },
     "execution_count": 23,
     "metadata": {},
     "output_type": "execute_result"
    }
   ],
   "source": [
    "selector = '#netizen_lists_top > .wsn' \n",
    "elements = driver.find_elements(By.CSS_SELECTOR, selector) \n",
    "len(elements)"
   ]
  },
  {
   "cell_type": "code",
   "execution_count": null,
   "id": "bb2ee9e6",
   "metadata": {},
   "outputs": [],
   "source": [
    "selector = '#netizen_more_btn_top'\n",
    "driver.find_element(By.CSS_SELECTOR, selector).click()"
   ]
  },
  {
   "cell_type": "code",
   "execution_count": 22,
   "id": "640770e0",
   "metadata": {},
   "outputs": [
    {
     "data": {
      "text/plain": [
       "['파이썬 프로그래밍',\n",
       " '파이썬 강좌',\n",
       " '파이썬 기초',\n",
       " '파이썬 뱀',\n",
       " '파이썬 책',\n",
       " '파이썬 코딩',\n",
       " '파이썬 자격증',\n",
       " '파이썬 다운로드',\n",
       " '파이썬 맵',\n",
       " '파이썬 설치',\n",
       " '파이썬 엑셀',\n",
       " 'python',\n",
       " '파이썬 활용',\n",
       " '',\n",
       " '',\n",
       " '',\n",
       " '',\n",
       " '',\n",
       " '',\n",
       " '']"
      ]
     },
     "execution_count": 22,
     "metadata": {},
     "output_type": "execute_result"
    }
   ],
   "source": [
    "keywords = [element.text for element in elements]\n",
    "keywords\n",
    "# 데이터가 비어있는 이유? 화면에 보이는 데이터만 가져오기 때문에 더보기 밑에 숨겨진 데이터들은 보이지 않는다."
   ]
  },
  {
   "cell_type": "code",
   "execution_count": 24,
   "id": "7a2204cb",
   "metadata": {},
   "outputs": [],
   "source": [
    "# 자바스크립트 코드 실행\n",
    "driver.execute_script('window.scrollTo(200, 300);')"
   ]
  },
  {
   "cell_type": "code",
   "execution_count": 25,
   "id": "6ac56e92",
   "metadata": {},
   "outputs": [],
   "source": [
    "driver.quit()"
   ]
  },
  {
   "cell_type": "markdown",
   "id": "c4c13a78",
   "metadata": {},
   "source": [
    "#### 텍스트 데이터 가져오기\n",
    "- TED 사이트 : `https://www.ted.com`"
   ]
  },
  {
   "cell_type": "code",
   "execution_count": 29,
   "id": "39e30c91",
   "metadata": {},
   "outputs": [],
   "source": [
    "driver = webdriver.Chrome()\n",
    "driver.get('https://www.ted.com/talks')"
   ]
  },
  {
   "cell_type": "code",
   "execution_count": 30,
   "id": "8e4c57bd",
   "metadata": {},
   "outputs": [
    {
     "data": {
      "text/plain": [
       "'4200+ talks to stir your curiosity'"
      ]
     },
     "execution_count": 30,
     "metadata": {},
     "output_type": "execute_result"
    }
   ],
   "source": [
    "selector = '.talks-header__title'\n",
    "driver.find_element(By.CSS_SELECTOR, selector).text"
   ]
  },
  {
   "cell_type": "code",
   "execution_count": 31,
   "id": "540d23d7",
   "metadata": {},
   "outputs": [],
   "source": [
    "# xpath를 이용한 엘리먼트 선택\n",
    "# // : 최상위 엘리먼트\n",
    "# * : 모든 하위 엘리먼트\n",
    "# / : 한단계 하위 엘리먼트\n",
    "# div[2] : 태그[n번째]"
   ]
  },
  {
   "cell_type": "code",
   "execution_count": 32,
   "id": "fcc4f631",
   "metadata": {},
   "outputs": [
    {
     "data": {
      "text/plain": [
       "''"
      ]
     },
     "execution_count": 32,
     "metadata": {},
     "output_type": "execute_result"
    }
   ],
   "source": [
    "selector = '//*[@id=\"shoji\"]/div[2]/div/div[2]/header/div/div[1]'\n",
    "driver.find_element(By.XPATH, selector).text"
   ]
  },
  {
   "cell_type": "code",
   "execution_count": 33,
   "id": "2f6ded55",
   "metadata": {},
   "outputs": [],
   "source": [
    "driver.quit()"
   ]
  },
  {
   "cell_type": "markdown",
   "id": "152eda00",
   "metadata": {},
   "source": [
    "#### Headless\n",
    "- 브라우져를 화면에 띄우지 않고 메모리상에서만 올려서 크롤링하는 방법 \n",
    "- window가 지원되지 않는 환경에서 사용이 가능\n",
    "- chrome version 60.0.0.0 이상부터 지원 합니다."
   ]
  },
  {
   "cell_type": "code",
   "execution_count": 34,
   "id": "ec5daf36",
   "metadata": {},
   "outputs": [
    {
     "data": {
      "text/plain": [
       "'4200+ talks to stir your curiosity'"
      ]
     },
     "execution_count": 34,
     "metadata": {},
     "output_type": "execute_result"
    }
   ],
   "source": [
    "options = webdriver.ChromeOptions()\n",
    "options.add_argument('headless')\n",
    "driver = webdriver.Chrome(options=options)\n",
    "driver.get('https://www.ted.com/talks')\n",
    "selector = '.talks-header__title'\n",
    "driver.find_element(By.CSS_SELECTOR, selector).text"
   ]
  },
  {
   "cell_type": "code",
   "execution_count": 35,
   "id": "e858130c",
   "metadata": {},
   "outputs": [],
   "source": [
    "driver.quit()"
   ]
  },
  {
   "cell_type": "code",
   "execution_count": null,
   "id": "6491fadc",
   "metadata": {},
   "outputs": [],
   "source": []
  }
 ],
 "metadata": {
  "kernelspec": {
   "display_name": "Python 3 (ipykernel)",
   "language": "python",
   "name": "python3"
  },
  "language_info": {
   "codemirror_mode": {
    "name": "ipython",
    "version": 3
   },
   "file_extension": ".py",
   "mimetype": "text/x-python",
   "name": "python",
   "nbconvert_exporter": "python",
   "pygments_lexer": "ipython3",
   "version": "3.9.13"
  },
  "toc": {
   "base_numbering": 1,
   "nav_menu": {},
   "number_sections": false,
   "sideBar": true,
   "skip_h1_title": false,
   "title_cell": "Table of Contents",
   "title_sidebar": "Contents",
   "toc_cell": false,
   "toc_position": {},
   "toc_section_display": true,
   "toc_window_display": false
  }
 },
 "nbformat": 4,
 "nbformat_minor": 5
}
