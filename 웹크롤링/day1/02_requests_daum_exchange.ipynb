{
 "cells": [
  {
   "cell_type": "markdown",
   "id": "ce44dd79",
   "metadata": {},
   "source": [
    "### Daum Exchange\n",
    "- `https://finance.daum.net`\n",
    "- 서버에서 어뷰징을 막는 경우 해결 방법"
   ]
  },
  {
   "cell_type": "code",
   "execution_count": 1,
   "id": "bcf5c3fb",
   "metadata": {},
   "outputs": [],
   "source": [
    "import warnings\n",
    "warnings.filterwarnings('ignore')\n",
    "import pandas as pd\n",
    "import requests"
   ]
  },
  {
   "cell_type": "code",
   "execution_count": 13,
   "id": "b90bacf4",
   "metadata": {},
   "outputs": [
    {
     "data": {
      "text/html": [
       "<div>\n",
       "<style scoped>\n",
       "    .dataframe tbody tr th:only-of-type {\n",
       "        vertical-align: middle;\n",
       "    }\n",
       "\n",
       "    .dataframe tbody tr th {\n",
       "        vertical-align: top;\n",
       "    }\n",
       "\n",
       "    .dataframe thead th {\n",
       "        text-align: right;\n",
       "    }\n",
       "</style>\n",
       "<table border=\"1\" class=\"dataframe\">\n",
       "  <thead>\n",
       "    <tr style=\"text-align: right;\">\n",
       "      <th></th>\n",
       "      <th>symbolCode</th>\n",
       "      <th>date</th>\n",
       "      <th>currencyCode</th>\n",
       "      <th>currencyName</th>\n",
       "      <th>currencyUnit</th>\n",
       "      <th>country</th>\n",
       "      <th>region</th>\n",
       "      <th>name</th>\n",
       "      <th>recurrenceCount</th>\n",
       "      <th>basePrice</th>\n",
       "      <th>...</th>\n",
       "      <th>changeRate</th>\n",
       "      <th>cashBuyingPrice</th>\n",
       "      <th>cashSellingPrice</th>\n",
       "      <th>ttBuyingPrice</th>\n",
       "      <th>ttSellingPrice</th>\n",
       "      <th>tcBuyingPrice</th>\n",
       "      <th>fcSellingPrice</th>\n",
       "      <th>exchangeCommission</th>\n",
       "      <th>usDollarRate</th>\n",
       "      <th>chartImageUrl</th>\n",
       "    </tr>\n",
       "  </thead>\n",
       "  <tbody>\n",
       "    <tr>\n",
       "      <th>40</th>\n",
       "      <td>FRX.KRWQAR</td>\n",
       "      <td>2023-02-16 15:07:41</td>\n",
       "      <td>QAR</td>\n",
       "      <td>리얄</td>\n",
       "      <td>1</td>\n",
       "      <td>카타르</td>\n",
       "      <td>{'korName': '중동', 'engName': 'Middle East'}</td>\n",
       "      <td>카타르 (KRW/QAR)</td>\n",
       "      <td>522</td>\n",
       "      <td>351.79</td>\n",
       "      <td>...</td>\n",
       "      <td>0.002948</td>\n",
       "      <td>0.0</td>\n",
       "      <td>0.0</td>\n",
       "      <td>0.00</td>\n",
       "      <td>0.00</td>\n",
       "      <td>None</td>\n",
       "      <td>None</td>\n",
       "      <td>3.355</td>\n",
       "      <td>0.2742</td>\n",
       "      <td>{'day': 'https://t1.daumcdn.net/finance/chart/...</td>\n",
       "    </tr>\n",
       "    <tr>\n",
       "      <th>41</th>\n",
       "      <td>FRX.KRWTRY</td>\n",
       "      <td>2023-02-16 15:07:41</td>\n",
       "      <td>TRY</td>\n",
       "      <td>리라</td>\n",
       "      <td>1</td>\n",
       "      <td>터키</td>\n",
       "      <td>{'korName': '중동', 'engName': 'Middle East'}</td>\n",
       "      <td>터키 (KRW/TRY)</td>\n",
       "      <td>522</td>\n",
       "      <td>68.08</td>\n",
       "      <td>...</td>\n",
       "      <td>0.002783</td>\n",
       "      <td>0.0</td>\n",
       "      <td>0.0</td>\n",
       "      <td>67.34</td>\n",
       "      <td>68.82</td>\n",
       "      <td>None</td>\n",
       "      <td>None</td>\n",
       "      <td>26.400</td>\n",
       "      <td>0.0531</td>\n",
       "      <td>{'day': 'https://t1.daumcdn.net/finance/chart/...</td>\n",
       "    </tr>\n",
       "  </tbody>\n",
       "</table>\n",
       "<p>2 rows × 22 columns</p>\n",
       "</div>"
      ],
      "text/plain": [
       "    symbolCode                 date currencyCode currencyName  currencyUnit  \\\n",
       "40  FRX.KRWQAR  2023-02-16 15:07:41          QAR           리얄             1   \n",
       "41  FRX.KRWTRY  2023-02-16 15:07:41          TRY           리라             1   \n",
       "\n",
       "   country                                       region           name  \\\n",
       "40     카타르  {'korName': '중동', 'engName': 'Middle East'}  카타르 (KRW/QAR)   \n",
       "41      터키  {'korName': '중동', 'engName': 'Middle East'}   터키 (KRW/TRY)   \n",
       "\n",
       "    recurrenceCount  basePrice  ... changeRate  cashBuyingPrice  \\\n",
       "40              522     351.79  ...   0.002948              0.0   \n",
       "41              522      68.08  ...   0.002783              0.0   \n",
       "\n",
       "    cashSellingPrice  ttBuyingPrice  ttSellingPrice  tcBuyingPrice  \\\n",
       "40               0.0           0.00            0.00           None   \n",
       "41               0.0          67.34           68.82           None   \n",
       "\n",
       "    fcSellingPrice exchangeCommission usDollarRate  \\\n",
       "40            None              3.355       0.2742   \n",
       "41            None             26.400       0.0531   \n",
       "\n",
       "                                        chartImageUrl  \n",
       "40  {'day': 'https://t1.daumcdn.net/finance/chart/...  \n",
       "41  {'day': 'https://t1.daumcdn.net/finance/chart/...  \n",
       "\n",
       "[2 rows x 22 columns]"
      ]
     },
     "execution_count": 13,
     "metadata": {},
     "output_type": "execute_result"
    }
   ],
   "source": [
    "# 1. 웹서비스분석 : URL\n",
    "url = 'https://finance.daum.net/api/exchanges/summaries'\n",
    "headers = {\n",
    "    'user-agent': 'Mozilla/5.0 (Windows NT 10.0; Win64; x64) AppleWebKit/537.36 (KHTML, like Gecko) Chrome/110.0.0.0 Safari/537.36',\n",
    "    'referer': 'https://finance.daum.net/exchanges',\n",
    "}\n",
    "\n",
    "# 2. request(URL) > response(str)\n",
    "response = requests.get(url, headers=headers)\n",
    "# response\n",
    "\n",
    "# 3. json(str) > list, dict > DataFrame\n",
    "# response.json()['data']\n",
    "df = pd.DataFrame(response.json()['data'])\n",
    "df.tail(2)"
   ]
  },
  {
   "cell_type": "code",
   "execution_count": 10,
   "id": "056840f8",
   "metadata": {},
   "outputs": [
    {
     "data": {
      "text/plain": [
       "'{\"data\":[{\"symbolCode\":\"FRX.KRWUSD\",\"date\":\"2023-02-16 15:05:21\",\"currencyCode\":\"USD\",\"currencyName\":\"달러\",\"currencyUnit\":1,\"country\":\"미국\",\"region\":{\"korName\":\"아메리카\",\"engName\":\"America\"},\"name\":\"미국 (KRW/USD)\",\"recurrenceCount\":518,\"basePrice\":1283.2,\"change\":\"FALL\",\"changePrice\":3.8,\"changeRate\":0.002952603,\"cashBuyingPrice\":1305.65,\"cashSellingPrice\":1260.75,\"ttBuyingPrice\":1270.7,\"ttSellingPrice\":1295.7,\"tcBuyingPrice\":null,\"fcSellingPrice\":null,\"exchangeCommission\":6.4139,\"usDollarRate\":1.0,\"chartImageUrl\":{\"day\":\"https://t1.daumcdn.net/finance/chart/kr/daumforex/d/FRX.KRWUSD.png\",\"month\":\"https://t1.daumcdn.net/finance/chart/kr/daumforex/m/FRX.KRWUSD.png\",\"month3\":\"https://t1.daumcdn.net/finance/chart/kr/daumforex/m3/FRX.KRWUSD.png\",\"year\":\"https://t1.daumcdn.net/finance/chart/kr/daumforex/y/FRX.KRWUSD.png\"}},{\"symbolCode\":\"FRX.KRWJPY\",\"date\":\"2023-02-16 15:05:31\",\"currencyCode\":\"JPY\",\"currencyName\":\"엔\",\"currencyUnit\":100,\"country\":\"일본\",\"region\":{\"korName\":\"아시아\",\"engName\":\"Asia\"},\"name\":\"일본 (KRW/JPY100)\",\"recurrenceCount\":519,\"basePrice\":958.8,\"change\":\"FALL\",\"changePrice\":0.4,\"changeRate\":0.0004170142,\"cashBuyingPrice\":975.57,\"cashSellingPrice\":942.03,\"ttBuyingPrice\":949.41,\"ttSellingPrice\":968.19,\"tcBuyingPrice\":null,\"fcSellingPrice\":null,\"exchangeCommission\":2.0268,\"usDollarRate\":0.7471,\"chartImageUrl\":{\"day\":\"https://t1.daumcdn.net/finance/chart/kr/daumforex/d/FRX.KRWJPY.png\",\"month\":\"https://t1.daumcdn.net/finance/chart/kr/daumforex/m/FRX.KRWJPY.png\",\"month3\":\"https://t1.daumcdn.net/finance/chart/kr/daumforex/m3/FRX.KRWJPY.png\",\"year\":\"https://t1.daumcdn.net/finance/chart/kr/daumforex/y/FRX.KRWJPY.png\"}},{\"symbolCode\":\"FRX.KRWCNY\",\"date\":\"2023-02-16 15:05:31\",\"currencyCode\":\"CNY\",\"currencyName\":\"위안\",\"currencyUnit\":1,\"country\":\"중국\",\"region\":{\"korName\":\"아시아\",\"engName\":\"Asia\"},\"name\":\"중국 (KRW/CNY)\",\"recurrenceCount\":519,\"basePrice\":187.09,\"change\":\"FALL\",\"changePrice\":0.35,\"changeRate\":0.0018672642,\"cashBuyingPrice\":196.44,\"cashSellingPrice\":177.74,\"ttBuyingPrice\":185.22,\"ttSellingPrice\":188.96,\"tcBuyingPrice\":null,\"fcSellingPrice\":null,\"exchangeCommission\":4.5009,\"usDollarRate\":0.1458,\"chartImageUrl\":{\"day\":\"https://t1.daumcdn.net/finance/chart/kr/daumforex/d/FRX.KRWCNY.png\",\"month\":\"https://t1.daumcdn.net/finance/chart/kr/daumforex/m/FRX.KRWCNY.png\",\"month3\":\"https://t1.daumcdn.net/finance/chart/kr/daumforex/m3/FRX.KRWCNY.png\",\"year\":\"https://t1.daumcdn.net/finance/chart/kr/daumforex/y/FRX.KRWCNY.png\"}},{\"symbolCode\":\"FRX.KRWEUR\",\"date\":\"2023-02-16 15:05:31\",\"currencyCode\":\"EUR\",\"currencyName\":\"유로\",\"currencyUnit\":1,\"country\":\"유로\",\"region\":{\"korName\":\"유럽\",\"engName\":\"Europe\"},\"name\":\"유로 (KRW/EUR)\",\"recurrenceCount\":519,\"basePrice\":1374.26,\"change\":\"FALL\",\"changePrice\":0.51,\"changeRate\":0.0003709711,\"cashBuyingPrice\":1401.6,\"cashSellingPrice\":1346.92,\"ttBuyingPrice\":1360.52,\"ttSellingPrice\":1388.0,\"tcBuyingPrice\":null,\"fcSellingPrice\":null,\"exchangeCommission\":4.349,\"usDollarRate\":1.0708,\"chartImageUrl\":{\"day\":\"https://t1.daumcdn.net/finance/chart/kr/daumforex/d/FRX.KRWEUR.png\",\"month\":\"https://t1.daumcdn.net/finance/chart/kr/daumforex/m/FRX.KRWEUR.png\",\"month3\":\"https://t1.daumcdn.net/finance/chart/kr/daumforex/m3/FRX.KRWEUR.png\",\"year\":\"https://t1.daumcdn.net/finance/chart/kr/daumforex/y/FRX.KRWEUR.png\"}},{\"symbolCode\":\"FRX.KRWGBP\",\"date\":\"2023-02-16 15:05:31\",\"currencyCode\":\"GBP\",\"currencyName\":\"파운드\",\"currencyUnit\":1,\"country\":\"영국\",\"region\":{\"korName\":\"유럽\",\"engName\":\"Europe\"},\"name\":\"영국 (KRW/GBP)\",\"recurrenceCount\":519,\"basePrice\":1545.98,\"change\":\"FALL\",\"changePrice\":1.12,\"changeRate\":0.0007239351,\"cashBuyingPrice\":1576.43,\"cashSellingPrice\":1515.53,\"ttBuyingPrice\":1530.53,\"ttSellingPrice\":1561.43,\"tcBuyingPrice\":null,\"fcSellingPrice\":null,\"exchangeCommission\":5.926,\"usDollarRate\":1.2046,\"chartImageUrl\":{\"day\":\"https://t1.daumcdn.net/finance/chart/kr/daumforex/d/FRX.KRWGBP.png\",\"month\":\"https://t1.daumcdn.net/finance/chart/kr/daumforex/m/FRX.KRWGBP.png\",\"month3\":\"https://t1.daumcdn.net/finance/chart/kr/daumforex/m3/FRX.KRWGBP.png\",\"year\":\"https://t1.daumcdn.net/finance/chart/kr/daumforex/y/FRX.KRWGBP.png\"}},{\"symbolCode\":\"FRX.KRWCHF\",\"date\":\"2023-02-16 15:05:31\",\"currencyCode\":\"CHF\",\"currencyName\":\"프랑\",\"currencyUnit\":1,\"country\":\"스위스\",\"region\":{\"korName\":\"유럽\",\"engName\":\"Europe\"},\"name\":\"스위스 (KRW/CHF)\",\"recurrenceCount\":519,\"basePrice\":1391.6,\"change\":\"FALL\",\"changePrice\":0.5,\"changeRate\":0.0003591696,\"cashBuyingPrice\":1419.01,\"cashSellingPrice\":1364.19,\"ttBuyingPrice\":1377.69,\"ttSellingPrice\":1405.51,\"tcBuyingPrice\":null,\"fcSellingPrice\":null,\"exchangeCommission\":3.007,\"usDollarRate\":1.0843,\"chartImageUrl\":{\"day\":\"https://t1.daumcdn.net/finance/chart/kr/daumforex/d/FRX.KRWCHF.png\",\"month\":\"https://t1.daumcdn.net/finance/chart/kr/daumforex/m/FRX.KRWCHF.png\",\"month3\":\"https://t1.daumcdn.net/finance/chart/kr/daumforex/m3/FRX.KRWCHF.png\",\"year\":\"https://t1.daumcdn.net/finance/chart/kr/daumforex/y/FRX.KRWCHF.png\"}},{\"symbolCode\":\"FRX.KRWCAD\",\"date\":\"2023-02-16 15:05:31\",\"currencyCode\":\"CAD\",\"currencyName\":\"달러\",\"currencyUnit\":1,\"country\":\"캐나다\",\"region\":{\"korName\":\"아메리카\",\"engName\":\"America\"},\"name\":\"캐나다 (KRW/CAD)\",\"recurrenceCount\":519,\"basePrice\":958.94,\"change\":\"FALL\",\"changePrice\":1.44,\"changeRate\":0.0014994065,\"cashBuyingPrice\":977.83,\"cashSellingPrice\":940.05,\"ttBuyingPrice\":949.36,\"ttSellingPrice\":968.52,\"tcBuyingPrice\":null,\"fcSellingPrice\":null,\"exchangeCommission\":6.4527,\"usDollarRate\":0.7472,\"chartImageUrl\":{\"day\":\"https://t1.daumcdn.net/finance/chart/kr/daumforex/d/FRX.KRWCAD.png\",\"month\":\"https://t1.daumcdn.net/finance/chart/kr/daumforex/m/FRX.KRWCAD.png\",\"month3\":\"https://t1.daumcdn.net/finance/chart/kr/daumforex/m3/FRX.KRWCAD.png\",\"year\":\"https://t1.daumcdn.net/finance/chart/kr/daumforex/y/FRX.KRWCAD.png\"}},{\"symbolCode\":\"FRX.KRWNZD\",\"date\":\"2023-02-16 15:05:21\",\"currencyCode\":\"NZD\",\"currencyName\":\"달러\",\"currencyUnit\":1,\"country\":\"뉴질랜드\",\"region\":{\"korName\":\"아시아\",\"engName\":\"Asia\"},\"name\":\"뉴질랜드 (KRW/NZD)\",\"recurrenceCount\":518,\"basePrice\":808.54,\"change\":\"RISE\",\"changePrice\":0.69,\"changeRate\":0.000854119,\"cashBuyingPrice\":824.46,\"cashSellingPrice\":792.62,\"ttBuyingPrice\":800.46,\"ttSellingPrice\":816.62,\"tcBuyingPrice\":null,\"fcSellingPrice\":null,\"exchangeCommission\":6.297,\"usDollarRate\":0.6301,\"chartImageUrl\":{\"day\":\"https://t1.daumcdn.net/finance/chart/kr/daumforex/d/FRX.KRWNZD.png\",\"month\":\"https://t1.daumcdn.net/finance/chart/kr/daumforex/m/FRX.KRWNZD.png\",\"month3\":\"https://t1.daumcdn.net/finance/chart/kr/daumforex/m3/FRX.KRWNZD.png\",\"year\":\"https://t1.daumcdn.net/finance/chart/kr/daumforex/y/FRX.KRWNZD.png\"}},{\"symbolCode\":\"FRX.KRWHKD\",\"date\":\"2023-02-16 15:05:31\",\"currencyCode\":\"HKD\",\"currencyName\":\"달러\",\"currencyUnit\":1,\"country\":\"홍콩\",\"region\":{\"korName\":\"아시아\",\"engName\":\"Asia\"},\"name\":\"홍콩 (KRW/HKD)\",\"recurrenceCount\":519,\"basePrice\":163.51,\"change\":\"FALL\",\"changePrice\":0.47,\"changeRate\":0.0028662032,\"cashBuyingPrice\":166.73,\"cashSellingPrice\":160.29,\"ttBuyingPrice\":161.88,\"ttSellingPrice\":165.14,\"tcBuyingPrice\":null,\"fcSellingPrice\":null,\"exchangeCommission\":4.839,\"usDollarRate\":0.1274,\"chartImageUrl\":{\"day\":\"https://t1.daumcdn.net/finance/chart/kr/daumforex/d/FRX.KRWHKD.png\",\"month\":\"https://t1.daumcdn.net/finance/chart/kr/daumforex/m/FRX.KRWHKD.png\",\"month3\":\"https://t1.daumcdn.net/finance/chart/kr/daumforex/m3/FRX.KRWHKD.png\",\"year\":\"https://t1.daumcdn.net/finance/chart/kr/daumforex/y/FRX.KRWHKD.png\"}},{\"symbolCode\":\"FRX.KRWBRL\",\"date\":\"2023-02-16 15:05:31\",\"currencyCode\":\"BRL\",\"currencyName\":\"레알\",\"currencyUnit\":1,\"country\":\"브라질\",\"region\":{\"korName\":\"아메리카\",\"engName\":\"America\"},\"name\":\"브라질 (KRW/BRL)\",\"recurrenceCount\":519,\"basePrice\":245.89,\"change\":\"FALL\",\"changePrice\":0.72,\"changeRate\":0.0029195896,\"cashBuyingPrice\":270.97,\"cashSellingPrice\":221.31,\"ttBuyingPrice\":242.94,\"ttSellingPrice\":0.0,\"tcBuyingPrice\":null,\"fcSellingPrice\":null,\"exchangeCommission\":14.602,\"usDollarRate\":0.1916,\"chartImageUrl\":{\"day\":\"https://t1.daumcdn.net/finance/chart/kr/daumforex/d/FRX.KRWBRL.png\",\"month\":\"https://t1.daumcdn.net/finance/chart/kr/daumforex/m/FRX.KRWBRL.png\",\"month3\":\"https://t1.daumcdn.net/finance/chart/kr/daumforex/m3/FRX.KRWBRL.png\",\"year\":\"https://t1.daumcdn.net/finance/chart/kr/daumforex/y/FRX.KRWBRL.png\"}},{\"symbolCode\":\"FRX.KRWMXN\",\"date\":\"2023-02-16 15:05:31\",\"currencyCode\":\"MXN\",\"currencyName\":\"페소\",\"currencyUnit\":1,\"country\":\"멕시코\",\"region\":{\"korName\":\"아메리카\",\"engName\":\"America\"},\"name\":\"멕시코 (KRW/MXN)\",\"recurrenceCount\":519,\"basePrice\":69.13,\"change\":\"FALL\",\"changePrice\":0.01,\"changeRate\":0.0001446341,\"cashBuyingPrice\":76.04,\"cashSellingPrice\":63.33,\"ttBuyingPrice\":68.44,\"ttSellingPrice\":69.82,\"tcBuyingPrice\":null,\"fcSellingPrice\":null,\"exchangeCommission\":13.924,\"usDollarRate\":0.0539,\"chartImageUrl\":{\"day\":\"https://t1.daumcdn.net/finance/chart/kr/daumforex/d/FRX.KRWMXN.png\",\"month\":\"https://t1.daumcdn.net/finance/chart/kr/daumforex/m/FRX.KRWMXN.png\",\"month3\":\"https://t1.daumcdn.net/finance/chart/kr/daumforex/m3/FRX.KRWMXN.png\",\"year\":\"https://t1.daumcdn.net/finance/chart/kr/daumforex/y/FRX.KRWMXN.png\"}},{\"symbolCode\":\"FRX.KRWAED\",\"date\":\"2023-02-16 15:05:31\",\"currencyCode\":\"AED\",\"currencyName\":\"디르함\",\"currencyUnit\":1,\"country\":\"아랍에미리트\",\"region\":{\"korName\":\"중동\",\"engName\":\"Middle East\"},\"name\":\"아랍에미리트 (KRW/AED)\",\"recurrenceCount\":519,\"basePrice\":349.41,\"change\":\"FALL\",\"changePrice\":0.98,\"changeRate\":0.0027968835,\"cashBuyingPrice\":368.62,\"cashSellingPrice\":325.31,\"ttBuyingPrice\":345.92,\"ttSellingPrice\":352.9,\"tcBuyingPrice\":null,\"fcSellingPrice\":null,\"exchangeCommission\":5.075,\"usDollarRate\":0.2723,\"chartImageUrl\":{\"day\":\"https://t1.daumcdn.net/finance/chart/kr/daumforex/d/FRX.KRWAED.png\",\"month\":\"https://t1.daumcdn.net/finance/chart/kr/daumforex/m/FRX.KRWAED.png\",\"month3\":\"https://t1.daumcdn.net/finance/chart/kr/daumforex/m3/FRX.KRWAED.png\",\"year\":\"https://t1.daumcdn.net/finance/chart/kr/daumforex/y/FRX.KRWAED.png\"}},{\"symbolCode\":\"FRX.KRWKWD\",\"date\":\"2023-02-16 15:05:31\",\"currencyCode\":\"KWD\",\"currencyName\":\"디나르\",\"currencyUnit\":1,\"country\":\"쿠웨이트\",\"region\":{\"korName\":\"중동\",\"engName\":\"Middle East\"},\"name\":\"쿠웨이트 (KRW/KWD)\",\"recurrenceCount\":519,\"basePrice\":4190.15,\"change\":\"FALL\",\"changePrice\":9.42,\"changeRate\":0.0022430868,\"cashBuyingPrice\":4462.5,\"cashSellingPrice\":3854.94,\"ttBuyingPrice\":4148.25,\"ttSellingPrice\":4232.05,\"tcBuyingPrice\":null,\"fcSellingPrice\":null,\"exchangeCommission\":5.66,\"usDollarRate\":3.2649,\"chartImageUrl\":{\"day\":\"https://t1.daumcdn.net/finance/chart/kr/daumforex/d/FRX.KRWKWD.png\",\"month\":\"https://t1.daumcdn.net/finance/chart/kr/daumforex/m/FRX.KRWKWD.png\",\"month3\":\"https://t1.daumcdn.net/finance/chart/kr/daumforex/m3/FRX.KRWKWD.png\",\"year\":\"https://t1.daumcdn.net/finance/chart/kr/daumforex/y/FRX.KRWKWD.png\"}},{\"symbolCode\":\"FRX.KRWBHD\",\"date\":\"2023-02-16 15:05:31\",\"currencyCode\":\"BHD\",\"currencyName\":\"디나르\",\"currencyUnit\":1,\"country\":\"바레인\",\"region\":{\"korName\":\"중동\",\"engName\":\"Middle East\"},\"name\":\"바레인 (KRW/BHD)\",\"recurrenceCount\":519,\"basePrice\":3404.88,\"change\":\"FALL\",\"changePrice\":9.64,\"changeRate\":0.0028232372,\"cashBuyingPrice\":3622.79,\"cashSellingPrice\":3132.49,\"ttBuyingPrice\":3370.84,\"ttSellingPrice\":3438.92,\"tcBuyingPrice\":null,\"fcSellingPrice\":null,\"exchangeCommission\":8.1,\"usDollarRate\":2.653,\"chartImageUrl\":{\"day\":\"https://t1.daumcdn.net/finance/chart/kr/daumforex/d/FRX.KRWBHD.png\",\"month\":\"https://t1.daumcdn.net/finance/chart/kr/daumforex/m/FRX.KRWBHD.png\",\"month3\":\"https://t1.daumcdn.net/finance/chart/kr/daumforex/m3/FRX.KRWBHD.png\",\"year\":\"https://t1.daumcdn.net/finance/chart/kr/daumforex/y/FRX.KRWBHD.png\"}},{\"symbolCode\":\"FRX.KRWINR\",\"date\":\"2023-02-16 15:05:31\",\"currencyCode\":\"INR\",\"currencyName\":\"루피\",\"currencyUnit\":1,\"country\":\"인도\",\"region\":{\"korName\":\"아시아\",\"engName\":\"Asia\"},\"name\":\"인도 (KRW/INR)\",\"recurrenceCount\":519,\"basePrice\":15.53,\"change\":\"FALL\",\"changePrice\":0.02,\"changeRate\":0.0012861736,\"cashBuyingPrice\":0.0,\"cashSellingPrice\":0.0,\"ttBuyingPrice\":0.0,\"ttSellingPrice\":0.0,\"tcBuyingPrice\":null,\"fcSellingPrice\":null,\"exchangeCommission\":8.725,\"usDollarRate\":0.0121,\"chartImageUrl\":{\"day\":\"https://t1.daumcdn.net/finance/chart/kr/daumforex/d/FRX.KRWINR.png\",\"month\":\"https://t1.daumcdn.net/finance/chart/kr/daumforex/m/FRX.KRWINR.png\",\"month3\":\"https://t1.daumcdn.net/finance/chart/kr/daumforex/m3/FRX.KRWINR.png\",\"year\":\"https://t1.daumcdn.net/finance/chart/kr/daumforex/y/FRX.KRWINR.png\"}},{\"symbolCode\":\"FRX.KRWSAR\",\"date\":\"2023-02-16 15:05:21\",\"currencyCode\":\"SAR\",\"currencyName\":\"리얄\",\"currencyUnit\":1,\"country\":\"사우디\",\"region\":{\"korName\":\"중동\",\"engName\":\"Middle East\"},\"name\":\"사우디 (KRW/SAR)\",\"recurrenceCount\":518,\"basePrice\":342.04,\"change\":\"FALL\",\"changePrice\":1.03,\"changeRate\":0.0030023027,\"cashBuyingPrice\":363.58,\"cashSellingPrice\":318.44,\"ttBuyingPrice\":338.62,\"ttSellingPrice\":345.46,\"tcBuyingPrice\":null,\"fcSellingPrice\":null,\"exchangeCommission\":7.0377,\"usDollarRate\":0.2666,\"chartImageUrl\":{\"day\":\"https://t1.daumcdn.net/finance/chart/kr/daumforex/d/FRX.KRWSAR.png\",\"month\":\"https://t1.daumcdn.net/finance/chart/kr/daumforex/m/FRX.KRWSAR.png\",\"month3\":\"https://t1.daumcdn.net/finance/chart/kr/daumforex/m3/FRX.KRWSAR.png\",\"year\":\"https://t1.daumcdn.net/finance/chart/kr/daumforex/y/FRX.KRWSAR.png\"}},{\"symbolCode\":\"FRX.KRWNOK\",\"date\":\"2023-02-16 15:05:21\",\"currencyCode\":\"NOK\",\"currencyName\":\"크로네\",\"currencyUnit\":1,\"country\":\"노르웨이\",\"region\":{\"korName\":\"유럽\",\"engName\":\"Europe\"},\"name\":\"노르웨이 (KRW/NOK)\",\"recurrenceCount\":518,\"basePrice\":126.04,\"change\":\"RISE\",\"changePrice\":0.09,\"changeRate\":0.0007145693,\"cashBuyingPrice\":129.12,\"cashSellingPrice\":122.96,\"ttBuyingPrice\":124.78,\"ttSellingPrice\":127.3,\"tcBuyingPrice\":null,\"fcSellingPrice\":null,\"exchangeCommission\":5.0693,\"usDollarRate\":0.0982,\"chartImageUrl\":{\"day\":\"https://t1.daumcdn.net/finance/chart/kr/daumforex/d/FRX.KRWNOK.png\",\"month\":\"https://t1.daumcdn.net/finance/chart/kr/daumforex/m/FRX.KRWNOK.png\",\"month3\":\"https://t1.daumcdn.net/finance/chart/kr/daumforex/m3/FRX.KRWNOK.png\",\"year\":\"https://t1.daumcdn.net/finance/chart/kr/daumforex/y/FRX.KRWNOK.png\"}},{\"symbolCode\":\"FRX.KRWDKK\",\"date\":\"2023-02-16 15:05:31\",\"currencyCode\":\"DKK\",\"currencyName\":\"크로나\",\"currencyUnit\":1,\"country\":\"덴마크\",\"region\":{\"korName\":\"유럽\",\"engName\":\"Europe\"},\"name\":\"덴마크 (KRW/DKK)\",\"recurrenceCount\":519,\"basePrice\":184.43,\"change\":\"FALL\",\"changePrice\":0.08,\"changeRate\":0.0004335808,\"cashBuyingPrice\":188.94,\"cashSellingPrice\":179.92,\"ttBuyingPrice\":182.59,\"ttSellingPrice\":186.27,\"tcBuyingPrice\":null,\"fcSellingPrice\":null,\"exchangeCommission\":4.0733,\"usDollarRate\":0.1437,\"chartImageUrl\":{\"day\":\"https://t1.daumcdn.net/finance/chart/kr/daumforex/d/FRX.KRWDKK.png\",\"month\":\"https://t1.daumcdn.net/finance/chart/kr/daumforex/m/FRX.KRWDKK.png\",\"month3\":\"https://t1.daumcdn.net/finance/chart/kr/daumforex/m3/FRX.KRWDKK.png\",\"year\":\"https://t1.daumcdn.net/finance/chart/kr/daumforex/y/FRX.KRWDKK.png\"}},{\"symbolCode\":\"FRX.KRWMYR\",\"date\":\"2023-02-16 15:05:31\",\"currencyCode\":\"MYR\",\"currencyName\":\"링키트\",\"currencyUnit\":1,\"country\":\"말레이시아\",\"region\":{\"korName\":\"아시아\",\"engName\":\"Asia\"},\"name\":\"말레이시아 (KRW/MYR)\",\"recurrenceCount\":519,\"basePrice\":291.38,\"change\":\"FALL\",\"changePrice\":1.62,\"changeRate\":0.0055290102,\"cashBuyingPrice\":309.73,\"cashSellingPrice\":269.82,\"ttBuyingPrice\":288.47,\"ttSellingPrice\":0.0,\"tcBuyingPrice\":null,\"fcSellingPrice\":null,\"exchangeCommission\":4.9557,\"usDollarRate\":0.227,\"chartImageUrl\":{\"day\":\"https://t1.daumcdn.net/finance/chart/kr/daumforex/d/FRX.KRWMYR.png\",\"month\":\"https://t1.daumcdn.net/finance/chart/kr/daumforex/m/FRX.KRWMYR.png\",\"month3\":\"https://t1.daumcdn.net/finance/chart/kr/daumforex/m3/FRX.KRWMYR.png\",\"year\":\"https://t1.daumcdn.net/finance/chart/kr/daumforex/y/FRX.KRWMYR.png\"}},{\"symbolCode\":\"FRX.KRWBDT\",\"date\":\"2023-02-16 15:05:31\",\"currencyCode\":\"BDT\",\"currencyName\":\"타카\",\"currencyUnit\":1,\"country\":\"방글라데시\",\"region\":{\"korName\":\"아시아\",\"engName\":\"Asia\"},\"name\":\"방글라데시 (KRW/BDT)\",\"recurrenceCount\":519,\"basePrice\":12.13,\"change\":\"RISE\",\"changePrice\":0.02,\"changeRate\":0.0016515277,\"cashBuyingPrice\":0.0,\"cashSellingPrice\":0.0,\"ttBuyingPrice\":0.0,\"ttSellingPrice\":0.0,\"tcBuyingPrice\":null,\"fcSellingPrice\":null,\"exchangeCommission\":8.0451,\"usDollarRate\":0.0095,\"chartImageUrl\":{\"day\":\"https://t1.daumcdn.net/finance/chart/kr/daumforex/d/FRX.KRWBDT.png\",\"month\":\"https://t1.daumcdn.net/finance/chart/kr/daumforex/m/FRX.KRWBDT.png\",\"month3\":\"https://t1.daumcdn.net/finance/chart/kr/daumforex/m3/FRX.KRWBDT.png\",\"year\":\"https://t1.daumcdn.net/finance/chart/kr/daumforex/y/FRX.KRWBDT.png\"}},{\"symbolCode\":\"FRX.KRWPKR\",\"date\":\"2023-02-16 15:05:21\",\"currencyCode\":\"PKR\",\"currencyName\":\"루피\",\"currencyUnit\":1,\"country\":\"파키스탄\",\"region\":{\"korName\":\"아시아\",\"engName\":\"Asia\"},\"name\":\"파키스탄 (KRW/PKR)\",\"recurrenceCount\":518,\"basePrice\":4.86,\"change\":\"RISE\",\"changePrice\":0.02,\"changeRate\":0.0041322314,\"cashBuyingPrice\":0.0,\"cashSellingPrice\":0.0,\"ttBuyingPrice\":0.0,\"ttSellingPrice\":0.0,\"tcBuyingPrice\":null,\"fcSellingPrice\":null,\"exchangeCommission\":18.6817,\"usDollarRate\":0.0038,\"chartImageUrl\":{\"day\":\"https://t1.daumcdn.net/finance/chart/kr/daumforex/d/FRX.KRWPKR.png\",\"month\":\"https://t1.daumcdn.net/finance/chart/kr/daumforex/m/FRX.KRWPKR.png\",\"month3\":\"https://t1.daumcdn.net/finance/chart/kr/daumforex/m3/FRX.KRWPKR.png\",\"year\":\"https://t1.daumcdn.net/finance/chart/kr/daumforex/y/FRX.KRWPKR.png\"}},{\"symbolCode\":\"FRX.KRWIDR\",\"date\":\"2023-02-16 15:05:31\",\"currencyCode\":\"IDR\",\"currencyName\":\"루피아\",\"currencyUnit\":100,\"country\":\"인도네시아\",\"region\":{\"korName\":\"아시아\",\"engName\":\"Asia\"},\"name\":\"인도네시아 (KRW/IDR100)\",\"recurrenceCount\":519,\"basePrice\":8.47,\"change\":\"FALL\",\"changePrice\":0.01,\"changeRate\":0.0011792453,\"cashBuyingPrice\":9.31,\"cashSellingPrice\":7.63,\"ttBuyingPrice\":8.39,\"ttSellingPrice\":8.55,\"tcBuyingPrice\":null,\"fcSellingPrice\":null,\"exchangeCommission\":8.3017,\"usDollarRate\":0.0066,\"chartImageUrl\":{\"day\":\"https://t1.daumcdn.net/finance/chart/kr/daumforex/d/FRX.KRWIDR.png\",\"month\":\"https://t1.daumcdn.net/finance/chart/kr/daumforex/m/FRX.KRWIDR.png\",\"month3\":\"https://t1.daumcdn.net/finance/chart/kr/daumforex/m3/FRX.KRWIDR.png\",\"year\":\"https://t1.daumcdn.net/finance/chart/kr/daumforex/y/FRX.KRWIDR.png\"}},{\"symbolCode\":\"FRX.KRWTWD\",\"date\":\"2023-02-16 15:05:21\",\"currencyCode\":\"TWD\",\"currencyName\":\"달러\",\"currencyUnit\":1,\"country\":\"대만\",\"region\":{\"korName\":\"아시아\",\"engName\":\"Asia\"},\"name\":\"대만 (KRW/TWD)\",\"recurrenceCount\":518,\"basePrice\":42.38,\"change\":\"EVEN\",\"changePrice\":0.0,\"changeRate\":0,\"cashBuyingPrice\":47.93,\"cashSellingPrice\":38.15,\"ttBuyingPrice\":0.0,\"ttSellingPrice\":0.0,\"tcBuyingPrice\":null,\"fcSellingPrice\":null,\"exchangeCommission\":3.2317,\"usDollarRate\":0.033,\"chartImageUrl\":{\"day\":\"https://t1.daumcdn.net/finance/chart/kr/daumforex/d/FRX.KRWTWD.png\",\"month\":\"https://t1.daumcdn.net/finance/chart/kr/daumforex/m/FRX.KRWTWD.png\",\"month3\":\"https://t1.daumcdn.net/finance/chart/kr/daumforex/m3/FRX.KRWTWD.png\",\"year\":\"https://t1.daumcdn.net/finance/chart/kr/daumforex/y/FRX.KRWTWD.png\"}},{\"symbolCode\":\"FRX.KRWPHP\",\"date\":\"2023-02-16 15:05:21\",\"currencyCode\":\"PHP\",\"currencyName\":\"페소\",\"currencyUnit\":1,\"country\":\"필리핀\",\"region\":{\"korName\":\"아시아\",\"engName\":\"Asia\"},\"name\":\"필리핀 (KRW/PHP)\",\"recurrenceCount\":518,\"basePrice\":23.25,\"change\":\"FALL\",\"changePrice\":0.02,\"changeRate\":0.0008594757,\"cashBuyingPrice\":25.57,\"cashSellingPrice\":21.35,\"ttBuyingPrice\":23.02,\"ttSellingPrice\":23.48,\"tcBuyingPrice\":null,\"fcSellingPrice\":null,\"exchangeCommission\":7.718,\"usDollarRate\":0.0181,\"chartImageUrl\":{\"day\":\"https://t1.daumcdn.net/finance/chart/kr/daumforex/d/FRX.KRWPHP.png\",\"month\":\"https://t1.daumcdn.net/finance/chart/kr/daumforex/m/FRX.KRWPHP.png\",\"month3\":\"https://t1.daumcdn.net/finance/chart/kr/daumforex/m3/FRX.KRWPHP.png\",\"year\":\"https://t1.daumcdn.net/finance/chart/kr/daumforex/y/FRX.KRWPHP.png\"}},{\"symbolCode\":\"FRX.KRWSEK\",\"date\":\"2023-02-16 15:05:21\",\"currencyCode\":\"SEK\",\"currencyName\":\"크로나\",\"currencyUnit\":1,\"country\":\"스웨덴\",\"region\":{\"korName\":\"유럽\",\"engName\":\"Europe\"},\"name\":\"스웨덴 (KRW/SEK)\",\"recurrenceCount\":518,\"basePrice\":123.4,\"change\":\"RISE\",\"changePrice\":0.14,\"changeRate\":0.0011358105,\"cashBuyingPrice\":126.42,\"cashSellingPrice\":120.38,\"ttBuyingPrice\":122.17,\"ttSellingPrice\":124.63,\"tcBuyingPrice\":null,\"fcSellingPrice\":null,\"exchangeCommission\":4.784,\"usDollarRate\":0.0962,\"chartImageUrl\":{\"day\":\"https://t1.daumcdn.net/finance/chart/kr/daumforex/d/FRX.KRWSEK.png\",\"month\":\"https://t1.daumcdn.net/finance/chart/kr/daumforex/m/FRX.KRWSEK.png\",\"month3\":\"https://t1.daumcdn.net/finance/chart/kr/daumforex/m3/FRX.KRWSEK.png\",\"year\":\"https://t1.daumcdn.net/finance/chart/kr/daumforex/y/FRX.KRWSEK.png\"}},{\"symbolCode\":\"FRX.KRWAUD\",\"date\":\"2023-02-16 15:05:31\",\"currencyCode\":\"AUD\",\"currencyName\":\"달러\",\"currencyUnit\":1,\"country\":\"호주\",\"region\":{\"korName\":\"아시아\",\"engName\":\"Asia\"},\"name\":\"호주 (KRW/AUD)\",\"recurrenceCount\":519,\"basePrice\":887.41,\"change\":\"FALL\",\"changePrice\":0.49,\"changeRate\":0.0005518639,\"cashBuyingPrice\":904.89,\"cashSellingPrice\":869.93,\"ttBuyingPrice\":878.54,\"ttSellingPrice\":896.28,\"tcBuyingPrice\":null,\"fcSellingPrice\":null,\"exchangeCommission\":5.262,\"usDollarRate\":0.6915,\"chartImageUrl\":{\"day\":\"https://t1.daumcdn.net/finance/chart/kr/daumforex/d/FRX.KRWAUD.png\",\"month\":\"https://t1.daumcdn.net/finance/chart/kr/daumforex/m/FRX.KRWAUD.png\",\"month3\":\"https://t1.daumcdn.net/finance/chart/kr/daumforex/m3/FRX.KRWAUD.png\",\"year\":\"https://t1.daumcdn.net/finance/chart/kr/daumforex/y/FRX.KRWAUD.png\"}},{\"symbolCode\":\"FRX.KRWSGD\",\"date\":\"2023-02-16 15:05:21\",\"currencyCode\":\"SGD\",\"currencyName\":\"달러\",\"currencyUnit\":1,\"country\":\"싱가포르\",\"region\":{\"korName\":\"아시아\",\"engName\":\"Asia\"},\"name\":\"싱가포르 (KRW/SGD)\",\"recurrenceCount\":518,\"basePrice\":961.96,\"change\":\"FALL\",\"changePrice\":0.97,\"changeRate\":0.0010073422,\"cashBuyingPrice\":981.1,\"cashSellingPrice\":942.82,\"ttBuyingPrice\":952.35,\"ttSellingPrice\":971.57,\"tcBuyingPrice\":null,\"fcSellingPrice\":null,\"exchangeCommission\":6.254,\"usDollarRate\":0.7497,\"chartImageUrl\":{\"day\":\"https://t1.daumcdn.net/finance/chart/kr/daumforex/d/FRX.KRWSGD.png\",\"month\":\"https://t1.daumcdn.net/finance/chart/kr/daumforex/m/FRX.KRWSGD.png\",\"month3\":\"https://t1.daumcdn.net/finance/chart/kr/daumforex/m3/FRX.KRWSGD.png\",\"year\":\"https://t1.daumcdn.net/finance/chart/kr/daumforex/y/FRX.KRWSGD.png\"}},{\"symbolCode\":\"FRX.KRWTHB\",\"date\":\"2023-02-16 15:05:21\",\"currencyCode\":\"THB\",\"currencyName\":\"바트\",\"currencyUnit\":1,\"country\":\"태국\",\"region\":{\"korName\":\"아시아\",\"engName\":\"Asia\"},\"name\":\"태국 (KRW/THB)\",\"recurrenceCount\":518,\"basePrice\":37.46,\"change\":\"FALL\",\"changePrice\":0.02,\"changeRate\":0.0005336179,\"cashBuyingPrice\":39.33,\"cashSellingPrice\":35.22,\"ttBuyingPrice\":37.09,\"ttSellingPrice\":37.83,\"tcBuyingPrice\":null,\"fcSellingPrice\":null,\"exchangeCommission\":3.472,\"usDollarRate\":0.0292,\"chartImageUrl\":{\"day\":\"https://t1.daumcdn.net/finance/chart/kr/daumforex/d/FRX.KRWTHB.png\",\"month\":\"https://t1.daumcdn.net/finance/chart/kr/daumforex/m/FRX.KRWTHB.png\",\"month3\":\"https://t1.daumcdn.net/finance/chart/kr/daumforex/m3/FRX.KRWTHB.png\",\"year\":\"https://t1.daumcdn.net/finance/chart/kr/daumforex/y/FRX.KRWTHB.png\"}},{\"symbolCode\":\"FRX.KRWEGP\",\"date\":\"2023-02-16 15:05:31\",\"currencyCode\":\"EGP\",\"currencyName\":\"파운드\",\"currencyUnit\":1,\"country\":\"이집트\",\"region\":{\"korName\":\"중동\",\"engName\":\"Middle East\"},\"name\":\"이집트 (KRW/EGP)\",\"recurrenceCount\":519,\"basePrice\":41.91,\"change\":\"FALL\",\"changePrice\":0.22,\"changeRate\":0.0052219321,\"cashBuyingPrice\":0.0,\"cashSellingPrice\":0.0,\"ttBuyingPrice\":0.0,\"ttSellingPrice\":0.0,\"tcBuyingPrice\":null,\"fcSellingPrice\":null,\"exchangeCommission\":7.225,\"usDollarRate\":0.0327,\"chartImageUrl\":{\"day\":\"https://t1.daumcdn.net/finance/chart/kr/daumforex/d/FRX.KRWEGP.png\",\"month\":\"https://t1.daumcdn.net/finance/chart/kr/daumforex/m/FRX.KRWEGP.png\",\"month3\":\"https://t1.daumcdn.net/finance/chart/kr/daumforex/m3/FRX.KRWEGP.png\",\"year\":\"https://t1.daumcdn.net/finance/chart/kr/daumforex/y/FRX.KRWEGP.png\"}},{\"symbolCode\":\"FRX.KRWBND\",\"date\":\"2023-02-16 15:05:31\",\"currencyCode\":\"BND\",\"currencyName\":\"달러\",\"currencyUnit\":1,\"country\":\"브루나이\",\"region\":{\"korName\":\"아시아\",\"engName\":\"Asia\"},\"name\":\"브루나이 (KRW/BND)\",\"recurrenceCount\":519,\"basePrice\":962.11,\"change\":\"FALL\",\"changePrice\":0.82,\"changeRate\":0.0008515676,\"cashBuyingPrice\":1000.59,\"cashSellingPrice\":904.39,\"ttBuyingPrice\":0.0,\"ttSellingPrice\":0.0,\"tcBuyingPrice\":null,\"fcSellingPrice\":null,\"exchangeCommission\":5.905,\"usDollarRate\":0.7497,\"chartImageUrl\":{\"day\":\"https://t1.daumcdn.net/finance/chart/kr/daumforex/d/FRX.KRWBND.png\",\"month\":\"https://t1.daumcdn.net/finance/chart/kr/daumforex/m/FRX.KRWBND.png\",\"month3\":\"https://t1.daumcdn.net/finance/chart/kr/daumforex/m3/FRX.KRWBND.png\",\"year\":\"https://t1.daumcdn.net/finance/chart/kr/daumforex/y/FRX.KRWBND.png\"}},{\"symbolCode\":\"FRX.KRWILS\",\"date\":\"2023-02-16 15:05:31\",\"currencyCode\":\"ILS\",\"currencyName\":\"쉐캐림\",\"currencyUnit\":1,\"country\":\"이스라엘\",\"region\":{\"korName\":\"중동\",\"engName\":\"Middle East\"},\"name\":\"이스라엘 (KRW/ILS)\",\"recurrenceCount\":519,\"basePrice\":364.87,\"change\":\"FALL\",\"changePrice\":0.25,\"changeRate\":0.0006847064,\"cashBuyingPrice\":401.35,\"cashSellingPrice\":335.69,\"ttBuyingPrice\":0.0,\"ttSellingPrice\":0.0,\"tcBuyingPrice\":null,\"fcSellingPrice\":null,\"exchangeCommission\":5.8573,\"usDollarRate\":0.2843,\"chartImageUrl\":{\"day\":\"https://t1.daumcdn.net/finance/chart/kr/daumforex/d/FRX.KRWILS.png\",\"month\":\"https://t1.daumcdn.net/finance/chart/kr/daumforex/m/FRX.KRWILS.png\",\"month3\":\"https://t1.daumcdn.net/finance/chart/kr/daumforex/m3/FRX.KRWILS.png\",\"year\":\"https://t1.daumcdn.net/finance/chart/kr/daumforex/y/FRX.KRWILS.png\"}},{\"symbolCode\":\"FRX.KRWJOD\",\"date\":\"2023-02-16 15:05:31\",\"currencyCode\":\"JOD\",\"currencyName\":\"디나르\",\"currencyUnit\":1,\"country\":\"요르단\",\"region\":{\"korName\":\"중동\",\"engName\":\"Middle East\"},\"name\":\"요르단 (KRW/JOD)\",\"recurrenceCount\":519,\"basePrice\":1807.99,\"change\":\"FALL\",\"changePrice\":6.35,\"changeRate\":0.0034998953,\"cashBuyingPrice\":1968.9,\"cashSellingPrice\":1663.36,\"ttBuyingPrice\":0.0,\"ttSellingPrice\":0.0,\"tcBuyingPrice\":null,\"fcSellingPrice\":null,\"exchangeCommission\":9.124,\"usDollarRate\":1.4088,\"chartImageUrl\":{\"day\":\"https://t1.daumcdn.net/finance/chart/kr/daumforex/d/FRX.KRWJOD.png\",\"month\":\"https://t1.daumcdn.net/finance/chart/kr/daumforex/m/FRX.KRWJOD.png\",\"month3\":\"https://t1.daumcdn.net/finance/chart/kr/daumforex/m3/FRX.KRWJOD.png\",\"year\":\"https://t1.daumcdn.net/finance/chart/kr/daumforex/y/FRX.KRWJOD.png\"}},{\"symbolCode\":\"FRX.KRWVND\",\"date\":\"2023-02-16 15:05:21\",\"currencyCode\":\"VND\",\"currencyName\":\"동\",\"currencyUnit\":100,\"country\":\"베트남\",\"region\":{\"korName\":\"아시아\",\"engName\":\"Asia\"},\"name\":\"베트남 (KRW/VND100)\",\"recurrenceCount\":518,\"basePrice\":5.43,\"change\":\"FALL\",\"changePrice\":0.02,\"changeRate\":0.0036697248,\"cashBuyingPrice\":6.07,\"cashSellingPrice\":4.79,\"ttBuyingPrice\":5.38,\"ttSellingPrice\":5.48,\"tcBuyingPrice\":null,\"fcSellingPrice\":null,\"exchangeCommission\":9.525,\"usDollarRate\":0.0042,\"chartImageUrl\":{\"day\":\"https://t1.daumcdn.net/finance/chart/kr/daumforex/d/FRX.KRWVND.png\",\"month\":\"https://t1.daumcdn.net/finance/chart/kr/daumforex/m/FRX.KRWVND.png\",\"month3\":\"https://t1.daumcdn.net/finance/chart/kr/daumforex/m3/FRX.KRWVND.png\",\"year\":\"https://t1.daumcdn.net/finance/chart/kr/daumforex/y/FRX.KRWVND.png\"}},{\"symbolCode\":\"FRX.KRWRUB\",\"date\":\"2023-02-16 15:05:21\",\"currencyCode\":\"RUB\",\"currencyName\":\"루블\",\"currencyUnit\":1,\"country\":\"러시아\",\"region\":{\"korName\":\"유럽\",\"engName\":\"Europe\"},\"name\":\"러시아 (KRW/RUB)\",\"recurrenceCount\":518,\"basePrice\":17.17,\"change\":\"FALL\",\"changePrice\":0.07,\"changeRate\":0.0040603248,\"cashBuyingPrice\":18.8,\"cashSellingPrice\":14.17,\"ttBuyingPrice\":16.57,\"ttSellingPrice\":17.77,\"tcBuyingPrice\":null,\"fcSellingPrice\":null,\"exchangeCommission\":2.975,\"usDollarRate\":0.0134,\"chartImageUrl\":{\"day\":\"https://t1.daumcdn.net/finance/chart/kr/daumforex/d/FRX.KRWRUB.png\",\"month\":\"https://t1.daumcdn.net/finance/chart/kr/daumforex/m/FRX.KRWRUB.png\",\"month3\":\"https://t1.daumcdn.net/finance/chart/kr/daumforex/m3/FRX.KRWRUB.png\",\"year\":\"https://t1.daumcdn.net/finance/chart/kr/daumforex/y/FRX.KRWRUB.png\"}},{\"symbolCode\":\"FRX.KRWHUF\",\"date\":\"2023-02-16 15:05:31\",\"currencyCode\":\"HUF\",\"currencyName\":\"포린트\",\"currencyUnit\":1,\"country\":\"헝가리\",\"region\":{\"korName\":\"유럽\",\"engName\":\"Europe\"},\"name\":\"헝가리 (KRW/HUF)\",\"recurrenceCount\":519,\"basePrice\":3.62,\"change\":\"RISE\",\"changePrice\":0.01,\"changeRate\":0.0027700831,\"cashBuyingPrice\":3.95,\"cashSellingPrice\":3.34,\"ttBuyingPrice\":3.59,\"ttSellingPrice\":3.65,\"tcBuyingPrice\":null,\"fcSellingPrice\":null,\"exchangeCommission\":18.8407,\"usDollarRate\":0.0028,\"chartImageUrl\":{\"day\":\"https://t1.daumcdn.net/finance/chart/kr/daumforex/d/FRX.KRWHUF.png\",\"month\":\"https://t1.daumcdn.net/finance/chart/kr/daumforex/m/FRX.KRWHUF.png\",\"month3\":\"https://t1.daumcdn.net/finance/chart/kr/daumforex/m3/FRX.KRWHUF.png\",\"year\":\"https://t1.daumcdn.net/finance/chart/kr/daumforex/y/FRX.KRWHUF.png\"}},{\"symbolCode\":\"FRX.KRWPLN\",\"date\":\"2023-02-16 15:05:21\",\"currencyCode\":\"PLN\",\"currencyName\":\"줄러티\",\"currencyUnit\":1,\"country\":\"폴란드\",\"region\":{\"korName\":\"유럽\",\"engName\":\"Europe\"},\"name\":\"폴란드 (KRW/PLN)\",\"recurrenceCount\":518,\"basePrice\":288.52,\"change\":\"FALL\",\"changePrice\":0.23,\"changeRate\":0.0007965368,\"cashBuyingPrice\":311.6,\"cashSellingPrice\":265.44,\"ttBuyingPrice\":285.35,\"ttSellingPrice\":291.69,\"tcBuyingPrice\":null,\"fcSellingPrice\":null,\"exchangeCommission\":9.5963,\"usDollarRate\":0.2248,\"chartImageUrl\":{\"day\":\"https://t1.daumcdn.net/finance/chart/kr/daumforex/d/FRX.KRWPLN.png\",\"month\":\"https://t1.daumcdn.net/finance/chart/kr/daumforex/m/FRX.KRWPLN.png\",\"month3\":\"https://t1.daumcdn.net/finance/chart/kr/daumforex/m3/FRX.KRWPLN.png\",\"year\":\"https://t1.daumcdn.net/finance/chart/kr/daumforex/y/FRX.KRWPLN.png\"}},{\"symbolCode\":\"FRX.KRWZAR\",\"date\":\"2023-02-16 15:05:21\",\"currencyCode\":\"ZAR\",\"currencyName\":\"랜드\",\"currencyUnit\":1,\"country\":\"남아공\",\"region\":{\"korName\":\"중동\",\"engName\":\"Middle East\"},\"name\":\"남아공 (KRW/ZAR)\",\"recurrenceCount\":518,\"basePrice\":71.26,\"change\":\"FALL\",\"changePrice\":0.08,\"changeRate\":0.0011213905,\"cashBuyingPrice\":76.96,\"cashSellingPrice\":65.56,\"ttBuyingPrice\":70.41,\"ttSellingPrice\":72.11,\"tcBuyingPrice\":null,\"fcSellingPrice\":null,\"exchangeCommission\":10.112,\"usDollarRate\":0.0555,\"chartImageUrl\":{\"day\":\"https://t1.daumcdn.net/finance/chart/kr/daumforex/d/FRX.KRWZAR.png\",\"month\":\"https://t1.daumcdn.net/finance/chart/kr/daumforex/m/FRX.KRWZAR.png\",\"month3\":\"https://t1.daumcdn.net/finance/chart/kr/daumforex/m3/FRX.KRWZAR.png\",\"year\":\"https://t1.daumcdn.net/finance/chart/kr/daumforex/y/FRX.KRWZAR.png\"}},{\"symbolCode\":\"FRX.KRWMNT\",\"date\":\"2023-02-16 15:05:31\",\"currencyCode\":\"MNT\",\"currencyName\":\"투그릭\",\"currencyUnit\":1,\"country\":\"몽골\",\"region\":{\"korName\":\"아시아\",\"engName\":\"Asia\"},\"name\":\"몽골 (KRW/MNT)\",\"recurrenceCount\":519,\"basePrice\":0.36,\"change\":\"FALL\",\"changePrice\":0.01,\"changeRate\":0.027027027,\"cashBuyingPrice\":0.0,\"cashSellingPrice\":0.0,\"ttBuyingPrice\":0.0,\"ttSellingPrice\":0.0,\"tcBuyingPrice\":null,\"fcSellingPrice\":null,\"exchangeCommission\":13.475,\"usDollarRate\":0.0003,\"chartImageUrl\":{\"day\":\"https://t1.daumcdn.net/finance/chart/kr/daumforex/d/FRX.KRWMNT.png\",\"month\":\"https://t1.daumcdn.net/finance/chart/kr/daumforex/m/FRX.KRWMNT.png\",\"month3\":\"https://t1.daumcdn.net/finance/chart/kr/daumforex/m3/FRX.KRWMNT.png\",\"year\":\"https://t1.daumcdn.net/finance/chart/kr/daumforex/y/FRX.KRWMNT.png\"}},{\"symbolCode\":\"FRX.KRWCZK\",\"date\":\"2023-02-16 15:05:31\",\"currencyCode\":\"CZK\",\"currencyName\":\"코루나\",\"currencyUnit\":1,\"country\":\"체코\",\"region\":{\"korName\":\"유럽\",\"engName\":\"Europe\"},\"name\":\"체코 (KRW/CZK)\",\"recurrenceCount\":519,\"basePrice\":58.17,\"change\":\"RISE\",\"changePrice\":0.01,\"changeRate\":0.0001719395,\"cashBuyingPrice\":63.11,\"cashSellingPrice\":52.94,\"ttBuyingPrice\":57.54,\"ttSellingPrice\":58.8,\"tcBuyingPrice\":null,\"fcSellingPrice\":null,\"exchangeCommission\":9.136,\"usDollarRate\":0.0453,\"chartImageUrl\":{\"day\":\"https://t1.daumcdn.net/finance/chart/kr/daumforex/d/FRX.KRWCZK.png\",\"month\":\"https://t1.daumcdn.net/finance/chart/kr/daumforex/m/FRX.KRWCZK.png\",\"month3\":\"https://t1.daumcdn.net/finance/chart/kr/daumforex/m3/FRX.KRWCZK.png\",\"year\":\"https://t1.daumcdn.net/finance/chart/kr/daumforex/y/FRX.KRWCZK.png\"}},{\"symbolCode\":\"FRX.KRWKZT\",\"date\":\"2023-02-16 15:05:31\",\"currencyCode\":\"KZT\",\"currencyName\":\"텡게\",\"currencyUnit\":1,\"country\":\"카자흐스탄\",\"region\":{\"korName\":\"아시아\",\"engName\":\"Asia\"},\"name\":\"카자흐스탄 (KRW/KZT)\",\"recurrenceCount\":519,\"basePrice\":2.89,\"change\":\"RISE\",\"changePrice\":0.01,\"changeRate\":0.0034722222,\"cashBuyingPrice\":0.0,\"cashSellingPrice\":0.0,\"ttBuyingPrice\":0.0,\"ttSellingPrice\":0.0,\"tcBuyingPrice\":null,\"fcSellingPrice\":null,\"exchangeCommission\":19.475,\"usDollarRate\":0.0023,\"chartImageUrl\":{\"day\":\"https://t1.daumcdn.net/finance/chart/kr/daumforex/d/FRX.KRWKZT.png\",\"month\":\"https://t1.daumcdn.net/finance/chart/kr/daumforex/m/FRX.KRWKZT.png\",\"month3\":\"https://t1.daumcdn.net/finance/chart/kr/daumforex/m3/FRX.KRWKZT.png\",\"year\":\"https://t1.daumcdn.net/finance/chart/kr/daumforex/y/FRX.KRWKZT.png\"}},{\"symbolCode\":\"FRX.KRWQAR\",\"date\":\"2023-02-16 15:05:21\",\"currencyCode\":\"QAR\",\"currencyName\":\"리얄\",\"currencyUnit\":1,\"country\":\"카타르\",\"region\":{\"korName\":\"중동\",\"engName\":\"Middle East\"},\"name\":\"카타르 (KRW/QAR)\",\"recurrenceCount\":518,\"basePrice\":351.79,\"change\":\"FALL\",\"changePrice\":1.04,\"changeRate\":0.0029475952,\"cashBuyingPrice\":0.0,\"cashSellingPrice\":0.0,\"ttBuyingPrice\":0.0,\"ttSellingPrice\":0.0,\"tcBuyingPrice\":null,\"fcSellingPrice\":null,\"exchangeCommission\":3.355,\"usDollarRate\":0.2742,\"chartImageUrl\":{\"day\":\"https://t1.daumcdn.net/finance/chart/kr/daumforex/d/FRX.KRWQAR.png\",\"month\":\"https://t1.daumcdn.net/finance/chart/kr/daumforex/m/FRX.KRWQAR.png\",\"month3\":\"https://t1.daumcdn.net/finance/chart/kr/daumforex/m3/FRX.KRWQAR.png\",\"year\":\"https://t1.daumcdn.net/finance/chart/kr/daumforex/y/FRX.KRWQAR.png\"}},{\"symbolCode\":\"FRX.KRWTRY\",\"date\":\"2023-02-16 15:05:21\",\"currencyCode\":\"TRY\",\"currencyName\":\"리라\",\"currencyUnit\":1,\"country\":\"터키\",\"region\":{\"korName\":\"중동\",\"engName\":\"Middle East\"},\"name\":\"터키 (KRW/TRY)\",\"recurrenceCount\":518,\"basePrice\":68.06,\"change\":\"FALL\",\"changePrice\":0.21,\"changeRate\":0.0030760217,\"cashBuyingPrice\":0.0,\"cashSellingPrice\":0.0,\"ttBuyingPrice\":67.32,\"ttSellingPrice\":68.8,\"tcBuyingPrice\":null,\"fcSellingPrice\":null,\"exchangeCommission\":26.4,\"usDollarRate\":0.053,\"chartImageUrl\":{\"day\":\"https://t1.daumcdn.net/finance/chart/kr/daumforex/d/FRX.KRWTRY.png\",\"month\":\"https://t1.daumcdn.net/finance/chart/kr/daumforex/m/FRX.KRWTRY.png\",\"month3\":\"https://t1.daumcdn.net/finance/chart/kr/daumforex/m3/FRX.KRWTRY.png\",\"year\":\"https://t1.daumcdn.net/finance/chart/kr/daumforex/y/FRX.KRWTRY.png\"}}],\"baseDate\":\"2023-02-16 15:05:31\",\"recurrenceCount\":519,\"provider\":\"하나은행\"}'"
      ]
     },
     "execution_count": 10,
     "metadata": {},
     "output_type": "execute_result"
    }
   ],
   "source": [
    "response.text"
   ]
  },
  {
   "cell_type": "code",
   "execution_count": 14,
   "id": "46b3c7f0",
   "metadata": {},
   "outputs": [
    {
     "data": {
      "text/plain": [
       "20"
      ]
     },
     "execution_count": 14,
     "metadata": {},
     "output_type": "execute_result"
    }
   ],
   "source": [
    "pd.options.display.max_columns"
   ]
  },
  {
   "cell_type": "code",
   "execution_count": null,
   "id": "5399a0b2",
   "metadata": {},
   "outputs": [],
   "source": []
  },
  {
   "cell_type": "code",
   "execution_count": null,
   "id": "5ee7f764",
   "metadata": {},
   "outputs": [],
   "source": []
  },
  {
   "cell_type": "code",
   "execution_count": null,
   "id": "b39eae98",
   "metadata": {},
   "outputs": [],
   "source": []
  },
  {
   "cell_type": "code",
   "execution_count": null,
   "id": "795019f0",
   "metadata": {},
   "outputs": [],
   "source": []
  },
  {
   "cell_type": "code",
   "execution_count": null,
   "id": "1c1ab03e",
   "metadata": {},
   "outputs": [],
   "source": []
  },
  {
   "cell_type": "code",
   "execution_count": null,
   "id": "c2ef3a27",
   "metadata": {},
   "outputs": [],
   "source": []
  }
 ],
 "metadata": {
  "kernelspec": {
   "display_name": "Python 3 (ipykernel)",
   "language": "python",
   "name": "python3"
  },
  "language_info": {
   "codemirror_mode": {
    "name": "ipython",
    "version": 3
   },
   "file_extension": ".py",
   "mimetype": "text/x-python",
   "name": "python",
   "nbconvert_exporter": "python",
   "pygments_lexer": "ipython3",
   "version": "3.9.13"
  }
 },
 "nbformat": 4,
 "nbformat_minor": 5
}
