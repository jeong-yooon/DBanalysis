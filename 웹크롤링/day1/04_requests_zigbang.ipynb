{
 "cells": [
  {
   "cell_type": "markdown",
   "id": "7f66f2ff",
   "metadata": {},
   "source": [
    "### summary\n",
    "- web: server-client : url\n",
    "- requests : 동적페이지 : URL 변화 없이 페이지의 데이터 수정 : json(str) > response.json() > DataFrame\n",
    "- requests : 정적페이지 : URL 변화 있이 페이지의 데이터 수정 : html(str) > beautifulSoup > css-selector > DataFrame\n",
    "- selenium : 웹브라우져를 python코드로 컨트롤해서 데이터 수집\n",
    "- requests(동적페이지, API) > requests(정적페이지) > selenium\n",
    "\n",
    "#### 웹크롤링 절차\n",
    "1. 웹서비스분석(개발자도구), API문서 : URL\n",
    "2. request(URL) > response(data) : data(json(str), html(str))\n",
    "3. data(json(str), html(str)) > response.json(), BeautifulSoup(css-selector) > DataFrame\n",
    "\n",
    "- request 할때 401, 403, 500 등등의 에러가 발생하는 경우 > headers 수정해서 데이터 요청(user-agent, refere)\n",
    "- API 이용: request token 수집후 크롤링"
   ]
  },
  {
   "cell_type": "markdown",
   "id": "democratic-utility",
   "metadata": {},
   "source": [
    "### Zigbang 원룸 매물 데이터 수집"
   ]
  },
  {
   "cell_type": "markdown",
   "id": "8117e635",
   "metadata": {},
   "source": [
    "- 동이름 입력 > 매물 데이터 출력"
   ]
  },
  {
   "cell_type": "code",
   "execution_count": 2,
   "id": "9affefe3",
   "metadata": {},
   "outputs": [],
   "source": [
    "import pandas as pd\n",
    "import requests"
   ]
  },
  {
   "cell_type": "markdown",
   "id": "whole-answer",
   "metadata": {},
   "source": [
    "#### Process\n",
    "    - 동이름으로 위도 경도 구하기\n",
    "    - 위도 경도로 geohash 알아내기\n",
    "    - geohash로 매물 아이디 가져오기\n",
    "    - 매물 아이디로 매물 정보 가져오기"
   ]
  },
  {
   "cell_type": "markdown",
   "id": "b98f0c6c",
   "metadata": {},
   "source": [
    "#### 1. 동이름으로 위도 경도 구하기"
   ]
  },
  {
   "cell_type": "code",
   "execution_count": 9,
   "id": "5847db00",
   "metadata": {},
   "outputs": [
    {
     "data": {
      "text/plain": [
       "<Response [200]>"
      ]
     },
     "execution_count": 9,
     "metadata": {},
     "output_type": "execute_result"
    }
   ],
   "source": [
    "# 1. URL\n",
    "address = '개포동'\n",
    "url = 'https://apis.zigbang.com/v2/search?leaseYn=N&q=개포동&serviceType=원룸'\n",
    "\n",
    "# 2. request > response : json(str)\n",
    "response = requests.get(url)\n",
    "response\n",
    "\n",
    "# 3. json(str) > lat, lng\n",
    "data = response.json()['items'][0]\n",
    "lat, lng = data['lat'], data['lng']\n"
   ]
  },
  {
   "cell_type": "code",
   "execution_count": 13,
   "id": "6d036acd",
   "metadata": {},
   "outputs": [
    {
     "data": {
      "text/plain": [
       "{'id': 3735,\n",
       " 'type': 'address',\n",
       " 'name': '개포동',\n",
       " 'hint': '',\n",
       " 'description': '서울시 강남구 개포동',\n",
       " 'lat': 37.48192596435547,\n",
       " 'lng': 127.05744171142578,\n",
       " 'zoom': 5,\n",
       " 'polygon': [],\n",
       " '_score': None,\n",
       " '_source': {'name_length': 3,\n",
       "  'local1': '서울시',\n",
       "  'local2': '강남구',\n",
       "  'local3': '개포동',\n",
       "  'web_level': 15,\n",
       "  'web_lat': 37.48192596435547,\n",
       "  'web_lng': 127.05744171142578,\n",
       "  'app_level': 15,\n",
       "  'app_lat': 37.48192596435547,\n",
       "  'app_lng': 127.05744171142578,\n",
       "  '법정동코드': '1168010300'},\n",
       " 'zoom_level': {'google': 15, 'daum': 4},\n",
       " 'zoom_level_v2': {'app': 5, 'web': 4}}"
      ]
     },
     "execution_count": 13,
     "metadata": {},
     "output_type": "execute_result"
    }
   ],
   "source": [
    "# response.json()\n",
    "response.json()['items'][0]"
   ]
  },
  {
   "cell_type": "code",
   "execution_count": 8,
   "id": "55f416f5",
   "metadata": {},
   "outputs": [
    {
     "data": {
      "text/plain": [
       "'{\"success\":true,\"code\":\"200\",\"items\":[{\"id\":3735,\"type\":\"address\",\"name\":\"개포동\",\"hint\":\"\",\"description\":\"서울시 강남구 개포동\",\"lat\":37.48192596435547,\"lng\":127.05744171142578,\"zoom\":5,\"polygon\":[],\"_score\":null,\"_source\":{\"name_length\":3,\"local1\":\"서울시\",\"local2\":\"강남구\",\"local3\":\"개포동\",\"web_level\":15,\"web_lat\":37.48192596435547,\"web_lng\":127.05744171142578,\"app_level\":15,\"app_lat\":37.48192596435547,\"app_lng\":127.05744171142578,\"법정동코드\":\"1168010300\"},\"zoom_level\":{\"google\":15,\"daum\":4},\"zoom_level_v2\":{\"app\":5,\"web\":4}},{\"id\":129,\"type\":\"subway\",\"name\":\"개포동역\",\"hint\":\"수인분당선\",\"description\":\"서울특별시 강남구 개포동\",\"lat\":37.4891159,\"lng\":127.065987,\"zoom\":3,\"polygon\":[],\"_score\":null,\"_source\":{\"name_length\":4,\"local1\":\"서울특별시\",\"local2\":\"강남구\",\"local3\":\"개포동\",\"suggestions\":[],\"suggestions_insensitive\":[],\"distance\":1000},\"zoom_level\":{\"google\":14,\"daum\":4},\"zoom_level_v2\":{\"app\":6,\"web\":4}}],\"next\":null,\"limit\":0}'"
      ]
     },
     "execution_count": 8,
     "metadata": {},
     "output_type": "execute_result"
    }
   ],
   "source": [
    "response.text"
   ]
  },
  {
   "cell_type": "markdown",
   "id": "8dfada31",
   "metadata": {},
   "source": [
    "#### 2. 위도 경도로 geohash 알아내기"
   ]
  },
  {
   "cell_type": "code",
   "execution_count": null,
   "id": "1d270ab4",
   "metadata": {},
   "outputs": [],
   "source": []
  },
  {
   "cell_type": "markdown",
   "id": "13e8b3f9",
   "metadata": {},
   "source": [
    "#### 3. geohash로 매물 아이디 가져오기"
   ]
  },
  {
   "cell_type": "code",
   "execution_count": null,
   "id": "2ceb8ea4",
   "metadata": {},
   "outputs": [],
   "source": []
  },
  {
   "cell_type": "markdown",
   "id": "85225aae",
   "metadata": {},
   "source": [
    "#### 4. 매물 아이디로 매물 정보 가져오기"
   ]
  },
  {
   "cell_type": "code",
   "execution_count": null,
   "id": "0212d892",
   "metadata": {},
   "outputs": [],
   "source": []
  }
 ],
 "metadata": {
  "kernelspec": {
   "display_name": "Python 3 (ipykernel)",
   "language": "python",
   "name": "python3"
  },
  "language_info": {
   "codemirror_mode": {
    "name": "ipython",
    "version": 3
   },
   "file_extension": ".py",
   "mimetype": "text/x-python",
   "name": "python",
   "nbconvert_exporter": "python",
   "pygments_lexer": "ipython3",
   "version": "3.9.13"
  },
  "toc": {
   "base_numbering": 1,
   "nav_menu": {},
   "number_sections": false,
   "sideBar": true,
   "skip_h1_title": false,
   "title_cell": "Table of Contents",
   "title_sidebar": "Contents",
   "toc_cell": false,
   "toc_position": {},
   "toc_section_display": true,
   "toc_window_display": false
  }
 },
 "nbformat": 4,
 "nbformat_minor": 5
}
